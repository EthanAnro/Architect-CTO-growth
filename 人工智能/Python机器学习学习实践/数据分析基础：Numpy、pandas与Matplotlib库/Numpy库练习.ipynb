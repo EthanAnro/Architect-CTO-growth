{
 "cells": [
  {
   "cell_type": "markdown",
   "id": "76e0a459",
   "metadata": {},
   "source": [
    "**NumPy库和pandas库主要用于处理一维及二维的表格数据，而Matplotlib库是数据可视化的工具。**"
   ]
  },
  {
   "cell_type": "markdown",
   "id": "d17258aa",
   "metadata": {},
   "source": [
    "# 一、NumPy库"
   ]
  },
  {
   "cell_type": "markdown",
   "id": "077758e8",
   "metadata": {},
   "source": [
    "NumPy库的主要特点是引入了数组的概念"
   ]
  },
  {
   "cell_type": "code",
   "execution_count": 8,
   "id": "842705d1",
   "metadata": {},
   "outputs": [
    {
     "name": "stdout",
     "output_type": "stream",
     "text": [
      "[1, 2, 3, 4]\n",
      "[1 2 3 4]\n",
      "<class 'list'>\n",
      "<class 'numpy.ndarray'>\n"
     ]
    }
   ],
   "source": [
    "import warnings\n",
    "warnings.filterwarnings(\"ignore\") # 忽略警告信息，不影响代码执行\n",
    "\n",
    "import numpy as np\n",
    "a = [1, 2, 3, 4] #创建列表 a  \n",
    "b = np.array([1, 2, 3, 4]) # 创建数组\n",
    "print(a)\n",
    "print(b)\n",
    "print(type(a))\n",
    "print(type(b))"
   ]
  },
  {
   "cell_type": "code",
   "execution_count": 4,
   "id": "d7475873",
   "metadata": {
    "scrolled": true
   },
   "outputs": [
    {
     "name": "stdout",
     "output_type": "stream",
     "text": [
      "2\n",
      "2\n",
      "[1, 2]\n",
      "[1 2]\n"
     ]
    }
   ],
   "source": [
    "# 通过索引和切片访问列表和数组中的元素\n",
    "print(a[1])\n",
    "print(b[1])\n",
    "print(a[0:2]) # 列表切片“左闭右开”\n",
    "print(b[0:2]) # 数组切片“左闭右开”"
   ]
  },
  {
   "cell_type": "markdown",
   "id": "ef435e8e",
   "metadata": {},
   "source": [
    "### 数组和列表的区别\n",
    "从上述输出结果可以看出，列表和数组有着相同的索引机制，唯一的区别就是数组中的元素通过空格分隔，而列表中的元素通过逗号分隔。\n",
    "\n",
    "第一，NumPy作为一个专门用于数据处理的库，能很好地支持一些数学运算，而用列表进行数学运算则较为麻烦，如下"
   ]
  },
  {
   "cell_type": "code",
   "execution_count": 5,
   "id": "384a43b1",
   "metadata": {},
   "outputs": [
    {
     "name": "stdout",
     "output_type": "stream",
     "text": [
      "[1, 2, 3, 4, 1, 2, 3, 4]\n",
      "[2 4 6 8]\n"
     ]
    }
   ],
   "source": [
    "c = a * 2\n",
    "d = b * 2\n",
    "print(c)\n",
    "print(d)"
   ]
  },
  {
   "cell_type": "markdown",
   "id": "4fc134b0",
   "metadata": {},
   "source": [
    "列表是把元素复制了一遍，而数组则是对每个元素做了乘法。\n",
    "\n",
    "第二，列表存储的是一维数据，而数组则能存储多维数据。"
   ]
  },
  {
   "cell_type": "code",
   "execution_count": 6,
   "id": "da3146be",
   "metadata": {
    "scrolled": true
   },
   "outputs": [
    {
     "name": "stdout",
     "output_type": "stream",
     "text": [
      "[[1, 2], [3, 4], [5, 6]]\n",
      "--------\n",
      "[[1 2]\n",
      " [3 4]\n",
      " [5 6]]\n"
     ]
    }
   ],
   "source": [
    "e = [[1,2], [3,4], [5,6]] # 列表里的元素为小列表\n",
    "f = np.array([[1,2], [3,4], [5,6]]) # 创建二维数组\n",
    "print(e)\n",
    "print('--------')\n",
    "print(f) # 数据处理中经常用到二维数组，即二维的表格结构"
   ]
  },
  {
   "cell_type": "markdown",
   "id": "a0588029",
   "metadata": {},
   "source": [
    "### 创建数组的几种方式"
   ]
  },
  {
   "cell_type": "code",
   "execution_count": 13,
   "id": "e90ca3be",
   "metadata": {
    "scrolled": true
   },
   "outputs": [
    {
     "name": "stdout",
     "output_type": "stream",
     "text": [
      "[1 2 3 4]\n",
      "--------\n",
      "[[1 2]\n",
      " [3 4]\n",
      " [5 6]]\n"
     ]
    }
   ],
   "source": [
    "b = np.array([1, 2, 3, 4]) # 创建一维数组\n",
    "f = np.array([[1,2], [3, 4], [5, 6]]) #创建二维数组\n",
    "print(b)\n",
    "print('--------')\n",
    "print(f)"
   ]
  },
  {
   "cell_type": "code",
   "execution_count": 14,
   "id": "1beba022",
   "metadata": {},
   "outputs": [
    {
     "name": "stdout",
     "output_type": "stream",
     "text": [
      "[0 1 2 3 4]\n",
      "[5 6 7 8 9]\n",
      "[5.  5.5 6.  6.5 7.  7.5 8.  8.5 9.  9.5]\n"
     ]
    }
   ],
   "source": [
    "# 一个参数 参数值为终点，起点取默认值0，步长取默认值1\n",
    "x = np.arange(5)\n",
    "# 两个参数 第一个参数为起点，第二个参数为终点，步长取默认值1，左闭右开\n",
    "y = np.arange(5,10)\n",
    "# 三个参数 第一个参数为起点，第二个参数为终点，第三个参数为步长，左闭右开\n",
    "z = np.arange(5, 10, 0.5)\n",
    "print(x)\n",
    "print(y)\n",
    "print(z)"
   ]
  },
  {
   "cell_type": "code",
   "execution_count": 18,
   "id": "76d97030",
   "metadata": {
    "scrolled": true
   },
   "outputs": [
    {
     "name": "stdout",
     "output_type": "stream",
     "text": [
      "[1.3647155  0.11332937 1.52294573]\n"
     ]
    }
   ],
   "source": [
    "# 通过np.random模块来创建随机一维数组，比如可以通过np.random.randn(3)来创建一个服从正太分布（均值为0，方差为1的分布）的3个随机数一维数组\n",
    "a = np.random.randn(3)\n",
    "print(a)"
   ]
  },
  {
   "cell_type": "code",
   "execution_count": 25,
   "id": "a4594f9d",
   "metadata": {},
   "outputs": [
    {
     "name": "stdout",
     "output_type": "stream",
     "text": [
      "[0.47616928 0.26968447 0.3530244 ]\n"
     ]
    }
   ],
   "source": [
    "#把np.random.randn(3)换成np.random.rand(3)，那生成的就是0-1之间的3个随机数\n",
    "a = np.random.rand(3)\n",
    "print(a)"
   ]
  },
  {
   "cell_type": "code",
   "execution_count": 15,
   "id": "f1caccaf",
   "metadata": {},
   "outputs": [
    {
     "name": "stdout",
     "output_type": "stream",
     "text": [
      "[[ 0  1  2  3]\n",
      " [ 4  5  6  7]\n",
      " [ 8  9 10 11]]\n"
     ]
    }
   ],
   "source": [
    "# 创建随机二维数组，# 创建随机一维数组\n",
    "a = np.arange(12).reshape(3, 4)\n",
    "print(a)"
   ]
  },
  {
   "cell_type": "code",
   "execution_count": 28,
   "id": "71d74995",
   "metadata": {},
   "outputs": [
    {
     "name": "stdout",
     "output_type": "stream",
     "text": [
      "[[3 9 4 5]\n",
      " [6 0 4 2]\n",
      " [6 6 4 7]\n",
      " [2 3 2 2]]\n"
     ]
    }
   ],
   "source": [
    "# np.random.randint()函数用于创建随机整数，括号里第1个参数0为起始数，第2个参数10为终止数，第3个参数（4,4）则表示创建一个4行4列的二维数组\n",
    "a = np.random.randint(0, 10, (4,4))\n",
    "print(a)"
   ]
  }
 ],
 "metadata": {
  "kernelspec": {
   "display_name": "Python 3 (ipykernel)",
   "language": "python",
   "name": "python3"
  },
  "language_info": {
   "codemirror_mode": {
    "name": "ipython",
    "version": 3
   },
   "file_extension": ".py",
   "mimetype": "text/x-python",
   "name": "python",
   "nbconvert_exporter": "python",
   "pygments_lexer": "ipython3",
   "version": "3.9.7"
  }
 },
 "nbformat": 4,
 "nbformat_minor": 5
}
