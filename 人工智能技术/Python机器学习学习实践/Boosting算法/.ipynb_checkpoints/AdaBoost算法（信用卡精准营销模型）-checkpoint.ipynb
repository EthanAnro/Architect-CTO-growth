{
 "cells": [
  {
   "cell_type": "markdown",
   "id": "202248ad",
   "metadata": {},
   "source": [
    "## AdaBoost算法原理\n",
    "###  AdaBoost算法的核心思想\n",
    "AdaBoost算法（Adaptive Boosting）是一种有效而实用的Boosting算法，它以一种高度自适应的方式按顺序训练弱学习器。针对分类问题，AdaBoost算法根据前一次的分类效果调整数据的权重，在上一个弱学习器中分类错误的样本的权重会在下一个弱学习器中增加，分类正确的样本的权重则相应减少，并且在每一轮迭代时会向模型加入一个新的弱学习器。不断重复调整权重和训练弱学习器，直到误分类数低于预设值或迭代次数达到指定最大值，最终得到一个强学习器。\n",
    "**简单来说，AdaBoost算法的核心思想就是调整错误样本的权重，进而迭代升级。**"
   ]
  },
  {
   "cell_type": "markdown",
   "id": "b310681c",
   "metadata": {},
   "source": [
    "### AdaBoost算法的简单代码实现\n",
    "AdaBoost算法既能做分类分析，也能做回归分析，对应的模型分别为AdaBoost分类模型（AdaBoostClassifier）和AdaBoost回归模型（AdaBoostRegressor）。AdaBoost分类模型的弱学习器是分类决策树模型，AdaBoost回归模型的弱学习器则是回归决策树模型。"
   ]
  },
  {
   "cell_type": "markdown",
   "id": "619582f7",
   "metadata": {},
   "source": [
    "#### （1）AdaBoost分类模型"
   ]
  },
  {
   "cell_type": "code",
   "execution_count": 5,
   "id": "b452dddd",
   "metadata": {
    "scrolled": false
   },
   "outputs": [
    {
     "name": "stdout",
     "output_type": "stream",
     "text": [
      "[0]\n"
     ]
    }
   ],
   "source": [
    "from sklearn.ensemble import AdaBoostClassifier\n",
    "x = [[1,2], [3,4], [5,6], [7,8], [9,10]]\n",
    "y = [0, 0, 0, 1, 1]\n",
    "model = AdaBoostClassifier(random_state=123) # 引入模型，并设置random_state参数为123（该数字没有特殊含义，可以换成其他数字），使得每次运行结果保持一致\n",
    "model.fit(x, y) # 用fit()函数训练模型\n",
    "print(model.predict([[5, 5]])) # 预测新特征变量的目标结果"
   ]
  },
  {
   "cell_type": "markdown",
   "id": "d6dd6243",
   "metadata": {},
   "source": [
    "#### （2）AdaBoost回归模型"
   ]
  },
  {
   "cell_type": "code",
   "execution_count": 6,
   "id": "44e1ae91",
   "metadata": {},
   "outputs": [
    {
     "name": "stdout",
     "output_type": "stream",
     "text": [
      "[3]\n"
     ]
    }
   ],
   "source": [
    "from sklearn.ensemble import AdaBoostRegressor\n",
    "x = [[1,2], [3,4], [5,6], [7,8], [9,10]]\n",
    "y = [1, 2, 3, 4, 5]\n",
    "modee = AdaBoostRegressor(random_state=123)\n",
    "model.fit(x, y)\n",
    "print(model.predict([[5, 5]]))"
   ]
  },
  {
   "cell_type": "markdown",
   "id": "da7cdb26",
   "metadata": {},
   "source": [
    "### 信用卡精准营销模型"
   ]
  },
  {
   "cell_type": "markdown",
   "id": "f3190750",
   "metadata": {},
   "source": [
    "#### 1、读取数据"
   ]
  },
  {
   "cell_type": "code",
   "execution_count": 1,
   "id": "2144c4d5",
   "metadata": {},
   "outputs": [
    {
     "data": {
      "text/html": [
       "<div>\n",
       "<style scoped>\n",
       "    .dataframe tbody tr th:only-of-type {\n",
       "        vertical-align: middle;\n",
       "    }\n",
       "\n",
       "    .dataframe tbody tr th {\n",
       "        vertical-align: top;\n",
       "    }\n",
       "\n",
       "    .dataframe thead th {\n",
       "        text-align: right;\n",
       "    }\n",
       "</style>\n",
       "<table border=\"1\" class=\"dataframe\">\n",
       "  <thead>\n",
       "    <tr style=\"text-align: right;\">\n",
       "      <th></th>\n",
       "      <th>年龄</th>\n",
       "      <th>月收入（元）</th>\n",
       "      <th>月消费（元）</th>\n",
       "      <th>性别</th>\n",
       "      <th>月消费/月收入</th>\n",
       "      <th>响应</th>\n",
       "    </tr>\n",
       "  </thead>\n",
       "  <tbody>\n",
       "    <tr>\n",
       "      <th>0</th>\n",
       "      <td>30</td>\n",
       "      <td>7275</td>\n",
       "      <td>6062</td>\n",
       "      <td>0</td>\n",
       "      <td>0.833265</td>\n",
       "      <td>1</td>\n",
       "    </tr>\n",
       "    <tr>\n",
       "      <th>1</th>\n",
       "      <td>25</td>\n",
       "      <td>17739</td>\n",
       "      <td>13648</td>\n",
       "      <td>0</td>\n",
       "      <td>0.769378</td>\n",
       "      <td>1</td>\n",
       "    </tr>\n",
       "    <tr>\n",
       "      <th>2</th>\n",
       "      <td>29</td>\n",
       "      <td>25736</td>\n",
       "      <td>14311</td>\n",
       "      <td>0</td>\n",
       "      <td>0.556069</td>\n",
       "      <td>1</td>\n",
       "    </tr>\n",
       "    <tr>\n",
       "      <th>3</th>\n",
       "      <td>23</td>\n",
       "      <td>14162</td>\n",
       "      <td>7596</td>\n",
       "      <td>0</td>\n",
       "      <td>0.536365</td>\n",
       "      <td>1</td>\n",
       "    </tr>\n",
       "    <tr>\n",
       "      <th>4</th>\n",
       "      <td>27</td>\n",
       "      <td>15563</td>\n",
       "      <td>12849</td>\n",
       "      <td>0</td>\n",
       "      <td>0.825612</td>\n",
       "      <td>1</td>\n",
       "    </tr>\n",
       "  </tbody>\n",
       "</table>\n",
       "</div>"
      ],
      "text/plain": [
       "   年龄  月收入（元）  月消费（元）  性别   月消费/月收入  响应\n",
       "0  30    7275    6062   0  0.833265   1\n",
       "1  25   17739   13648   0  0.769378   1\n",
       "2  29   25736   14311   0  0.556069   1\n",
       "3  23   14162    7596   0  0.536365   1\n",
       "4  27   15563   12849   0  0.825612   1"
      ]
     },
     "execution_count": 1,
     "metadata": {},
     "output_type": "execute_result"
    }
   ],
   "source": [
    "import pandas as pd\n",
    "df = pd.read_excel('datasets/信用卡精准营销模型.xlsx')\n",
    "df.head()"
   ]
  }
 ],
 "metadata": {
  "kernelspec": {
   "display_name": "Python 3 (ipykernel)",
   "language": "python",
   "name": "python3"
  },
  "language_info": {
   "codemirror_mode": {
    "name": "ipython",
    "version": 3
   },
   "file_extension": ".py",
   "mimetype": "text/x-python",
   "name": "python",
   "nbconvert_exporter": "python",
   "pygments_lexer": "ipython3",
   "version": "3.9.7"
  }
 },
 "nbformat": 4,
 "nbformat_minor": 5
}
