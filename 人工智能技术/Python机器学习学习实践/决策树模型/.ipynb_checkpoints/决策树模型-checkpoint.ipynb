{
 "cells": [
  {
   "cell_type": "markdown",
   "id": "79966f34",
   "metadata": {},
   "source": [
    "## 决策树模型的基本原理\n",
    "决策树模型的基本原理是通过对一系列问题进行if/else的推导，最终实现相关决策。决策树的概念并不复杂，主要是通过连续的逻辑判断得出最后的结论，其关键在于如何建立这样一棵“树”。\n",
    "\n",
    "### 决策树模型的建树依据"
   ]
  },
  {
   "cell_type": "code",
   "execution_count": 1,
   "id": "f4dbc98a",
   "metadata": {},
   "outputs": [
    {
     "name": "stdout",
     "output_type": "stream",
     "text": [
      "[0]\n"
     ]
    }
   ],
   "source": [
    "#分类决策树\n",
    "from sklearn.tree import DecisionTreeClassifier\n",
    "x = [[1,2], [3,4],[5,6],[7,8],[9,10]]   #特征变量\n",
    "y = [1, 0, 0, 1, 1]  #目标变量\n",
    "model = DecisionTreeClassifier(random_state=0)\n",
    "model.fit(x, y)  #fit函数训练模型\n",
    "print(model.predict([[5,5]]))  #用predict()函数进行预测"
   ]
  },
  {
   "cell_type": "code",
   "execution_count": 2,
   "id": "cb1ae5a2",
   "metadata": {},
   "outputs": [
    {
     "name": "stdout",
     "output_type": "stream",
     "text": [
      "[0 0 1]\n"
     ]
    }
   ],
   "source": [
    "print(model.predict([[5,5], [7,7], [9,9]]))   #预测多数据"
   ]
  },
  {
   "cell_type": "code",
   "execution_count": 3,
   "id": "86f078da",
   "metadata": {},
   "outputs": [
    {
     "name": "stdout",
     "output_type": "stream",
     "text": [
      "[4.5]\n"
     ]
    }
   ],
   "source": [
    "#回归决策树\n",
    "from sklearn.tree import DecisionTreeRegressor\n",
    "x = [[1,2], [3,4],[5,6],[7,8],[9,10]]   #特征变量\n",
    "y = [1, 2, 3, 4, 5]  #目标变量\n",
    "model = DecisionTreeRegressor(max_depth=2, random_state=0)\n",
    "model.fit(x, y)\n",
    "print(model.predict([[9,9]]))"
   ]
  }
 ],
 "metadata": {
  "kernelspec": {
   "display_name": "Python 3 (ipykernel)",
   "language": "python",
   "name": "python3"
  },
  "language_info": {
   "codemirror_mode": {
    "name": "ipython",
    "version": 3
   },
   "file_extension": ".py",
   "mimetype": "text/x-python",
   "name": "python",
   "nbconvert_exporter": "python",
   "pygments_lexer": "ipython3",
   "version": "3.9.7"
  }
 },
 "nbformat": 4,
 "nbformat_minor": 5
}
