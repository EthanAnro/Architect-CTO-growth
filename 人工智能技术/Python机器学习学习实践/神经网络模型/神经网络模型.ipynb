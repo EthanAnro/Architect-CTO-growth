{
 "cells": [
  {
   "cell_type": "markdown",
   "id": "efde8733",
   "metadata": {},
   "source": [
    "深度学习（Deep Learning）是机器学习（Machine Learning）的一个分支。在数据量较小时，深度学习算法的效果和传统人工智能算法的效果相差不大，但在面对庞大的数据时，深度学习算法的效果会优于传统人工智能算法的效果。因此，当数据量非常庞大时，深度学习能满足的场景更多，应用的范围更广。\n",
    "\n",
    "# 深度学习基础：神经网络模型\n",
    "深度学习的框架基础是神经网络模型，但它研究的不是简单的神经网络模型，而是多层隐藏层的深度神经网络。\n",
    "\n",
    "## 神经网络模型的基本原理\n",
    "神经网络模型其实是在模仿人类大脑思考的方式。神经元是神经系统最基本的结构和功能单位，分为突起和细胞体两部分。突起的作用是接收冲动并传递给细胞体，细胞体整合输入的信息并传出。人类的大脑在思考时，神经元会接收外部的刺激，当传入的冲动使神经元的电位超过阈值时，神经元就会从抑制转向兴奋，并将信号向下一个神经元传导。神经网络模型的思想是通过构造人造神经元的方式模拟这一过程。\n",
    "\n",
    "### 1、单层神经网络模型\n",
    "如下图所示，在一个简单的神经网络模型中有两组神经元，一组接收信号，一组输出信号。接收信号的一组神经元通过线性变换和非线性的激活函数转换来修改信号，并传递给下一组神经元。\n",
    "![单层神经网络模型](image/单层神经网络模型.png)\n",
    "\n",
    "### 2、多层神经网络模型\n",
    "在实际应用中，神经网络模型往往不都是单层的，而是使用如下图所示的多层神经网络模型。在多层神经网络模型中，输入层和输出层之间可以有多个隐藏层，层与层之间互相连接，信号不断地从上一层传递到下一层，每层的结果都通过线性变换和激活函数的非线性变换得到，最后由输出层输出。这些数量众多的隐藏层也是深度学习中“深度”两个字的由来。\n",
    "![多层神经网络模型](image/多层神经网络模型.png)"
   ]
  },
  {
   "cell_type": "markdown",
   "id": "b6bd927c",
   "metadata": {},
   "source": [
    "## 神经网络模型的简单代码实现\n",
    "### 使用Scikit-Learn库中的MLP多层神经网络模型解决一个简单的二分类问题"
   ]
  },
  {
   "cell_type": "code",
   "execution_count": 3,
   "id": "5b118a81",
   "metadata": {
    "scrolled": true
   },
   "outputs": [
    {
     "name": "stderr",
     "output_type": "stream",
     "text": [
      "/Users/dayao/opt/anaconda3/lib/python3.9/site-packages/sklearn/neural_network/_multilayer_perceptron.py:702: ConvergenceWarning: Stochastic Optimizer: Maximum iterations (200) reached and the optimization hasn't converged yet.\n",
      "  warnings.warn(\n"
     ]
    },
    {
     "data": {
      "text/html": [
       "<div>\n",
       "<style scoped>\n",
       "    .dataframe tbody tr th:only-of-type {\n",
       "        vertical-align: middle;\n",
       "    }\n",
       "\n",
       "    .dataframe tbody tr th {\n",
       "        vertical-align: top;\n",
       "    }\n",
       "\n",
       "    .dataframe thead th {\n",
       "        text-align: right;\n",
       "    }\n",
       "</style>\n",
       "<table border=\"1\" class=\"dataframe\">\n",
       "  <thead>\n",
       "    <tr style=\"text-align: right;\">\n",
       "      <th></th>\n",
       "      <th>预测值</th>\n",
       "      <th>实际值</th>\n",
       "    </tr>\n",
       "  </thead>\n",
       "  <tbody>\n",
       "    <tr>\n",
       "      <th>0</th>\n",
       "      <td>0</td>\n",
       "      <td>0</td>\n",
       "    </tr>\n",
       "    <tr>\n",
       "      <th>1</th>\n",
       "      <td>1</td>\n",
       "      <td>1</td>\n",
       "    </tr>\n",
       "    <tr>\n",
       "      <th>2</th>\n",
       "      <td>1</td>\n",
       "      <td>1</td>\n",
       "    </tr>\n",
       "    <tr>\n",
       "      <th>3</th>\n",
       "      <td>0</td>\n",
       "      <td>0</td>\n",
       "    </tr>\n",
       "    <tr>\n",
       "      <th>4</th>\n",
       "      <td>0</td>\n",
       "      <td>0</td>\n",
       "    </tr>\n",
       "  </tbody>\n",
       "</table>\n",
       "</div>"
      ],
      "text/plain": [
       "   预测值  实际值\n",
       "0    0    0\n",
       "1    1    1\n",
       "2    1    1\n",
       "3    0    0\n",
       "4    0    0"
      ]
     },
     "execution_count": 3,
     "metadata": {},
     "output_type": "execute_result"
    }
   ],
   "source": [
    "from sklearn.neural_network import MLPClassifier # 从Scikit-Learn库中引入MLP多层神经网络模型MLPClassifier\n",
    "x = [[1,0], [5,1], [6,4], [4,2], [3,2]]\n",
    "y = [0, 1, 1, 0, 0]\n",
    "mlp = MLPClassifier() # 将MLP多层神经网络模型赋给变量mlp，这里没有设置参数，即所有参数使用默认值\n",
    "mlp.fit(x, y) # 用fit()函数进行模型训练\n",
    "\n",
    "y_pred = mlp.predict(x) #直接使用训练集作为测试集，传入模型进行预测，实际上不会这么做，仅演示所用未划分训练集、测试集\n",
    "\n",
    "# 汇总预测值和实际值，对便进行对比\n",
    "import pandas as pd\n",
    "a = pd.DataFrame()\n",
    "a['预测值'] = list(y_pred)\n",
    "a['实际值'] = list(y)\n",
    "a.head()"
   ]
  },
  {
   "cell_type": "markdown",
   "id": "5f337f7f",
   "metadata": {},
   "source": [
    "### 使用Scikit-Learn库中的MLP多层神经网络模型解决一个简单的回归问题"
   ]
  },
  {
   "cell_type": "code",
   "execution_count": 4,
   "id": "cd4407a9",
   "metadata": {},
   "outputs": [
    {
     "name": "stdout",
     "output_type": "stream",
     "text": [
      "[2.85598566]\n"
     ]
    }
   ],
   "source": [
    "from sklearn.neural_network import MLPRegressor\n",
    "x = [[1,2], [3,4],[5,6],[7,8],[9,10]]   #特征变量\n",
    "y = [1, 2, 3, 4, 5]  #目标变量\n",
    "model = MLPRegressor(random_state=123)\n",
    "model.fit(x,y)\n",
    "print(model.predict([[5, 5]]))"
   ]
  }
 ],
 "metadata": {
  "kernelspec": {
   "display_name": "Python 3 (ipykernel)",
   "language": "python",
   "name": "python3"
  },
  "language_info": {
   "codemirror_mode": {
    "name": "ipython",
    "version": 3
   },
   "file_extension": ".py",
   "mimetype": "text/x-python",
   "name": "python",
   "nbconvert_exporter": "python",
   "pygments_lexer": "ipython3",
   "version": "3.9.7"
  }
 },
 "nbformat": 4,
 "nbformat_minor": 5
}
