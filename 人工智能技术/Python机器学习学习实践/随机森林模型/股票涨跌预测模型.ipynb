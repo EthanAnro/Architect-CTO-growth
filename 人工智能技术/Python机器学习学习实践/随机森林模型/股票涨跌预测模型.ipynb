{
 "cells": [
  {
   "cell_type": "markdown",
   "id": "14825d62",
   "metadata": {},
   "source": [
    "## 一、多因子模型搭建"
   ]
  },
  {
   "cell_type": "markdown",
   "id": "32d8e28e",
   "metadata": {},
   "source": [
    "### （1）引入需要用到的库"
   ]
  },
  {
   "cell_type": "code",
   "execution_count": 19,
   "id": "12646859",
   "metadata": {},
   "outputs": [],
   "source": [
    "import tushare as ts #股票基本数据相关库\n",
    "import numpy as np #科学计算相关库\n",
    "import pandas as pd #科学计算相关库\n",
    "import matplotlib.pyplot as plt # 绘图相关库\n",
    "import talib # 股票衍生变量数据相关库\n",
    "from sklearn.ensemble import RandomForestClassifier #集成学习随机森林分类决策树\n",
    "from sklearn.metrics import accuracy_score #准确度评分函数\n",
    "import warnings\n",
    "warnings.filterwarnings(\"ignore\") # 忽略警告信息，警告非报错，不影响代码执行"
   ]
  },
  {
   "cell_type": "markdown",
   "id": "deed2a91",
   "metadata": {},
   "source": [
    "### （2）获取数据"
   ]
  },
  {
   "cell_type": "code",
   "execution_count": 9,
   "id": "e97223ca",
   "metadata": {
    "scrolled": false
   },
   "outputs": [
    {
     "name": "stdout",
     "output_type": "stream",
     "text": [
      "本接口即将停止更新，请尽快使用Pro版接口：https://tushare.pro/document/2\n"
     ]
    },
    {
     "data": {
      "text/html": [
       "<div>\n",
       "<style scoped>\n",
       "    .dataframe tbody tr th:only-of-type {\n",
       "        vertical-align: middle;\n",
       "    }\n",
       "\n",
       "    .dataframe tbody tr th {\n",
       "        vertical-align: top;\n",
       "    }\n",
       "\n",
       "    .dataframe thead th {\n",
       "        text-align: right;\n",
       "    }\n",
       "</style>\n",
       "<table border=\"1\" class=\"dataframe\">\n",
       "  <thead>\n",
       "    <tr style=\"text-align: right;\">\n",
       "      <th></th>\n",
       "      <th>open</th>\n",
       "      <th>close</th>\n",
       "      <th>high</th>\n",
       "      <th>low</th>\n",
       "      <th>volume</th>\n",
       "      <th>code</th>\n",
       "    </tr>\n",
       "    <tr>\n",
       "      <th>date</th>\n",
       "      <th></th>\n",
       "      <th></th>\n",
       "      <th></th>\n",
       "      <th></th>\n",
       "      <th></th>\n",
       "      <th></th>\n",
       "    </tr>\n",
       "  </thead>\n",
       "  <tbody>\n",
       "    <tr>\n",
       "      <th>2015-01-05</th>\n",
       "      <td>7.20</td>\n",
       "      <td>7.72</td>\n",
       "      <td>8.10</td>\n",
       "      <td>7.03</td>\n",
       "      <td>6560835.0</td>\n",
       "      <td>000002</td>\n",
       "    </tr>\n",
       "    <tr>\n",
       "      <th>2015-01-06</th>\n",
       "      <td>7.41</td>\n",
       "      <td>7.17</td>\n",
       "      <td>7.80</td>\n",
       "      <td>6.86</td>\n",
       "      <td>3346346.0</td>\n",
       "      <td>000002</td>\n",
       "    </tr>\n",
       "    <tr>\n",
       "      <th>2015-01-07</th>\n",
       "      <td>7.07</td>\n",
       "      <td>7.04</td>\n",
       "      <td>7.31</td>\n",
       "      <td>6.81</td>\n",
       "      <td>2642051.0</td>\n",
       "      <td>000002</td>\n",
       "    </tr>\n",
       "    <tr>\n",
       "      <th>2015-01-08</th>\n",
       "      <td>7.13</td>\n",
       "      <td>6.40</td>\n",
       "      <td>7.18</td>\n",
       "      <td>6.27</td>\n",
       "      <td>2639394.0</td>\n",
       "      <td>000002</td>\n",
       "    </tr>\n",
       "    <tr>\n",
       "      <th>2015-01-09</th>\n",
       "      <td>6.35</td>\n",
       "      <td>6.26</td>\n",
       "      <td>7.03</td>\n",
       "      <td>6.10</td>\n",
       "      <td>3294584.0</td>\n",
       "      <td>000002</td>\n",
       "    </tr>\n",
       "  </tbody>\n",
       "</table>\n",
       "</div>"
      ],
      "text/plain": [
       "            open  close  high   low     volume    code\n",
       "date                                                  \n",
       "2015-01-05  7.20   7.72  8.10  7.03  6560835.0  000002\n",
       "2015-01-06  7.41   7.17  7.80  6.86  3346346.0  000002\n",
       "2015-01-07  7.07   7.04  7.31  6.81  2642051.0  000002\n",
       "2015-01-08  7.13   6.40  7.18  6.27  2639394.0  000002\n",
       "2015-01-09  6.35   6.26  7.03  6.10  3294584.0  000002"
      ]
     },
     "execution_count": 9,
     "metadata": {},
     "output_type": "execute_result"
    }
   ],
   "source": [
    "# 1.股票基本数据获取\n",
    "df = ts.get_k_data('000002',start='2015-01-01',end='2019-12-31')\n",
    "df = df.set_index('date')  # 设置日期为索引\n",
    "df.head()"
   ]
  },
  {
   "cell_type": "code",
   "execution_count": 11,
   "id": "b947e57a",
   "metadata": {},
   "outputs": [
    {
     "data": {
      "text/html": [
       "<div>\n",
       "<style scoped>\n",
       "    .dataframe tbody tr th:only-of-type {\n",
       "        vertical-align: middle;\n",
       "    }\n",
       "\n",
       "    .dataframe tbody tr th {\n",
       "        vertical-align: top;\n",
       "    }\n",
       "\n",
       "    .dataframe thead th {\n",
       "        text-align: right;\n",
       "    }\n",
       "</style>\n",
       "<table border=\"1\" class=\"dataframe\">\n",
       "  <thead>\n",
       "    <tr style=\"text-align: right;\">\n",
       "      <th></th>\n",
       "      <th>open</th>\n",
       "      <th>close</th>\n",
       "      <th>high</th>\n",
       "      <th>low</th>\n",
       "      <th>volume</th>\n",
       "      <th>code</th>\n",
       "      <th>close-open</th>\n",
       "      <th>high-low</th>\n",
       "      <th>pre_close</th>\n",
       "      <th>price_change</th>\n",
       "      <th>p_change</th>\n",
       "    </tr>\n",
       "    <tr>\n",
       "      <th>date</th>\n",
       "      <th></th>\n",
       "      <th></th>\n",
       "      <th></th>\n",
       "      <th></th>\n",
       "      <th></th>\n",
       "      <th></th>\n",
       "      <th></th>\n",
       "      <th></th>\n",
       "      <th></th>\n",
       "      <th></th>\n",
       "      <th></th>\n",
       "    </tr>\n",
       "  </thead>\n",
       "  <tbody>\n",
       "    <tr>\n",
       "      <th>2015-01-05</th>\n",
       "      <td>7.20</td>\n",
       "      <td>7.72</td>\n",
       "      <td>8.10</td>\n",
       "      <td>7.03</td>\n",
       "      <td>6560835.0</td>\n",
       "      <td>000002</td>\n",
       "      <td>0.072222</td>\n",
       "      <td>0.152205</td>\n",
       "      <td>NaN</td>\n",
       "      <td>NaN</td>\n",
       "      <td>NaN</td>\n",
       "    </tr>\n",
       "    <tr>\n",
       "      <th>2015-01-06</th>\n",
       "      <td>7.41</td>\n",
       "      <td>7.17</td>\n",
       "      <td>7.80</td>\n",
       "      <td>6.86</td>\n",
       "      <td>3346346.0</td>\n",
       "      <td>000002</td>\n",
       "      <td>-0.032389</td>\n",
       "      <td>0.137026</td>\n",
       "      <td>7.72</td>\n",
       "      <td>-0.55</td>\n",
       "      <td>-7.124352</td>\n",
       "    </tr>\n",
       "    <tr>\n",
       "      <th>2015-01-07</th>\n",
       "      <td>7.07</td>\n",
       "      <td>7.04</td>\n",
       "      <td>7.31</td>\n",
       "      <td>6.81</td>\n",
       "      <td>2642051.0</td>\n",
       "      <td>000002</td>\n",
       "      <td>-0.004243</td>\n",
       "      <td>0.073421</td>\n",
       "      <td>7.17</td>\n",
       "      <td>-0.13</td>\n",
       "      <td>-1.813110</td>\n",
       "    </tr>\n",
       "    <tr>\n",
       "      <th>2015-01-08</th>\n",
       "      <td>7.13</td>\n",
       "      <td>6.40</td>\n",
       "      <td>7.18</td>\n",
       "      <td>6.27</td>\n",
       "      <td>2639394.0</td>\n",
       "      <td>000002</td>\n",
       "      <td>-0.102384</td>\n",
       "      <td>0.145136</td>\n",
       "      <td>7.04</td>\n",
       "      <td>-0.64</td>\n",
       "      <td>-9.090909</td>\n",
       "    </tr>\n",
       "    <tr>\n",
       "      <th>2015-01-09</th>\n",
       "      <td>6.35</td>\n",
       "      <td>6.26</td>\n",
       "      <td>7.03</td>\n",
       "      <td>6.10</td>\n",
       "      <td>3294584.0</td>\n",
       "      <td>000002</td>\n",
       "      <td>-0.014173</td>\n",
       "      <td>0.152459</td>\n",
       "      <td>6.40</td>\n",
       "      <td>-0.14</td>\n",
       "      <td>-2.187500</td>\n",
       "    </tr>\n",
       "  </tbody>\n",
       "</table>\n",
       "</div>"
      ],
      "text/plain": [
       "            open  close  high   low     volume    code  close-open  high-low  \\\n",
       "date                                                                           \n",
       "2015-01-05  7.20   7.72  8.10  7.03  6560835.0  000002    0.072222  0.152205   \n",
       "2015-01-06  7.41   7.17  7.80  6.86  3346346.0  000002   -0.032389  0.137026   \n",
       "2015-01-07  7.07   7.04  7.31  6.81  2642051.0  000002   -0.004243  0.073421   \n",
       "2015-01-08  7.13   6.40  7.18  6.27  2639394.0  000002   -0.102384  0.145136   \n",
       "2015-01-09  6.35   6.26  7.03  6.10  3294584.0  000002   -0.014173  0.152459   \n",
       "\n",
       "            pre_close  price_change  p_change  \n",
       "date                                           \n",
       "2015-01-05        NaN           NaN       NaN  \n",
       "2015-01-06       7.72         -0.55 -7.124352  \n",
       "2015-01-07       7.17         -0.13 -1.813110  \n",
       "2015-01-08       7.04         -0.64 -9.090909  \n",
       "2015-01-09       6.40         -0.14 -2.187500  "
      ]
     },
     "execution_count": 11,
     "metadata": {},
     "output_type": "execute_result"
    }
   ],
   "source": [
    "# 2.简单衍生变量构造\n",
    "df['close-open'] = (df['close'] - df['open'])/df['open']\n",
    "df['high-low'] = (df['high'] - df['low'])/df['low']\n",
    "\n",
    "df['pre_close'] = df['close'].shift(1)  # 该列所有往下移一行形成昨日收盘价\n",
    "df['price_change'] = df['close']-df['pre_close']\n",
    "df['p_change'] = (df['close']-df['pre_close'])/df['pre_close']*100\n",
    "df.head()"
   ]
  },
  {
   "cell_type": "code",
   "execution_count": 12,
   "id": "f5a13cf5",
   "metadata": {
    "scrolled": true
   },
   "outputs": [
    {
     "data": {
      "text/html": [
       "<div>\n",
       "<style scoped>\n",
       "    .dataframe tbody tr th:only-of-type {\n",
       "        vertical-align: middle;\n",
       "    }\n",
       "\n",
       "    .dataframe tbody tr th {\n",
       "        vertical-align: top;\n",
       "    }\n",
       "\n",
       "    .dataframe thead th {\n",
       "        text-align: right;\n",
       "    }\n",
       "</style>\n",
       "<table border=\"1\" class=\"dataframe\">\n",
       "  <thead>\n",
       "    <tr style=\"text-align: right;\">\n",
       "      <th></th>\n",
       "      <th>open</th>\n",
       "      <th>close</th>\n",
       "      <th>high</th>\n",
       "      <th>low</th>\n",
       "      <th>volume</th>\n",
       "      <th>code</th>\n",
       "      <th>close-open</th>\n",
       "      <th>high-low</th>\n",
       "      <th>pre_close</th>\n",
       "      <th>price_change</th>\n",
       "      <th>p_change</th>\n",
       "      <th>MA5</th>\n",
       "      <th>MA10</th>\n",
       "    </tr>\n",
       "    <tr>\n",
       "      <th>date</th>\n",
       "      <th></th>\n",
       "      <th></th>\n",
       "      <th></th>\n",
       "      <th></th>\n",
       "      <th></th>\n",
       "      <th></th>\n",
       "      <th></th>\n",
       "      <th></th>\n",
       "      <th></th>\n",
       "      <th></th>\n",
       "      <th></th>\n",
       "      <th></th>\n",
       "      <th></th>\n",
       "    </tr>\n",
       "  </thead>\n",
       "  <tbody>\n",
       "    <tr>\n",
       "      <th>2015-01-16</th>\n",
       "      <td>6.58</td>\n",
       "      <td>6.33</td>\n",
       "      <td>6.58</td>\n",
       "      <td>6.20</td>\n",
       "      <td>2129475.0</td>\n",
       "      <td>000002</td>\n",
       "      <td>-0.037994</td>\n",
       "      <td>0.061290</td>\n",
       "      <td>6.58</td>\n",
       "      <td>-0.25</td>\n",
       "      <td>-3.799392</td>\n",
       "      <td>6.126</td>\n",
       "      <td>6.522</td>\n",
       "    </tr>\n",
       "    <tr>\n",
       "      <th>2015-01-19</th>\n",
       "      <td>5.31</td>\n",
       "      <td>4.98</td>\n",
       "      <td>5.71</td>\n",
       "      <td>4.98</td>\n",
       "      <td>3603625.0</td>\n",
       "      <td>000002</td>\n",
       "      <td>-0.062147</td>\n",
       "      <td>0.146586</td>\n",
       "      <td>6.33</td>\n",
       "      <td>-1.35</td>\n",
       "      <td>-21.327014</td>\n",
       "      <td>5.936</td>\n",
       "      <td>6.248</td>\n",
       "    </tr>\n",
       "    <tr>\n",
       "      <th>2015-01-20</th>\n",
       "      <td>5.01</td>\n",
       "      <td>5.16</td>\n",
       "      <td>5.41</td>\n",
       "      <td>4.87</td>\n",
       "      <td>2914688.0</td>\n",
       "      <td>000002</td>\n",
       "      <td>0.029940</td>\n",
       "      <td>0.110883</td>\n",
       "      <td>4.98</td>\n",
       "      <td>0.18</td>\n",
       "      <td>3.614458</td>\n",
       "      <td>5.792</td>\n",
       "      <td>6.047</td>\n",
       "    </tr>\n",
       "    <tr>\n",
       "      <th>2015-01-21</th>\n",
       "      <td>5.14</td>\n",
       "      <td>5.86</td>\n",
       "      <td>6.01</td>\n",
       "      <td>4.91</td>\n",
       "      <td>3555294.0</td>\n",
       "      <td>000002</td>\n",
       "      <td>0.140078</td>\n",
       "      <td>0.224033</td>\n",
       "      <td>5.16</td>\n",
       "      <td>0.70</td>\n",
       "      <td>13.565891</td>\n",
       "      <td>5.782</td>\n",
       "      <td>5.929</td>\n",
       "    </tr>\n",
       "    <tr>\n",
       "      <th>2015-01-22</th>\n",
       "      <td>5.83</td>\n",
       "      <td>6.39</td>\n",
       "      <td>6.46</td>\n",
       "      <td>5.73</td>\n",
       "      <td>3224727.0</td>\n",
       "      <td>000002</td>\n",
       "      <td>0.096055</td>\n",
       "      <td>0.127400</td>\n",
       "      <td>5.86</td>\n",
       "      <td>0.53</td>\n",
       "      <td>9.044369</td>\n",
       "      <td>5.744</td>\n",
       "      <td>5.928</td>\n",
       "    </tr>\n",
       "  </tbody>\n",
       "</table>\n",
       "</div>"
      ],
      "text/plain": [
       "            open  close  high   low     volume    code  close-open  high-low  \\\n",
       "date                                                                           \n",
       "2015-01-16  6.58   6.33  6.58  6.20  2129475.0  000002   -0.037994  0.061290   \n",
       "2015-01-19  5.31   4.98  5.71  4.98  3603625.0  000002   -0.062147  0.146586   \n",
       "2015-01-20  5.01   5.16  5.41  4.87  2914688.0  000002    0.029940  0.110883   \n",
       "2015-01-21  5.14   5.86  6.01  4.91  3555294.0  000002    0.140078  0.224033   \n",
       "2015-01-22  5.83   6.39  6.46  5.73  3224727.0  000002    0.096055  0.127400   \n",
       "\n",
       "            pre_close  price_change   p_change    MA5   MA10  \n",
       "date                                                          \n",
       "2015-01-16       6.58         -0.25  -3.799392  6.126  6.522  \n",
       "2015-01-19       6.33         -1.35 -21.327014  5.936  6.248  \n",
       "2015-01-20       4.98          0.18   3.614458  5.792  6.047  \n",
       "2015-01-21       5.16          0.70  13.565891  5.782  5.929  \n",
       "2015-01-22       5.86          0.53   9.044369  5.744  5.928  "
      ]
     },
     "execution_count": 12,
     "metadata": {},
     "output_type": "execute_result"
    }
   ],
   "source": [
    "# 3.移动平均线相关数据构造\n",
    "df['MA5'] = df['close'].rolling(5).mean()\n",
    "df['MA10'] = df['close'].rolling(10).mean()\n",
    "df.dropna(inplace=True)  # 删除空值\n",
    "df.head()"
   ]
  },
  {
   "cell_type": "code",
   "execution_count": 17,
   "id": "5fc425a4",
   "metadata": {
    "scrolled": true
   },
   "outputs": [
    {
     "data": {
      "text/html": [
       "<div>\n",
       "<style scoped>\n",
       "    .dataframe tbody tr th:only-of-type {\n",
       "        vertical-align: middle;\n",
       "    }\n",
       "\n",
       "    .dataframe tbody tr th {\n",
       "        vertical-align: top;\n",
       "    }\n",
       "\n",
       "    .dataframe thead th {\n",
       "        text-align: right;\n",
       "    }\n",
       "</style>\n",
       "<table border=\"1\" class=\"dataframe\">\n",
       "  <thead>\n",
       "    <tr style=\"text-align: right;\">\n",
       "      <th></th>\n",
       "      <th>open</th>\n",
       "      <th>close</th>\n",
       "      <th>high</th>\n",
       "      <th>low</th>\n",
       "      <th>volume</th>\n",
       "      <th>code</th>\n",
       "      <th>close-open</th>\n",
       "      <th>high-low</th>\n",
       "      <th>pre_close</th>\n",
       "      <th>price_change</th>\n",
       "      <th>p_change</th>\n",
       "      <th>MA5</th>\n",
       "      <th>MA10</th>\n",
       "      <th>RSI</th>\n",
       "      <th>MOM</th>\n",
       "      <th>EMA12</th>\n",
       "      <th>EMA26</th>\n",
       "      <th>MACD</th>\n",
       "      <th>MACDsignal</th>\n",
       "      <th>MACDhist</th>\n",
       "    </tr>\n",
       "    <tr>\n",
       "      <th>date</th>\n",
       "      <th></th>\n",
       "      <th></th>\n",
       "      <th></th>\n",
       "      <th></th>\n",
       "      <th></th>\n",
       "      <th></th>\n",
       "      <th></th>\n",
       "      <th></th>\n",
       "      <th></th>\n",
       "      <th></th>\n",
       "      <th></th>\n",
       "      <th></th>\n",
       "      <th></th>\n",
       "      <th></th>\n",
       "      <th></th>\n",
       "      <th></th>\n",
       "      <th></th>\n",
       "      <th></th>\n",
       "      <th></th>\n",
       "      <th></th>\n",
       "    </tr>\n",
       "  </thead>\n",
       "  <tbody>\n",
       "    <tr>\n",
       "      <th>2015-06-15</th>\n",
       "      <td>8.29</td>\n",
       "      <td>7.76</td>\n",
       "      <td>8.31</td>\n",
       "      <td>7.72</td>\n",
       "      <td>2741810.0</td>\n",
       "      <td>000002</td>\n",
       "      <td>-0.063932</td>\n",
       "      <td>0.076425</td>\n",
       "      <td>8.29</td>\n",
       "      <td>-0.53</td>\n",
       "      <td>-6.393245</td>\n",
       "      <td>8.196</td>\n",
       "      <td>8.152</td>\n",
       "      <td>49.461841</td>\n",
       "      <td>-1.13</td>\n",
       "      <td>8.027497</td>\n",
       "      <td>7.675655</td>\n",
       "      <td>0.351379</td>\n",
       "      <td>0.387363</td>\n",
       "      <td>-0.035984</td>\n",
       "    </tr>\n",
       "    <tr>\n",
       "      <th>2015-06-16</th>\n",
       "      <td>7.73</td>\n",
       "      <td>7.19</td>\n",
       "      <td>7.74</td>\n",
       "      <td>7.07</td>\n",
       "      <td>2668429.0</td>\n",
       "      <td>000002</td>\n",
       "      <td>-0.069858</td>\n",
       "      <td>0.094767</td>\n",
       "      <td>7.76</td>\n",
       "      <td>-0.57</td>\n",
       "      <td>-7.345361</td>\n",
       "      <td>7.940</td>\n",
       "      <td>8.110</td>\n",
       "      <td>42.797249</td>\n",
       "      <td>-1.28</td>\n",
       "      <td>7.898652</td>\n",
       "      <td>7.639681</td>\n",
       "      <td>0.258579</td>\n",
       "      <td>0.361606</td>\n",
       "      <td>-0.103027</td>\n",
       "    </tr>\n",
       "    <tr>\n",
       "      <th>2015-06-17</th>\n",
       "      <td>7.23</td>\n",
       "      <td>7.39</td>\n",
       "      <td>7.41</td>\n",
       "      <td>6.91</td>\n",
       "      <td>2186123.0</td>\n",
       "      <td>000002</td>\n",
       "      <td>0.022130</td>\n",
       "      <td>0.072359</td>\n",
       "      <td>7.19</td>\n",
       "      <td>0.20</td>\n",
       "      <td>2.781641</td>\n",
       "      <td>7.752</td>\n",
       "      <td>8.063</td>\n",
       "      <td>45.602833</td>\n",
       "      <td>-0.94</td>\n",
       "      <td>7.820398</td>\n",
       "      <td>7.621186</td>\n",
       "      <td>0.198880</td>\n",
       "      <td>0.329061</td>\n",
       "      <td>-0.130181</td>\n",
       "    </tr>\n",
       "    <tr>\n",
       "      <th>2015-06-18</th>\n",
       "      <td>7.45</td>\n",
       "      <td>6.99</td>\n",
       "      <td>7.63</td>\n",
       "      <td>6.96</td>\n",
       "      <td>2625411.0</td>\n",
       "      <td>000002</td>\n",
       "      <td>-0.061745</td>\n",
       "      <td>0.096264</td>\n",
       "      <td>7.39</td>\n",
       "      <td>-0.40</td>\n",
       "      <td>-5.412720</td>\n",
       "      <td>7.524</td>\n",
       "      <td>7.982</td>\n",
       "      <td>41.194594</td>\n",
       "      <td>-1.14</td>\n",
       "      <td>7.692644</td>\n",
       "      <td>7.574431</td>\n",
       "      <td>0.117932</td>\n",
       "      <td>0.286835</td>\n",
       "      <td>-0.168903</td>\n",
       "    </tr>\n",
       "    <tr>\n",
       "      <th>2015-06-19</th>\n",
       "      <td>6.81</td>\n",
       "      <td>6.36</td>\n",
       "      <td>7.02</td>\n",
       "      <td>6.31</td>\n",
       "      <td>2185683.0</td>\n",
       "      <td>000002</td>\n",
       "      <td>-0.066079</td>\n",
       "      <td>0.112520</td>\n",
       "      <td>6.99</td>\n",
       "      <td>-0.63</td>\n",
       "      <td>-9.012876</td>\n",
       "      <td>7.138</td>\n",
       "      <td>7.780</td>\n",
       "      <td>35.327126</td>\n",
       "      <td>-1.93</td>\n",
       "      <td>7.487622</td>\n",
       "      <td>7.484474</td>\n",
       "      <td>0.002911</td>\n",
       "      <td>0.230050</td>\n",
       "      <td>-0.227139</td>\n",
       "    </tr>\n",
       "  </tbody>\n",
       "</table>\n",
       "</div>"
      ],
      "text/plain": [
       "            open  close  high   low     volume    code  close-open  high-low  \\\n",
       "date                                                                           \n",
       "2015-06-15  8.29   7.76  8.31  7.72  2741810.0  000002   -0.063932  0.076425   \n",
       "2015-06-16  7.73   7.19  7.74  7.07  2668429.0  000002   -0.069858  0.094767   \n",
       "2015-06-17  7.23   7.39  7.41  6.91  2186123.0  000002    0.022130  0.072359   \n",
       "2015-06-18  7.45   6.99  7.63  6.96  2625411.0  000002   -0.061745  0.096264   \n",
       "2015-06-19  6.81   6.36  7.02  6.31  2185683.0  000002   -0.066079  0.112520   \n",
       "\n",
       "            pre_close  price_change  p_change    MA5   MA10        RSI   MOM  \\\n",
       "date                                                                           \n",
       "2015-06-15       8.29         -0.53 -6.393245  8.196  8.152  49.461841 -1.13   \n",
       "2015-06-16       7.76         -0.57 -7.345361  7.940  8.110  42.797249 -1.28   \n",
       "2015-06-17       7.19          0.20  2.781641  7.752  8.063  45.602833 -0.94   \n",
       "2015-06-18       7.39         -0.40 -5.412720  7.524  7.982  41.194594 -1.14   \n",
       "2015-06-19       6.99         -0.63 -9.012876  7.138  7.780  35.327126 -1.93   \n",
       "\n",
       "               EMA12     EMA26      MACD  MACDsignal  MACDhist  \n",
       "date                                                            \n",
       "2015-06-15  8.027497  7.675655  0.351379    0.387363 -0.035984  \n",
       "2015-06-16  7.898652  7.639681  0.258579    0.361606 -0.103027  \n",
       "2015-06-17  7.820398  7.621186  0.198880    0.329061 -0.130181  \n",
       "2015-06-18  7.692644  7.574431  0.117932    0.286835 -0.168903  \n",
       "2015-06-19  7.487622  7.484474  0.002911    0.230050 -0.227139  "
      ]
     },
     "execution_count": 17,
     "metadata": {},
     "output_type": "execute_result"
    }
   ],
   "source": [
    "# 4.通过Ta_lib库构造衍生变量\n",
    "df['RSI'] = talib.RSI(df['close'], timeperiod=12)  # 相对强弱指标\n",
    "df['MOM'] = talib.MOM(df['close'], timeperiod=5)  # 动量指标\n",
    "df['EMA12'] = talib.EMA(df['close'], timeperiod=12)  # 12日指数移动平均线\n",
    "df['EMA26'] = talib.EMA(df['close'], timeperiod=26)  # 26日指数移动平均线\n",
    "df['MACD'], df['MACDsignal'], df['MACDhist'] = talib.MACD(df['close'], fastperiod=12, slowperiod=26, signalperiod=9)  # MACD值\n",
    "df.dropna(inplace=True)  # 删除空值\n",
    "df.head()"
   ]
  },
  {
   "cell_type": "markdown",
   "id": "0361a050",
   "metadata": {},
   "source": [
    "### （3）特征变量和目标变量提取"
   ]
  },
  {
   "cell_type": "code",
   "execution_count": 20,
   "id": "76160eb7",
   "metadata": {},
   "outputs": [],
   "source": [
    "X = df[['close', 'volume', 'close-open', 'MA5', 'MA10', 'high-low', 'RSI', 'MOM', 'EMA12', 'MACD', 'MACDsignal', 'MACDhist']]\n",
    "y = np.where(df['price_change'].shift(-1)> 0, 1, -1) #np.where(判断条件,满足条件的赋值,不满足条件的赋值)"
   ]
  },
  {
   "cell_type": "markdown",
   "id": "25adc45f",
   "metadata": {},
   "source": [
    "### （4）划分训练集和测试集"
   ]
  },
  {
   "cell_type": "markdown",
   "id": "68d8ebca",
   "metadata": {},
   "source": [
    "训练集与测试集的划分要按照时间序列划分，而不是像之前利用train_test_split()函数进行划分。原因在于股票价格的变化趋势具有时间性，如果我们随机\n",
    "划分，则会破坏时间性特征，因为是根据当天数据来预测下一天的股价涨跌情况，而不是任意一天的股票数据来预测下一天的股价涨跌情况。"
   ]
  },
  {
   "cell_type": "code",
   "execution_count": 21,
   "id": "5a100f71",
   "metadata": {},
   "outputs": [],
   "source": [
    "X_length = X.shape[0]  # shape属性获取X的行数和列数，shape[0]即表示行数 \n",
    "split = int(X_length * 0.9)\n",
    "\n",
    "X_train, X_test = X[:split], X[split:]\n",
    "y_train, y_test = y[:split], y[split:]"
   ]
  },
  {
   "cell_type": "markdown",
   "id": "12893dae",
   "metadata": {},
   "source": [
    "### （5）模型搭建"
   ]
  },
  {
   "cell_type": "markdown",
   "id": "02e6cd65",
   "metadata": {},
   "source": [
    "决策树的最大深度max_depth设置为3，即每个决策树最多只有3层；弱学习器（即决策树模型）的个数n_estimators设置为10，即该随机森林中共有10个决策\n",
    "树；叶子节点的最小样本数min_samples_leaf设置为10，即如果叶子节点的样本数小于10则停止分裂；随机状态参数random_state的作用是使每次运行结果\n",
    "保持一致，这里设置的数字1没有特殊含义，可以换成其他数字。"
   ]
  },
  {
   "cell_type": "code",
   "execution_count": 24,
   "id": "94c1561f",
   "metadata": {
    "scrolled": true
   },
   "outputs": [
    {
     "data": {
      "text/html": [
       "<style>#sk-container-id-2 {color: black;background-color: white;}#sk-container-id-2 pre{padding: 0;}#sk-container-id-2 div.sk-toggleable {background-color: white;}#sk-container-id-2 label.sk-toggleable__label {cursor: pointer;display: block;width: 100%;margin-bottom: 0;padding: 0.3em;box-sizing: border-box;text-align: center;}#sk-container-id-2 label.sk-toggleable__label-arrow:before {content: \"▸\";float: left;margin-right: 0.25em;color: #696969;}#sk-container-id-2 label.sk-toggleable__label-arrow:hover:before {color: black;}#sk-container-id-2 div.sk-estimator:hover label.sk-toggleable__label-arrow:before {color: black;}#sk-container-id-2 div.sk-toggleable__content {max-height: 0;max-width: 0;overflow: hidden;text-align: left;background-color: #f0f8ff;}#sk-container-id-2 div.sk-toggleable__content pre {margin: 0.2em;color: black;border-radius: 0.25em;background-color: #f0f8ff;}#sk-container-id-2 input.sk-toggleable__control:checked~div.sk-toggleable__content {max-height: 200px;max-width: 100%;overflow: auto;}#sk-container-id-2 input.sk-toggleable__control:checked~label.sk-toggleable__label-arrow:before {content: \"▾\";}#sk-container-id-2 div.sk-estimator input.sk-toggleable__control:checked~label.sk-toggleable__label {background-color: #d4ebff;}#sk-container-id-2 div.sk-label input.sk-toggleable__control:checked~label.sk-toggleable__label {background-color: #d4ebff;}#sk-container-id-2 input.sk-hidden--visually {border: 0;clip: rect(1px 1px 1px 1px);clip: rect(1px, 1px, 1px, 1px);height: 1px;margin: -1px;overflow: hidden;padding: 0;position: absolute;width: 1px;}#sk-container-id-2 div.sk-estimator {font-family: monospace;background-color: #f0f8ff;border: 1px dotted black;border-radius: 0.25em;box-sizing: border-box;margin-bottom: 0.5em;}#sk-container-id-2 div.sk-estimator:hover {background-color: #d4ebff;}#sk-container-id-2 div.sk-parallel-item::after {content: \"\";width: 100%;border-bottom: 1px solid gray;flex-grow: 1;}#sk-container-id-2 div.sk-label:hover label.sk-toggleable__label {background-color: #d4ebff;}#sk-container-id-2 div.sk-serial::before {content: \"\";position: absolute;border-left: 1px solid gray;box-sizing: border-box;top: 0;bottom: 0;left: 50%;z-index: 0;}#sk-container-id-2 div.sk-serial {display: flex;flex-direction: column;align-items: center;background-color: white;padding-right: 0.2em;padding-left: 0.2em;position: relative;}#sk-container-id-2 div.sk-item {position: relative;z-index: 1;}#sk-container-id-2 div.sk-parallel {display: flex;align-items: stretch;justify-content: center;background-color: white;position: relative;}#sk-container-id-2 div.sk-item::before, #sk-container-id-2 div.sk-parallel-item::before {content: \"\";position: absolute;border-left: 1px solid gray;box-sizing: border-box;top: 0;bottom: 0;left: 50%;z-index: -1;}#sk-container-id-2 div.sk-parallel-item {display: flex;flex-direction: column;z-index: 1;position: relative;background-color: white;}#sk-container-id-2 div.sk-parallel-item:first-child::after {align-self: flex-end;width: 50%;}#sk-container-id-2 div.sk-parallel-item:last-child::after {align-self: flex-start;width: 50%;}#sk-container-id-2 div.sk-parallel-item:only-child::after {width: 0;}#sk-container-id-2 div.sk-dashed-wrapped {border: 1px dashed gray;margin: 0 0.4em 0.5em 0.4em;box-sizing: border-box;padding-bottom: 0.4em;background-color: white;}#sk-container-id-2 div.sk-label label {font-family: monospace;font-weight: bold;display: inline-block;line-height: 1.2em;}#sk-container-id-2 div.sk-label-container {text-align: center;}#sk-container-id-2 div.sk-container {/* jupyter's `normalize.less` sets `[hidden] { display: none; }` but bootstrap.min.css set `[hidden] { display: none !important; }` so we also need the `!important` here to be able to override the default hidden behavior on the sphinx rendered scikit-learn.org. See: https://github.com/scikit-learn/scikit-learn/issues/21755 */display: inline-block !important;position: relative;}#sk-container-id-2 div.sk-text-repr-fallback {display: none;}</style><div id=\"sk-container-id-2\" class=\"sk-top-container\"><div class=\"sk-text-repr-fallback\"><pre>RandomForestClassifier(max_depth=3, min_samples_leaf=10, n_estimators=10,\n",
       "                       random_state=1)</pre><b>In a Jupyter environment, please rerun this cell to show the HTML representation or trust the notebook. <br />On GitHub, the HTML representation is unable to render, please try loading this page with nbviewer.org.</b></div><div class=\"sk-container\" hidden><div class=\"sk-item\"><div class=\"sk-estimator sk-toggleable\"><input class=\"sk-toggleable__control sk-hidden--visually\" id=\"sk-estimator-id-2\" type=\"checkbox\" checked><label for=\"sk-estimator-id-2\" class=\"sk-toggleable__label sk-toggleable__label-arrow\">RandomForestClassifier</label><div class=\"sk-toggleable__content\"><pre>RandomForestClassifier(max_depth=3, min_samples_leaf=10, n_estimators=10,\n",
       "                       random_state=1)</pre></div></div></div></div></div>"
      ],
      "text/plain": [
       "RandomForestClassifier(max_depth=3, min_samples_leaf=10, n_estimators=10,\n",
       "                       random_state=1)"
      ]
     },
     "execution_count": 24,
     "metadata": {},
     "output_type": "execute_result"
    }
   ],
   "source": [
    "model = RandomForestClassifier(max_depth=3,  n_estimators=10, min_samples_leaf=10, random_state=1)\n",
    "model.fit(X_train, y_train) #fit()函数训练模型"
   ]
  },
  {
   "cell_type": "markdown",
   "id": "a31a7df9",
   "metadata": {},
   "source": [
    "## 二、模型的使用与评估"
   ]
  },
  {
   "cell_type": "markdown",
   "id": "72b333c8",
   "metadata": {},
   "source": [
    "### （1）预测下一天的股价涨跌情况"
   ]
  },
  {
   "cell_type": "code",
   "execution_count": 25,
   "id": "69b51636",
   "metadata": {
    "scrolled": true
   },
   "outputs": [
    {
     "name": "stdout",
     "output_type": "stream",
     "text": [
      "[ 1  1  1  1  1 -1 -1  1  1 -1  1 -1  1  1  1  1  1 -1  1  1  1 -1 -1 -1\n",
      " -1 -1  1 -1 -1 -1 -1  1 -1 -1  1 -1  1  1  1  1  1  1  1  1 -1  1 -1 -1\n",
      "  1 -1  1 -1 -1 -1 -1  1  1  1  1 -1  1  1 -1 -1 -1  1 -1  1  1 -1  1 -1\n",
      " -1 -1 -1 -1 -1 -1 -1 -1 -1  1  1  1  1  1  1 -1 -1 -1 -1  1  1 -1 -1 -1\n",
      " -1 -1]\n"
     ]
    }
   ],
   "source": [
    "y_pred = model.predict(X_test)\n",
    "print(y_pred)"
   ]
  },
  {
   "cell_type": "code",
   "execution_count": 26,
   "id": "df163175",
   "metadata": {},
   "outputs": [
    {
     "data": {
      "text/html": [
       "<div>\n",
       "<style scoped>\n",
       "    .dataframe tbody tr th:only-of-type {\n",
       "        vertical-align: middle;\n",
       "    }\n",
       "\n",
       "    .dataframe tbody tr th {\n",
       "        vertical-align: top;\n",
       "    }\n",
       "\n",
       "    .dataframe thead th {\n",
       "        text-align: right;\n",
       "    }\n",
       "</style>\n",
       "<table border=\"1\" class=\"dataframe\">\n",
       "  <thead>\n",
       "    <tr style=\"text-align: right;\">\n",
       "      <th></th>\n",
       "      <th>预测值</th>\n",
       "      <th>实际值</th>\n",
       "    </tr>\n",
       "  </thead>\n",
       "  <tbody>\n",
       "    <tr>\n",
       "      <th>0</th>\n",
       "      <td>1</td>\n",
       "      <td>-1</td>\n",
       "    </tr>\n",
       "    <tr>\n",
       "      <th>1</th>\n",
       "      <td>1</td>\n",
       "      <td>1</td>\n",
       "    </tr>\n",
       "    <tr>\n",
       "      <th>2</th>\n",
       "      <td>1</td>\n",
       "      <td>-1</td>\n",
       "    </tr>\n",
       "    <tr>\n",
       "      <th>3</th>\n",
       "      <td>1</td>\n",
       "      <td>-1</td>\n",
       "    </tr>\n",
       "    <tr>\n",
       "      <th>4</th>\n",
       "      <td>1</td>\n",
       "      <td>1</td>\n",
       "    </tr>\n",
       "  </tbody>\n",
       "</table>\n",
       "</div>"
      ],
      "text/plain": [
       "   预测值  实际值\n",
       "0    1   -1\n",
       "1    1    1\n",
       "2    1   -1\n",
       "3    1   -1\n",
       "4    1    1"
      ]
     },
     "execution_count": 26,
     "metadata": {},
     "output_type": "execute_result"
    }
   ],
   "source": [
    "#汇总预测值y_pred和测试集的实际值y_test\n",
    "a = pd.DataFrame()\n",
    "a['预测值'] = list(y_pred)\n",
    "a['实际值'] = list(y_test)\n",
    "a.head()"
   ]
  },
  {
   "cell_type": "code",
   "execution_count": 27,
   "id": "ee904542",
   "metadata": {},
   "outputs": [
    {
     "data": {
      "text/plain": [
       "array([[0.45578883, 0.54421117],\n",
       "       [0.37734473, 0.62265527],\n",
       "       [0.49311827, 0.50688173],\n",
       "       [0.45578883, 0.54421117],\n",
       "       [0.43269607, 0.56730393]])"
      ]
     },
     "execution_count": 27,
     "metadata": {},
     "output_type": "execute_result"
    }
   ],
   "source": [
    "# 查看预测概率\n",
    "y_pred_proba = model.predict_proba(X_test)\n",
    "y_pred_proba[0:5]"
   ]
  },
  {
   "cell_type": "markdown",
   "id": "099026f2",
   "metadata": {},
   "source": [
    "### （2）模型准确度评估"
   ]
  },
  {
   "cell_type": "code",
   "execution_count": 29,
   "id": "9f4c92f3",
   "metadata": {},
   "outputs": [
    {
     "name": "stdout",
     "output_type": "stream",
     "text": [
      "0.5204081632653061\n"
     ]
    }
   ],
   "source": [
    "from sklearn.metrics import accuracy_score\n",
    "score = accuracy_score(y_pred, y_test)\n",
    "print(score)"
   ]
  },
  {
   "cell_type": "markdown",
   "id": "3afa01e8",
   "metadata": {},
   "source": [
    "### （3）分析特征变量的特征重要性"
   ]
  },
  {
   "cell_type": "code",
   "execution_count": 30,
   "id": "0891fd80",
   "metadata": {
    "scrolled": true
   },
   "outputs": [
    {
     "data": {
      "text/plain": [
       "array([0.11546223, 0.05772797, 0.05312257, 0.        , 0.09852535,\n",
       "       0.09452718, 0.07019172, 0.11095536, 0.11011501, 0.11024076,\n",
       "       0.09098303, 0.08814882])"
      ]
     },
     "execution_count": 30,
     "metadata": {},
     "output_type": "execute_result"
    }
   ],
   "source": [
    "model.feature_importances_"
   ]
  },
  {
   "cell_type": "code",
   "execution_count": 32,
   "id": "d3aa7308",
   "metadata": {
    "scrolled": true
   },
   "outputs": [
    {
     "data": {
      "text/html": [
       "<div>\n",
       "<style scoped>\n",
       "    .dataframe tbody tr th:only-of-type {\n",
       "        vertical-align: middle;\n",
       "    }\n",
       "\n",
       "    .dataframe tbody tr th {\n",
       "        vertical-align: top;\n",
       "    }\n",
       "\n",
       "    .dataframe thead th {\n",
       "        text-align: right;\n",
       "    }\n",
       "</style>\n",
       "<table border=\"1\" class=\"dataframe\">\n",
       "  <thead>\n",
       "    <tr style=\"text-align: right;\">\n",
       "      <th></th>\n",
       "      <th>特征</th>\n",
       "      <th>特征重要性</th>\n",
       "    </tr>\n",
       "  </thead>\n",
       "  <tbody>\n",
       "    <tr>\n",
       "      <th>0</th>\n",
       "      <td>close</td>\n",
       "      <td>0.115462</td>\n",
       "    </tr>\n",
       "    <tr>\n",
       "      <th>7</th>\n",
       "      <td>MOM</td>\n",
       "      <td>0.110955</td>\n",
       "    </tr>\n",
       "    <tr>\n",
       "      <th>9</th>\n",
       "      <td>MACD</td>\n",
       "      <td>0.110241</td>\n",
       "    </tr>\n",
       "    <tr>\n",
       "      <th>8</th>\n",
       "      <td>EMA12</td>\n",
       "      <td>0.110115</td>\n",
       "    </tr>\n",
       "    <tr>\n",
       "      <th>4</th>\n",
       "      <td>MA10</td>\n",
       "      <td>0.098525</td>\n",
       "    </tr>\n",
       "    <tr>\n",
       "      <th>5</th>\n",
       "      <td>high-low</td>\n",
       "      <td>0.094527</td>\n",
       "    </tr>\n",
       "    <tr>\n",
       "      <th>10</th>\n",
       "      <td>MACDsignal</td>\n",
       "      <td>0.090983</td>\n",
       "    </tr>\n",
       "    <tr>\n",
       "      <th>11</th>\n",
       "      <td>MACDhist</td>\n",
       "      <td>0.088149</td>\n",
       "    </tr>\n",
       "    <tr>\n",
       "      <th>6</th>\n",
       "      <td>RSI</td>\n",
       "      <td>0.070192</td>\n",
       "    </tr>\n",
       "    <tr>\n",
       "      <th>1</th>\n",
       "      <td>volume</td>\n",
       "      <td>0.057728</td>\n",
       "    </tr>\n",
       "    <tr>\n",
       "      <th>2</th>\n",
       "      <td>close-open</td>\n",
       "      <td>0.053123</td>\n",
       "    </tr>\n",
       "    <tr>\n",
       "      <th>3</th>\n",
       "      <td>MA5</td>\n",
       "      <td>0.000000</td>\n",
       "    </tr>\n",
       "  </tbody>\n",
       "</table>\n",
       "</div>"
      ],
      "text/plain": [
       "            特征     特征重要性\n",
       "0        close  0.115462\n",
       "7          MOM  0.110955\n",
       "9         MACD  0.110241\n",
       "8        EMA12  0.110115\n",
       "4         MA10  0.098525\n",
       "5     high-low  0.094527\n",
       "10  MACDsignal  0.090983\n",
       "11    MACDhist  0.088149\n",
       "6          RSI  0.070192\n",
       "1       volume  0.057728\n",
       "2   close-open  0.053123\n",
       "3          MA5  0.000000"
      ]
     },
     "execution_count": 32,
     "metadata": {},
     "output_type": "execute_result"
    }
   ],
   "source": [
    "features = X.columns\n",
    "importances = model.feature_importances_\n",
    "\n",
    "a = pd.DataFrame()\n",
    "a['特征'] = features\n",
    "a['特征重要性'] = importances\n",
    "a = a.sort_values('特征重要性', ascending=False)\n",
    "a"
   ]
  },
  {
   "cell_type": "markdown",
   "id": "b0c037fb",
   "metadata": {},
   "source": [
    "## 三、参数调优"
   ]
  },
  {
   "cell_type": "code",
   "execution_count": 33,
   "id": "89e6ef1b",
   "metadata": {},
   "outputs": [],
   "source": [
    "from sklearn.model_selection import GridSearchCV # 网格搜索合适的超参数\n",
    "parameters = {'n_estimators':[5, 10, 20], 'max_depth':[2, 3, 4, 5], 'min_samples_leaf':[5, 10, 20, 30]} # 指定分类器中参数的范围\n",
    "new_model = RandomForestClassifier(random_state=1) # 构建新模型\n",
    "#设置cv参数为6，表示交叉验证6次；设置模型评估标准scoring参数为'accuracy'，即以准确度作为评估标准，如果设置成'roc_auc'则表示以ROC曲线的AUC值作为评估标准\n",
    "grid_search = GridSearchCV(new_model, parameters, cv=6, scoring='accuracy')  "
   ]
  },
  {
   "cell_type": "code",
   "execution_count": 35,
   "id": "e24bbd1b",
   "metadata": {},
   "outputs": [
    {
     "data": {
      "text/plain": [
       "{'max_depth': 2, 'min_samples_leaf': 5, 'n_estimators': 10}"
      ]
     },
     "execution_count": 35,
     "metadata": {},
     "output_type": "execute_result"
    }
   ],
   "source": [
    "grid_search.fit(X_train, y_train) #传入训练集数据b\n",
    "grid_search.best_params_  # 输出参数的最优值"
   ]
  },
  {
   "cell_type": "markdown",
   "id": "bbf40710",
   "metadata": {},
   "source": [
    "## 四、收益回测曲线绘制"
   ]
  },
  {
   "cell_type": "markdown",
   "id": "d26d001f",
   "metadata": {},
   "source": [
    "前面已经评估了模型的预测准确度，不过在商业实战中，我们更关心它的收益回测曲线（又称为净值曲线），也就是看根据搭建的模型获得的结果是否比不利用模型获得的结果更好。"
   ]
  },
  {
   "cell_type": "code",
   "execution_count": 36,
   "id": "261fc3ef",
   "metadata": {
    "scrolled": true
   },
   "outputs": [
    {
     "data": {
      "text/html": [
       "<div>\n",
       "<style scoped>\n",
       "    .dataframe tbody tr th:only-of-type {\n",
       "        vertical-align: middle;\n",
       "    }\n",
       "\n",
       "    .dataframe tbody tr th {\n",
       "        vertical-align: top;\n",
       "    }\n",
       "\n",
       "    .dataframe thead th {\n",
       "        text-align: right;\n",
       "    }\n",
       "</style>\n",
       "<table border=\"1\" class=\"dataframe\">\n",
       "  <thead>\n",
       "    <tr style=\"text-align: right;\">\n",
       "      <th></th>\n",
       "      <th>strategy</th>\n",
       "      <th>origin</th>\n",
       "    </tr>\n",
       "    <tr>\n",
       "      <th>date</th>\n",
       "      <th></th>\n",
       "      <th></th>\n",
       "    </tr>\n",
       "  </thead>\n",
       "  <tbody>\n",
       "    <tr>\n",
       "      <th>2019-12-25</th>\n",
       "      <td>1.223410</td>\n",
       "      <td>1.157681</td>\n",
       "    </tr>\n",
       "    <tr>\n",
       "      <th>2019-12-26</th>\n",
       "      <td>1.185878</td>\n",
       "      <td>1.193196</td>\n",
       "    </tr>\n",
       "    <tr>\n",
       "      <th>2019-12-27</th>\n",
       "      <td>1.190981</td>\n",
       "      <td>1.188062</td>\n",
       "    </tr>\n",
       "    <tr>\n",
       "      <th>2019-12-30</th>\n",
       "      <td>1.166531</td>\n",
       "      <td>1.212452</td>\n",
       "    </tr>\n",
       "    <tr>\n",
       "      <th>2019-12-31</th>\n",
       "      <td>1.141418</td>\n",
       "      <td>1.238554</td>\n",
       "    </tr>\n",
       "  </tbody>\n",
       "</table>\n",
       "</div>"
      ],
      "text/plain": [
       "            strategy    origin\n",
       "date                          \n",
       "2019-12-25  1.223410  1.157681\n",
       "2019-12-26  1.185878  1.193196\n",
       "2019-12-27  1.190981  1.188062\n",
       "2019-12-30  1.166531  1.212452\n",
       "2019-12-31  1.141418  1.238554"
      ]
     },
     "execution_count": 36,
     "metadata": {},
     "output_type": "execute_result"
    }
   ],
   "source": [
    "X_test['prediction'] = model.predict(X_test)\n",
    "X_test['p_change'] = (X_test['close'] - X_test['close'].shift(1)) / X_test['close'].shift(1)\n",
    "\n",
    "X_test['origin'] = (X_test['p_change'] + 1).cumprod()\n",
    "X_test['strategy'] = (X_test['prediction'].shift(1) * X_test['p_change'] + 1).cumprod()\n",
    "\n",
    "X_test[['strategy', 'origin']].tail()"
   ]
  },
  {
   "cell_type": "code",
   "execution_count": 37,
   "id": "9c7f2bb4",
   "metadata": {},
   "outputs": [
    {
     "data": {
      "image/png": "[encoded data removed]",
      "text/plain": [
       "<Figure size 432x288 with 1 Axes>"
      ]
     },
     "metadata": {
      "needs_background": "light"
     },
     "output_type": "display_data"
    }
   ],
   "source": [
    "# 将收益率删除空值后进行可视化，并设置x轴刻度自动倾斜\n",
    "X_test[['strategy', 'origin']].dropna().plot()\n",
    "plt.gcf().autofmt_xdate()\n",
    "plt.show()"
   ]
  },
  {
   "cell_type": "markdown",
   "id": "08f18f15",
   "metadata": {},
   "source": [
    "图中上方的曲线为根据模型得到的收益率曲线，下方的曲线为股票本身的收益率曲线，可以看到，利用模型得到的收益还是不错的。"
   ]
  }
 ],
 "metadata": {
  "kernelspec": {
   "display_name": "Python 3 (ipykernel)",
   "language": "python",
   "name": "python3"
  },
  "language_info": {
   "codemirror_mode": {
    "name": "ipython",
    "version": 3
   },
   "file_extension": ".py",
   "mimetype": "text/x-python",
   "name": "python",
   "nbconvert_exporter": "python",
   "pygments_lexer": "ipython3",
   "version": "3.9.7"
  }
 },
 "nbformat": 4,
 "nbformat_minor": 5
}
