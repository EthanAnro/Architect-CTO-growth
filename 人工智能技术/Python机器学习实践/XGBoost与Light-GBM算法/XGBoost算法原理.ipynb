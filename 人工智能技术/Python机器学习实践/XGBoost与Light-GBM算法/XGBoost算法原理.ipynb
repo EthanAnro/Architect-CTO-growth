{
 "cells": [
  {
   "cell_type": "markdown",
   "id": "dd318d23",
   "metadata": {},
   "source": [
    "**XGBoost算法是由华盛顿大学的陈天奇博士开发并开源的，XGBoost算法可以说是集成学习方法中的王牌算法。在著名的数据挖掘比赛平台Kaggle上，众多获胜者都使用了XGBoost算法，它在绝大多数回归问题和分类问题上的表现都十分不错。**\n",
    "\n",
    "## XGBoost算法的核心思想\n",
    "XGBoost算法在某种程度上可以说是GBDT算法的改良版，两者在本质上都是利用了Boosting算法中拟合残差的思想。\n",
    "\n",
    "作为对GBDT算法的高效实现，XGBoost算法在以下两方面进行了优化。\n",
    "* **算法本身的优化**：XGBoost算法的损失函数，除了本身的损失，还加上了正则化部分，可以防止过拟合，泛化能力更强。XGBoost算法的损失函数是对误差部分做二阶泰勒展开，相较于GBDT算法的损失函数只对误差部分做负梯度（一阶泰勒）展开，更加准确。\n",
    "* **算法运行效率的优化**：对每个弱学习器，如决策树建立的过程做并行选择，找到合适的子节点分裂特征和特征值，从而提升运行效率。"
   ]
  },
  {
   "cell_type": "markdown",
   "id": "cd8fe1a7",
   "metadata": {},
   "source": [
    "## XGBoost算法的简单代码实现\n",
    "XGBoost算法既能做分类分析，又能做回归分析，对应的模型分别为XGBoost分类模型（XGBClassifier）和XGBoost回归模型（XGBRegressor）。"
   ]
  },
  {
   "cell_type": "markdown",
   "id": "8587f860",
   "metadata": {},
   "source": [
    "> XGBoost模型可以采用pip安装法安装"
   ]
  },
  {
   "cell_type": "code",
   "execution_count": 2,
   "id": "4b31cf30",
   "metadata": {
    "scrolled": false
   },
   "outputs": [
    {
     "name": "stdout",
     "output_type": "stream",
     "text": [
      "Collecting xgboost\n",
      "  Downloading xgboost-1.6.2-py3-none-macosx_10_15_x86_64.macosx_11_0_x86_64.macosx_12_0_x86_64.whl (1.7 MB)\n",
      "\u001b[K     |████████████████████████████████| 1.7 MB 80 kB/s eta 0:00:011\n",
      "\u001b[?25hRequirement already satisfied: scipy in /Users/dayao/opt/anaconda3/lib/python3.9/site-packages (from xgboost) (1.7.1)\n",
      "Requirement already satisfied: numpy in /Users/dayao/opt/anaconda3/lib/python3.9/site-packages (from xgboost) (1.20.3)\n",
      "Installing collected packages: xgboost\n",
      "Successfully installed xgboost-1.6.2\n"
     ]
    }
   ],
   "source": [
    "!pip install xgboost "
   ]
  },
  {
   "cell_type": "markdown",
   "id": "c832cf35",
   "metadata": {},
   "source": [
    "通过如下代码可以引入XGBoost分类模型"
   ]
  },
  {
   "cell_type": "code",
   "execution_count": 5,
   "id": "3a1b3fa5",
   "metadata": {},
   "outputs": [],
   "source": [
    "from xgboost import XGBClassifier"
   ]
  },
  {
   "cell_type": "markdown",
   "id": "4719dd78",
   "metadata": {},
   "source": [
    "在Jupyter Notebook中引入该模型后，可以通过如下代码获取官方说明文档内容"
   ]
  },
  {
   "cell_type": "code",
   "execution_count": 7,
   "id": "171b5962",
   "metadata": {
    "scrolled": true
   },
   "outputs": [],
   "source": [
    "XGBClassifier?"
   ]
  },
  {
   "cell_type": "markdown",
   "id": "8dda08c0",
   "metadata": {},
   "source": [
    "#### XGBoost分类模型的简单演示代码"
   ]
  },
  {
   "cell_type": "code",
   "execution_count": 8,
   "id": "2e938535",
   "metadata": {
    "scrolled": true
   },
   "outputs": [
    {
     "name": "stdout",
     "output_type": "stream",
     "text": [
      "[0]\n"
     ]
    }
   ],
   "source": [
    "from xgboost import XGBClassifier\n",
    "import numpy as np\n",
    "x = np.array([[1,2], [3,4], [5,6], [7,8], [9,10]]) # 特征变量，共有2个特征，因为XGBoost分类模型的特征变量只支持array数组类型或DataFrame二维表格类型的数据，所以这里使用NumPy库的array()函数将list列表类型的数据转换为array数组类型的数据\n",
    "y = [0, 0, 0, 1, 1] # 目标变量，共有2个类别——0和1\n",
    "model = XGBClassifier() # 引入模型\n",
    "model.fit(x, y) # 用fit()函数训练模型\n",
    "print(model.predict([[5, 5]])) # 用predict()函数进行预测"
   ]
  },
  {
   "cell_type": "markdown",
   "id": "719d2462",
   "metadata": {},
   "source": [
    "#### XGBoost回归模型的简单演示代码"
   ]
  },
  {
   "cell_type": "code",
   "execution_count": 9,
   "id": "5d078e86",
   "metadata": {},
   "outputs": [
    {
     "name": "stdout",
     "output_type": "stream",
     "text": [
      "[3.0000014]\n"
     ]
    }
   ],
   "source": [
    "from xgboost import XGBRegressor\n",
    "import numpy as np\n",
    "x = np.array([[1,2], [3,4], [5,6], [7,8], [9,10]]) # 特征变量，共有2个特征，因为XGBoost模型的特征变量只支持array数组类型或DataFrame二维表格类型的数据，所以这里使用NumPy库的array()函数将list列表类型的数据转换为array数组类型的数据\n",
    "y = [1, 2, 3, 4, 5] # 目标变量，为连续变量\n",
    "model = XGBRegressor() # 引入模型\n",
    "model.fit(x, y) # 用fit()函数训练模型\n",
    "print(model.predict([[5, 5]])) # 用predict()函数进行预测"
   ]
  }
 ],
 "metadata": {
  "kernelspec": {
   "display_name": "Python 3 (ipykernel)",
   "language": "python",
   "name": "python3"
  },
  "language_info": {
   "codemirror_mode": {
    "name": "ipython",
    "version": 3
   },
   "file_extension": ".py",
   "mimetype": "text/x-python",
   "name": "python",
   "nbconvert_exporter": "python",
   "pygments_lexer": "ipython3",
   "version": "3.9.7"
  }
 },
 "nbformat": 4,
 "nbformat_minor": 5
}
