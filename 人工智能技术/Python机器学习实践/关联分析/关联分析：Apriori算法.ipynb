{
 "cells": [
  {
   "cell_type": "markdown",
   "id": "59e9927d",
   "metadata": {},
   "source": [
    "# 关联分析：Apriori算法\n",
    "\n",
    "Apriori算法是常用于挖掘不同数据之间关联关系的经典算法。\n",
    "\n",
    "关联分析是数据挖掘中一种简单而实用的技术，它通过深入分析数据集，寻找事物间的关联性，挖掘频繁出现的组合，并描述组合内对象同时出现的模式和规律。例如，对超市购物的数据进行关联分析，通过发现顾客所购买的不同商品之间的关系，分析顾客的购买习惯，设计商品的组合摆放位置，制定相应的营销策略，从而制造需求，提高销售额，创造额外收入。关联分析技术也可以应用于智能推荐系统，当我们挖掘出频繁出现的组合和强关联规则之后，就可以通过强关联规则为顾客推荐商品。\n",
    "\n",
    "## 一、关联分析的基本概念\n",
    "**关联分析示例表**: 一组购物篮数据，其中第1列为用户信息，第2列为用户所购买的商品信息，我们的目的就是通过该表来挖掘不同商品间的关联关系。\n",
    "![关联分析示例表](image/关联分析示例表.png)\n",
    "\n",
    "### 关联分析的一些基本概念\n",
    "* **事务库**：上表中的购物篮数据就是一个事务库，该事务库记录的是用户行为的数据。\n",
    "* **事务**：事务库中的每一条记录称为一笔事务。在上表的购物篮事务库中，一笔事务就是一次购物行为。例如，第1行数据“用户1购买商品A，B，C”即为一笔事务。\n",
    "* **项和项集**：在购物篮事务库中，每样商品为一个项，项的集合称为项集。例如，“A，B”“A，C”“B，C”“A，B，C”都是项集，即不同商品的组合。\n",
    "\n",
    "### 关联分析中的核心概念\n",
    "* **关联规则**：关联规则是形如A→B的表达式，A称为前件，B称为后件，即一个用户如果购买了商品A，则也会购买商品B。这里的A和B不是指单一的商品，而是指项集，例如，{A，B}→{C}的含义就是一个用户如果购买了商品A和商品B，则也会购买商品C。\n",
    "* **支持度（support）**：项集的支持度定义为包含该项集的事务在所有事务中所占的比例。例如，项集{A，B}在购物篮事务库中共出现3次（第1、2、4条数据），而整个事务库一共有5笔事务（即5条数据），因此它的支持度为3÷5＝60%。\n",
    "* **频繁项集**：支持度大于等于人为设定的阈值（该阈值称为最小支持度）的项集为频繁项集。例如，假设将最小支持度设为50%，因为上面得到项集{A，B}的支持度为60%，所以它是频繁项集，也就是说，该项集在所有事务中出现得较为频繁。\n",
    "* **置信度（confidence）**：置信度的含义是项集Y在包含项集X的事务中出现的频繁程度。在购物篮事务库中，关联规则X→Y的置信度为在购买项集X的基础上购买项集Y的概率P（Y|X），计算规则如下：\n",
    "\n",
    "$P(Y|X) = P(XY)/P(X)$\n",
    "\n",
    "以上述的购物篮事务库为例，关联规则{A，B}→{C}的置信度计算公式如下:\n",
    "\n",
    "$P({C}|{A, B}) = P({A,B,C})/P({A,B})$\n",
    "\n",
    "项集{A，B，C}在所有5笔事务中共出现2次（第1、4笔事务），所以P（{A，B，C}）＝2/5；项集{A，B}在所有5笔事务中共出现3次（第1、2、4笔事务），所以P（{A，B}）＝3/5。代入上述公式可得：\n",
    "\n",
    "$P({C}|{A, B}) = P({A,B,C})/P({A,B}) = (2/5)/(3/5) = 0.67$\n",
    "\n",
    "这个结果说明购买了商品A和商品B的人中有67%的人也购买了商品C，该概率还是较高的，因此，商场可以向购买了商品A和商品B的人推荐商品C，如可以将这3种商品放得较近。\n",
    "* **强关联规则**：在实际应用中，通常是先寻找满足最小支持度的频繁项集，然后在频繁项集中寻找满足最小置信度的关联规则，这样的关联规则称为强关联规则，即我们需要的关联规则。\n",
    "\n",
    "## 二、Apriori算法的数学演示\n",
    "### 1、基本思路\n",
    "关联分析的最终目标是要找出强关联规则，以针对目标客户推荐商品。Apriori算法是最著名的关联规则的挖掘算法之一，其核心是一种递推算法。Apriori算法的步骤如下。\n",
    "* 步骤1：设定最小支持度和最小置信度；\n",
    "* 步骤2：根据最小支持度找出所有的频繁项集；\n",
    "* 步骤3：根据最小置信度发现强关联规则。\n",
    "\n",
    "### 2、案例演示\n",
    "![关联分析示例表](image/关联分析示例表.png)\n",
    "\n",
    "#### 步骤1：设定最小支持度和最小置信度\n",
    "首先设定最小支持度为2/5，即40%；最小置信度为4/5，即80%。\n",
    "\n",
    "#### 步骤2：根据最小支持度找出所有的频繁项集\n",
    "这一步骤是关联分析中较为重要的一个环节，我们需要找到所有的频繁项集，因为强关联规则都是从频繁项集中产生的。\n",
    "\n",
    "#### 步骤3：根据最小置信度发现强关联规则\n",
    "找到所有长度大于1的频繁项集后，强关联规则就很有可能就从这些频繁项集中产生，此时最后一个步骤就是从各个频繁项集中推导出所有可能的关联规则，再利用最小置信度来检验这些关联规则是否为强关联规则。\n",
    "![强关联规则](image/强关联规则.png)\n",
    "\n",
    "\n",
    "## 三、Apriori算法的代码实现\n",
    "### 1、通过apyori库实现Apriori算法"
   ]
  },
  {
   "cell_type": "code",
   "execution_count": 1,
   "id": "efd26dc6",
   "metadata": {},
   "outputs": [
    {
     "name": "stdout",
     "output_type": "stream",
     "text": [
      "Collecting apyori\n",
      "  Downloading apyori-1.1.2.tar.gz (8.6 kB)\n",
      "Building wheels for collected packages: apyori\n",
      "  Building wheel for apyori (setup.py) ... \u001b[?25ldone\n",
      "\u001b[?25h  Created wheel for apyori: filename=apyori-1.1.2-py3-none-any.whl size=5974 sha256=305850213eb5bf3f941392794d7b18d890edb82f784e6a1a631dff62cd4696e1\n",
      "  Stored in directory: /Users/dayao/Library/Caches/pip/wheels/32/2a/54/10c595515f385f3726642b10c60bf788029e8f3a1323e3913a\n",
      "Successfully built apyori\n",
      "Installing collected packages: apyori\n",
      "Successfully installed apyori-1.1.2\n"
     ]
    }
   ],
   "source": [
    "# 安装 apyori库\n",
    "!pip install apyori"
   ]
  },
  {
   "cell_type": "code",
   "execution_count": 1,
   "id": "e90f009e",
   "metadata": {
    "scrolled": true
   },
   "outputs": [
    {
     "name": "stdout",
     "output_type": "stream",
     "text": [
      "RelationRecord(items=frozenset({'B'}), support=1.0, ordered_statistics=[OrderedStatistic(items_base=frozenset(), items_add=frozenset({'B'}), confidence=1.0, lift=1.0)])\n",
      "-----------------------\n",
      "RelationRecord(items=frozenset({'C'}), support=0.8, ordered_statistics=[OrderedStatistic(items_base=frozenset(), items_add=frozenset({'C'}), confidence=0.8, lift=1.0)])\n",
      "-----------------------\n",
      "RelationRecord(items=frozenset({'B', 'A'}), support=0.6, ordered_statistics=[OrderedStatistic(items_base=frozenset({'A'}), items_add=frozenset({'B'}), confidence=1.0, lift=1.0)])\n",
      "-----------------------\n",
      "RelationRecord(items=frozenset({'C', 'B'}), support=0.8, ordered_statistics=[OrderedStatistic(items_base=frozenset(), items_add=frozenset({'C', 'B'}), confidence=0.8, lift=1.0), OrderedStatistic(items_base=frozenset({'B'}), items_add=frozenset({'C'}), confidence=0.8, lift=1.0), OrderedStatistic(items_base=frozenset({'C'}), items_add=frozenset({'B'}), confidence=1.0, lift=1.0)])\n",
      "-----------------------\n",
      "RelationRecord(items=frozenset({'D', 'B'}), support=0.4, ordered_statistics=[OrderedStatistic(items_base=frozenset({'D'}), items_add=frozenset({'B'}), confidence=1.0, lift=1.0)])\n",
      "-----------------------\n",
      "RelationRecord(items=frozenset({'D', 'C'}), support=0.4, ordered_statistics=[OrderedStatistic(items_base=frozenset({'D'}), items_add=frozenset({'C'}), confidence=1.0, lift=1.25)])\n",
      "-----------------------\n",
      "RelationRecord(items=frozenset({'B', 'C', 'A'}), support=0.4, ordered_statistics=[OrderedStatistic(items_base=frozenset({'C', 'A'}), items_add=frozenset({'B'}), confidence=1.0, lift=1.0)])\n",
      "-----------------------\n",
      "RelationRecord(items=frozenset({'D', 'C', 'B'}), support=0.4, ordered_statistics=[OrderedStatistic(items_base=frozenset({'D'}), items_add=frozenset({'C', 'B'}), confidence=1.0, lift=1.25), OrderedStatistic(items_base=frozenset({'D', 'B'}), items_add=frozenset({'C'}), confidence=1.0, lift=1.25), OrderedStatistic(items_base=frozenset({'D', 'C'}), items_add=frozenset({'B'}), confidence=1.0, lift=1.0)])\n",
      "-----------------------\n"
     ]
    }
   ],
   "source": [
    "# 创建购物篮事务库，代码如下，每个子列表的内容就是一条购物记录。\n",
    "transactions = [['A', 'B', 'C'], ['A', 'B'], ['B', 'C'], ['A', 'B', 'C', 'D'], ['B', 'C', 'D']]\n",
    "\n",
    "from apyori import apriori # 引入apyori库中的apriori()函数\n",
    "rules = apriori(transactions, min_support=0.4, min_confidence=0.8) # 用apriori()函数进行关联分析，其中min_support参数为最小支持度，这里设置为0.4，即之前设定的40%，min_confidence参数为最小置信度，这里设置为0.8，即之前设定的80%，将获取到的关联规则赋给变量rules\n",
    "results = list(rules) # 用list()函数将获得的关联规则rules转为列表\n",
    "for i in results:\n",
    "    print(i)\n",
    "    print('-----------------------')"
   ]
  },
  {
   "cell_type": "markdown",
   "id": "85a0e868",
   "metadata": {},
   "source": [
    "此时的results就是符合条件的各个频繁项集的支持度和置信度。\n",
    "\n",
    "提取results中的关联规则，并通过字符串拼接来更好地呈现关联规则"
   ]
  },
  {
   "cell_type": "code",
   "execution_count": 2,
   "id": "f792389d",
   "metadata": {
    "scrolled": true
   },
   "outputs": [
    {
     "name": "stdout",
     "output_type": "stream",
     "text": [
      "A——>B\n",
      "B——>C\n",
      "C——>B\n",
      "D——>B\n",
      "D——>C\n",
      "C,A——>B\n",
      "D——>C,B\n",
      "D,B——>C\n",
      "D,C——>B\n"
     ]
    }
   ],
   "source": [
    "for i in results: # 遍历results中每一个频繁项集\n",
    "    for j in i.ordered_statistics: # 获取频繁项集中的关联规则\n",
    "        X = j.items_base # 关联规则的前件\n",
    "        Y = j.items_add # 关联规则的后件\n",
    "        x = ','.join([item for item in X]) # 连接前件中的元素\n",
    "        y = ','.join([item for item in Y]) # 连接后件中的元素\n",
    "        if x != '': # 防止出现关联规则中前件为空的情况\n",
    "            print(x + '——>' + y) # 通过字符串拼接来更好地呈现结果"
   ]
  },
  {
   "cell_type": "markdown",
   "id": "00ea4eb1",
   "metadata": {},
   "source": [
    "### 2．通过mlxtend库实现Apriori算法\n",
    "先来安装mlxtend库"
   ]
  },
  {
   "cell_type": "code",
   "execution_count": 5,
   "id": "92a8e4d3",
   "metadata": {},
   "outputs": [
    {
     "name": "stdout",
     "output_type": "stream",
     "text": [
      "Looking in indexes: https://pypi.tuna.tsinghua.edu.cn/simple\n",
      "Requirement already satisfied: mlxtend in /Users/dayao/opt/anaconda3/lib/python3.9/site-packages (0.21.0)\n",
      "Requirement already satisfied: scipy>=1.2.1 in /Users/dayao/opt/anaconda3/lib/python3.9/site-packages (from mlxtend) (1.9.2)\n",
      "Requirement already satisfied: numpy>=1.16.2 in /Users/dayao/opt/anaconda3/lib/python3.9/site-packages (from mlxtend) (1.22.4)\n",
      "Requirement already satisfied: matplotlib>=3.0.0 in /Users/dayao/opt/anaconda3/lib/python3.9/site-packages (from mlxtend) (3.4.3)\n",
      "Requirement already satisfied: pandas>=0.24.2 in /Users/dayao/opt/anaconda3/lib/python3.9/site-packages (from mlxtend) (1.3.4)\n",
      "Requirement already satisfied: setuptools in /Users/dayao/opt/anaconda3/lib/python3.9/site-packages (from mlxtend) (58.0.4)\n",
      "Requirement already satisfied: joblib>=0.13.2 in /Users/dayao/opt/anaconda3/lib/python3.9/site-packages (from mlxtend) (1.2.0)\n",
      "Requirement already satisfied: scikit-learn>=1.0.2 in /Users/dayao/opt/anaconda3/lib/python3.9/site-packages (from mlxtend) (1.1.2)\n",
      "Requirement already satisfied: pillow>=6.2.0 in /Users/dayao/opt/anaconda3/lib/python3.9/site-packages (from matplotlib>=3.0.0->mlxtend) (8.4.0)\n",
      "Requirement already satisfied: cycler>=0.10 in /Users/dayao/opt/anaconda3/lib/python3.9/site-packages (from matplotlib>=3.0.0->mlxtend) (0.10.0)\n",
      "Requirement already satisfied: kiwisolver>=1.0.1 in /Users/dayao/opt/anaconda3/lib/python3.9/site-packages (from matplotlib>=3.0.0->mlxtend) (1.3.1)\n",
      "Requirement already satisfied: python-dateutil>=2.7 in /Users/dayao/opt/anaconda3/lib/python3.9/site-packages (from matplotlib>=3.0.0->mlxtend) (2.8.2)\n",
      "Requirement already satisfied: pyparsing>=2.2.1 in /Users/dayao/opt/anaconda3/lib/python3.9/site-packages (from matplotlib>=3.0.0->mlxtend) (3.0.4)\n",
      "Requirement already satisfied: six in /Users/dayao/opt/anaconda3/lib/python3.9/site-packages (from cycler>=0.10->matplotlib>=3.0.0->mlxtend) (1.16.0)\n",
      "Requirement already satisfied: pytz>=2017.3 in /Users/dayao/opt/anaconda3/lib/python3.9/site-packages (from pandas>=0.24.2->mlxtend) (2021.3)\n",
      "Requirement already satisfied: threadpoolctl>=2.0.0 in /Users/dayao/opt/anaconda3/lib/python3.9/site-packages (from scikit-learn>=1.0.2->mlxtend) (3.1.0)\n"
     ]
    }
   ],
   "source": [
    "!pip install mlxtend -i https://pypi.tuna.tsinghua.edu.cn/simple "
   ]
  },
  {
   "cell_type": "code",
   "execution_count": 7,
   "id": "c96fbdda",
   "metadata": {},
   "outputs": [],
   "source": [
    "# 创建购物篮事务库，代码如下，每个子列表的内容就是一条购物记录。\n",
    "transactions = [['A', 'B', 'C'], ['A', 'B'], ['B', 'C'], ['A', 'B', 'C', 'D'], ['B', 'C', 'D']]"
   ]
  },
  {
   "cell_type": "markdown",
   "id": "b6a3d812",
   "metadata": {},
   "source": [
    "因为mlxtend库中的apriori()函数可接受的数据类型为由布尔值（又称bool型数据，内容为True或Flase）或0/1值构成的DataFrame，所以需要先使用mlxtend库中的TransactionEncoder()函数对数据进行预处理，代码如下。"
   ]
  },
  {
   "cell_type": "code",
   "execution_count": 8,
   "id": "6775e4d0",
   "metadata": {},
   "outputs": [],
   "source": [
    "from mlxtend.preprocessing import TransactionEncoder # 从mlxtend库的preprocessing模块中引入TransactionEncoder()函数\n",
    "TE = TransactionEncoder() # 构造转换模型\n",
    "data = TE.fit_transform(transactions) # 将原始数据转换为布尔值"
   ]
  },
  {
   "cell_type": "markdown",
   "id": "cae21294",
   "metadata": {},
   "source": [
    "利用pandas库将转换后的布尔值以DataFrame格式存储"
   ]
  },
  {
   "cell_type": "code",
   "execution_count": 9,
   "id": "6038d093",
   "metadata": {},
   "outputs": [
    {
     "data": {
      "text/html": [
       "<div>\n",
       "<style scoped>\n",
       "    .dataframe tbody tr th:only-of-type {\n",
       "        vertical-align: middle;\n",
       "    }\n",
       "\n",
       "    .dataframe tbody tr th {\n",
       "        vertical-align: top;\n",
       "    }\n",
       "\n",
       "    .dataframe thead th {\n",
       "        text-align: right;\n",
       "    }\n",
       "</style>\n",
       "<table border=\"1\" class=\"dataframe\">\n",
       "  <thead>\n",
       "    <tr style=\"text-align: right;\">\n",
       "      <th></th>\n",
       "      <th>A</th>\n",
       "      <th>B</th>\n",
       "      <th>C</th>\n",
       "      <th>D</th>\n",
       "    </tr>\n",
       "  </thead>\n",
       "  <tbody>\n",
       "    <tr>\n",
       "      <th>0</th>\n",
       "      <td>True</td>\n",
       "      <td>True</td>\n",
       "      <td>True</td>\n",
       "      <td>False</td>\n",
       "    </tr>\n",
       "    <tr>\n",
       "      <th>1</th>\n",
       "      <td>True</td>\n",
       "      <td>True</td>\n",
       "      <td>False</td>\n",
       "      <td>False</td>\n",
       "    </tr>\n",
       "    <tr>\n",
       "      <th>2</th>\n",
       "      <td>False</td>\n",
       "      <td>True</td>\n",
       "      <td>True</td>\n",
       "      <td>False</td>\n",
       "    </tr>\n",
       "    <tr>\n",
       "      <th>3</th>\n",
       "      <td>True</td>\n",
       "      <td>True</td>\n",
       "      <td>True</td>\n",
       "      <td>True</td>\n",
       "    </tr>\n",
       "    <tr>\n",
       "      <th>4</th>\n",
       "      <td>False</td>\n",
       "      <td>True</td>\n",
       "      <td>True</td>\n",
       "      <td>True</td>\n",
       "    </tr>\n",
       "  </tbody>\n",
       "</table>\n",
       "</div>"
      ],
      "text/plain": [
       "       A     B      C      D\n",
       "0   True  True   True  False\n",
       "1   True  True  False  False\n",
       "2  False  True   True  False\n",
       "3   True  True   True   True\n",
       "4  False  True   True   True"
      ]
     },
     "execution_count": 9,
     "metadata": {},
     "output_type": "execute_result"
    }
   ],
   "source": [
    "import pandas as pd\n",
    "df = pd.DataFrame(data, columns=TE.columns_) \n",
    "df"
   ]
  },
  {
   "cell_type": "markdown",
   "id": "f8856a64",
   "metadata": {},
   "source": [
    "将数据处理为mlxtend库可接受的特定格式后，我们从mlxtend库的frequent_patterns模块中引入apriori()函数来挖掘购物篮事务库中的频繁项集，代码如下"
   ]
  },
  {
   "cell_type": "code",
   "execution_count": 11,
   "id": "d3151b81",
   "metadata": {},
   "outputs": [],
   "source": [
    "from mlxtend.frequent_patterns import apriori\n",
    "items = apriori(df, min_support=0.4, use_colnames=True)"
   ]
  },
  {
   "cell_type": "markdown",
   "id": "999d8221",
   "metadata": {},
   "source": [
    "将处理好的数据传入apriori()函数，设置min_support参数为0.4，代表最小支持度为0.4，设置use_colnames参数为True，代表使用变量df的列名作为返回的频繁项集中项的名称，最后将挖掘出的频繁项集赋给变量items，此时items为所有符合最小支持度要求的频繁项集"
   ]
  },
  {
   "cell_type": "code",
   "execution_count": 12,
   "id": "85497ca0",
   "metadata": {},
   "outputs": [
    {
     "data": {
      "text/html": [
       "<div>\n",
       "<style scoped>\n",
       "    .dataframe tbody tr th:only-of-type {\n",
       "        vertical-align: middle;\n",
       "    }\n",
       "\n",
       "    .dataframe tbody tr th {\n",
       "        vertical-align: top;\n",
       "    }\n",
       "\n",
       "    .dataframe thead th {\n",
       "        text-align: right;\n",
       "    }\n",
       "</style>\n",
       "<table border=\"1\" class=\"dataframe\">\n",
       "  <thead>\n",
       "    <tr style=\"text-align: right;\">\n",
       "      <th></th>\n",
       "      <th>support</th>\n",
       "      <th>itemsets</th>\n",
       "    </tr>\n",
       "  </thead>\n",
       "  <tbody>\n",
       "    <tr>\n",
       "      <th>0</th>\n",
       "      <td>0.6</td>\n",
       "      <td>(A)</td>\n",
       "    </tr>\n",
       "    <tr>\n",
       "      <th>1</th>\n",
       "      <td>1.0</td>\n",
       "      <td>(B)</td>\n",
       "    </tr>\n",
       "    <tr>\n",
       "      <th>2</th>\n",
       "      <td>0.8</td>\n",
       "      <td>(C)</td>\n",
       "    </tr>\n",
       "    <tr>\n",
       "      <th>3</th>\n",
       "      <td>0.4</td>\n",
       "      <td>(D)</td>\n",
       "    </tr>\n",
       "    <tr>\n",
       "      <th>4</th>\n",
       "      <td>0.6</td>\n",
       "      <td>(B, A)</td>\n",
       "    </tr>\n",
       "    <tr>\n",
       "      <th>5</th>\n",
       "      <td>0.4</td>\n",
       "      <td>(C, A)</td>\n",
       "    </tr>\n",
       "    <tr>\n",
       "      <th>6</th>\n",
       "      <td>0.8</td>\n",
       "      <td>(C, B)</td>\n",
       "    </tr>\n",
       "    <tr>\n",
       "      <th>7</th>\n",
       "      <td>0.4</td>\n",
       "      <td>(D, B)</td>\n",
       "    </tr>\n",
       "    <tr>\n",
       "      <th>8</th>\n",
       "      <td>0.4</td>\n",
       "      <td>(D, C)</td>\n",
       "    </tr>\n",
       "    <tr>\n",
       "      <th>9</th>\n",
       "      <td>0.4</td>\n",
       "      <td>(B, C, A)</td>\n",
       "    </tr>\n",
       "    <tr>\n",
       "      <th>10</th>\n",
       "      <td>0.4</td>\n",
       "      <td>(D, C, B)</td>\n",
       "    </tr>\n",
       "  </tbody>\n",
       "</table>\n",
       "</div>"
      ],
      "text/plain": [
       "    support   itemsets\n",
       "0       0.6        (A)\n",
       "1       1.0        (B)\n",
       "2       0.8        (C)\n",
       "3       0.4        (D)\n",
       "4       0.6     (B, A)\n",
       "5       0.4     (C, A)\n",
       "6       0.8     (C, B)\n",
       "7       0.4     (D, B)\n",
       "8       0.4     (D, C)\n",
       "9       0.4  (B, C, A)\n",
       "10      0.4  (D, C, B)"
      ]
     },
     "execution_count": 12,
     "metadata": {},
     "output_type": "execute_result"
    }
   ],
   "source": [
    "items"
   ]
  },
  {
   "cell_type": "markdown",
   "id": "efd95907",
   "metadata": {},
   "source": [
    "通过如下代码可以查看长度大于等于2的频繁项集，其中主要利用的是pandas库中的apply()函数，其作用于itemsets列上并获取该列每一个项集的长度，即元素个数，然后判断该长度是否大于等于2并进行筛选。"
   ]
  },
  {
   "cell_type": "code",
   "execution_count": 14,
   "id": "0127b8ff",
   "metadata": {},
   "outputs": [
    {
     "data": {
      "text/html": [
       "<div>\n",
       "<style scoped>\n",
       "    .dataframe tbody tr th:only-of-type {\n",
       "        vertical-align: middle;\n",
       "    }\n",
       "\n",
       "    .dataframe tbody tr th {\n",
       "        vertical-align: top;\n",
       "    }\n",
       "\n",
       "    .dataframe thead th {\n",
       "        text-align: right;\n",
       "    }\n",
       "</style>\n",
       "<table border=\"1\" class=\"dataframe\">\n",
       "  <thead>\n",
       "    <tr style=\"text-align: right;\">\n",
       "      <th></th>\n",
       "      <th>support</th>\n",
       "      <th>itemsets</th>\n",
       "    </tr>\n",
       "  </thead>\n",
       "  <tbody>\n",
       "    <tr>\n",
       "      <th>4</th>\n",
       "      <td>0.6</td>\n",
       "      <td>(B, A)</td>\n",
       "    </tr>\n",
       "    <tr>\n",
       "      <th>5</th>\n",
       "      <td>0.4</td>\n",
       "      <td>(C, A)</td>\n",
       "    </tr>\n",
       "    <tr>\n",
       "      <th>6</th>\n",
       "      <td>0.8</td>\n",
       "      <td>(C, B)</td>\n",
       "    </tr>\n",
       "    <tr>\n",
       "      <th>7</th>\n",
       "      <td>0.4</td>\n",
       "      <td>(D, B)</td>\n",
       "    </tr>\n",
       "    <tr>\n",
       "      <th>8</th>\n",
       "      <td>0.4</td>\n",
       "      <td>(D, C)</td>\n",
       "    </tr>\n",
       "    <tr>\n",
       "      <th>9</th>\n",
       "      <td>0.4</td>\n",
       "      <td>(B, C, A)</td>\n",
       "    </tr>\n",
       "    <tr>\n",
       "      <th>10</th>\n",
       "      <td>0.4</td>\n",
       "      <td>(D, C, B)</td>\n",
       "    </tr>\n",
       "  </tbody>\n",
       "</table>\n",
       "</div>"
      ],
      "text/plain": [
       "    support   itemsets\n",
       "4       0.6     (B, A)\n",
       "5       0.4     (C, A)\n",
       "6       0.8     (C, B)\n",
       "7       0.4     (D, B)\n",
       "8       0.4     (D, C)\n",
       "9       0.4  (B, C, A)\n",
       "10      0.4  (D, C, B)"
      ]
     },
     "execution_count": 14,
     "metadata": {},
     "output_type": "execute_result"
    }
   ],
   "source": [
    "items[items['itemsets'].apply(lambda x: len(x)) >= 2]"
   ]
  },
  {
   "cell_type": "markdown",
   "id": "db9346dd",
   "metadata": {},
   "source": [
    "根据最小置信度在频繁项集中挖掘强关联规则，代码如下"
   ]
  },
  {
   "cell_type": "code",
   "execution_count": 15,
   "id": "80d04f3b",
   "metadata": {},
   "outputs": [],
   "source": [
    "from mlxtend.frequent_patterns import association_rules\n",
    "rules = association_rules(items, min_threshold=0.8)"
   ]
  },
  {
   "cell_type": "markdown",
   "id": "794757be",
   "metadata": {},
   "source": [
    "将得到的频繁项集数据传入association_rules()函数，设置min_threshold参数为0.8，代表将最小置信度设置为0.8，最后将挖掘出的强关联规则赋给变量rules，其结果如下图所示"
   ]
  },
  {
   "cell_type": "code",
   "execution_count": 16,
   "id": "c2aa0ce4",
   "metadata": {
    "scrolled": true
   },
   "outputs": [
    {
     "data": {
      "text/html": [
       "<div>\n",
       "<style scoped>\n",
       "    .dataframe tbody tr th:only-of-type {\n",
       "        vertical-align: middle;\n",
       "    }\n",
       "\n",
       "    .dataframe tbody tr th {\n",
       "        vertical-align: top;\n",
       "    }\n",
       "\n",
       "    .dataframe thead th {\n",
       "        text-align: right;\n",
       "    }\n",
       "</style>\n",
       "<table border=\"1\" class=\"dataframe\">\n",
       "  <thead>\n",
       "    <tr style=\"text-align: right;\">\n",
       "      <th></th>\n",
       "      <th>antecedents</th>\n",
       "      <th>consequents</th>\n",
       "      <th>antecedent support</th>\n",
       "      <th>consequent support</th>\n",
       "      <th>support</th>\n",
       "      <th>confidence</th>\n",
       "      <th>lift</th>\n",
       "      <th>leverage</th>\n",
       "      <th>conviction</th>\n",
       "    </tr>\n",
       "  </thead>\n",
       "  <tbody>\n",
       "    <tr>\n",
       "      <th>0</th>\n",
       "      <td>(A)</td>\n",
       "      <td>(B)</td>\n",
       "      <td>0.6</td>\n",
       "      <td>1.0</td>\n",
       "      <td>0.6</td>\n",
       "      <td>1.0</td>\n",
       "      <td>1.00</td>\n",
       "      <td>0.00</td>\n",
       "      <td>inf</td>\n",
       "    </tr>\n",
       "    <tr>\n",
       "      <th>1</th>\n",
       "      <td>(C)</td>\n",
       "      <td>(B)</td>\n",
       "      <td>0.8</td>\n",
       "      <td>1.0</td>\n",
       "      <td>0.8</td>\n",
       "      <td>1.0</td>\n",
       "      <td>1.00</td>\n",
       "      <td>0.00</td>\n",
       "      <td>inf</td>\n",
       "    </tr>\n",
       "    <tr>\n",
       "      <th>2</th>\n",
       "      <td>(B)</td>\n",
       "      <td>(C)</td>\n",
       "      <td>1.0</td>\n",
       "      <td>0.8</td>\n",
       "      <td>0.8</td>\n",
       "      <td>0.8</td>\n",
       "      <td>1.00</td>\n",
       "      <td>0.00</td>\n",
       "      <td>1.0</td>\n",
       "    </tr>\n",
       "    <tr>\n",
       "      <th>3</th>\n",
       "      <td>(D)</td>\n",
       "      <td>(B)</td>\n",
       "      <td>0.4</td>\n",
       "      <td>1.0</td>\n",
       "      <td>0.4</td>\n",
       "      <td>1.0</td>\n",
       "      <td>1.00</td>\n",
       "      <td>0.00</td>\n",
       "      <td>inf</td>\n",
       "    </tr>\n",
       "    <tr>\n",
       "      <th>4</th>\n",
       "      <td>(D)</td>\n",
       "      <td>(C)</td>\n",
       "      <td>0.4</td>\n",
       "      <td>0.8</td>\n",
       "      <td>0.4</td>\n",
       "      <td>1.0</td>\n",
       "      <td>1.25</td>\n",
       "      <td>0.08</td>\n",
       "      <td>inf</td>\n",
       "    </tr>\n",
       "    <tr>\n",
       "      <th>5</th>\n",
       "      <td>(C, A)</td>\n",
       "      <td>(B)</td>\n",
       "      <td>0.4</td>\n",
       "      <td>1.0</td>\n",
       "      <td>0.4</td>\n",
       "      <td>1.0</td>\n",
       "      <td>1.00</td>\n",
       "      <td>0.00</td>\n",
       "      <td>inf</td>\n",
       "    </tr>\n",
       "    <tr>\n",
       "      <th>6</th>\n",
       "      <td>(D, C)</td>\n",
       "      <td>(B)</td>\n",
       "      <td>0.4</td>\n",
       "      <td>1.0</td>\n",
       "      <td>0.4</td>\n",
       "      <td>1.0</td>\n",
       "      <td>1.00</td>\n",
       "      <td>0.00</td>\n",
       "      <td>inf</td>\n",
       "    </tr>\n",
       "    <tr>\n",
       "      <th>7</th>\n",
       "      <td>(D, B)</td>\n",
       "      <td>(C)</td>\n",
       "      <td>0.4</td>\n",
       "      <td>0.8</td>\n",
       "      <td>0.4</td>\n",
       "      <td>1.0</td>\n",
       "      <td>1.25</td>\n",
       "      <td>0.08</td>\n",
       "      <td>inf</td>\n",
       "    </tr>\n",
       "    <tr>\n",
       "      <th>8</th>\n",
       "      <td>(D)</td>\n",
       "      <td>(C, B)</td>\n",
       "      <td>0.4</td>\n",
       "      <td>0.8</td>\n",
       "      <td>0.4</td>\n",
       "      <td>1.0</td>\n",
       "      <td>1.25</td>\n",
       "      <td>0.08</td>\n",
       "      <td>inf</td>\n",
       "    </tr>\n",
       "  </tbody>\n",
       "</table>\n",
       "</div>"
      ],
      "text/plain": [
       "  antecedents consequents  antecedent support  ...  lift  leverage  conviction\n",
       "0         (A)         (B)                 0.6  ...  1.00      0.00         inf\n",
       "1         (C)         (B)                 0.8  ...  1.00      0.00         inf\n",
       "2         (B)         (C)                 1.0  ...  1.00      0.00         1.0\n",
       "3         (D)         (B)                 0.4  ...  1.00      0.00         inf\n",
       "4         (D)         (C)                 0.4  ...  1.25      0.08         inf\n",
       "5      (C, A)         (B)                 0.4  ...  1.00      0.00         inf\n",
       "6      (D, C)         (B)                 0.4  ...  1.00      0.00         inf\n",
       "7      (D, B)         (C)                 0.4  ...  1.25      0.08         inf\n",
       "8         (D)      (C, B)                 0.4  ...  1.25      0.08         inf\n",
       "\n",
       "[9 rows x 9 columns]"
      ]
     },
     "execution_count": 16,
     "metadata": {},
     "output_type": "execute_result"
    }
   ],
   "source": [
    "rules"
   ]
  },
  {
   "cell_type": "markdown",
   "id": "6367a57b",
   "metadata": {},
   "source": [
    "以第1条关联规则{A}→{B}为例讲解各列的含义。antecedents列代表关联规则中的前件，如关联规则{A}→{B}中的{A}；consequents列代表关联规则中的后件，如关联规则{A}→{B}中的{B}；antecedent support列代表前件的支持度，例如，A共出现3次（共5笔事务），所以关联前件支持度为3/5＝0.6；consequent support列代表后件的支持度，例如，B共出现5次，所以关联后件支持度为5/5＝1；support列代表该关联规则的支持度，例如，{A，B}共出现3次，所以关联规则的支持度为3/5＝0.6；confidence列代表该关联规则的置信度，除了用15.1.1小节中的公式计算外，还可以用“关联规则支持度/前件支持度”来计算，如下所示，代入数值为（3/5）÷（3/5）＝1。"
   ]
  },
  {
   "cell_type": "markdown",
   "id": "17cc7232",
   "metadata": {},
   "source": [
    "通过如下代码提取results中的关联规则，并通过字符串拼接来更好地呈现关联规则。"
   ]
  },
  {
   "cell_type": "code",
   "execution_count": 21,
   "id": "1f67f833",
   "metadata": {},
   "outputs": [
    {
     "name": "stdout",
     "output_type": "stream",
     "text": [
      "A——>B\n",
      "C——>B\n",
      "B——>C\n",
      "D——>B\n",
      "D——>C\n",
      "C,A——>B\n",
      "D,C——>B\n",
      "D,B——>C\n",
      "D——>C,B\n"
     ]
    }
   ],
   "source": [
    "for i, j in rules.iterrows(): # 遍历DataFrame的每一行\n",
    "    X = j['antecedents'] # 关联规则前件\n",
    "    Y = j['consequents'] # 关联规则后件\n",
    "    x = ','.join([item for item in X]) # 连接前件中的元素\n",
    "    y = ','.join([item for item in Y]) # 连接后件中的元素\n",
    "    if x != '': # 防止出现关联规则中前件为空的情况\n",
    "        print(x + '——>' + y) # 通过字符串拼接来更好地呈现结果"
   ]
  },
  {
   "cell_type": "markdown",
   "id": "98b82152",
   "metadata": {},
   "source": [
    "9条强关联规则都捕捉到了。\n",
    "\n",
    "**总体来说，通过apyori库和mlxtend库都能方便地进行关联规则分析，在实际应用中，两者的差别并不大。如果追求简便性，推荐使用apyori库；如果想获得更严谨的结果，则推荐使用mlxtend库。**"
   ]
  }
 ],
 "metadata": {
  "kernelspec": {
   "display_name": "Python 3 (ipykernel)",
   "language": "python",
   "name": "python3"
  },
  "language_info": {
   "codemirror_mode": {
    "name": "ipython",
    "version": 3
   },
   "file_extension": ".py",
   "mimetype": "text/x-python",
   "name": "python",
   "nbconvert_exporter": "python",
   "pygments_lexer": "ipython3",
   "version": "3.9.7"
  }
 },
 "nbformat": 4,
 "nbformat_minor": 5
}
