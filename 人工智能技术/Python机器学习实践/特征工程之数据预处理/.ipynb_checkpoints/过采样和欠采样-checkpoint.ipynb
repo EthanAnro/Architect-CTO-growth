{
 "cells": [
  {
   "cell_type": "markdown",
   "id": "33c0d0a1",
   "metadata": {},
   "source": [
    "建立模型时，可能会遇到正负样本比例极度不均衡的情况。例如，建立信用违约模型时，违约样本的比例远小于不违约样本的比例，此时模型会花更多精力去拟合不违约样本，但实际上找出违约样本更为重要。这会导致模型可能在训练集上表现良好，但测试时表现不佳。为了改善样本比例不均衡的问题，可以使用过采样和欠采样的方法。\n",
    "> 场景假设：建立信用违约模型时，样本数据中有1000个不违约样本和100个违约样本"
   ]
  },
  {
   "cell_type": "markdown",
   "id": "9dc4b494",
   "metadata": {},
   "source": [
    "## 一、过采样\n",
    "### 1、过采样的原理\n",
    "#### （1）随机过采样\n",
    "随机过采样是从100个违约样本中随机抽取旧样本作为一个新样本，共反复抽取900次，然后和原来的100个旧样本组合成新的1000个违约样本，和1000个不违约样本一起构成新的训练集。但因为随机过采样重复地选取了违约样本，所以有可能造成对违约样本的过拟合。\n",
    "#### （2）SMOTE法过采样\n",
    "SMOTE法过采样即合成少数类过采样技术，它是一种针对随机过采样容易导致过拟合问题的改进方案。\n",
    "> 假设对少数类进行4倍过采样\n",
    "![SMOTE过采样](image/SMOTE过采样.png)"
   ]
  },
  {
   "cell_type": "markdown",
   "id": "4825c5cb",
   "metadata": {},
   "source": [
    "### 2、过采样的代码实现"
   ]
  },
  {
   "cell_type": "code",
   "execution_count": 2,
   "id": "aa740da8",
   "metadata": {
    "scrolled": true
   },
   "outputs": [
    {
     "data": {
      "text/html": [
       "<div>\n",
       "<style scoped>\n",
       "    .dataframe tbody tr th:only-of-type {\n",
       "        vertical-align: middle;\n",
       "    }\n",
       "\n",
       "    .dataframe tbody tr th {\n",
       "        vertical-align: top;\n",
       "    }\n",
       "\n",
       "    .dataframe thead th {\n",
       "        text-align: right;\n",
       "    }\n",
       "</style>\n",
       "<table border=\"1\" class=\"dataframe\">\n",
       "  <thead>\n",
       "    <tr style=\"text-align: right;\">\n",
       "      <th></th>\n",
       "      <th>编号</th>\n",
       "      <th>年龄</th>\n",
       "      <th>负债比率</th>\n",
       "      <th>月收入</th>\n",
       "      <th>贷款数量</th>\n",
       "      <th>家属人数</th>\n",
       "      <th>分类</th>\n",
       "    </tr>\n",
       "  </thead>\n",
       "  <tbody>\n",
       "    <tr>\n",
       "      <th>0</th>\n",
       "      <td>1</td>\n",
       "      <td>29</td>\n",
       "      <td>0.22</td>\n",
       "      <td>7800</td>\n",
       "      <td>1</td>\n",
       "      <td>3</td>\n",
       "      <td>0</td>\n",
       "    </tr>\n",
       "    <tr>\n",
       "      <th>1</th>\n",
       "      <td>2</td>\n",
       "      <td>52</td>\n",
       "      <td>0.46</td>\n",
       "      <td>4650</td>\n",
       "      <td>1</td>\n",
       "      <td>0</td>\n",
       "      <td>0</td>\n",
       "    </tr>\n",
       "    <tr>\n",
       "      <th>2</th>\n",
       "      <td>3</td>\n",
       "      <td>28</td>\n",
       "      <td>0.10</td>\n",
       "      <td>3000</td>\n",
       "      <td>0</td>\n",
       "      <td>0</td>\n",
       "      <td>0</td>\n",
       "    </tr>\n",
       "    <tr>\n",
       "      <th>3</th>\n",
       "      <td>4</td>\n",
       "      <td>29</td>\n",
       "      <td>0.20</td>\n",
       "      <td>5916</td>\n",
       "      <td>0</td>\n",
       "      <td>0</td>\n",
       "      <td>0</td>\n",
       "    </tr>\n",
       "    <tr>\n",
       "      <th>4</th>\n",
       "      <td>5</td>\n",
       "      <td>27</td>\n",
       "      <td>1.28</td>\n",
       "      <td>1300</td>\n",
       "      <td>0</td>\n",
       "      <td>0</td>\n",
       "      <td>1</td>\n",
       "    </tr>\n",
       "  </tbody>\n",
       "</table>\n",
       "</div>"
      ],
      "text/plain": [
       "   编号  年龄  负债比率   月收入  贷款数量  家属人数  分类\n",
       "0   1  29  0.22  7800     1     3   0\n",
       "1   2  52  0.46  4650     1     0   0\n",
       "2   3  28  0.10  3000     0     0   0\n",
       "3   4  29  0.20  5916     0     0   0\n",
       "4   5  27  1.28  1300     0     0   1"
      ]
     },
     "execution_count": 2,
     "metadata": {},
     "output_type": "execute_result"
    }
   ],
   "source": [
    "# 读取数据\n",
    "import pandas as pd\n",
    "data = pd.read_excel('datasets/信用卡数据.xlsx')\n",
    "data.head()"
   ]
  },
  {
   "cell_type": "code",
   "execution_count": 3,
   "id": "1a904faa",
   "metadata": {},
   "outputs": [
    {
     "data": {
      "text/plain": [
       "Counter({0: 1000, 1: 100})"
      ]
     },
     "execution_count": 3,
     "metadata": {},
     "output_type": "execute_result"
    }
   ],
   "source": [
    "# 提取特征变量和目标变量\n",
    "x = data.drop(columns='分类')\n",
    "y = data['分类']\n",
    "# 用collections库中的Counter()函数对目标变量进行计数\n",
    "from collections import Counter\n",
    "Counter(y)"
   ]
  },
  {
   "cell_type": "markdown",
   "id": "f08c0c77",
   "metadata": {},
   "source": [
    "结果显示：不违约样本数为1000，远远大于违约样本数100"
   ]
  },
  {
   "cell_type": "markdown",
   "id": "184cbbcd",
   "metadata": {},
   "source": [
    "#### （1）随机过采样\n",
    "安装imlearn库，imblearn库是Python中专门用来处理数据不均衡问题的工具库"
   ]
  },
  {
   "cell_type": "code",
   "execution_count": 5,
   "id": "63b8b1c0",
   "metadata": {},
   "outputs": [
    {
     "name": "stdout",
     "output_type": "stream",
     "text": [
      "Collecting imbalanced-learn\n",
      "  Downloading imbalanced_learn-0.9.1-py3-none-any.whl (199 kB)\n",
      "\u001b[K     |████████████████████████████████| 199 kB 906 kB/s eta 0:00:01\n",
      "\u001b[?25hRequirement already satisfied: scipy>=1.3.2 in /Users/dayao/opt/anaconda3/lib/python3.9/site-packages (from imbalanced-learn) (1.9.2)\n",
      "Requirement already satisfied: scikit-learn>=1.1.0 in /Users/dayao/opt/anaconda3/lib/python3.9/site-packages (from imbalanced-learn) (1.1.2)\n",
      "Requirement already satisfied: threadpoolctl>=2.0.0 in /Users/dayao/opt/anaconda3/lib/python3.9/site-packages (from imbalanced-learn) (3.1.0)\n",
      "Requirement already satisfied: numpy>=1.17.3 in /Users/dayao/opt/anaconda3/lib/python3.9/site-packages (from imbalanced-learn) (1.23.3)\n",
      "Requirement already satisfied: joblib>=1.0.0 in /Users/dayao/opt/anaconda3/lib/python3.9/site-packages (from imbalanced-learn) (1.2.0)\n",
      "Installing collected packages: imbalanced-learn\n",
      "Successfully installed imbalanced-learn-0.9.1\n"
     ]
    }
   ],
   "source": [
    "!pip install  imbalanced-learn"
   ]
  },
  {
   "cell_type": "code",
   "execution_count": 8,
   "id": "3449075b",
   "metadata": {},
   "outputs": [],
   "source": [
    "from imblearn.over_sampling import RandomOverSampler # 从imblearn库中引入用来进行随机过采样的RandomOverSampler()函数\n",
    "ros = RandomOverSampler(random_state=0) # 设置RandomOverSampler()函数的参数random_state为0（此数字没有特殊含义，可以换成其他数字），使得每次代码运行的结果保持一致\n",
    "x_oversampled, y_oversampled = ros.fit_resample(x, y) # 使用原始数据的特征变量和目标变量生成过采样数据集，并分别赋给变量X_oversampled和y_oversampled"
   ]
  },
  {
   "cell_type": "code",
   "execution_count": 9,
   "id": "a6c667b8",
   "metadata": {
    "scrolled": true
   },
   "outputs": [
    {
     "data": {
      "text/plain": [
       "Counter({0: 1000, 1: 1000})"
      ]
     },
     "execution_count": 9,
     "metadata": {},
     "output_type": "execute_result"
    }
   ],
   "source": [
    "# 检验随机过采样的效果\n",
    "Counter(y_oversampled)"
   ]
  },
  {
   "cell_type": "code",
   "execution_count": 20,
   "id": "f0b12330",
   "metadata": {
    "scrolled": false
   },
   "outputs": [
    {
     "data": {
      "text/plain": [
       "(2000, 6)"
      ]
     },
     "execution_count": 20,
     "metadata": {},
     "output_type": "execute_result"
    }
   ],
   "source": [
    "# 结果的2000就是违约样本数1000和不违约样本数1000之和，随机过采样后特征变量的数据也随之增多\n",
    "x_oversampled.shape"
   ]
  },
  {
   "cell_type": "markdown",
   "id": "5b172032",
   "metadata": {},
   "source": [
    "#### （2）SMOTE法过采样"
   ]
  },
  {
   "cell_type": "code",
   "execution_count": 11,
   "id": "92fda653",
   "metadata": {},
   "outputs": [],
   "source": [
    "from imblearn.over_sampling import SMOTE # 从imblearn库中引入用于进行SMOTE法过采样的SMOTE()函数\n",
    "smote = SMOTE(random_state=0) # 设置SMOTE()函数的参数random_state为0（此数字没有特殊含义，可以换成其他数字），使得每次代码运行的结果保持一致\n",
    "x_smotsampled, y_smotsampled = smote.fit_resample(x, y) # 使用原始数据的特征变量和目标变量生成过采样数据集并分别赋给变量x_smotesampled和y_smotesampled"
   ]
  },
  {
   "cell_type": "code",
   "execution_count": 13,
   "id": "9560b1b8",
   "metadata": {},
   "outputs": [
    {
     "data": {
      "text/plain": [
       "Counter({0: 1000, 1: 1000})"
      ]
     },
     "execution_count": 13,
     "metadata": {},
     "output_type": "execute_result"
    }
   ],
   "source": [
    "# 检验随机过采样的效果\n",
    "Counter(y_oversampled)"
   ]
  },
  {
   "cell_type": "markdown",
   "id": "bf92831f",
   "metadata": {},
   "source": [
    "## 二、欠采样\n",
    "### 1、欠采样的原理\n",
    "欠采样是从1000个不违约样本中随机选取100个样本，和100个违约样本一起构成新的训练集。欠采样抛弃了大部分不违约样本，在搭建模型时有可能产生欠拟合。\n",
    "\n",
    "### 2、欠采样的代码实现"
   ]
  },
  {
   "cell_type": "code",
   "execution_count": 18,
   "id": "ac4f2c2c",
   "metadata": {},
   "outputs": [],
   "source": [
    "from imblearn.under_sampling import RandomUnderSampler # 从imblearn库中引入用于进行随机欠采样的RandomUnderSampler()函数\n",
    "rus = RandomUnderSampler(random_state=0) # 设置RandomUnderSampler()函数的参数random_state为0（此数字没有特殊含义，可以换成其他数字），使得每次代码运行的结果保持一致\n",
    "x_undersampled, y_undersampled = rus.fit_resample(x, y) # 使用原始数据的特征变量和目标变量生成欠采样数据集并分别赋给变量x_undersampled和y_undersampled"
   ]
  },
  {
   "cell_type": "code",
   "execution_count": 19,
   "id": "769f97f8",
   "metadata": {},
   "outputs": [
    {
     "data": {
      "text/plain": [
       "Counter({0: 100, 1: 100})"
      ]
     },
     "execution_count": 19,
     "metadata": {},
     "output_type": "execute_result"
    }
   ],
   "source": [
    "# 用Counter()函数检验一下随机欠采样的效果\n",
    "Counter(y_undersampled)"
   ]
  },
  {
   "cell_type": "markdown",
   "id": "4fc15a94",
   "metadata": {},
   "source": [
    "不违约样本数从1000下降至100，与违约样本数相同，证明随机欠采样有效"
   ]
  },
  {
   "cell_type": "code",
   "execution_count": 21,
   "id": "a323cacf",
   "metadata": {},
   "outputs": [
    {
     "data": {
      "text/plain": [
       "(200, 6)"
      ]
     },
     "execution_count": 21,
     "metadata": {},
     "output_type": "execute_result"
    }
   ],
   "source": [
    "# 结果的200就是违约样本数100和不违约样本数100之和，可以看到，随机欠采样后特征变量的数据也随之减少\n",
    "x_undersampled.shape"
   ]
  },
  {
   "cell_type": "markdown",
   "id": "fcad82e5",
   "metadata": {},
   "source": [
    "## 总结"
   ]
  },
  {
   "cell_type": "markdown",
   "id": "bec3b1cb",
   "metadata": {},
   "source": [
    "在实战中处理样本不均衡问题时，如果样本数据量不大，通常使用过采样，因为这样能更好地利用数据，不会像欠采样那样很多数据都没有使用到；如果数据量充足，则过采样和欠采样都可以考虑使用。"
   ]
  }
 ],
 "metadata": {
  "kernelspec": {
   "display_name": "Python 3 (ipykernel)",
   "language": "python",
   "name": "python3"
  },
  "language_info": {
   "codemirror_mode": {
    "name": "ipython",
    "version": 3
   },
   "file_extension": ".py",
   "mimetype": "text/x-python",
   "name": "python",
   "nbconvert_exporter": "python",
   "pygments_lexer": "ipython3",
   "version": "3.9.7"
  }
 },
 "nbformat": 4,
 "nbformat_minor": 5
}
