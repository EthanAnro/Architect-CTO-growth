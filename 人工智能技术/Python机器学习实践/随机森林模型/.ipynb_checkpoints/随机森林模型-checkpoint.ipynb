{
 "cells": [
  {
   "cell_type": "markdown",
   "id": "196261b8",
   "metadata": {},
   "source": [
    "## 集成学习模型\n",
    "我们常说“团结就是力量”，集成学习采用的其实就是这一思想：将多个模型组合在一起，从而产生更强大的模型。随机"
   ]
  },
  {
   "cell_type": "code",
   "execution_count": null,
   "id": "32d877d2",
   "metadata": {},
   "outputs": [],
   "source": [
    "#随机森林分类"
   ]
  },
  {
   "cell_type": "code",
   "execution_count": 6,
   "id": "085c467e",
   "metadata": {
    "scrolled": true
   },
   "outputs": [
    {
     "name": "stdout",
     "output_type": "stream",
     "text": [
      "[0]\n"
     ]
    }
   ],
   "source": [
    "from sklearn.ensemble import RandomForestClassifier\n",
    "x = [[1,2], [3,4], [5,6], [7,8], [9,10]]\n",
    "y = [0, 0, 0, 1, 1]\n",
    "\n",
    "model = RandomForestClassifier(n_estimators=10, random_state=123)\n",
    "model.fit(x, y)\n",
    "\n",
    "print(model.predict([[5,5]]))"
   ]
  },
  {
   "cell_type": "code",
   "execution_count": null,
   "id": "432a0a5d",
   "metadata": {},
   "outputs": [],
   "source": [
    "#随机森林回归"
   ]
  },
  {
   "cell_type": "code",
   "execution_count": 8,
   "id": "3ac27131",
   "metadata": {},
   "outputs": [
    {
     "name": "stdout",
     "output_type": "stream",
     "text": [
      "[2.8]\n"
     ]
    }
   ],
   "source": [
    "from sklearn.ensemble import RandomForestRegressor\n",
    "x = [[1,2], [3,4], [5,6], [7,8], [9,10]]\n",
    "y = [1, 2, 3, 4, 5]\n",
    "\n",
    "model = RandomForestRegressor(n_estimators=10, random_state=123)\n",
    "model.fit(x, y)\n",
    "\n",
    "print(model.predict([[5,5]]))"
   ]
  }
 ],
 "metadata": {
  "kernelspec": {
   "display_name": "Python 3 (ipykernel)",
   "language": "python",
   "name": "python3"
  },
  "language_info": {
   "codemirror_mode": {
    "name": "ipython",
    "version": 3
   },
   "file_extension": ".py",
   "mimetype": "text/x-python",
   "name": "python",
   "nbconvert_exporter": "python",
   "pygments_lexer": "ipython3",
   "version": "3.9.7"
  }
 },
 "nbformat": 4,
 "nbformat_minor": 5
}
