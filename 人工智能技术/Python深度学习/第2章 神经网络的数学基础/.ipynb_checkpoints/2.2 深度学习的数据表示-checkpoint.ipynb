{
 "cells": [
  {
   "cell_type": "markdown",
   "id": "66d177e7",
   "metadata": {},
   "source": [
    "数据存储在多维NumPy数组中，也叫作张量（tensor）。一般来说，目前所有机器学习系统都使用张量作为基本数据结构。张量对这个领域非常重要，重要到TensorFlow都以它来命名。\n",
    "\n",
    "**张量这一概念的核心在于，它是一个数据容器。它包含的数据通常是数值数据，因此它是一个数字容器**。我们熟悉的矩阵是2阶张量。张量是矩阵向任意维度的推广，张量的维度通常叫作轴（axis）。\n",
    "\n",
    "## 2.21 标量（0阶张量）\n",
    "仅包含一个数字的张量叫作标量（scalar），也叫标量张量、0阶张量或0维张量。在NumPy中，一个float32类型或float64类型的数字就是一个标量张量（或标量数组）。可以用ndim属性来查看NumPy张量的轴的个数。标量张量有0个轴（ndim == 0）。张量轴的个数也叫作阶（rank）。\n",
    "#### Numpy标量"
   ]
  },
  {
   "cell_type": "code",
   "execution_count": 1,
   "id": "8bfc2e96",
   "metadata": {
    "scrolled": false
   },
   "outputs": [
    {
     "data": {
      "text/plain": [
       "array(12)"
      ]
     },
     "execution_count": 1,
     "metadata": {},
     "output_type": "execute_result"
    }
   ],
   "source": [
    "import numpy as np\n",
    "x = np.array(12)\n",
    "x"
   ]
  },
  {
   "cell_type": "code",
   "execution_count": 2,
   "id": "23350dc3",
   "metadata": {},
   "outputs": [
    {
     "data": {
      "text/plain": [
       "0"
      ]
     },
     "execution_count": 2,
     "metadata": {},
     "output_type": "execute_result"
    }
   ],
   "source": [
    "x.ndim"
   ]
  },
  {
   "cell_type": "markdown",
   "id": "df82fd68",
   "metadata": {},
   "source": [
    "## 2.2.2　向量（1阶张量）\n",
    "数字组成的数组叫作向量（vector），也叫1阶张量或1维张量。1阶张量只有一个轴。\n",
    "#### Numpy向量"
   ]
  },
  {
   "cell_type": "code",
   "execution_count": 3,
   "id": "7b27d55a",
   "metadata": {},
   "outputs": [
    {
     "data": {
      "text/plain": [
       "array([12,  3,  6, 14,  7])"
      ]
     },
     "execution_count": 3,
     "metadata": {},
     "output_type": "execute_result"
    }
   ],
   "source": [
    "x = np.array([12, 3, 6, 14, 7])\n",
    "x"
   ]
  },
  {
   "cell_type": "code",
   "execution_count": 4,
   "id": "8fd6b8d8",
   "metadata": {},
   "outputs": [
    {
     "data": {
      "text/plain": [
       "1"
      ]
     },
     "execution_count": 4,
     "metadata": {},
     "output_type": "execute_result"
    }
   ],
   "source": [
    "x.ndim"
   ]
  },
  {
   "cell_type": "markdown",
   "id": "7d7d2107",
   "metadata": {},
   "source": [
    "这个向量包含5个元素，所以叫作5维向量。不要把5维向量和5维张量混为一谈！5维向量只有一个轴，沿着这个轴有5个维度，而5维张量有5个轴（沿着每个轴可能有任意个维度）。维度（dimensionality）既可以表示沿着某个轴上的元素个数（比如5维向量），也可以表示张量的轴的个数（比如5维张量），这有时会令人困惑。对于后一种情况，更准确的术语是5阶张量（张量的阶数即轴的个数），但5维张量这种模糊的说法很常见。"
   ]
  },
  {
   "cell_type": "markdown",
   "id": "629b49a3",
   "metadata": {},
   "source": [
    "## 2.2.3　矩阵（2阶张量）\n",
    "向量组成的数组叫作矩阵（matrix），也叫2阶张量或2维张量。矩阵有2个轴（通常叫作行和列）。可以将矩阵直观地理解为矩形的数字网格。\n",
    "#### Numpy矩阵"
   ]
  },
  {
   "cell_type": "code",
   "execution_count": 5,
   "id": "ee57aecb",
   "metadata": {},
   "outputs": [
    {
     "data": {
      "text/plain": [
       "array([[ 5, 78,  2, 34,  0],\n",
       "       [ 6, 79,  3, 35,  1],\n",
       "       [ 7, 80,  4, 36,  2]])"
      ]
     },
     "execution_count": 5,
     "metadata": {},
     "output_type": "execute_result"
    }
   ],
   "source": [
    "x = np.array([[5, 78, 2, 34, 0],\n",
    "              [6, 79, 3, 35, 1],\n",
    "              [7, 80, 4, 36, 2]])\n",
    "x"
   ]
  },
  {
   "cell_type": "code",
   "execution_count": 6,
   "id": "6c354898",
   "metadata": {},
   "outputs": [
    {
     "data": {
      "text/plain": [
       "2"
      ]
     },
     "execution_count": 6,
     "metadata": {},
     "output_type": "execute_result"
    }
   ],
   "source": [
    "x.ndim"
   ]
  },
  {
   "cell_type": "markdown",
   "id": "61dc0368",
   "metadata": {},
   "source": [
    "第一个轴上的元素叫作行（row），第二个轴上的元素叫作列（column）。如上，[5,78, 2, 34, 0]是x的第一行，[5, 6, 7]是第一列。"
   ]
  },
  {
   "cell_type": "markdown",
   "id": "35264dc3",
   "metadata": {},
   "source": [
    "## 2.2.4　3阶张量与更高阶的张量\n",
    "将多个矩阵打包成一个新的数组，就可以得到一个3阶张量（或称为3维张量），你可以将其直观地理解为数字组成的立方体。\n",
    "#### 3阶Numpy张量"
   ]
  },
  {
   "cell_type": "code",
   "execution_count": 7,
   "id": "ea7c1eab",
   "metadata": {
    "scrolled": true
   },
   "outputs": [
    {
     "data": {
      "text/plain": [
       "array([[[ 5, 78,  2, 34,  0],\n",
       "        [ 6, 79,  3, 35,  1],\n",
       "        [ 7, 80,  4, 36,  2]],\n",
       "\n",
       "       [[ 5, 78,  2, 34,  0],\n",
       "        [ 6, 79,  3, 35,  1],\n",
       "        [ 7, 80,  4, 36,  2]],\n",
       "\n",
       "       [[ 5, 78,  2, 34,  0],\n",
       "        [ 6, 79,  3, 35,  1],\n",
       "        [ 7, 80,  4, 36,  2]]])"
      ]
     },
     "execution_count": 7,
     "metadata": {},
     "output_type": "execute_result"
    }
   ],
   "source": [
    "x = np.array([[[5, 78, 2, 34, 0],\n",
    "               [6, 79, 3, 35, 1],\n",
    "               [7, 80, 4, 36, 2]],\n",
    "              [[5, 78, 2, 34, 0],\n",
    "               [6, 79, 3, 35, 1],\n",
    "               [7, 80, 4, 36, 2]],\n",
    "              [[5, 78, 2, 34, 0],\n",
    "               [6, 79, 3, 35, 1],\n",
    "               [7, 80, 4, 36, 2]]])\n",
    "x"
   ]
  },
  {
   "cell_type": "code",
   "execution_count": 8,
   "id": "590cf2dd",
   "metadata": {},
   "outputs": [
    {
     "data": {
      "text/plain": [
       "3"
      ]
     },
     "execution_count": 8,
     "metadata": {},
     "output_type": "execute_result"
    }
   ],
   "source": [
    "x.ndim"
   ]
  },
  {
   "cell_type": "markdown",
   "id": "6ee45c71",
   "metadata": {},
   "source": [
    "将多个3阶张量打包成一个数组，就可以创建一个4阶张量。\n",
    "\n",
    "**以此类推。深度学习处理的一般是0到4阶的张量，但处理视频数据时可能会遇到5阶张量。**"
   ]
  },
  {
   "cell_type": "markdown",
   "id": "e88ebcbb",
   "metadata": {},
   "source": [
    "## 2.2.5　关键属性\n",
    "张量是由以下3个关键属性来定义的。\n",
    "1. **轴的个数（阶数）**。举例来说，3阶张量有3个轴，矩阵有2个轴。这在NumPy或TensorFlow等Python库中也叫张量的ndim。\n",
    "2. **形状**。这是一个整数元组，表示张量沿每个轴的维度大小（元素个数）。举例来说，前面的矩阵示例的形状为(3, 5)，3阶张量示例的形状为(3, 3, 5)。向量的形状只包含一个元素，比如(5,)，而标量的形状为空，即()。\n",
    "3. **数据类型**（在Python库中通常叫作dtype）。这是张量中所包含数据的类型。举例来说，张量的类型可以是float16、float32、float64、uint8等。在TensorFlow中，还可能会遇到string类型的张量。"
   ]
  },
  {
   "cell_type": "markdown",
   "id": "c2e94fde",
   "metadata": {},
   "source": [
    "#### 示例：MNIST例子中处理的数据"
   ]
  },
  {
   "cell_type": "code",
   "execution_count": 9,
   "id": "29ccf373",
   "metadata": {},
   "outputs": [],
   "source": [
    "# 加载MNIST数据集\n",
    "from tensorflow.keras.datasets import mnist\n",
    "(train_images, train_labels), (test_images, test_labels) = mnist.load_data()"
   ]
  },
  {
   "cell_type": "code",
   "execution_count": 11,
   "id": "a0026142",
   "metadata": {
    "scrolled": true
   },
   "outputs": [
    {
     "data": {
      "text/plain": [
       "3"
      ]
     },
     "execution_count": 11,
     "metadata": {},
     "output_type": "execute_result"
    }
   ],
   "source": [
    "# 张量train_images的轴的个数，即ndim属性\n",
    "train_images.ndim"
   ]
  },
  {
   "cell_type": "code",
   "execution_count": 12,
   "id": "b23bbc60",
   "metadata": {},
   "outputs": [
    {
     "data": {
      "text/plain": [
       "(60000, 28, 28)"
      ]
     },
     "execution_count": 12,
     "metadata": {},
     "output_type": "execute_result"
    }
   ],
   "source": [
    "# 它的形状\n",
    "train_images.shape"
   ]
  },
  {
   "cell_type": "code",
   "execution_count": 13,
   "id": "7302d39f",
   "metadata": {},
   "outputs": [
    {
     "data": {
      "text/plain": [
       "dtype('uint8')"
      ]
     },
     "execution_count": 13,
     "metadata": {},
     "output_type": "execute_result"
    }
   ],
   "source": [
    "# 它的数据类型，即dtype属性\n",
    "train_images.dtype"
   ]
  },
  {
   "cell_type": "markdown",
   "id": "b6f04653",
   "metadata": {},
   "source": [
    "可见，train_images是一个由8位整数组成的3阶张量。更确切地说，它是由60 000个矩阵组成的数组，每个矩阵由28×28个整数组成。每个这样的矩阵都是一张灰度图像，元素取值在0和255之间。"
   ]
  },
  {
   "cell_type": "markdown",
   "id": "1a1a8e2f",
   "metadata": {},
   "source": [
    "#### 示例：用Matplotlib库来显示这个3阶张量中的第4个数字"
   ]
  },
  {
   "cell_type": "code",
   "execution_count": 14,
   "id": "da2e53c6",
   "metadata": {
    "scrolled": true
   },
   "outputs": [
    {
     "data": {
      "image/png": "[encoded data removed]",
      "text/plain": [
       "<Figure size 432x288 with 1 Axes>"
      ]
     },
     "metadata": {
      "needs_background": "light"
     },
     "output_type": "display_data"
    }
   ],
   "source": [
    "import matplotlib.pyplot as plt\n",
    "digit = train_images[4]\n",
    "plt.imshow(digit, cmap=plt.cm.binary)\n",
    "plt.show()"
   ]
  },
  {
   "cell_type": "code",
   "execution_count": 15,
   "id": "b569f067",
   "metadata": {},
   "outputs": [
    {
     "data": {
      "text/plain": [
       "9"
      ]
     },
     "execution_count": 15,
     "metadata": {},
     "output_type": "execute_result"
    }
   ],
   "source": [
    "# 可发现， 对应的标签是整数9\n",
    "train_labels[4]"
   ]
  },
  {
   "cell_type": "markdown",
   "id": "dc307518",
   "metadata": {},
   "source": [
    "## 2.2.6　在NumPy中操作张量\n",
    "在前面的例子中，使用语法train_images[i]来沿着第一个轴选择某张数字图像。选择张量的特定元素叫作张量切片（tensor slicing）。来看一下对NumPy数组可以做哪些张量切片运算。\n",
    "\n",
    "#### 示例：选择第10～100个数字（不包括第100个），并将它们放在一个形状为(90, 28, 28)的数组中"
   ]
  },
  {
   "cell_type": "code",
   "execution_count": 16,
   "id": "4da11f17",
   "metadata": {
    "scrolled": true
   },
   "outputs": [
    {
     "data": {
      "text/plain": [
       "(90, 28, 28)"
      ]
     },
     "execution_count": 16,
     "metadata": {},
     "output_type": "execute_result"
    }
   ],
   "source": [
    "my_slice = train_images[10:100]\n",
    "my_slice.shape"
   ]
  },
  {
   "cell_type": "code",
   "execution_count": 17,
   "id": "0b7d0fc1",
   "metadata": {},
   "outputs": [
    {
     "data": {
      "text/plain": [
       "(90, 28, 28)"
      ]
     },
     "execution_count": 17,
     "metadata": {},
     "output_type": "execute_result"
    }
   ],
   "source": [
    "# 等同于\n",
    "my_slice = train_images[10:100, :, :]\n",
    "my_slice.shape"
   ]
  },
  {
   "cell_type": "code",
   "execution_count": 18,
   "id": "2a9dd225",
   "metadata": {},
   "outputs": [
    {
     "data": {
      "text/plain": [
       "(90, 28, 28)"
      ]
     },
     "execution_count": 18,
     "metadata": {},
     "output_type": "execute_result"
    }
   ],
   "source": [
    "# 等同于\n",
    "my_slice = train_images[10:100, 0:28, 0:28]\n",
    "my_slice.shape"
   ]
  },
  {
   "cell_type": "code",
   "execution_count": 19,
   "id": "82ab262e",
   "metadata": {},
   "outputs": [
    {
     "data": {
      "text/plain": [
       "(60000, 14, 14)"
      ]
     },
     "execution_count": 19,
     "metadata": {},
     "output_type": "execute_result"
    }
   ],
   "source": [
    "# 可以沿着每个张量轴在任意两个索引之间选择切片。举例来说，要在所有图像的右下角选出14像素×14像素的区域\n",
    "my_slice = train_images[:,14:,14:]\n",
    "my_slice.shape"
   ]
  },
  {
   "cell_type": "markdown",
   "id": "cb768851",
   "metadata": {},
   "source": [
    "也可以使用负数索引。与Python列表类似，负数索引表示与当前轴终点的相对位置。要在图像中心裁剪出14像素×14像素的区域，可以这么做"
   ]
  },
  {
   "cell_type": "code",
   "execution_count": 20,
   "id": "bc057f3a",
   "metadata": {},
   "outputs": [
    {
     "data": {
      "text/plain": [
       "(60000, 14, 14)"
      ]
     },
     "execution_count": 20,
     "metadata": {},
     "output_type": "execute_result"
    }
   ],
   "source": [
    "my_slice = train_images[:,7:-7,7:-7]\n",
    "my_slice.shape"
   ]
  },
  {
   "cell_type": "markdown",
   "id": "a198c514",
   "metadata": {},
   "source": [
    "## 2.2.7　数据批量的概念\n",
    "通常来说，深度学习中所有数据张量的第一个轴（也就是轴0，因为索引从0开始）都是样本轴[samples axis，有时也叫样本维度（samples dimension）]。在MNIST例子中，样本就是数字图像。\n",
    "\n",
    "此外，深度学习模型不会一次性处理整个数据集，而是将数据拆分成小批量。具体来看，下面是MNIST数据集的一个批量，批量大小为128。"
   ]
  },
  {
   "cell_type": "code",
   "execution_count": 21,
   "id": "c46970f1",
   "metadata": {},
   "outputs": [],
   "source": [
    "batch = train_images[:128]\n",
    "# 然后是下一个批量\n",
    "batch = train_images[128:256]\n",
    "# 再然后是第n个批量\n",
    "n = 3\n",
    "batch = train_images[128*n:128*(n+1)]"
   ]
  },
  {
   "cell_type": "markdown",
   "id": "407ccf73",
   "metadata": {},
   "source": [
    "对于这种批量张量，第一个轴（轴0）叫作批量轴（batch axis）或批量维度（batch dimension）。在使用Keras和其他深度学习库时，你会经常遇到“批量轴”这个术语。"
   ]
  },
  {
   "cell_type": "markdown",
   "id": "7cacfa37",
   "metadata": {},
   "source": [
    "## 2.2.8　现实世界中的数据张量实例\n",
    "* **向量数据**：形状为(samples, features)的2阶张量，每个样本都是一个数值（“特征”）向量。\n",
    "* **时间序列数据或序列数据**：形状为(samples, timesteps, features)的3阶张量，每个样本都是特征向量组成的序列（序列长度为timesteps）。\n",
    "* **图像数据**：形状为(samples, height, width, channels)的4阶张量，每个样本都是一个二维像素网格，每个像素则由一个“通道”（channel）向量表示。\n",
    "* **视频数据**：形状为(samples, frames, height, width, channels)的5阶张量，每个样本都是由图像组成的序列（序列长度为frames）。"
   ]
  },
  {
   "cell_type": "markdown",
   "id": "a6899a7c",
   "metadata": {},
   "source": [
    "## 2.2.9　向量数据\n",
    "这是最常见的一类数据。对于这种数据集，每个数据点都被编码为一个向量，因此一个数据批量就被编码为一个2阶张量（由向量组成的数组），其中第1个轴是样本轴，第2个轴是特征轴（features axis）。\n",
    "\n",
    "> * 保险精算数据集。我们考虑每个人的年龄、性别和收入。每个人可表示为包含3个值的向量，整个数据集包含100 000人，因此可存储在形状为(100000, 3)的2阶张量中。\n",
    "> * 文本文档数据集。我们将每个文档表示为每个单词在其中出现的次数（字典中包含20 000个常用单词）。每个文档可被编码为包含20 000个值的向量（每个值对应字典中每个单词的出现次数），整个数据集包含500个文档，因此可存储在形状为(500, 20000)的张量中。\n"
   ]
  },
  {
   "cell_type": "markdown",
   "id": "504746a6",
   "metadata": {},
   "source": [
    "## 2.2.10　时间序列数据或序列数据\n",
    "当时间（或序列顺序）对数据很重要时，应该将数据存储在带有时间轴的3阶张量中。每个样本可被编码为一个向量序列（2阶张量），因此一个数据批量就被编码为一个3阶张量，如图-时间序列数据组成的3阶张量\n",
    "![时间序列数据组成的3阶张量](image/时间序列数据组成的3阶张量.png)\n",
    "按照惯例，时间轴始终是第2个轴（索引为1的轴）。\n",
    "\n",
    "> * 股票价格数据集。每一分钟，我们将股票的当前价格、前一分钟最高价格和前一分钟最低价格保存下来。因此每一分钟被编码为一个3维向量，一个交易日被编码为一个形状为(390, 3)的矩阵（一个交易日有390分钟1），250天的数据则保存在一个形状为(250, 390, 3)的3阶张量中。在这个例子中，每个样本是一天的股票数据。\n",
    "> * 推文数据集。我们将每条推文编码为由280个字符组成的序列，每个字符又来自于包含128个字符的字母表。在这种情况下，每个字符可以被编码为大小为128的二进制向量（只有在该字符对应的索引位置取值为1，其他元素都为0）。那么每条推文可以被编码为一个形状为(280, 128)的2阶张量，包含100万条推文的数据集则被存储在一个形状为(1000000, 280, 128)的张量中。"
   ]
  },
  {
   "cell_type": "markdown",
   "id": "bfcfe52c",
   "metadata": {},
   "source": [
    "## 2.2.11　图像数据\n",
    "图像通常具有3个维度：高度、宽度和颜色深度。虽然灰度图像（比如MNIST数字图像）只有一个颜色通道，因此可以保存在2阶张量中，但按照惯例，图像张量都是3阶张量。对于灰度图像，其颜色通道只有一维。因此，如果图像大小为256×256，那么由128张灰度图像组成的批量可以保存在一个形状为(128, 256, 256, 1)的张量中，由128张彩色图像组成的批量则可以保存在一个形状为(128, 256, 256, 3)的张量中，如图-图像数据组成的4阶张量\n",
    "![图像数据组成的4阶张量](image/图像数据组成的4阶张量.png)\n",
    "图像张量的形状有两种约定：通道在后（channels-last）的约定（这是TensorFlow的标准）和通道在前（channels-first）的约定（使用这种约定的人越来越少）。\n",
    "\n",
    "通道在后的约定是将颜色深度轴放在最后：(samples, height, width, color_depth)。与此相对，通道在前的约定是将颜色深度轴放在紧跟批量轴之后：(samples, color_depth,height, width)。如果采用通道在前的约定，那么前面两个例子的形状将变成(128, 1, 256,256)和(128, 3, 256, 256)。Keras API同时支持这两种格式。"
   ]
  },
  {
   "cell_type": "markdown",
   "id": "b025ce70",
   "metadata": {},
   "source": [
    "## 2.2.12　视频数据\n",
    "视频数据是现实世界中为数不多的需要用到5阶张量的数据类型。视频可以看作帧的序列，每一帧都是一张彩色图像。由于每一帧都可以保存在一个形状为(height, width, color_depth)的3阶张量中，因此一个视频（帧的序列）可以保存在一个形状为(frames, height, width,color_depth)的4阶张量中，由多个视频组成的批量则可以保存在一个形状为(samples,frames, height, width, color_depth)的5阶张量中。\n",
    "\n",
    "> 一个尺寸为144×256的60秒YouTube视频片段，以每秒4帧采样，那么这个视频共有240帧。4个这样的视频片段组成的批量将保存在形状为(4, 240, 144, 256, 3)的张量中。这个张量共包含106168320个值！如果张量的数据类型（dtype）是float32，每个值都是32位，那么这个张量共有405 MB。但在现实生活中遇到的视频要小得多，因为它们不以float32格式存储，而且通常被大大压缩（比如MPEG格式）。"
   ]
  }
 ],
 "metadata": {
  "kernelspec": {
   "display_name": "Python 3 (ipykernel)",
   "language": "python",
   "name": "python3"
  },
  "language_info": {
   "codemirror_mode": {
    "name": "ipython",
    "version": 3
   },
   "file_extension": ".py",
   "mimetype": "text/x-python",
   "name": "python",
   "nbconvert_exporter": "python",
   "pygments_lexer": "ipython3",
   "version": "3.9.7"
  }
 },
 "nbformat": 4,
 "nbformat_minor": 5
}
