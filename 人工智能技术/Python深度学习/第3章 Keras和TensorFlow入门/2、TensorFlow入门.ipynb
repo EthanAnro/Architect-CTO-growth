{
 "cells": [
  {
   "cell_type": "markdown",
   "id": "88bedff4",
   "metadata": {},
   "source": [
    "训练神经网络主要围绕以下概念进行:\n",
    "* 首先是低阶张量操作。这是所有现代机器学习的底层架构，可以转化为TensorFlow API\n",
    "    * **张量**，包括存储神经网络状态的特殊张量（变量）。\n",
    "    * **张量运算**，比如加法、relu、matmul。\n",
    "    * **反向传播**，一种计算数学表达式梯度的方法（在TensorFlow中通过GradientTape对象来实现）。\n",
    "* 然后是高阶深度学习概念。这可以转化为Keras API\n",
    "    * **层**，多层可以构成模型。\n",
    "    * **损失函数**，它定义了用于学习的反馈信号。\n",
    "    * **优化器**，它决定学习过程如何进行。\n",
    "    * 评估模型性能的指标，比如**精度**。\n",
    "    * **训练循环**，执行小批量梯度随机下降。\n",
    "    \n",
    "在前面的学习中，我们已经初步接触了TensorFlow和Keras的一些API，并使用了TensorFlow的Variable类、matmul运算和GradientTape。已经将Keras的Dense层实例化，并将其打包到一个Sequential模型中，然后使用fit()方法训练该模型。"
   ]
  },
  {
   "cell_type": "markdown",
   "id": "13d3969d",
   "metadata": {},
   "source": [
    "## 1、常数张量和变量"
   ]
  },
  {
   "cell_type": "markdown",
   "id": "dbc3a940",
   "metadata": {},
   "source": [
    "### 全1张量或全0张量"
   ]
  },
  {
   "cell_type": "code",
   "execution_count": 2,
   "id": "c9e179a4",
   "metadata": {
    "scrolled": true
   },
   "outputs": [
    {
     "name": "stdout",
     "output_type": "stream",
     "text": [
      "tf.Tensor(\n",
      "[[1.]\n",
      " [1.]], shape=(2, 1), dtype=float32)\n"
     ]
    }
   ],
   "source": [
    "import tensorflow as tf\n",
    "import warnings\n",
    "warnings.filterwarnings(\"ignore\") # 忽略警告信息，不影响代码执行\n",
    "x = tf.ones(shape=(2, 1)) # 等同于np.ones(shape=(2, 1)) \n",
    "print(x)"
   ]
  },
  {
   "cell_type": "code",
   "execution_count": 3,
   "id": "a3bb0c2d",
   "metadata": {
    "scrolled": true
   },
   "outputs": [
    {
     "name": "stdout",
     "output_type": "stream",
     "text": [
      "tf.Tensor(\n",
      "[[0.]\n",
      " [0.]], shape=(2, 1), dtype=float32)\n"
     ]
    }
   ],
   "source": [
    "x = tf.zeros(shape=(2, 1)) # 等同于np.zeros(shape=(2, 1)) \n",
    "print(x)"
   ]
  },
  {
   "cell_type": "markdown",
   "id": "d12a0de3",
   "metadata": {},
   "source": [
    "### 随机张量"
   ]
  },
  {
   "cell_type": "code",
   "execution_count": 4,
   "id": "a11495c0",
   "metadata": {
    "scrolled": false
   },
   "outputs": [
    {
     "name": "stdout",
     "output_type": "stream",
     "text": [
      "tf.Tensor(\n",
      "[[2.137155 ]\n",
      " [0.4440098]\n",
      " [0.1690553]], shape=(3, 1), dtype=float32)\n"
     ]
    }
   ],
   "source": [
    "x = tf.random.normal(shape=(3, 1), mean=0., stddev=1.) # 从均值为0、标准差为1的正态分布中抽取的随机张量，等同于np.random.normal(shape=(3, 1), loc=0., scale=1.)\n",
    "print(x)"
   ]
  },
  {
   "cell_type": "code",
   "execution_count": 5,
   "id": "ebb1c35e",
   "metadata": {},
   "outputs": [
    {
     "name": "stdout",
     "output_type": "stream",
     "text": [
      "tf.Tensor(\n",
      "[[0.00922155]\n",
      " [0.5095831 ]\n",
      " [0.9826819 ]], shape=(3, 1), dtype=float32)\n"
     ]
    }
   ],
   "source": [
    "x = tf.random.uniform(shape=(3, 1), minval=0., maxval=1.) # 从0和1的均匀分布中抽取的随机张量，等同于np.random.uniform(shape=(3, 1), low=0., high=1.)\n",
    "print(x)"
   ]
  },
  {
   "cell_type": "markdown",
   "id": "47c1f97e",
   "metadata": {},
   "source": [
    "**NumPy数组和TensorFlow张量之间的一个重要区别是，TensorFlow张量是不可赋值的，它是常量。**"
   ]
  },
  {
   "cell_type": "markdown",
   "id": "10b3cabf",
   "metadata": {},
   "source": [
    "### NumPy数组是可赋值的"
   ]
  },
  {
   "cell_type": "code",
   "execution_count": 6,
   "id": "b011ad90",
   "metadata": {},
   "outputs": [],
   "source": [
    "import numpy as np\n",
    "x = np.ones(shape=(2, 2))\n",
    "x[0, 0] = 0."
   ]
  },
  {
   "cell_type": "markdown",
   "id": "fd4424bf",
   "metadata": {},
   "source": [
    "### TensorFlow张量是不可赋值的"
   ]
  },
  {
   "cell_type": "code",
   "execution_count": 8,
   "id": "574d7a96",
   "metadata": {
    "scrolled": true
   },
   "outputs": [
    {
     "ename": "TypeError",
     "evalue": "'tensorflow.python.framework.ops.EagerTensor' object does not support item assignment",
     "output_type": "error",
     "traceback": [
      "\u001b[0;31m---------------------------------------------------------------------------\u001b[0m",
      "\u001b[0;31mTypeError\u001b[0m                                 Traceback (most recent call last)",
      "\u001b[0;32m/var/folders/kq/w31zf4v5575bbjvlkldg2fn80000gn/T/ipykernel_28615/3880248395.py\u001b[0m in \u001b[0;36m<module>\u001b[0;34m\u001b[0m\n\u001b[1;32m      1\u001b[0m \u001b[0mx\u001b[0m \u001b[0;34m=\u001b[0m \u001b[0mtf\u001b[0m\u001b[0;34m.\u001b[0m\u001b[0mones\u001b[0m\u001b[0;34m(\u001b[0m\u001b[0mshape\u001b[0m\u001b[0;34m=\u001b[0m\u001b[0;34m(\u001b[0m\u001b[0;36m2\u001b[0m\u001b[0;34m,\u001b[0m \u001b[0;36m2\u001b[0m\u001b[0;34m)\u001b[0m\u001b[0;34m)\u001b[0m \u001b[0;31m# 程序会报错：EagerTensor object does not support item assignment（EagerTensor对象不支持对元素进行赋值）\u001b[0m\u001b[0;34m\u001b[0m\u001b[0;34m\u001b[0m\u001b[0m\n\u001b[0;32m----> 2\u001b[0;31m \u001b[0mx\u001b[0m\u001b[0;34m[\u001b[0m\u001b[0;36m0\u001b[0m\u001b[0;34m,\u001b[0m \u001b[0;36m0\u001b[0m\u001b[0;34m]\u001b[0m \u001b[0;34m=\u001b[0m \u001b[0;36m0.\u001b[0m\u001b[0;34m\u001b[0m\u001b[0;34m\u001b[0m\u001b[0m\n\u001b[0m",
      "\u001b[0;31mTypeError\u001b[0m: 'tensorflow.python.framework.ops.EagerTensor' object does not support item assignment"
     ]
    }
   ],
   "source": [
    "x = tf.ones(shape=(2, 2)) # 程序会报错：EagerTensor object does not support item assignment（EagerTensor对象不支持对元素进行赋值）\n",
    "x[0, 0] = 0."
   ]
  },
  {
   "cell_type": "markdown",
   "id": "78d1c192",
   "metadata": {},
   "source": [
    "要训练模型，我们需要更新其状态，而模型状态是一组张量。张量不可赋值，就需要用到变量（variable）。tf.Variable是一个类，其作用是管理TensorFlow中的可变状态。\n",
    "\n",
    "要创建一个变量，你需要为其提供初始值，比如随机张量。"
   ]
  },
  {
   "cell_type": "markdown",
   "id": "89b3fb35",
   "metadata": {},
   "source": [
    "### 　创建一个TensorFlow变量"
   ]
  },
  {
   "cell_type": "code",
   "execution_count": 9,
   "id": "31be17c9",
   "metadata": {},
   "outputs": [
    {
     "name": "stdout",
     "output_type": "stream",
     "text": [
      "<tf.Variable 'Variable:0' shape=(3, 1) dtype=float32, numpy=\n",
      "array([[ 0.39083707],\n",
      "       [-0.19708945],\n",
      "       [-0.0838083 ]], dtype=float32)>\n"
     ]
    }
   ],
   "source": [
    "v = tf.Variable(initial_value=tf.random.normal(shape=(3, 1)))\n",
    "print(v)"
   ]
  },
  {
   "cell_type": "markdown",
   "id": "36054a7e",
   "metadata": {},
   "source": [
    "### 为TensorFlow变量赋值\n",
    "变量的状态可以通过其assign方法进行修改。"
   ]
  },
  {
   "cell_type": "code",
   "execution_count": 10,
   "id": "25dadace",
   "metadata": {
    "scrolled": true
   },
   "outputs": [
    {
     "data": {
      "text/plain": [
       "<tf.Variable 'UnreadVariable' shape=(3, 1) dtype=float32, numpy=\n",
       "array([[1.],\n",
       "       [1.],\n",
       "       [1.]], dtype=float32)>"
      ]
     },
     "execution_count": 10,
     "metadata": {},
     "output_type": "execute_result"
    }
   ],
   "source": [
    "v.assign(tf.ones((3, 1)))"
   ]
  },
  {
   "cell_type": "markdown",
   "id": "45cd3d96",
   "metadata": {},
   "source": [
    "### 为TensorFlow变量的子集赋值"
   ]
  },
  {
   "cell_type": "code",
   "execution_count": 11,
   "id": "5b7c5eac",
   "metadata": {
    "scrolled": true
   },
   "outputs": [
    {
     "data": {
      "text/plain": [
       "<tf.Variable 'UnreadVariable' shape=(3, 1) dtype=float32, numpy=\n",
       "array([[3.],\n",
       "       [1.],\n",
       "       [1.]], dtype=float32)>"
      ]
     },
     "execution_count": 11,
     "metadata": {},
     "output_type": "execute_result"
    }
   ],
   "source": [
    "v[0,0].assign(3.)"
   ]
  },
  {
   "cell_type": "markdown",
   "id": "3f834c83",
   "metadata": {},
   "source": [
    "### 使用assign_add()\n",
    "与此类似，assign_add()和assign_sub()分别等同于+=和-=的效果"
   ]
  },
  {
   "cell_type": "code",
   "execution_count": 12,
   "id": "43710eb2",
   "metadata": {},
   "outputs": [
    {
     "data": {
      "text/plain": [
       "<tf.Variable 'UnreadVariable' shape=(3, 1) dtype=float32, numpy=\n",
       "array([[4.],\n",
       "       [2.],\n",
       "       [2.]], dtype=float32)>"
      ]
     },
     "execution_count": 12,
     "metadata": {},
     "output_type": "execute_result"
    }
   ],
   "source": [
    "v.assign_add(tf.ones((3, 1)))"
   ]
  },
  {
   "cell_type": "markdown",
   "id": "df6e3df3",
   "metadata": {},
   "source": [
    "## 2、张量运算：用TensorFlow进行数学运算\n",
    "就像NumPy一样，TensorFlow提供了许多张量运算来表达数学公式。"
   ]
  },
  {
   "cell_type": "markdown",
   "id": "52e93d64",
   "metadata": {},
   "source": [
    "### 一些基本的数学运算"
   ]
  },
  {
   "cell_type": "code",
   "execution_count": 14,
   "id": "62dd9cb1",
   "metadata": {},
   "outputs": [],
   "source": [
    "a = tf.ones((2, 2))\n",
    "b = tf.square(a) # 求平方\n",
    "c = tf.sqrt(a) # 求平方根\n",
    "d = b + c # 两个张量（逐元素）相加\n",
    "e = tf.matmul(a, b) # 计算两个张量的积\n",
    "e *= d # 两个张量（逐元素）相乘"
   ]
  },
  {
   "cell_type": "markdown",
   "id": "482acead",
   "metadata": {},
   "source": [
    "## 3、GradientTape API\n",
    "虽然TensorFlow看起来很像NumPy。但NumPy无法做到的是，检索任意可微表达式相对于其输入的梯度。我们可以创建一个GradientTape作用域，对一个或多个输入张量做一些计算，然后就可以检索计算结果相对于输入的梯度。"
   ]
  },
  {
   "cell_type": "markdown",
   "id": "970a24e9",
   "metadata": {},
   "source": [
    "### 使用GradientTape\n",
    "要检索模型损失相对于权重的梯度，最常用的方法是gradients = tape.gradient(loss,weights)。"
   ]
  },
  {
   "cell_type": "code",
   "execution_count": 16,
   "id": "5e8fecff",
   "metadata": {},
   "outputs": [],
   "source": [
    "input_var = tf.Variable(initial_value=3.)\n",
    "with tf.GradientTape() as tape:\n",
    "    result = tf.square(input_var)\n",
    "gradient = tape.gradient(result, input_var)"
   ]
  },
  {
   "cell_type": "markdown",
   "id": "799ac740",
   "metadata": {},
   "source": [
    "### 对常数张量输入使用GradientTape\n",
    "至此，我们只遇到过tape.gradient()的输入张量是TensorFlow变量的情况。实际上，它的输入可以是任意张量。但在默认情况下只会监视可训练变量（trainable variable）。如果要监视常数张量，那么必须对其调用tape.watch()，手动将其标记为被监视的张量。"
   ]
  },
  {
   "cell_type": "code",
   "execution_count": 17,
   "id": "a30f6e0a",
   "metadata": {},
   "outputs": [],
   "source": [
    "input_const = tf.constant(3.)\n",
    "with tf.GradientTape() as tape:\n",
    "    tape.watch(input_const)\n",
    "    result = tf.square(input_const)\n",
    "gradient = tape.gradient(result, input_const)"
   ]
  },
  {
   "cell_type": "markdown",
   "id": "d377c65a",
   "metadata": {},
   "source": [
    "之所以必须这么做，是因为如果预先存储计算梯度所需的全部信息，那么计算成本非常大。为避免浪费资源，梯度带需要知道监视什么。它默认监视可训练变量，因为计算损失相对于可训练变量列表的梯度，是梯度带最常见的用途。"
   ]
  },
  {
   "cell_type": "markdown",
   "id": "dafb1997",
   "metadata": {},
   "source": [
    "### 利用嵌套的梯度带计算二阶梯度\n",
    "梯度带是一个非常强大的工具，它甚至能够计算二阶梯度（梯度的梯度）。举例来说，物体位置相对于时间的梯度是这个物体的速度，二阶梯度则是它的加速度。如果测量一个垂直下落的苹果的位置随时间的变化，并且发现它满足position(time) = 4.9 *time ** 2，那么它的加速度是多少？我们可以用两个嵌套的梯度带找出答案。"
   ]
  },
  {
   "cell_type": "code",
   "execution_count": 18,
   "id": "6c5e5d3f",
   "metadata": {},
   "outputs": [],
   "source": [
    "time = tf.Variable(0.)\n",
    "with tf.GradientTape() as outer_tape:\n",
    "    with tf.GradientTape() as inner_tape:\n",
    "        position =  4.9 * time ** 2\n",
    "    speed = inner_tape.gradient(position, time)\n",
    "acceleration = outer_tape.gradient(speed, time)  # 内梯度带计算出一个梯度，我们用外梯度带计算这个梯度的梯度。答案自然是4.9 * 2 = 9.8"
   ]
  },
  {
   "cell_type": "markdown",
   "id": "eb96c0ea",
   "metadata": {},
   "source": [
    "## 3、用TensorFlow编写线性分类器\n",
    "用TensorFlow知识来实现这样一个线性分类器。首先，我们生成一些线性可分的数据：二维平面上的点，它们分为两个类别。生成方法是从一个具有特定协方差矩阵和特定均值的随机分布中抽取坐标来生成每一类点。直观上来看，协方差矩阵描述了点云的形状，均值则描述了点云在平面上的位置。我们设定，两个点云的协方差矩阵相同，但均值不同。也就是说，两个点云具有相同的形状，但位置不同。"
   ]
  },
  {
   "cell_type": "markdown",
   "id": "e59c040d",
   "metadata": {},
   "source": [
    "#### 在二维平面上随机生成两个类别的点"
   ]
  },
  {
   "cell_type": "code",
   "execution_count": 19,
   "id": "c5f0a7b9",
   "metadata": {},
   "outputs": [],
   "source": [
    "num_samples_per_class = 1000\n",
    "negative_samples = np.random.multivariate_normal( \n",
    "    mean=[0, 3],\n",
    "    cov=[[1, 0.5],[0.5, 1]],\n",
    "    size=num_samples_per_class) #  生成第一个类别的点：1000个二维随机点。协方差矩阵为[[1, 0.5], [0.5, 1]]，对应于一个从左下方到右上方的椭圆形点云\n",
    "\n",
    "positive_samples = np.random.multivariate_normal(  \n",
    "    mean=[3, 0],\n",
    "    cov=[[1, 0.5],[0.5, 1]],\n",
    "    size=num_samples_per_class) # 生成第二个类别的点，协方差矩阵相同，均值不同"
   ]
  },
  {
   "cell_type": "markdown",
   "id": "d33a3a14",
   "metadata": {},
   "source": [
    "#### 将两个类别堆叠成一个形状为(2000, 2)的数组\n",
    "negative_samples和positive_samples都是形状为(1000, 2)的数组"
   ]
  },
  {
   "cell_type": "code",
   "execution_count": 22,
   "id": "09838aa8",
   "metadata": {},
   "outputs": [],
   "source": [
    "inputs = np.vstack((negative_samples, positive_samples)).astype(np.float32)"
   ]
  },
  {
   "cell_type": "markdown",
   "id": "0e5348e0",
   "metadata": {},
   "source": [
    "#### 生成对应的目标标签（0和1）\n",
    "生成对应的目标标签，即一个形状为(2000, 1)的数组，其元素都是0或1：如果输入inputs[i]属于类别0，则目标targets[i, 0]为0；如果inputs[i]属于类别1，则targets[i, 0]为1。"
   ]
  },
  {
   "cell_type": "code",
   "execution_count": 21,
   "id": "afd6a38e",
   "metadata": {},
   "outputs": [],
   "source": [
    "targets = np.vstack((np.zeros((num_samples_per_class, 1), dtype='float32'), np.ones((num_samples_per_class, 1), dtype='float32')))"
   ]
  },
  {
   "cell_type": "markdown",
   "id": "7e0461cc",
   "metadata": {},
   "source": [
    "#### 绘制两个点类的图像\n",
    "用Matplotlib来绘制数据图像"
   ]
  },
  {
   "cell_type": "code",
   "execution_count": 23,
   "id": "fbf40adc",
   "metadata": {
    "scrolled": false
   },
   "outputs": [
    {
     "data": {
      "image/png": "[encoded data removed]",
      "text/plain": [
       "<Figure size 432x288 with 1 Axes>"
      ]
     },
     "metadata": {
      "needs_background": "light"
     },
     "output_type": "display_data"
    }
   ],
   "source": [
    "import matplotlib.pyplot as plt\n",
    "plt.scatter(inputs[:, 0], input[:, 1], c=targets[:, 0])\n",
    "plt.show()"
   ]
  },
  {
   "cell_type": "markdown",
   "id": "8989c5a4",
   "metadata": {},
   "source": [
    "#### 创建线性分类器的变量\n",
    "创建一个线性分类器，用来学习划分这两个类别。线性分类器采用仿射变换（prediction = W•input + b），我们对其进行训练，使预测值与目标值之差的平方最小化,创建变量W和b，分别用随机值和零进行初始化."
   ]
  },
  {
   "cell_type": "code",
   "execution_count": 24,
   "id": "3c560d63",
   "metadata": {},
   "outputs": [],
   "source": [
    "input_dim = 2  # 输入是二维点\n",
    "output_dim = 1  # 每个样本的输出预测值是一个分数值（如果分类器预测样本属于类别0，那么这个分数值会接近0；如果预测样本属于类别1，那么这个分数值会接近1）\n",
    "W = tf.Variable(initial_value=tf.random.uniform(shape=(input_dim, output_dim)))\n",
    "b = tf.Variable(initial_value=tf.zeros(shape=(output_dim,)))"
   ]
  },
  {
   "cell_type": "markdown",
   "id": "e6815c99",
   "metadata": {},
   "source": [
    "#### 前向传播函数"
   ]
  },
  {
   "cell_type": "code",
   "execution_count": 25,
   "id": "aac0351a",
   "metadata": {},
   "outputs": [],
   "source": [
    "def model(inputs):\n",
    "    return tf.matmul(inputs, W) + b"
   ]
  },
  {
   "cell_type": "markdown",
   "id": "73033100",
   "metadata": {},
   "source": [
    "#### 均方误差损失函数\n",
    "这个线性分类器处理的是二维输入，所以W实际上只包含两个标量系数W1和W2：W = [[w1],[w2]]。b则是一个标量系数。因此，对于给定的输入点[x, y]，其预测值为：prediction =[[w1], [w2]]•[x, y] + b = w1 * x + w2 * y + b。"
   ]
  },
  {
   "cell_type": "code",
   "execution_count": 26,
   "id": "13b306bb",
   "metadata": {},
   "outputs": [],
   "source": [
    "def square_loss(targets, predictions):\n",
    "    per_sample_losses = tf.square(targets - predictions) # per_sample_losses 是一个与 targets 和 predictions具有相同形状的张量，其中包含每个样本的损失值\n",
    "    return tf.reduce_mean(per_sample_losses) # 由 reduce_mean实现将每个样本的损失值平均为一个标量损失值"
   ]
  },
  {
   "cell_type": "markdown",
   "id": "b52d17f8",
   "metadata": {},
   "source": [
    "#### 训练步骤函数\n",
    "是训练步骤，即接收一些训练数据并更新权重W和b，以使数据损失值最小化。"
   ]
  },
  {
   "cell_type": "code",
   "execution_count": 27,
   "id": "ca4f183b",
   "metadata": {},
   "outputs": [],
   "source": [
    "learning_rate = 0.1\n",
    "\n",
    "def training_step(inputs, targets):\n",
    "    with tf.GradientTape() as tape: # 在一个梯度作用域内进行一次前向传播\n",
    "        predictions = model(inputs)\n",
    "        loss = square_loss(targets, predictions)\n",
    "    grad_loss_wrt_W, grad_loss_wrt_b = tape.gradient(loss, [W, b]) # 检索损失相对于权重的梯度\n",
    "    W.assign_sub(grad_loss_wrt_W * learning_rate) # 更新权重\n",
    "    b.assign_sub(grad_loss_wrt_b * learning_rate) # 更新权重\n",
    "    return loss"
   ]
  },
  {
   "cell_type": "markdown",
   "id": "f04903cf",
   "metadata": {},
   "source": [
    "#### 批量训练循环\n",
    "进行批量训练，而不是小批量训练，即在所有数据上进行训练（计算梯度并更新权重），而不是小批量地进行迭代。一方面，每个训练步骤的运行时间要长得多，因为我们要一次性计算2000个样本的前向传播和梯度。另一方面，每次梯度更新将更有效地降低训练数据的损失，因为它包含了所有训练样本的信息，而不是只有128个随机样本。因此，我们需要的迭代次数更少，而且应该使用比通常用于小批量训练更大的学习率。"
   ]
  },
  {
   "cell_type": "code",
   "execution_count": 28,
   "id": "6eb45cfd",
   "metadata": {
    "scrolled": true
   },
   "outputs": [
    {
     "name": "stdout",
     "output_type": "stream",
     "text": [
      "Loss at step 0: 6.1460\n",
      "Loss at step 1: 1.0211\n",
      "Loss at step 2: 0.2928\n",
      "Loss at step 3: 0.1727\n",
      "Loss at step 4: 0.1452\n",
      "Loss at step 5: 0.1325\n",
      "Loss at step 6: 0.1228\n",
      "Loss at step 7: 0.1142\n",
      "Loss at step 8: 0.1064\n",
      "Loss at step 9: 0.0993\n",
      "Loss at step 10: 0.0928\n",
      "Loss at step 11: 0.0869\n",
      "Loss at step 12: 0.0815\n",
      "Loss at step 13: 0.0766\n",
      "Loss at step 14: 0.0721\n",
      "Loss at step 15: 0.0681\n",
      "Loss at step 16: 0.0643\n",
      "Loss at step 17: 0.0609\n",
      "Loss at step 18: 0.0578\n",
      "Loss at step 19: 0.0550\n",
      "Loss at step 20: 0.0524\n",
      "Loss at step 21: 0.0501\n",
      "Loss at step 22: 0.0479\n",
      "Loss at step 23: 0.0460\n",
      "Loss at step 24: 0.0442\n",
      "Loss at step 25: 0.0425\n",
      "Loss at step 26: 0.0411\n",
      "Loss at step 27: 0.0397\n",
      "Loss at step 28: 0.0385\n",
      "Loss at step 29: 0.0373\n",
      "Loss at step 30: 0.0363\n",
      "Loss at step 31: 0.0354\n",
      "Loss at step 32: 0.0345\n",
      "Loss at step 33: 0.0337\n",
      "Loss at step 34: 0.0330\n",
      "Loss at step 35: 0.0324\n",
      "Loss at step 36: 0.0318\n",
      "Loss at step 37: 0.0312\n",
      "Loss at step 38: 0.0307\n",
      "Loss at step 39: 0.0303\n"
     ]
    }
   ],
   "source": [
    "for step in range(40):\n",
    "    loss = training_step(inputs, targets)\n",
    "    print(f\"Loss at step {step}: {loss:.4f}\")"
   ]
  },
  {
   "cell_type": "markdown",
   "id": "76fa6cdb",
   "metadata": {},
   "source": [
    "经过40次迭代之后，训练损失值似乎稳定在0.0303左右。我们来绘制一下这个线性模型如何对训练数据点进行分类。由于目标值是0和1，因此如果一个给定输入点的预测值小于0.5，那么它将被归为类别0，而如果预测值大于0.5，则被归为类别1."
   ]
  },
  {
   "cell_type": "code",
   "execution_count": 29,
   "id": "fe5bbc4f",
   "metadata": {},
   "outputs": [
    {
     "data": {
      "image/png": "[encoded data removed]",
      "text/plain": [
       "<Figure size 432x288 with 1 Axes>"
      ]
     },
     "metadata": {
      "needs_background": "light"
     },
     "output_type": "display_data"
    }
   ],
   "source": [
    "predictions = model(inputs)\n",
    "plt.scatter(inputs[:, 0], inputs[:, 1], c=predictions[:, 0] > 0.5)\n",
    "plt.show()"
   ]
  },
  {
   "cell_type": "markdown",
   "id": "a98efc4e",
   "metadata": {},
   "source": [
    "对于给定点[x, y]，其预测值是prediction = [[w1], [w2]]•[x, y] + b = w1* x + w2 * y + b。因此，类别0的定义是w1 * x + w2 * y + b < 0.5，类别1的定义是w1* x + w2 * y + b > 0.5。你会发现，这实际上是二维平面上的一条直线的方程：w1 * x +w2 * y + b = 0.5。在这条线上方的点属于类别1，下方的点属于类别0。你可能习惯看到像y =a * x + b这种形式的直线方程，如果将我们的直线方程写成这种形式，那么它将变为：y = - w1/ w2 * x + (0.5 - b) / w2。"
   ]
  },
  {
   "cell_type": "markdown",
   "id": "f010dc92",
   "metadata": {},
   "source": [
    "#### 绘制这条直线"
   ]
  },
  {
   "cell_type": "code",
   "execution_count": 30,
   "id": "2edd4cca",
   "metadata": {},
   "outputs": [
    {
     "data": {
      "text/plain": [
       "<matplotlib.collections.PathCollection at 0x7f8f5da4bfd0>"
      ]
     },
     "execution_count": 30,
     "metadata": {},
     "output_type": "execute_result"
    },
    {
     "data": {
      "image/png": "[encoded data removed]",
      "text/plain": [
       "<Figure size 432x288 with 1 Axes>"
      ]
     },
     "metadata": {
      "needs_background": "light"
     },
     "output_type": "display_data"
    }
   ],
   "source": [
    "x = np.linspace(-1, 4, 100)  # 在−1和4之间生成100个等间距的数字，用于绘制直线\n",
    "y = - W[0] /  W[1] * x + (0.5 - b) / W[1]  # 直线方程\n",
    "plt.plot(x, y, \"-r\")                       # 绘制直线（\"-r\"的含义是“将图像绘制为红色的线”）3\n",
    "plt.scatter(inputs[:, 0], inputs[:, 1], c=predictions[:, 0] > 0.5)  # 在同一张图上绘制模型预测结果"
   ]
  },
  {
   "cell_type": "markdown",
   "id": "3f6f398f",
   "metadata": {},
   "source": [
    "**完成线性分类器：找到一条直线（或高维空间中的一个超平面）的参数，将两类数据整齐地分开。**"
   ]
  }
 ],
 "metadata": {
  "kernelspec": {
   "display_name": "Python 3 (ipykernel)",
   "language": "python",
   "name": "python3"
  },
  "language_info": {
   "codemirror_mode": {
    "name": "ipython",
    "version": 3
   },
   "file_extension": ".py",
   "mimetype": "text/x-python",
   "name": "python",
   "nbconvert_exporter": "python",
   "pygments_lexer": "ipython3",
   "version": "3.9.7"
  }
 },
 "nbformat": 4,
 "nbformat_minor": 5
}
