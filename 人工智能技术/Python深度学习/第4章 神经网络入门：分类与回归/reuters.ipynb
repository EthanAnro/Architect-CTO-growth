{
 "cells": [
  {
   "cell_type": "markdown",
   "id": "ec95d7a6-09ce-4c1e-bf5c-958fc08af7a4",
   "metadata": {},
   "source": [
    "## 加载数据"
   ]
  },
  {
   "cell_type": "code",
   "execution_count": 1,
   "id": "d5f116f7-1bb0-4340-9460-386100d1eb52",
   "metadata": {},
   "outputs": [],
   "source": [
    "from tensorflow.keras.datasets import reuters"
   ]
  },
  {
   "cell_type": "code",
   "execution_count": 30,
   "id": "fe6e2ff1-abe0-414f-9e09-22ab73e67061",
   "metadata": {},
   "outputs": [],
   "source": [
    "(train_data, train_labels), (test_data, test_labels) = reuters.load_data(num_words=10000)"
   ]
  },
  {
   "cell_type": "code",
   "execution_count": 31,
   "id": "0c7e65ff-68c8-4482-9e9a-27a8b9d1fa86",
   "metadata": {},
   "outputs": [
    {
     "data": {
      "text/plain": [
       "8982"
      ]
     },
     "execution_count": 31,
     "metadata": {},
     "output_type": "execute_result"
    }
   ],
   "source": [
    "len(train_data)"
   ]
  },
  {
   "cell_type": "code",
   "execution_count": 32,
   "id": "861281a5-e6c0-450c-b1d2-aac31db58b40",
   "metadata": {},
   "outputs": [
    {
     "data": {
      "text/plain": [
       "2246"
      ]
     },
     "execution_count": 32,
     "metadata": {},
     "output_type": "execute_result"
    }
   ],
   "source": [
    "len(test_data)"
   ]
  },
  {
   "cell_type": "code",
   "execution_count": 33,
   "id": "55371b97-7685-4a07-9949-4348865900e4",
   "metadata": {
    "scrolled": true,
    "tags": []
   },
   "outputs": [
    {
     "data": {
      "text/plain": [
       "[1,\n",
       " 245,\n",
       " 273,\n",
       " 207,\n",
       " 156,\n",
       " 53,\n",
       " 74,\n",
       " 160,\n",
       " 26,\n",
       " 14,\n",
       " 46,\n",
       " 296,\n",
       " 26,\n",
       " 39,\n",
       " 74,\n",
       " 2979,\n",
       " 3554,\n",
       " 14,\n",
       " 46,\n",
       " 4689,\n",
       " 4329,\n",
       " 86,\n",
       " 61,\n",
       " 3499,\n",
       " 4795,\n",
       " 14,\n",
       " 61,\n",
       " 451,\n",
       " 4329,\n",
       " 17,\n",
       " 12]"
      ]
     },
     "execution_count": 33,
     "metadata": {},
     "output_type": "execute_result"
    }
   ],
   "source": [
    "train_data[10]"
   ]
  },
  {
   "cell_type": "code",
   "execution_count": 34,
   "id": "931f5ee9-dc0a-43de-94ad-f97346843f56",
   "metadata": {},
   "outputs": [],
   "source": [
    "# 将新闻解码为文本\n",
    "word_index = reuters.get_word_index()\n",
    "reverse_word_index = dict(\n",
    "    [(value, key) for (key, value) in word_index.items()])\n",
    "decoded_newswire = \" \".join(\n",
    "    [reverse_word_index.get(i - 3, \"?\") for i in train_data[0]])  #注意，索引减去了3，因为0、1、2分别是为“padding”（填充）、“start of sequence”（序列开始）、“unknown”（未知词）保留的索引"
   ]
  },
  {
   "cell_type": "code",
   "execution_count": 35,
   "id": "fe51b1fe-c0b9-450b-adc4-8e95e82b813a",
   "metadata": {},
   "outputs": [
    {
     "data": {
      "text/plain": [
       "'? ? ? said as a result of its december acquisition of space co it expects earnings per share in 1987 of 1 15 to 1 30 dlrs per share up from 70 cts in 1986 the company said pretax net should rise to nine to 10 mln dlrs from six mln dlrs in 1986 and rental operation revenues to 19 to 22 mln dlrs from 12 5 mln dlrs it said cash flow per share this year should be 2 50 to three dlrs reuter 3'"
      ]
     },
     "execution_count": 35,
     "metadata": {},
     "output_type": "execute_result"
    }
   ],
   "source": [
    "decoded_newswire"
   ]
  },
  {
   "cell_type": "code",
   "execution_count": 36,
   "id": "bc9ccc43-2c37-47ff-b5aa-d9f4a9855512",
   "metadata": {},
   "outputs": [
    {
     "data": {
      "text/plain": [
       "3"
      ]
     },
     "execution_count": 36,
     "metadata": {},
     "output_type": "execute_result"
    }
   ],
   "source": [
    "train_labels[10]"
   ]
  },
  {
   "cell_type": "markdown",
   "id": "b4aad571-44a0-4824-a7cd-f6ee1e7cbee8",
   "metadata": {},
   "source": [
    "## 准备数据"
   ]
  },
  {
   "cell_type": "code",
   "execution_count": 37,
   "id": "4c811c07-e9e2-463c-8c96-018386840f60",
   "metadata": {},
   "outputs": [],
   "source": [
    "# 用multi-hot编码对整数序列进行编码\n",
    "import numpy as np\n",
    "def vectorze_sequences(sequences, dimension= 10000):\n",
    "    results = np.zeros((len(sequences), dimension)) # 创建一个形状为(len(sequences), dimension)的零矩阵\n",
    "    for i,sequences in enumerate(sequences):\n",
    "        for j in sequences:\n",
    "            results[i, j] = 1. \n",
    "    return results"
   ]
  },
  {
   "cell_type": "code",
   "execution_count": 38,
   "id": "e98f4613-027a-47f7-ae04-b7a6091ab04a",
   "metadata": {},
   "outputs": [],
   "source": [
    "x_train = vectorze_sequences(train_data)  #将训练数据向量化\n",
    "x_test = vectorze_sequences(test_data)  #将测试数据向量化"
   ]
  },
  {
   "cell_type": "code",
   "execution_count": 57,
   "id": "f2cf2600-6015-402f-b5b4-a403b8e3820a",
   "metadata": {},
   "outputs": [],
   "source": [
    "# 编码标签\n",
    "'''def to_one_hot(labels, dimension=46):\n",
    "    results = np.zeros((len(labels), dimension))\n",
    "    for i, label in enumerate(labels):\n",
    "        results[i, label] = 1.\n",
    "    return results \n",
    "\n",
    "y_train = to_one_hot(train_labels)  #将训练标签向量化\n",
    "y_test = to_one_hot(test_labels)  #将测试标签向量化\n",
    "\n",
    "'''\n",
    "from tensorflow.keras.utils import to_categorical\n",
    "y_train = to_categorical(train_labels)\n",
    "y_test = to_categorical(test_labels)"
   ]
  },
  {
   "cell_type": "markdown",
   "id": "dacbe78f-b67b-4068-a9e4-642df1ebd617",
   "metadata": {},
   "source": [
    "## 构建模型"
   ]
  },
  {
   "cell_type": "code",
   "execution_count": 58,
   "id": "0381edda-0863-4d54-9b18-e22b8fba7011",
   "metadata": {},
   "outputs": [],
   "source": [
    "from tensorflow import keras\n",
    "from tensorflow.keras import layers"
   ]
  },
  {
   "cell_type": "code",
   "execution_count": 59,
   "id": "08c3b7ba-6de5-4f1a-9638-9b1cca63a154",
   "metadata": {},
   "outputs": [],
   "source": [
    "# 模型定义\n",
    "model = keras.Sequential([\n",
    "    layers.Dense(64, activation=\"relu\"),\n",
    "    layers.Dense(64, activation=\"relu\"),\n",
    "    layers.Dense(46, activation=\"softmax\")\n",
    "])"
   ]
  },
  {
   "cell_type": "code",
   "execution_count": 60,
   "id": "c9fd7a9b-295d-4bf3-a62d-d16975abbab3",
   "metadata": {},
   "outputs": [],
   "source": [
    "# 编译模型\n",
    "model.compile(optimizer=\"rmsprop\",\n",
    "              loss=\"categorical_crossentropy\",\n",
    "              metrics=[\"accuracy\"])"
   ]
  },
  {
   "cell_type": "code",
   "execution_count": 61,
   "id": "b94871a4-48f5-476a-b4b4-8ceaf6febfc9",
   "metadata": {},
   "outputs": [],
   "source": [
    "# 留出验证集\n",
    "x_val = x_train[:1000]\n",
    "partial_x_train = x_train[1000:]\n",
    "y_val = y_train[:1000]\n",
    "partial_y_train = y_train[1000:]"
   ]
  },
  {
   "cell_type": "code",
   "execution_count": 62,
   "id": "8279d6b0-c29d-4d60-bbe2-4b41fea0e7d9",
   "metadata": {
    "scrolled": true,
    "tags": []
   },
   "outputs": [
    {
     "name": "stdout",
     "output_type": "stream",
     "text": [
      "Epoch 1/20\n",
      "16/16 [==============================] - 1s 36ms/step - loss: 2.6855 - accuracy: 0.5340 - val_loss: 1.7789 - val_accuracy: 0.6460\n",
      "Epoch 2/20\n",
      "16/16 [==============================] - 0s 17ms/step - loss: 1.4198 - accuracy: 0.7095 - val_loss: 1.3196 - val_accuracy: 0.7060\n",
      "Epoch 3/20\n",
      "16/16 [==============================] - 0s 16ms/step - loss: 1.0484 - accuracy: 0.7737 - val_loss: 1.1360 - val_accuracy: 0.7550\n",
      "Epoch 4/20\n",
      "16/16 [==============================] - 0s 18ms/step - loss: 0.8243 - accuracy: 0.8242 - val_loss: 1.0785 - val_accuracy: 0.7640\n",
      "Epoch 5/20\n",
      "16/16 [==============================] - 0s 17ms/step - loss: 0.6578 - accuracy: 0.8636 - val_loss: 0.9682 - val_accuracy: 0.8050\n",
      "Epoch 6/20\n",
      "16/16 [==============================] - 0s 17ms/step - loss: 0.5296 - accuracy: 0.8919 - val_loss: 0.9266 - val_accuracy: 0.8150\n",
      "Epoch 7/20\n",
      "16/16 [==============================] - 0s 17ms/step - loss: 0.4260 - accuracy: 0.9133 - val_loss: 0.9104 - val_accuracy: 0.8160\n",
      "Epoch 8/20\n",
      "16/16 [==============================] - 0s 17ms/step - loss: 0.3494 - accuracy: 0.9265 - val_loss: 0.9289 - val_accuracy: 0.8050\n",
      "Epoch 9/20\n",
      "16/16 [==============================] - 0s 20ms/step - loss: 0.2886 - accuracy: 0.9362 - val_loss: 0.8975 - val_accuracy: 0.8240\n",
      "Epoch 10/20\n",
      "16/16 [==============================] - 0s 18ms/step - loss: 0.2450 - accuracy: 0.9437 - val_loss: 0.8919 - val_accuracy: 0.8190\n",
      "Epoch 11/20\n",
      "16/16 [==============================] - 0s 17ms/step - loss: 0.2125 - accuracy: 0.9465 - val_loss: 0.9033 - val_accuracy: 0.8180\n",
      "Epoch 12/20\n",
      "16/16 [==============================] - 0s 19ms/step - loss: 0.1842 - accuracy: 0.9505 - val_loss: 0.9171 - val_accuracy: 0.8180\n",
      "Epoch 13/20\n",
      "16/16 [==============================] - 0s 18ms/step - loss: 0.1686 - accuracy: 0.9528 - val_loss: 0.9368 - val_accuracy: 0.8150\n",
      "Epoch 14/20\n",
      "16/16 [==============================] - 0s 19ms/step - loss: 0.1517 - accuracy: 0.9536 - val_loss: 0.9737 - val_accuracy: 0.8100\n",
      "Epoch 15/20\n",
      "16/16 [==============================] - 0s 18ms/step - loss: 0.1440 - accuracy: 0.9540 - val_loss: 1.0349 - val_accuracy: 0.8000\n",
      "Epoch 16/20\n",
      "16/16 [==============================] - 0s 20ms/step - loss: 0.1338 - accuracy: 0.9548 - val_loss: 0.9839 - val_accuracy: 0.8120\n",
      "Epoch 17/20\n",
      "16/16 [==============================] - 0s 20ms/step - loss: 0.1262 - accuracy: 0.9573 - val_loss: 1.0239 - val_accuracy: 0.8130\n",
      "Epoch 18/20\n",
      "16/16 [==============================] - 0s 20ms/step - loss: 0.1216 - accuracy: 0.9580 - val_loss: 1.0449 - val_accuracy: 0.8070\n",
      "Epoch 19/20\n",
      "16/16 [==============================] - 0s 21ms/step - loss: 0.1156 - accuracy: 0.9574 - val_loss: 1.0294 - val_accuracy: 0.8090\n",
      "Epoch 20/20\n",
      "16/16 [==============================] - 0s 18ms/step - loss: 0.1145 - accuracy: 0.9587 - val_loss: 1.0915 - val_accuracy: 0.8090\n"
     ]
    }
   ],
   "source": [
    "# 训练模型\n",
    "history = model.fit(partial_x_train, \n",
    "                    partial_y_train, \n",
    "                    epochs=20,\n",
    "                    batch_size=512,\n",
    "                    validation_data=(x_val, y_val))"
   ]
  },
  {
   "cell_type": "code",
   "execution_count": 67,
   "id": "64947986-bb89-4055-8187-823b2ed491e4",
   "metadata": {},
   "outputs": [
    {
     "data": {
      "image/png": "[encoded data removed]",
      "text/plain": [
       "<Figure size 432x288 with 1 Axes>"
      ]
     },
     "metadata": {
      "needs_background": "light"
     },
     "output_type": "display_data"
    }
   ],
   "source": [
    "# 绘制训练损失和验证损失\n",
    "import matplotlib.pyplot as plt\n",
    "loss = history.history[\"loss\"]\n",
    "val_loss = history.history[\"val_loss\"]\n",
    "epochs = range(1, len(loss) + 1)\n",
    "plt.plot(epochs, loss, \"bo\", label=\"Training loss\")  #\"bo\"表示“蓝色圆点”\n",
    "plt.plot(epochs, val_loss, \"b\", label=\"Validation loss\")  # \"b\"表示“蓝色实线”\n",
    "plt.title(\"Training and validation loss\")\n",
    "plt.xlabel(\"Epochs\")\n",
    "plt.ylabel(\"Loss\")\n",
    "plt.legend()\n",
    "plt.show()"
   ]
  },
  {
   "cell_type": "code",
   "execution_count": 68,
   "id": "d7142fa6-76b1-4623-b97b-3ebe6d10e126",
   "metadata": {},
   "outputs": [
    {
     "data": {
      "image/png": "[encoded data removed]",
      "text/plain": [
       "<Figure size 432x288 with 1 Axes>"
      ]
     },
     "metadata": {
      "needs_background": "light"
     },
     "output_type": "display_data"
    }
   ],
   "source": [
    "plt.clf()  # 清空图像\n",
    "acc = history.history[\"accuracy\"]\n",
    "val_acc = history.history[\"val_accuracy\"]\n",
    "plt.plot(epochs, acc, \"bo\", label=\"Training accuracy\")\n",
    "plt.plot(epochs, val_acc, \"b\", label=\"Validation accuracy\")\n",
    "plt.title(\"Training and validation accuracy\")\n",
    "plt.xlabel(\"Epochs\")\n",
    "plt.ylabel(\"Accuracy\")\n",
    "plt.legend()\n",
    "plt.show()"
   ]
  },
  {
   "cell_type": "code",
   "execution_count": 78,
   "id": "0343c5ef-a2ad-4355-a414-8bd795859052",
   "metadata": {},
   "outputs": [
    {
     "name": "stdout",
     "output_type": "stream",
     "text": [
      "Epoch 1/9\n",
      "18/18 [==============================] - 1s 27ms/step - loss: 2.1145 - accuracy: 0.5688\n",
      "Epoch 2/9\n",
      "18/18 [==============================] - 0s 23ms/step - loss: 1.0784 - accuracy: 0.7653\n",
      "Epoch 3/9\n",
      "18/18 [==============================] - 0s 23ms/step - loss: 0.7646 - accuracy: 0.8338\n",
      "Epoch 4/9\n",
      "18/18 [==============================] - 0s 23ms/step - loss: 0.5498 - accuracy: 0.8829\n",
      "Epoch 5/9\n",
      "18/18 [==============================] - 0s 23ms/step - loss: 0.4032 - accuracy: 0.9149\n",
      "Epoch 6/9\n",
      "18/18 [==============================] - 0s 24ms/step - loss: 0.3084 - accuracy: 0.9336\n",
      "Epoch 7/9\n",
      "18/18 [==============================] - 0s 24ms/step - loss: 0.2467 - accuracy: 0.9420\n",
      "Epoch 8/9\n",
      "18/18 [==============================] - 0s 24ms/step - loss: 0.2103 - accuracy: 0.9462\n",
      "Epoch 9/9\n",
      "18/18 [==============================] - 0s 24ms/step - loss: 0.1846 - accuracy: 0.9507\n",
      "71/71 [==============================] - 0s 2ms/step - loss: 0.9826 - accuracy: 0.8014\n"
     ]
    }
   ],
   "source": [
    "# 模型在9轮之后开始过拟合。我们从头开始训练一个新模型，训练9轮，然后在测试集上评估模型\n",
    "model = keras.Sequential([\n",
    "    layers.Dense(128, activation=\"relu\"),\n",
    "    layers.Dense(128, activation=\"relu\"),\n",
    "    layers.Dense(46, activation=\"softmax\")\n",
    "])\n",
    "\n",
    "model.compile(optimizer=\"rmsprop\",\n",
    "              loss=\"categorical_crossentropy\",\n",
    "              metrics=[\"accuracy\"])\n",
    "\n",
    "model.fit(x_train, y_train, epochs=9, batch_size=512)\n",
    "\n",
    "results = model.evaluate(x_test, y_test)"
   ]
  },
  {
   "cell_type": "code",
   "execution_count": 79,
   "id": "f863f647-e3bb-43e8-9e84-514cc26adc0c",
   "metadata": {},
   "outputs": [
    {
     "data": {
      "text/plain": [
       "[0.9825668931007385, 0.8014247417449951]"
      ]
     },
     "execution_count": 79,
     "metadata": {},
     "output_type": "execute_result"
    }
   ],
   "source": [
    "results"
   ]
  },
  {
   "cell_type": "markdown",
   "id": "561361c1-78da-44ea-882a-a9ffb4c218a2",
   "metadata": {},
   "source": [
    "## 对新数据进行预测"
   ]
  },
  {
   "cell_type": "code",
   "execution_count": 80,
   "id": "35b6aac0-68ae-4a7a-bc48-a353d29da50c",
   "metadata": {},
   "outputs": [
    {
     "name": "stdout",
     "output_type": "stream",
     "text": [
      "71/71 [==============================] - 0s 2ms/step\n"
     ]
    }
   ],
   "source": [
    "predictions = model.predict(x_test)"
   ]
  },
  {
   "cell_type": "code",
   "execution_count": 81,
   "id": "2bdada4a-7a86-4cda-89e6-271b6049c68b",
   "metadata": {},
   "outputs": [
    {
     "data": {
      "text/plain": [
       "(46,)"
      ]
     },
     "execution_count": 81,
     "metadata": {},
     "output_type": "execute_result"
    }
   ],
   "source": [
    "predictions[0].shape"
   ]
  },
  {
   "cell_type": "code",
   "execution_count": 82,
   "id": "6dab2039-26ff-4d60-a535-777a148d1fa1",
   "metadata": {},
   "outputs": [
    {
     "data": {
      "text/plain": [
       "0.99999994"
      ]
     },
     "execution_count": 82,
     "metadata": {},
     "output_type": "execute_result"
    }
   ],
   "source": [
    "np.sum(predictions[0])"
   ]
  },
  {
   "cell_type": "code",
   "execution_count": 83,
   "id": "e76ad91e-da5d-40af-84b7-4ef1ff0ebb74",
   "metadata": {},
   "outputs": [
    {
     "data": {
      "text/plain": [
       "3"
      ]
     },
     "execution_count": 83,
     "metadata": {},
     "output_type": "execute_result"
    }
   ],
   "source": [
    "np.argmax(predictions[0])"
   ]
  }
 ],
 "metadata": {
  "kernelspec": {
   "display_name": "Python 3 (ipykernel)",
   "language": "python",
   "name": "python3"
  },
  "language_info": {
   "codemirror_mode": {
    "name": "ipython",
    "version": 3
   },
   "file_extension": ".py",
   "mimetype": "text/x-python",
   "name": "python",
   "nbconvert_exporter": "python",
   "pygments_lexer": "ipython3",
   "version": "3.9.7"
  }
 },
 "nbformat": 4,
 "nbformat_minor": 5
}
