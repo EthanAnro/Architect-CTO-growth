{
 "cells": [
  {
   "cell_type": "markdown",
   "id": "1418da6f",
   "metadata": {},
   "source": [
    "## 案例背景\n",
    "信用卡盗刷一般发生在持卡人信息被不法分子窃取后复制卡片进行消费或信用卡被他人冒领后激活并消费等情况下。一旦发生信用卡盗刷，持卡人和银行都会遭受一定的经济损失。因此，通过大数据技术搭建金融反欺诈模型对银行来说尤为重要。\n",
    "\n",
    "## 一、模型搭建\n",
    "\n",
    "### 1、读取数据\n",
    "读取1000条客户信用卡的交易数据。特征变量有客户换设备次数、在本次交易前的支付失败次数、换IP的次数、换IP国的次数及本次交易的金额。目标变量是本次交易是否存在欺诈，若是盗刷信用卡产生的交易则标记为1，代表欺诈，正常交易则标记为0。其中有400个欺诈样本，600个非欺诈样本。"
   ]
  },
  {
   "cell_type": "code",
   "execution_count": 1,
   "id": "c473e061",
   "metadata": {},
   "outputs": [
    {
     "data": {
      "text/html": [
       "<div>\n",
       "<style scoped>\n",
       "    .dataframe tbody tr th:only-of-type {\n",
       "        vertical-align: middle;\n",
       "    }\n",
       "\n",
       "    .dataframe tbody tr th {\n",
       "        vertical-align: top;\n",
       "    }\n",
       "\n",
       "    .dataframe thead th {\n",
       "        text-align: right;\n",
       "    }\n",
       "</style>\n",
       "<table border=\"1\" class=\"dataframe\">\n",
       "  <thead>\n",
       "    <tr style=\"text-align: right;\">\n",
       "      <th></th>\n",
       "      <th>换设备次数</th>\n",
       "      <th>支付失败次数</th>\n",
       "      <th>换IP次数</th>\n",
       "      <th>换IP国次数</th>\n",
       "      <th>交易金额</th>\n",
       "      <th>欺诈标签</th>\n",
       "    </tr>\n",
       "  </thead>\n",
       "  <tbody>\n",
       "    <tr>\n",
       "      <th>0</th>\n",
       "      <td>0</td>\n",
       "      <td>11</td>\n",
       "      <td>3</td>\n",
       "      <td>5</td>\n",
       "      <td>28836</td>\n",
       "      <td>1</td>\n",
       "    </tr>\n",
       "    <tr>\n",
       "      <th>1</th>\n",
       "      <td>5</td>\n",
       "      <td>6</td>\n",
       "      <td>1</td>\n",
       "      <td>4</td>\n",
       "      <td>21966</td>\n",
       "      <td>1</td>\n",
       "    </tr>\n",
       "    <tr>\n",
       "      <th>2</th>\n",
       "      <td>6</td>\n",
       "      <td>2</td>\n",
       "      <td>0</td>\n",
       "      <td>0</td>\n",
       "      <td>18199</td>\n",
       "      <td>1</td>\n",
       "    </tr>\n",
       "    <tr>\n",
       "      <th>3</th>\n",
       "      <td>5</td>\n",
       "      <td>8</td>\n",
       "      <td>2</td>\n",
       "      <td>2</td>\n",
       "      <td>24803</td>\n",
       "      <td>1</td>\n",
       "    </tr>\n",
       "    <tr>\n",
       "      <th>4</th>\n",
       "      <td>7</td>\n",
       "      <td>10</td>\n",
       "      <td>5</td>\n",
       "      <td>0</td>\n",
       "      <td>26277</td>\n",
       "      <td>1</td>\n",
       "    </tr>\n",
       "  </tbody>\n",
       "</table>\n",
       "</div>"
      ],
      "text/plain": [
       "   换设备次数  支付失败次数  换IP次数  换IP国次数   交易金额  欺诈标签\n",
       "0      0      11      3       5  28836     1\n",
       "1      5       6      1       4  21966     1\n",
       "2      6       2      0       0  18199     1\n",
       "3      5       8      2       2  24803     1\n",
       "4      7      10      5       0  26277     1"
      ]
     },
     "execution_count": 1,
     "metadata": {},
     "output_type": "execute_result"
    }
   ],
   "source": [
    "import pandas as pd\n",
    "df = pd.read_excel(\"datasets/信用卡交易数据.xlsx\")\n",
    "df.head()"
   ]
  },
  {
   "cell_type": "markdown",
   "id": "0f41526b",
   "metadata": {},
   "source": [
    "> 本案例为了方便演示，只选取了5个特征变量，在商业实战中使用的特征变量远比本案例多得多。此外，现实中欺诈样本占比较小，可能需要进行过采样或欠采样的处理，本案例的欺诈样本和非欺诈样本数量之比为4∶6，不需要进行过采样或欠采样处理。"
   ]
  },
  {
   "cell_type": "markdown",
   "id": "9a7361fb",
   "metadata": {},
   "source": [
    "### 2、提取特征变量和目标变量"
   ]
  },
  {
   "cell_type": "code",
   "execution_count": 2,
   "id": "c703b1d9",
   "metadata": {},
   "outputs": [],
   "source": [
    "x = df.drop(columns='欺诈标签')\n",
    "y = df['欺诈标签']"
   ]
  },
  {
   "cell_type": "markdown",
   "id": "9320fd96",
   "metadata": {},
   "source": [
    "### 3、划分训练集和测试集"
   ]
  },
  {
   "cell_type": "code",
   "execution_count": 3,
   "id": "8e921572",
   "metadata": {},
   "outputs": [],
   "source": [
    "from sklearn.model_selection import train_test_split\n",
    "x_train, x_test, y_train, y_test = train_test_split(x, y, test_size=0.2, random_state=123) # 设置train_test_split()函数的test_size参数为0.2，即测试集数据占20%；设置random_state参数为123（此数字无特殊含义，可以换成其他数字），使得每次运行代码划分数据的结果保持一致"
   ]
  },
  {
   "cell_type": "markdown",
   "id": "f83e43e6",
   "metadata": {},
   "source": [
    "### 4、模型训练及搭建"
   ]
  },
  {
   "cell_type": "code",
   "execution_count": 4,
   "id": "73e9f79a",
   "metadata": {
    "scrolled": true
   },
   "outputs": [
    {
     "data": {
      "text/html": [
       "<style>#sk-container-id-1 {color: black;background-color: white;}#sk-container-id-1 pre{padding: 0;}#sk-container-id-1 div.sk-toggleable {background-color: white;}#sk-container-id-1 label.sk-toggleable__label {cursor: pointer;display: block;width: 100%;margin-bottom: 0;padding: 0.3em;box-sizing: border-box;text-align: center;}#sk-container-id-1 label.sk-toggleable__label-arrow:before {content: \"▸\";float: left;margin-right: 0.25em;color: #696969;}#sk-container-id-1 label.sk-toggleable__label-arrow:hover:before {color: black;}#sk-container-id-1 div.sk-estimator:hover label.sk-toggleable__label-arrow:before {color: black;}#sk-container-id-1 div.sk-toggleable__content {max-height: 0;max-width: 0;overflow: hidden;text-align: left;background-color: #f0f8ff;}#sk-container-id-1 div.sk-toggleable__content pre {margin: 0.2em;color: black;border-radius: 0.25em;background-color: #f0f8ff;}#sk-container-id-1 input.sk-toggleable__control:checked~div.sk-toggleable__content {max-height: 200px;max-width: 100%;overflow: auto;}#sk-container-id-1 input.sk-toggleable__control:checked~label.sk-toggleable__label-arrow:before {content: \"▾\";}#sk-container-id-1 div.sk-estimator input.sk-toggleable__control:checked~label.sk-toggleable__label {background-color: #d4ebff;}#sk-container-id-1 div.sk-label input.sk-toggleable__control:checked~label.sk-toggleable__label {background-color: #d4ebff;}#sk-container-id-1 input.sk-hidden--visually {border: 0;clip: rect(1px 1px 1px 1px);clip: rect(1px, 1px, 1px, 1px);height: 1px;margin: -1px;overflow: hidden;padding: 0;position: absolute;width: 1px;}#sk-container-id-1 div.sk-estimator {font-family: monospace;background-color: #f0f8ff;border: 1px dotted black;border-radius: 0.25em;box-sizing: border-box;margin-bottom: 0.5em;}#sk-container-id-1 div.sk-estimator:hover {background-color: #d4ebff;}#sk-container-id-1 div.sk-parallel-item::after {content: \"\";width: 100%;border-bottom: 1px solid gray;flex-grow: 1;}#sk-container-id-1 div.sk-label:hover label.sk-toggleable__label {background-color: #d4ebff;}#sk-container-id-1 div.sk-serial::before {content: \"\";position: absolute;border-left: 1px solid gray;box-sizing: border-box;top: 0;bottom: 0;left: 50%;z-index: 0;}#sk-container-id-1 div.sk-serial {display: flex;flex-direction: column;align-items: center;background-color: white;padding-right: 0.2em;padding-left: 0.2em;position: relative;}#sk-container-id-1 div.sk-item {position: relative;z-index: 1;}#sk-container-id-1 div.sk-parallel {display: flex;align-items: stretch;justify-content: center;background-color: white;position: relative;}#sk-container-id-1 div.sk-item::before, #sk-container-id-1 div.sk-parallel-item::before {content: \"\";position: absolute;border-left: 1px solid gray;box-sizing: border-box;top: 0;bottom: 0;left: 50%;z-index: -1;}#sk-container-id-1 div.sk-parallel-item {display: flex;flex-direction: column;z-index: 1;position: relative;background-color: white;}#sk-container-id-1 div.sk-parallel-item:first-child::after {align-self: flex-end;width: 50%;}#sk-container-id-1 div.sk-parallel-item:last-child::after {align-self: flex-start;width: 50%;}#sk-container-id-1 div.sk-parallel-item:only-child::after {width: 0;}#sk-container-id-1 div.sk-dashed-wrapped {border: 1px dashed gray;margin: 0 0.4em 0.5em 0.4em;box-sizing: border-box;padding-bottom: 0.4em;background-color: white;}#sk-container-id-1 div.sk-label label {font-family: monospace;font-weight: bold;display: inline-block;line-height: 1.2em;}#sk-container-id-1 div.sk-label-container {text-align: center;}#sk-container-id-1 div.sk-container {/* jupyter's `normalize.less` sets `[hidden] { display: none; }` but bootstrap.min.css set `[hidden] { display: none !important; }` so we also need the `!important` here to be able to override the default hidden behavior on the sphinx rendered scikit-learn.org. See: https://github.com/scikit-learn/scikit-learn/issues/21755 */display: inline-block !important;position: relative;}#sk-container-id-1 div.sk-text-repr-fallback {display: none;}</style><div id=\"sk-container-id-1\" class=\"sk-top-container\"><div class=\"sk-text-repr-fallback\"><pre>XGBRFClassifier(base_score=0.5, booster=&#x27;gbtree&#x27;, callbacks=None,\n",
       "                colsample_bylevel=1, colsample_bytree=1,\n",
       "                early_stopping_rounds=None, enable_categorical=False,\n",
       "                eval_metric=None, gamma=0, gpu_id=-1, grow_policy=&#x27;depthwise&#x27;,\n",
       "                importance_type=None, interaction_constraints=&#x27;&#x27;,\n",
       "                learning_rate=0.05, max_bin=256, max_cat_to_onehot=4,\n",
       "                max_delta_step=0, max_depth=6, max_leaves=0, min_child_weight=1,\n",
       "                missing=nan, monotone_constraints=&#x27;()&#x27;, n_estimators=100,\n",
       "                n_jobs=0, num_parallel_tree=100, objective=&#x27;binary:logistic&#x27;,\n",
       "                predictor=&#x27;auto&#x27;, random_state=0, reg_alpha=0,\n",
       "                sampling_method=&#x27;uniform&#x27;, ...)</pre><b>In a Jupyter environment, please rerun this cell to show the HTML representation or trust the notebook. <br />On GitHub, the HTML representation is unable to render, please try loading this page with nbviewer.org.</b></div><div class=\"sk-container\" hidden><div class=\"sk-item\"><div class=\"sk-estimator sk-toggleable\"><input class=\"sk-toggleable__control sk-hidden--visually\" id=\"sk-estimator-id-1\" type=\"checkbox\" checked><label for=\"sk-estimator-id-1\" class=\"sk-toggleable__label sk-toggleable__label-arrow\">XGBRFClassifier</label><div class=\"sk-toggleable__content\"><pre>XGBRFClassifier(base_score=0.5, booster=&#x27;gbtree&#x27;, callbacks=None,\n",
       "                colsample_bylevel=1, colsample_bytree=1,\n",
       "                early_stopping_rounds=None, enable_categorical=False,\n",
       "                eval_metric=None, gamma=0, gpu_id=-1, grow_policy=&#x27;depthwise&#x27;,\n",
       "                importance_type=None, interaction_constraints=&#x27;&#x27;,\n",
       "                learning_rate=0.05, max_bin=256, max_cat_to_onehot=4,\n",
       "                max_delta_step=0, max_depth=6, max_leaves=0, min_child_weight=1,\n",
       "                missing=nan, monotone_constraints=&#x27;()&#x27;, n_estimators=100,\n",
       "                n_jobs=0, num_parallel_tree=100, objective=&#x27;binary:logistic&#x27;,\n",
       "                predictor=&#x27;auto&#x27;, random_state=0, reg_alpha=0,\n",
       "                sampling_method=&#x27;uniform&#x27;, ...)</pre></div></div></div></div></div>"
      ],
      "text/plain": [
       "XGBRFClassifier(base_score=0.5, booster='gbtree', callbacks=None,\n",
       "                colsample_bylevel=1, colsample_bytree=1,\n",
       "                early_stopping_rounds=None, enable_categorical=False,\n",
       "                eval_metric=None, gamma=0, gpu_id=-1, grow_policy='depthwise',\n",
       "                importance_type=None, interaction_constraints='',\n",
       "                learning_rate=0.05, max_bin=256, max_cat_to_onehot=4,\n",
       "                max_delta_step=0, max_depth=6, max_leaves=0, min_child_weight=1,\n",
       "                missing=nan, monotone_constraints='()', n_estimators=100,\n",
       "                n_jobs=0, num_parallel_tree=100, objective='binary:logistic',\n",
       "                predictor='auto', random_state=0, reg_alpha=0,\n",
       "                sampling_method='uniform', ...)"
      ]
     },
     "execution_count": 4,
     "metadata": {},
     "output_type": "execute_result"
    }
   ],
   "source": [
    "from xgboost import XGBRFClassifier # 引入XGBoost分类模型XGBClassifier\n",
    "clf = XGBRFClassifier(n_estimators=100, learning_rate=0.05) # 将XGBClassifier()赋给变量clf，并设置弱学习器的最大迭代次数，或者说弱学习器的个数n_estimators参数为100，以及弱学习器的权重缩减系数learning_rate为0.05，其余参数都使用默认值\n",
    "clf.fit(x_train, y_train) # 用fit()函数进行模型训练，其中传入的参数为前面获得的训练集数据X_train、y_train"
   ]
  },
  {
   "cell_type": "markdown",
   "id": "2c299aab",
   "metadata": {},
   "source": [
    "## 二、模型预测及评估"
   ]
  },
  {
   "cell_type": "code",
   "execution_count": 5,
   "id": "47cddcb3",
   "metadata": {},
   "outputs": [
    {
     "data": {
      "text/plain": [
       "array([0, 1, 1, 0, 0, 0, 1, 0, 0, 0, 1, 1, 1, 1, 1, 0, 0, 0, 0, 0, 1, 1,\n",
       "       1, 0, 0, 0, 0, 0, 0, 1, 0, 1, 0, 1, 0, 0, 1, 1, 1, 0, 0, 1, 0, 0,\n",
       "       0, 0, 1, 0, 0, 0, 1, 0, 0, 0, 1, 1, 0, 1, 0, 0, 0, 0, 1, 0, 1, 0,\n",
       "       0, 0, 0, 1, 1, 0, 0, 0, 0, 0, 0, 0, 1, 0, 0, 0, 0, 0, 0, 1, 0, 0,\n",
       "       0, 1, 0, 0, 0, 1, 1, 0, 0, 0, 0, 0, 0, 0, 0, 0, 0, 0, 1, 0, 0, 1,\n",
       "       0, 0, 1, 0, 1, 0, 0, 0, 1, 0, 0, 0, 0, 0, 0, 1, 0, 0, 1, 1, 0, 0,\n",
       "       0, 0, 0, 0, 0, 1, 0, 0, 1, 0, 0, 1, 1, 0, 0, 1, 0, 1, 0, 0, 0, 0,\n",
       "       1, 0, 1, 1, 1, 0, 1, 0, 1, 1, 1, 0, 0, 0, 0, 0, 0, 0, 0, 0, 0, 0,\n",
       "       0, 1, 0, 0, 0, 1, 0, 0, 1, 0, 0, 1, 0, 0, 1, 0, 0, 0, 0, 0, 1, 0,\n",
       "       1, 1])"
      ]
     },
     "execution_count": 5,
     "metadata": {},
     "output_type": "execute_result"
    }
   ],
   "source": [
    "y_pred = clf.predict(x_test)\n",
    "y_pred"
   ]
  },
  {
   "cell_type": "markdown",
   "id": "44b668ea",
   "metadata": {},
   "source": [
    "通过如下代码可以汇总预测值和实际值，以便进行对比"
   ]
  },
  {
   "cell_type": "code",
   "execution_count": 6,
   "id": "995112ba",
   "metadata": {},
   "outputs": [
    {
     "data": {
      "text/html": [
       "<div>\n",
       "<style scoped>\n",
       "    .dataframe tbody tr th:only-of-type {\n",
       "        vertical-align: middle;\n",
       "    }\n",
       "\n",
       "    .dataframe tbody tr th {\n",
       "        vertical-align: top;\n",
       "    }\n",
       "\n",
       "    .dataframe thead th {\n",
       "        text-align: right;\n",
       "    }\n",
       "</style>\n",
       "<table border=\"1\" class=\"dataframe\">\n",
       "  <thead>\n",
       "    <tr style=\"text-align: right;\">\n",
       "      <th></th>\n",
       "      <th>预测值</th>\n",
       "      <th>实际值</th>\n",
       "    </tr>\n",
       "  </thead>\n",
       "  <tbody>\n",
       "    <tr>\n",
       "      <th>0</th>\n",
       "      <td>0</td>\n",
       "      <td>1</td>\n",
       "    </tr>\n",
       "    <tr>\n",
       "      <th>1</th>\n",
       "      <td>1</td>\n",
       "      <td>1</td>\n",
       "    </tr>\n",
       "    <tr>\n",
       "      <th>2</th>\n",
       "      <td>1</td>\n",
       "      <td>1</td>\n",
       "    </tr>\n",
       "    <tr>\n",
       "      <th>3</th>\n",
       "      <td>0</td>\n",
       "      <td>0</td>\n",
       "    </tr>\n",
       "    <tr>\n",
       "      <th>4</th>\n",
       "      <td>0</td>\n",
       "      <td>1</td>\n",
       "    </tr>\n",
       "  </tbody>\n",
       "</table>\n",
       "</div>"
      ],
      "text/plain": [
       "   预测值  实际值\n",
       "0    0    1\n",
       "1    1    1\n",
       "2    1    1\n",
       "3    0    0\n",
       "4    0    1"
      ]
     },
     "execution_count": 6,
     "metadata": {},
     "output_type": "execute_result"
    }
   ],
   "source": [
    "a = pd.DataFrame()\n",
    "a['预测值'] = list(y_pred)\n",
    "a['实际值'] = list(y_test)\n",
    "a.head()"
   ]
  },
  {
   "cell_type": "markdown",
   "id": "84007880",
   "metadata": {},
   "source": [
    "可以看到，前5项的预测准确度为60%。通过如下代码可以查看所有测试集数据的预测准确度"
   ]
  },
  {
   "cell_type": "code",
   "execution_count": 7,
   "id": "6289a40e",
   "metadata": {},
   "outputs": [
    {
     "data": {
      "text/plain": [
       "0.875"
      ]
     },
     "execution_count": 7,
     "metadata": {},
     "output_type": "execute_result"
    }
   ],
   "source": [
    "from sklearn.metrics import accuracy_score\n",
    "score = accuracy_score(y_pred, y_test)\n",
    "score"
   ]
  },
  {
   "cell_type": "markdown",
   "id": "a49e2b4c",
   "metadata": {},
   "source": [
    "计算得到的score为0.875，即对87.5%的测试集数据的预测是正确的。还可用XGBClassifier自带的score()函数来查看准确度，代码如下，获得的结果同样是0.875。"
   ]
  },
  {
   "cell_type": "code",
   "execution_count": 8,
   "id": "c58210ef",
   "metadata": {},
   "outputs": [
    {
     "data": {
      "text/plain": [
       "0.875"
      ]
     },
     "execution_count": 8,
     "metadata": {},
     "output_type": "execute_result"
    }
   ],
   "source": [
    "clf.score(x_test, y_test)"
   ]
  },
  {
   "cell_type": "markdown",
   "id": "803e8d4a",
   "metadata": {},
   "source": [
    "XGBoost分类模型在本质上预测的并不是准确的0或1的分类，而是预测样本属于某一分类的概率，可以用predict_proba()函数查看预测属于各个分类的概率，代码如下。"
   ]
  },
  {
   "cell_type": "code",
   "execution_count": 9,
   "id": "66ff84f7",
   "metadata": {},
   "outputs": [
    {
     "data": {
      "text/plain": [
       "array([[0.51920855, 0.48079145],\n",
       "       [0.47502083, 0.5249792 ],\n",
       "       [0.47502083, 0.5249792 ],\n",
       "       [0.5198495 , 0.48015052],\n",
       "       [0.5185606 , 0.4814394 ],\n",
       "       [0.5204189 , 0.4795811 ],\n",
       "       [0.47502083, 0.5249792 ],\n",
       "       [0.5199778 , 0.48002216],\n",
       "       [0.5143398 , 0.48566023],\n",
       "       [0.5182148 , 0.48178515],\n",
       "       [0.4838434 , 0.5161566 ],\n",
       "       [0.47502083, 0.5249792 ],\n",
       "       [0.47502083, 0.5249792 ],\n",
       "       [0.47502083, 0.5249792 ],\n",
       "       [0.47502083, 0.5249792 ],\n",
       "       [0.51904   , 0.48096   ],\n",
       "       [0.5179566 , 0.48204336],\n",
       "       [0.5172926 , 0.48270735],\n",
       "       [0.5192013 , 0.4807987 ],\n",
       "       [0.5199909 , 0.48000908],\n",
       "       [0.47502083, 0.5249792 ],\n",
       "       [0.47502083, 0.5249792 ],\n",
       "       [0.47502083, 0.5249792 ],\n",
       "       [0.51823497, 0.481765  ],\n",
       "       [0.5188    , 0.48119998],\n",
       "       [0.5187483 , 0.48125172],\n",
       "       [0.51949733, 0.48050267],\n",
       "       [0.519977  , 0.48002303],\n",
       "       [0.5201425 , 0.4798575 ],\n",
       "       [0.47502083, 0.5249792 ],\n",
       "       [0.51908016, 0.48091984],\n",
       "       [0.47502083, 0.5249792 ],\n",
       "       [0.516526  , 0.48347402],\n",
       "       [0.47502083, 0.5249792 ],\n",
       "       [0.5202917 , 0.47970834],\n",
       "       [0.5196997 , 0.4803003 ],\n",
       "       [0.47502083, 0.5249792 ],\n",
       "       [0.47502083, 0.5249792 ],\n",
       "       [0.4840899 , 0.5159101 ],\n",
       "       [0.5194154 , 0.4805846 ],\n",
       "       [0.518934  , 0.48106596],\n",
       "       [0.47502083, 0.5249792 ],\n",
       "       [0.5178969 , 0.48210314],\n",
       "       [0.5187795 , 0.4812205 ],\n",
       "       [0.52000993, 0.47999007],\n",
       "       [0.51951957, 0.48048043],\n",
       "       [0.47502083, 0.5249792 ],\n",
       "       [0.5196392 , 0.4803608 ],\n",
       "       [0.5192086 , 0.4807914 ],\n",
       "       [0.5191165 , 0.48088345],\n",
       "       [0.47502083, 0.5249792 ],\n",
       "       [0.5177306 , 0.48226944],\n",
       "       [0.51835513, 0.48164484],\n",
       "       [0.5190234 , 0.48097655],\n",
       "       [0.47502083, 0.5249792 ],\n",
       "       [0.47502083, 0.5249792 ],\n",
       "       [0.51996434, 0.48003566],\n",
       "       [0.47502083, 0.5249792 ],\n",
       "       [0.5191947 , 0.48080528],\n",
       "       [0.5194628 , 0.48053715],\n",
       "       [0.5190333 , 0.48096672],\n",
       "       [0.52012813, 0.47987184],\n",
       "       [0.47502083, 0.5249792 ],\n",
       "       [0.51868033, 0.4813197 ],\n",
       "       [0.47502083, 0.5249792 ],\n",
       "       [0.5190012 , 0.4809988 ],\n",
       "       [0.5196694 , 0.48033062],\n",
       "       [0.51970816, 0.4802918 ],\n",
       "       [0.52052224, 0.4794778 ],\n",
       "       [0.483068  , 0.516932  ],\n",
       "       [0.47502083, 0.5249792 ],\n",
       "       [0.5193615 , 0.4806385 ],\n",
       "       [0.5197277 , 0.48027226],\n",
       "       [0.5199702 , 0.4800298 ],\n",
       "       [0.51903373, 0.48096627],\n",
       "       [0.5198194 , 0.48018065],\n",
       "       [0.51915276, 0.48084724],\n",
       "       [0.5165054 , 0.48349458],\n",
       "       [0.47502083, 0.5249792 ],\n",
       "       [0.51799846, 0.4820015 ],\n",
       "       [0.5198198 , 0.4801802 ],\n",
       "       [0.5174563 , 0.48254374],\n",
       "       [0.51938295, 0.48061708],\n",
       "       [0.51538736, 0.48461264],\n",
       "       [0.5175158 , 0.48248425],\n",
       "       [0.47502083, 0.5249792 ],\n",
       "       [0.5191511 , 0.48084894],\n",
       "       [0.51876736, 0.4812326 ],\n",
       "       [0.519627  , 0.48037302],\n",
       "       [0.4754237 , 0.5245763 ],\n",
       "       [0.51804864, 0.48195136],\n",
       "       [0.5207055 , 0.47929448],\n",
       "       [0.5175644 , 0.4824356 ],\n",
       "       [0.47502083, 0.5249792 ],\n",
       "       [0.47502083, 0.5249792 ],\n",
       "       [0.5183635 , 0.4816365 ],\n",
       "       [0.51957965, 0.48042035],\n",
       "       [0.5169572 , 0.48304278],\n",
       "       [0.51902425, 0.48097578],\n",
       "       [0.5179441 , 0.48205593],\n",
       "       [0.5206152 , 0.4793848 ],\n",
       "       [0.5180459 , 0.48195413],\n",
       "       [0.5196676 , 0.48033237],\n",
       "       [0.5138022 , 0.4861978 ],\n",
       "       [0.5188191 , 0.48118088],\n",
       "       [0.51738536, 0.4826146 ],\n",
       "       [0.47502083, 0.5249792 ],\n",
       "       [0.51768255, 0.48231745],\n",
       "       [0.5179809 , 0.48201913],\n",
       "       [0.47502083, 0.5249792 ],\n",
       "       [0.52035093, 0.4796491 ],\n",
       "       [0.5187999 , 0.48120007],\n",
       "       [0.47502083, 0.5249792 ],\n",
       "       [0.5195353 , 0.4804647 ],\n",
       "       [0.47502083, 0.5249792 ],\n",
       "       [0.517212  , 0.48278803],\n",
       "       [0.5184542 , 0.4815458 ],\n",
       "       [0.51870465, 0.48129532],\n",
       "       [0.47502083, 0.5249792 ],\n",
       "       [0.5164077 , 0.48359227],\n",
       "       [0.5180378 , 0.4819622 ],\n",
       "       [0.5179342 , 0.4820658 ],\n",
       "       [0.51829886, 0.48170117],\n",
       "       [0.51954055, 0.48045942],\n",
       "       [0.5199972 , 0.48000282],\n",
       "       [0.47502083, 0.5249792 ],\n",
       "       [0.51780844, 0.4821916 ],\n",
       "       [0.5191474 , 0.48085257],\n",
       "       [0.47502083, 0.5249792 ],\n",
       "       [0.47502083, 0.5249792 ],\n",
       "       [0.5185884 , 0.48141155],\n",
       "       [0.5199739 , 0.48002616],\n",
       "       [0.5198786 , 0.4801214 ],\n",
       "       [0.51898134, 0.48101863],\n",
       "       [0.518056  , 0.48194402],\n",
       "       [0.51815665, 0.48184338],\n",
       "       [0.51895404, 0.48104593],\n",
       "       [0.47502083, 0.5249792 ],\n",
       "       [0.5191691 , 0.48083088],\n",
       "       [0.51987517, 0.4801248 ],\n",
       "       [0.47502083, 0.5249792 ],\n",
       "       [0.5201448 , 0.47985515],\n",
       "       [0.51915765, 0.48084232],\n",
       "       [0.4838305 , 0.5161695 ],\n",
       "       [0.47502083, 0.5249792 ],\n",
       "       [0.5198813 , 0.4801187 ],\n",
       "       [0.51810145, 0.48189852],\n",
       "       [0.47502083, 0.5249792 ],\n",
       "       [0.519588  , 0.48041198],\n",
       "       [0.47502083, 0.5249792 ],\n",
       "       [0.5200044 , 0.47999564],\n",
       "       [0.5197135 , 0.48028645],\n",
       "       [0.5177565 , 0.48224348],\n",
       "       [0.5192019 , 0.48079813],\n",
       "       [0.47502083, 0.5249792 ],\n",
       "       [0.51914084, 0.4808592 ],\n",
       "       [0.47502083, 0.5249792 ],\n",
       "       [0.48381478, 0.5161852 ],\n",
       "       [0.47502083, 0.5249792 ],\n",
       "       [0.51804745, 0.48195258],\n",
       "       [0.47502083, 0.5249792 ],\n",
       "       [0.51920974, 0.48079026],\n",
       "       [0.48397923, 0.5160208 ],\n",
       "       [0.47502083, 0.5249792 ],\n",
       "       [0.47502083, 0.5249792 ],\n",
       "       [0.51998097, 0.48001903],\n",
       "       [0.52005196, 0.479948  ],\n",
       "       [0.5163547 , 0.48364535],\n",
       "       [0.5178646 , 0.4821354 ],\n",
       "       [0.5196351 , 0.4803649 ],\n",
       "       [0.51852125, 0.48147875],\n",
       "       [0.5165316 , 0.4834684 ],\n",
       "       [0.5198569 , 0.48014304],\n",
       "       [0.5172856 , 0.48271444],\n",
       "       [0.5203345 , 0.47966555],\n",
       "       [0.519099  , 0.480901  ],\n",
       "       [0.51780665, 0.48219335],\n",
       "       [0.47502083, 0.5249792 ],\n",
       "       [0.519457  , 0.48054302],\n",
       "       [0.51876163, 0.48123834],\n",
       "       [0.52007663, 0.4799234 ],\n",
       "       [0.47502083, 0.5249792 ],\n",
       "       [0.5156194 , 0.4843806 ],\n",
       "       [0.5190223 , 0.4809777 ],\n",
       "       [0.48373294, 0.51626706],\n",
       "       [0.51940614, 0.48059386],\n",
       "       [0.5173311 , 0.48266885],\n",
       "       [0.47502083, 0.5249792 ],\n",
       "       [0.51889503, 0.48110497],\n",
       "       [0.51798666, 0.48201337],\n",
       "       [0.47502083, 0.5249792 ],\n",
       "       [0.51505303, 0.48494697],\n",
       "       [0.5184947 , 0.4815053 ],\n",
       "       [0.518507  , 0.48149303],\n",
       "       [0.52055585, 0.47944415],\n",
       "       [0.5186272 , 0.48137277],\n",
       "       [0.47502083, 0.5249792 ],\n",
       "       [0.520185  , 0.47981504],\n",
       "       [0.47502083, 0.5249792 ],\n",
       "       [0.47502083, 0.5249792 ]], dtype=float32)"
      ]
     },
     "execution_count": 9,
     "metadata": {},
     "output_type": "execute_result"
    }
   ],
   "source": [
    "y_pred_proba = clf.predict_proba(x_test)\n",
    "y_pred_proba"
   ]
  },
  {
   "cell_type": "markdown",
   "id": "31047909",
   "metadata": {},
   "source": [
    "获得的y_pred_proba是一个二维数组，其中第1列为分类为0（即非欺诈）的概率，第2列为分类为1（即欺诈）的概率，可通过如下代码查看欺诈（分类为1）的概率。"
   ]
  },
  {
   "cell_type": "code",
   "execution_count": 10,
   "id": "3155b41a",
   "metadata": {
    "scrolled": true
   },
   "outputs": [
    {
     "data": {
      "text/plain": [
       "array([0.48079145, 0.5249792 , 0.5249792 , 0.48015052, 0.4814394 ,\n",
       "       0.4795811 , 0.5249792 , 0.48002216, 0.48566023, 0.48178515,\n",
       "       0.5161566 , 0.5249792 , 0.5249792 , 0.5249792 , 0.5249792 ,\n",
       "       0.48096   , 0.48204336, 0.48270735, 0.4807987 , 0.48000908,\n",
       "       0.5249792 , 0.5249792 , 0.5249792 , 0.481765  , 0.48119998,\n",
       "       0.48125172, 0.48050267, 0.48002303, 0.4798575 , 0.5249792 ,\n",
       "       0.48091984, 0.5249792 , 0.48347402, 0.5249792 , 0.47970834,\n",
       "       0.4803003 , 0.5249792 , 0.5249792 , 0.5159101 , 0.4805846 ,\n",
       "       0.48106596, 0.5249792 , 0.48210314, 0.4812205 , 0.47999007,\n",
       "       0.48048043, 0.5249792 , 0.4803608 , 0.4807914 , 0.48088345,\n",
       "       0.5249792 , 0.48226944, 0.48164484, 0.48097655, 0.5249792 ,\n",
       "       0.5249792 , 0.48003566, 0.5249792 , 0.48080528, 0.48053715,\n",
       "       0.48096672, 0.47987184, 0.5249792 , 0.4813197 , 0.5249792 ,\n",
       "       0.4809988 , 0.48033062, 0.4802918 , 0.4794778 , 0.516932  ,\n",
       "       0.5249792 , 0.4806385 , 0.48027226, 0.4800298 , 0.48096627,\n",
       "       0.48018065, 0.48084724, 0.48349458, 0.5249792 , 0.4820015 ,\n",
       "       0.4801802 , 0.48254374, 0.48061708, 0.48461264, 0.48248425,\n",
       "       0.5249792 , 0.48084894, 0.4812326 , 0.48037302, 0.5245763 ,\n",
       "       0.48195136, 0.47929448, 0.4824356 , 0.5249792 , 0.5249792 ,\n",
       "       0.4816365 , 0.48042035, 0.48304278, 0.48097578, 0.48205593,\n",
       "       0.4793848 , 0.48195413, 0.48033237, 0.4861978 , 0.48118088,\n",
       "       0.4826146 , 0.5249792 , 0.48231745, 0.48201913, 0.5249792 ,\n",
       "       0.4796491 , 0.48120007, 0.5249792 , 0.4804647 , 0.5249792 ,\n",
       "       0.48278803, 0.4815458 , 0.48129532, 0.5249792 , 0.48359227,\n",
       "       0.4819622 , 0.4820658 , 0.48170117, 0.48045942, 0.48000282,\n",
       "       0.5249792 , 0.4821916 , 0.48085257, 0.5249792 , 0.5249792 ,\n",
       "       0.48141155, 0.48002616, 0.4801214 , 0.48101863, 0.48194402,\n",
       "       0.48184338, 0.48104593, 0.5249792 , 0.48083088, 0.4801248 ,\n",
       "       0.5249792 , 0.47985515, 0.48084232, 0.5161695 , 0.5249792 ,\n",
       "       0.4801187 , 0.48189852, 0.5249792 , 0.48041198, 0.5249792 ,\n",
       "       0.47999564, 0.48028645, 0.48224348, 0.48079813, 0.5249792 ,\n",
       "       0.4808592 , 0.5249792 , 0.5161852 , 0.5249792 , 0.48195258,\n",
       "       0.5249792 , 0.48079026, 0.5160208 , 0.5249792 , 0.5249792 ,\n",
       "       0.48001903, 0.479948  , 0.48364535, 0.4821354 , 0.4803649 ,\n",
       "       0.48147875, 0.4834684 , 0.48014304, 0.48271444, 0.47966555,\n",
       "       0.480901  , 0.48219335, 0.5249792 , 0.48054302, 0.48123834,\n",
       "       0.4799234 , 0.5249792 , 0.4843806 , 0.4809777 , 0.51626706,\n",
       "       0.48059386, 0.48266885, 0.5249792 , 0.48110497, 0.48201337,\n",
       "       0.5249792 , 0.48494697, 0.4815053 , 0.48149303, 0.47944415,\n",
       "       0.48137277, 0.5249792 , 0.47981504, 0.5249792 , 0.5249792 ],\n",
       "      dtype=float32)"
      ]
     },
     "execution_count": 10,
     "metadata": {},
     "output_type": "execute_result"
    }
   ],
   "source": [
    "y_pred_proba[:, 1]"
   ]
  },
  {
   "cell_type": "markdown",
   "id": "328e12e6",
   "metadata": {},
   "source": [
    "通过绘制ROC曲线来评估模型的预测效果"
   ]
  },
  {
   "cell_type": "code",
   "execution_count": 11,
   "id": "88e2f751",
   "metadata": {},
   "outputs": [
    {
     "data": {
      "image/png": "[encoded data removed]",
      "text/plain": [
       "<Figure size 432x288 with 1 Axes>"
      ]
     },
     "metadata": {
      "needs_background": "light"
     },
     "output_type": "display_data"
    }
   ],
   "source": [
    "from sklearn.metrics import roc_curve\n",
    "fpr, tpr, thres = roc_curve(y_test, y_pred_proba[:, 1])\n",
    "import matplotlib.pyplot as plt\n",
    "plt.plot(fpr, tpr)\n",
    "plt.show()"
   ]
  },
  {
   "cell_type": "markdown",
   "id": "103701ac",
   "metadata": {},
   "source": [
    "计算模型的AUC值"
   ]
  },
  {
   "cell_type": "code",
   "execution_count": 13,
   "id": "c25363a9",
   "metadata": {},
   "outputs": [
    {
     "data": {
      "text/plain": [
       "0.8664428847523141"
      ]
     },
     "execution_count": 13,
     "metadata": {},
     "output_type": "execute_result"
    }
   ],
   "source": [
    "from sklearn.metrics import roc_auc_score\n",
    "score = roc_auc_score(y_test, y_pred_proba[:, 1])\n",
    "score"
   ]
  },
  {
   "cell_type": "markdown",
   "id": "6d9df3e0",
   "metadata": {},
   "source": [
    "计算得到的AUC值为0.866，说明预测效果较为理想。通过如下代码可以查看各个特征变量的特征重要性，以便筛选出信用卡欺诈行为判断中最重要的特征变量。"
   ]
  },
  {
   "cell_type": "code",
   "execution_count": 14,
   "id": "c7a6948c",
   "metadata": {},
   "outputs": [
    {
     "data": {
      "text/plain": [
       "array([0.4520549 , 0.1714145 , 0.03829743, 0.33140376, 0.00682942],\n",
       "      dtype=float32)"
      ]
     },
     "execution_count": 14,
     "metadata": {},
     "output_type": "execute_result"
    }
   ],
   "source": [
    "clf.feature_importances_"
   ]
  },
  {
   "cell_type": "markdown",
   "id": "3e50a143",
   "metadata": {},
   "source": [
    "通过如下代码对特征名称和特征重要性进行汇总，以方便筛选"
   ]
  },
  {
   "cell_type": "code",
   "execution_count": 15,
   "id": "30e4f5a4",
   "metadata": {},
   "outputs": [
    {
     "data": {
      "text/html": [
       "<div>\n",
       "<style scoped>\n",
       "    .dataframe tbody tr th:only-of-type {\n",
       "        vertical-align: middle;\n",
       "    }\n",
       "\n",
       "    .dataframe tbody tr th {\n",
       "        vertical-align: top;\n",
       "    }\n",
       "\n",
       "    .dataframe thead th {\n",
       "        text-align: right;\n",
       "    }\n",
       "</style>\n",
       "<table border=\"1\" class=\"dataframe\">\n",
       "  <thead>\n",
       "    <tr style=\"text-align: right;\">\n",
       "      <th></th>\n",
       "      <th>特征名称</th>\n",
       "      <th>特征重要性</th>\n",
       "    </tr>\n",
       "  </thead>\n",
       "  <tbody>\n",
       "    <tr>\n",
       "      <th>0</th>\n",
       "      <td>换设备次数</td>\n",
       "      <td>0.452055</td>\n",
       "    </tr>\n",
       "    <tr>\n",
       "      <th>3</th>\n",
       "      <td>换IP国次数</td>\n",
       "      <td>0.331404</td>\n",
       "    </tr>\n",
       "    <tr>\n",
       "      <th>1</th>\n",
       "      <td>支付失败次数</td>\n",
       "      <td>0.171414</td>\n",
       "    </tr>\n",
       "    <tr>\n",
       "      <th>2</th>\n",
       "      <td>换IP次数</td>\n",
       "      <td>0.038297</td>\n",
       "    </tr>\n",
       "    <tr>\n",
       "      <th>4</th>\n",
       "      <td>交易金额</td>\n",
       "      <td>0.006829</td>\n",
       "    </tr>\n",
       "  </tbody>\n",
       "</table>\n",
       "</div>"
      ],
      "text/plain": [
       "     特征名称     特征重要性\n",
       "0   换设备次数  0.452055\n",
       "3  换IP国次数  0.331404\n",
       "1  支付失败次数  0.171414\n",
       "2   换IP次数  0.038297\n",
       "4    交易金额  0.006829"
      ]
     },
     "execution_count": 15,
     "metadata": {},
     "output_type": "execute_result"
    }
   ],
   "source": [
    "features = x.columns # 获取特征名称\n",
    "importances = clf.feature_importances_ # 获取特征重要性\n",
    "# 整理成二维表格，并按特征重要性降序排列\n",
    "importances_df = pd.DataFrame()\n",
    "importances_df['特征名称'] = features\n",
    "importances_df['特征重要性'] = importances\n",
    "importances_df.sort_values('特征重要性', ascending=False)"
   ]
  },
  {
   "cell_type": "markdown",
   "id": "084e240b",
   "metadata": {},
   "source": [
    "## 三、模型参数调优\n",
    "XGBoost分类模型的参数有很多，这里选取以下参数进行调优。\n",
    "* max_depth：弱学习器决策树的最大深度，默认取3。\n",
    "* n_estimators：弱学习器的个数，或者说弱学习器的最大迭代次数，默认取100。\n",
    "* earning_rate：学习率，又称为每个弱学习器的权重缩减系数，取值范围为（0，1]，取值较小意味着要达到一定的学习效果，需要更多迭代次数和更多弱学习器，默认取0.1。\n",
    "\n",
    "通常用n_estimators和learning_rate一起决定算法的拟合效果，所以这两个参数要一起调优。"
   ]
  },
  {
   "cell_type": "code",
   "execution_count": 26,
   "id": "362965f9",
   "metadata": {},
   "outputs": [],
   "source": [
    "# 使用GridSearch网格搜索进行参数调优\n",
    "from sklearn.model_selection import GridSearchCV # 从Scikit-Learn库中引入GridSearchCV()函数\n",
    "parameters = {'max_depth':[1,3,5], 'n_estimators':[50, 100, 150], 'learning_rate':[0.01, 0.05, 0.1, 0.2]} # 指定XGBoost分类模型中待调优参数max_depth、n_estimators、learning_rate的候选值范围\n",
    "clf = XGBRFClassifier() # 构建XGBoost分类模型并将其赋给变量clf\n",
    "grid_search = GridSearchCV(clf, parameters, scoring='roc_auc', cv=5) # 将模型和待调优参数的候选值范围传入GridSearchCV()函数，设置scoring参数为'roc_auc'，表示以ROC曲线的AUC值作为模型评估标准，并设置cv参数为5，表示交叉验证5次"
   ]
  },
  {
   "cell_type": "code",
   "execution_count": 28,
   "id": "fb25769a",
   "metadata": {},
   "outputs": [
    {
     "data": {
      "text/plain": [
       "{'learning_rate': 0.01, 'max_depth': 3, 'n_estimators': 50}"
      ]
     },
     "execution_count": 28,
     "metadata": {},
     "output_type": "execute_result"
    }
   ],
   "source": [
    "# 将训练集数据传入网格搜索模型并输出参数的最优值\n",
    "grid_search.fit(x_train, y_train) # 传入训练集数据\n",
    "grid_search.best_params_ # 输出参数的最优值"
   ]
  },
  {
   "cell_type": "markdown",
   "id": "687a0593",
   "metadata": {},
   "source": [
    "从上述结果可以看出，针对本案例的数据，弱学习器决策树的最大深度限制为3，弱学习器的最大迭代次数设置为50，弱学习器的权重缩减系数设置为0.01时，模型的预测效果最佳。\n",
    "\n",
    "下面使用上面获得的参数最优值重新搭建模型，并传入训练集数据，代码如下"
   ]
  },
  {
   "cell_type": "code",
   "execution_count": 29,
   "id": "19cfcc47",
   "metadata": {
    "scrolled": true
   },
   "outputs": [
    {
     "data": {
      "text/html": [
       "<style>#sk-container-id-3 {color: black;background-color: white;}#sk-container-id-3 pre{padding: 0;}#sk-container-id-3 div.sk-toggleable {background-color: white;}#sk-container-id-3 label.sk-toggleable__label {cursor: pointer;display: block;width: 100%;margin-bottom: 0;padding: 0.3em;box-sizing: border-box;text-align: center;}#sk-container-id-3 label.sk-toggleable__label-arrow:before {content: \"▸\";float: left;margin-right: 0.25em;color: #696969;}#sk-container-id-3 label.sk-toggleable__label-arrow:hover:before {color: black;}#sk-container-id-3 div.sk-estimator:hover label.sk-toggleable__label-arrow:before {color: black;}#sk-container-id-3 div.sk-toggleable__content {max-height: 0;max-width: 0;overflow: hidden;text-align: left;background-color: #f0f8ff;}#sk-container-id-3 div.sk-toggleable__content pre {margin: 0.2em;color: black;border-radius: 0.25em;background-color: #f0f8ff;}#sk-container-id-3 input.sk-toggleable__control:checked~div.sk-toggleable__content {max-height: 200px;max-width: 100%;overflow: auto;}#sk-container-id-3 input.sk-toggleable__control:checked~label.sk-toggleable__label-arrow:before {content: \"▾\";}#sk-container-id-3 div.sk-estimator input.sk-toggleable__control:checked~label.sk-toggleable__label {background-color: #d4ebff;}#sk-container-id-3 div.sk-label input.sk-toggleable__control:checked~label.sk-toggleable__label {background-color: #d4ebff;}#sk-container-id-3 input.sk-hidden--visually {border: 0;clip: rect(1px 1px 1px 1px);clip: rect(1px, 1px, 1px, 1px);height: 1px;margin: -1px;overflow: hidden;padding: 0;position: absolute;width: 1px;}#sk-container-id-3 div.sk-estimator {font-family: monospace;background-color: #f0f8ff;border: 1px dotted black;border-radius: 0.25em;box-sizing: border-box;margin-bottom: 0.5em;}#sk-container-id-3 div.sk-estimator:hover {background-color: #d4ebff;}#sk-container-id-3 div.sk-parallel-item::after {content: \"\";width: 100%;border-bottom: 1px solid gray;flex-grow: 1;}#sk-container-id-3 div.sk-label:hover label.sk-toggleable__label {background-color: #d4ebff;}#sk-container-id-3 div.sk-serial::before {content: \"\";position: absolute;border-left: 1px solid gray;box-sizing: border-box;top: 0;bottom: 0;left: 50%;z-index: 0;}#sk-container-id-3 div.sk-serial {display: flex;flex-direction: column;align-items: center;background-color: white;padding-right: 0.2em;padding-left: 0.2em;position: relative;}#sk-container-id-3 div.sk-item {position: relative;z-index: 1;}#sk-container-id-3 div.sk-parallel {display: flex;align-items: stretch;justify-content: center;background-color: white;position: relative;}#sk-container-id-3 div.sk-item::before, #sk-container-id-3 div.sk-parallel-item::before {content: \"\";position: absolute;border-left: 1px solid gray;box-sizing: border-box;top: 0;bottom: 0;left: 50%;z-index: -1;}#sk-container-id-3 div.sk-parallel-item {display: flex;flex-direction: column;z-index: 1;position: relative;background-color: white;}#sk-container-id-3 div.sk-parallel-item:first-child::after {align-self: flex-end;width: 50%;}#sk-container-id-3 div.sk-parallel-item:last-child::after {align-self: flex-start;width: 50%;}#sk-container-id-3 div.sk-parallel-item:only-child::after {width: 0;}#sk-container-id-3 div.sk-dashed-wrapped {border: 1px dashed gray;margin: 0 0.4em 0.5em 0.4em;box-sizing: border-box;padding-bottom: 0.4em;background-color: white;}#sk-container-id-3 div.sk-label label {font-family: monospace;font-weight: bold;display: inline-block;line-height: 1.2em;}#sk-container-id-3 div.sk-label-container {text-align: center;}#sk-container-id-3 div.sk-container {/* jupyter's `normalize.less` sets `[hidden] { display: none; }` but bootstrap.min.css set `[hidden] { display: none !important; }` so we also need the `!important` here to be able to override the default hidden behavior on the sphinx rendered scikit-learn.org. See: https://github.com/scikit-learn/scikit-learn/issues/21755 */display: inline-block !important;position: relative;}#sk-container-id-3 div.sk-text-repr-fallback {display: none;}</style><div id=\"sk-container-id-3\" class=\"sk-top-container\"><div class=\"sk-text-repr-fallback\"><pre>XGBRFClassifier(base_score=0.5, booster=&#x27;gbtree&#x27;, callbacks=None,\n",
       "                colsample_bylevel=1, colsample_bytree=1,\n",
       "                early_stopping_rounds=None, enable_categorical=False,\n",
       "                eval_metric=None, gamma=0, gpu_id=-1, grow_policy=&#x27;depthwise&#x27;,\n",
       "                importance_type=None, interaction_constraints=&#x27;&#x27;,\n",
       "                learning_rate=0.05, max_bin=256, max_cat_to_onehot=4,\n",
       "                max_delta_step=0, max_depth=3, max_leaves=0, min_child_weight=1,\n",
       "                missing=nan, monotone_constraints=&#x27;()&#x27;, n_estimators=50,\n",
       "                n_jobs=0, num_parallel_tree=50, objective=&#x27;binary:logistic&#x27;,\n",
       "                predictor=&#x27;auto&#x27;, random_state=0, reg_alpha=0,\n",
       "                sampling_method=&#x27;uniform&#x27;, ...)</pre><b>In a Jupyter environment, please rerun this cell to show the HTML representation or trust the notebook. <br />On GitHub, the HTML representation is unable to render, please try loading this page with nbviewer.org.</b></div><div class=\"sk-container\" hidden><div class=\"sk-item\"><div class=\"sk-estimator sk-toggleable\"><input class=\"sk-toggleable__control sk-hidden--visually\" id=\"sk-estimator-id-5\" type=\"checkbox\" checked><label for=\"sk-estimator-id-5\" class=\"sk-toggleable__label sk-toggleable__label-arrow\">XGBRFClassifier</label><div class=\"sk-toggleable__content\"><pre>XGBRFClassifier(base_score=0.5, booster=&#x27;gbtree&#x27;, callbacks=None,\n",
       "                colsample_bylevel=1, colsample_bytree=1,\n",
       "                early_stopping_rounds=None, enable_categorical=False,\n",
       "                eval_metric=None, gamma=0, gpu_id=-1, grow_policy=&#x27;depthwise&#x27;,\n",
       "                importance_type=None, interaction_constraints=&#x27;&#x27;,\n",
       "                learning_rate=0.05, max_bin=256, max_cat_to_onehot=4,\n",
       "                max_delta_step=0, max_depth=3, max_leaves=0, min_child_weight=1,\n",
       "                missing=nan, monotone_constraints=&#x27;()&#x27;, n_estimators=50,\n",
       "                n_jobs=0, num_parallel_tree=50, objective=&#x27;binary:logistic&#x27;,\n",
       "                predictor=&#x27;auto&#x27;, random_state=0, reg_alpha=0,\n",
       "                sampling_method=&#x27;uniform&#x27;, ...)</pre></div></div></div></div></div>"
      ],
      "text/plain": [
       "XGBRFClassifier(base_score=0.5, booster='gbtree', callbacks=None,\n",
       "                colsample_bylevel=1, colsample_bytree=1,\n",
       "                early_stopping_rounds=None, enable_categorical=False,\n",
       "                eval_metric=None, gamma=0, gpu_id=-1, grow_policy='depthwise',\n",
       "                importance_type=None, interaction_constraints='',\n",
       "                learning_rate=0.05, max_bin=256, max_cat_to_onehot=4,\n",
       "                max_delta_step=0, max_depth=3, max_leaves=0, min_child_weight=1,\n",
       "                missing=nan, monotone_constraints='()', n_estimators=50,\n",
       "                n_jobs=0, num_parallel_tree=50, objective='binary:logistic',\n",
       "                predictor='auto', random_state=0, reg_alpha=0,\n",
       "                sampling_method='uniform', ...)"
      ]
     },
     "execution_count": 29,
     "metadata": {},
     "output_type": "execute_result"
    }
   ],
   "source": [
    "clf = XGBRFClassifier(max_depth=3, n_estimators=50, learning_rate=0.05)\n",
    "clf.fit(x_train, y_train)"
   ]
  },
  {
   "cell_type": "markdown",
   "id": "aa2c7590",
   "metadata": {},
   "source": [
    "参数调优时以ROC曲线的AUC值作为模型评估标准，可以通过如下代码查看新模型的AUC值"
   ]
  },
  {
   "cell_type": "code",
   "execution_count": 31,
   "id": "4c5ccb58",
   "metadata": {},
   "outputs": [
    {
     "data": {
      "text/plain": [
       "0.8563218390804598"
      ]
     },
     "execution_count": 31,
     "metadata": {},
     "output_type": "execute_result"
    }
   ],
   "source": [
    "y_pred_proba = clf.predict_proba(x_test)\n",
    "from sklearn.metrics import roc_auc_score\n",
    "score = roc_auc_score(y_test, y_pred_proba[:, 1])\n",
    "score"
   ]
  },
  {
   "cell_type": "markdown",
   "id": "213cc4d4",
   "metadata": {},
   "source": [
    "获得的AUC值为0.856，略低于参数调优前的0.866。**为什么调优后的结果还不如调优前的结果？** 通常来说，出现这种情况的概率较小，可能是因为数据量较小（如本案例只有1000条数据），也可能是因为本案例中使用了交叉验证。简单回顾一下K折交叉验证的思路：将原来的样本数据分为K份（这里设置cv参数为5，即分为5份），然后在这K份数据中选取K-1份作为训练数据，剩下的1份作为测试数据，训练K次，获得K个ROC曲线的AUC值，然后对K个AUC值求均值，再取AUC值的均值最大时的参数为模型的最优参数。需要注意的是，本案例中AUC值的获取是基于训练集数据，只不过是将训练集数据中的1/K作为测试集数据，该测试集数据并不是真正的测试集数据y_test，这也是参数调优后的结果不如调优前的结果的原因。"
   ]
  }
 ],
 "metadata": {
  "kernelspec": {
   "display_name": "Python 3 (ipykernel)",
   "language": "python",
   "name": "python3"
  },
  "language_info": {
   "codemirror_mode": {
    "name": "ipython",
    "version": 3
   },
   "file_extension": ".py",
   "mimetype": "text/x-python",
   "name": "python",
   "nbconvert_exporter": "python",
   "pygments_lexer": "ipython3",
   "version": "3.9.7"
  }
 },
 "nbformat": 4,
 "nbformat_minor": 5
}
