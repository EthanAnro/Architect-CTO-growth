{
 "cells": [
  {
   "cell_type": "markdown",
   "id": "76e0a459",
   "metadata": {},
   "source": [
    "**NumPy库和pandas库主要用于处理一维及二维的表格数据，而Matplotlib库是数据可视化的工具。**"
   ]
  },
  {
   "cell_type": "markdown",
   "id": "5c40aa4d",
   "metadata": {},
   "source": [
    "# 二、pandas库"
   ]
  },
  {
   "cell_type": "markdown",
   "id": "d4903b24",
   "metadata": {},
   "source": [
    "pandas库是基于NumPy库的一个开源Python库，广泛应用于完成数据快速分析、数据清洗和准备等工作，它的名字来源于“panel data”（面板数据）。pandas库提供了非常直观的数据结构及强大的数据管理和数据处理功能，某种程度上可以把pandas库看成Python版的Excel。\n",
    "\n",
    "## （1）二维数据表格DataFrame的创建\n",
    "与NumPy库相比，pandas库更擅长处理二维数据。pandas库主要有Series和DataFrame两种数据结构。Series类似于通过NumPy库创建的一维数组，不同的是Series对象不仅包含数值，还包含一组索引，但Series单独使用相对较少，学习pandas库主要是为了使用它提供的DataFrame数据结构。DataFrame是一种二维表格数据结构，可以将其看成一个Excel表格。"
   ]
  },
  {
   "cell_type": "code",
   "execution_count": 30,
   "id": "91b62700",
   "metadata": {},
   "outputs": [
    {
     "name": "stdout",
     "output_type": "stream",
     "text": [
      "0    张三\n",
      "1    李四\n",
      "2    王二\n",
      "dtype: object\n"
     ]
    }
   ],
   "source": [
    "import pandas as pd\n",
    "s1 = pd.Series(['张三', '李四', '王二'])\n",
    "print(s1)"
   ]
  },
  {
   "cell_type": "markdown",
   "id": "5bbb775f",
   "metadata": {},
   "source": [
    "### 通过列表创建DataFrame"
   ]
  },
  {
   "cell_type": "code",
   "execution_count": 31,
   "id": "ff68e2d5",
   "metadata": {},
   "outputs": [
    {
     "name": "stdout",
     "output_type": "stream",
     "text": [
      "   0  1\n",
      "0  1  2\n",
      "1  3  4\n",
      "2  5  6\n"
     ]
    }
   ],
   "source": [
    "a = pd.DataFrame([[1,2], [3, 4], [5, 6]])\n",
    "print(a)"
   ]
  },
  {
   "cell_type": "code",
   "execution_count": 32,
   "id": "aaee21d8",
   "metadata": {
    "scrolled": true
   },
   "outputs": [
    {
     "name": "stdout",
     "output_type": "stream",
     "text": [
      "   date  score\n",
      "A     1      2\n",
      "B     3      4\n",
      "C     5      6\n"
     ]
    }
   ],
   "source": [
    "# 创建DataFrame时自定义列索引和行索引的名称\n",
    "a = pd.DataFrame([[1,2], [3, 4], [5, 6]], \n",
    "                 columns=['date', 'score'], \n",
    "                 index=['A','B','C'])\n",
    "print(a)"
   ]
  },
  {
   "cell_type": "code",
   "execution_count": 33,
   "id": "e7e069ff",
   "metadata": {
    "scrolled": false
   },
   "outputs": [
    {
     "name": "stdout",
     "output_type": "stream",
     "text": [
      "   date  score\n",
      "0     1      2\n",
      "1     3      4\n",
      "2     5      6\n"
     ]
    }
   ],
   "source": [
    "# 创建DataFrame还可以采用如下方式\n",
    "a = pd.DataFrame() # 创建一个空DataFrame \n",
    "date = [1, 3, 5]\n",
    "score = [2, 4, 6]\n",
    "a['date'] = date\n",
    "a['score'] = score\n",
    "print(a)"
   ]
  },
  {
   "cell_type": "markdown",
   "id": "754ff342",
   "metadata": {},
   "source": [
    "### 通过字典创建DataFrame"
   ]
  },
  {
   "cell_type": "code",
   "execution_count": 34,
   "id": "47a1f7ec",
   "metadata": {
    "scrolled": true
   },
   "outputs": [
    {
     "name": "stdout",
     "output_type": "stream",
     "text": [
      "   a  b\n",
      "x  1  2\n",
      "y  3  4\n",
      "z  5  6\n",
      "   x  y  z\n",
      "a  1  3  5\n",
      "b  2  4  6\n"
     ]
    }
   ],
   "source": [
    "# 默认字典键为列索引\n",
    "b = pd.DataFrame({'a':[1,3,5],'b':[2, 4, 6]}, index=['x', 'y', 'z'])\n",
    "print(b)\n",
    "print(b.T)"
   ]
  },
  {
   "cell_type": "code",
   "execution_count": 35,
   "id": "fc30d450",
   "metadata": {},
   "outputs": [
    {
     "name": "stdout",
     "output_type": "stream",
     "text": [
      "   0  1  2\n",
      "a  1  3  5\n",
      "b  2  4  6\n"
     ]
    }
   ],
   "source": [
    "# 如果想让字典键变成行索引，可以使用from_dict()函数将字典转换成DataFrame，并同时设置orient参数为index\n",
    "import pandas as pd\n",
    "b = pd.DataFrame.from_dict({'a':[1,3,5],'b':[2, 4, 6]}, orient = \"index\")\n",
    "print(b)"
   ]
  },
  {
   "cell_type": "code",
   "execution_count": 36,
   "id": "ec908c38",
   "metadata": {
    "scrolled": true
   },
   "outputs": [
    {
     "name": "stdout",
     "output_type": "stream",
     "text": [
      "   a  b\n",
      "0  1  2\n",
      "1  3  4\n",
      "2  5  6\n",
      "   0  1  2\n",
      "a  1  3  5\n",
      "b  2  4  6\n"
     ]
    }
   ],
   "source": [
    "# 除了使用from_dict()函数的orient参数外，还可以通过DataFrame的T属性对DataFrame进行转置\n",
    "b = pd.DataFrame({'a': [1, 3, 5], 'b': [2, 4, 6]})\n",
    "print(b)\n",
    "print(b.T)"
   ]
  },
  {
   "cell_type": "markdown",
   "id": "29d3870a",
   "metadata": {},
   "source": [
    "### 通过二维数组创建DataFrame"
   ]
  },
  {
   "cell_type": "code",
   "execution_count": 38,
   "id": "982e2d74",
   "metadata": {
    "scrolled": false
   },
   "outputs": [
    {
     "name": "stdout",
     "output_type": "stream",
     "text": [
      "   A  B   C   D\n",
      "1  0  1   2   3\n",
      "2  4  5   6   7\n",
      "3  8  9  10  11\n"
     ]
    }
   ],
   "source": [
    "d = pd.DataFrame(np.arange(12).reshape(3, 4), \n",
    "                 index=[1,2,3], \n",
    "                 columns=['A', 'B', 'C', 'D'])\n",
    "print(d)"
   ]
  },
  {
   "cell_type": "markdown",
   "id": "7aa07a82",
   "metadata": {},
   "source": [
    "### 修改行索引或列索引名称"
   ]
  },
  {
   "cell_type": "code",
   "execution_count": 47,
   "id": "9dac4631",
   "metadata": {},
   "outputs": [
    {
     "name": "stdout",
     "output_type": "stream",
     "text": [
      "   date  score\n",
      "A     1      2\n",
      "B     3      4\n"
     ]
    }
   ],
   "source": [
    "a = pd.DataFrame([[1,2], [3,4]], columns=['date', 'score'], index = ['A', 'B'])\n",
    "print(a)"
   ]
  },
  {
   "cell_type": "code",
   "execution_count": 50,
   "id": "554a7427",
   "metadata": {
    "scrolled": true
   },
   "outputs": [
    {
     "name": "stdout",
     "output_type": "stream",
     "text": [
      "   date  score\n",
      "A     1      2\n",
      "B     3      4\n",
      "    日期  分数\n",
      "阿里   1   2\n",
      "腾讯   3   4\n"
     ]
    }
   ],
   "source": [
    "b = a.rename(index={'A':'阿里', 'B':'腾讯'}, columns={'date': '日期', 'score':'分数'})\n",
    "print(a)\n",
    "print(b)"
   ]
  },
  {
   "cell_type": "markdown",
   "id": "fe10b822",
   "metadata": {},
   "source": [
    "rename()函数是用新索引名新建一个DataFrame，未改变a的内容，这里将新DataFrame赋给a来改变其内容，可以设置inplace参数为True来实现真正的重命名"
   ]
  },
  {
   "cell_type": "code",
   "execution_count": 52,
   "id": "bd59fa30",
   "metadata": {},
   "outputs": [
    {
     "name": "stdout",
     "output_type": "stream",
     "text": [
      "    日期  分数\n",
      "阿里   1   2\n",
      "腾讯   3   4\n",
      "['阿里' '腾讯']\n"
     ]
    }
   ],
   "source": [
    "a.rename(index={'A':'阿里', 'B':'腾讯'}, columns={'date':'日期','score':'分数'}, inplace=True) \n",
    "print(a)\n",
    "print(a.index.values)"
   ]
  },
  {
   "cell_type": "code",
   "execution_count": 53,
   "id": "4a8a741d",
   "metadata": {},
   "outputs": [
    {
     "name": "stdout",
     "output_type": "stream",
     "text": [
      "    分数\n",
      "日期    \n",
      "1    2\n",
      "3    4\n"
     ]
    }
   ],
   "source": [
    "# 如果想把行索引变成某列的内容，可以使用set_index()函数\n",
    "a = a.set_index('日期')\n",
    "print(a)"
   ]
  },
  {
   "cell_type": "code",
   "execution_count": 55,
   "id": "c666c3da",
   "metadata": {},
   "outputs": [
    {
     "name": "stdout",
     "output_type": "stream",
     "text": [
      "   index  日期  分数\n",
      "0      0   1   2\n",
      "1      1   3   4\n"
     ]
    }
   ],
   "source": [
    "# 如果此时想把行索引换成数字索引，则可以使用reset_index()函数\n",
    "a = a.reset_index()\n",
    "print(a)"
   ]
  },
  {
   "cell_type": "markdown",
   "id": "acb88845",
   "metadata": {},
   "source": [
    " ## （二）Excel工作簿等文件的读取和写入\n",
    " \n",
    "几个比较常用的参数：sheet_name用于指定要读取的工作表，可以是工作表名称，也可以是数字（默认为0，即第1个工作表）；encoding用于指定文件编码方式，一般设置为“utf-8”或“gbk”，以避免中文乱码；index_col用于设置某一列为行索引\n",
    "\n",
    "### 文件读取"
   ]
  },
  {
   "cell_type": "code",
   "execution_count": 2,
   "id": "021b45d1",
   "metadata": {},
   "outputs": [
    {
     "data": {
      "text/html": [
       "<div>\n",
       "<style scoped>\n",
       "    .dataframe tbody tr th:only-of-type {\n",
       "        vertical-align: middle;\n",
       "    }\n",
       "\n",
       "    .dataframe tbody tr th {\n",
       "        vertical-align: top;\n",
       "    }\n",
       "\n",
       "    .dataframe thead th {\n",
       "        text-align: right;\n",
       "    }\n",
       "</style>\n",
       "<table border=\"1\" class=\"dataframe\">\n",
       "  <thead>\n",
       "    <tr style=\"text-align: right;\">\n",
       "      <th></th>\n",
       "      <th>date</th>\n",
       "      <th>score</th>\n",
       "      <th>price</th>\n",
       "    </tr>\n",
       "  </thead>\n",
       "  <tbody>\n",
       "    <tr>\n",
       "      <th>0</th>\n",
       "      <td>2018-09-03</td>\n",
       "      <td>70</td>\n",
       "      <td>23.55</td>\n",
       "    </tr>\n",
       "    <tr>\n",
       "      <th>1</th>\n",
       "      <td>2018-09-04</td>\n",
       "      <td>75</td>\n",
       "      <td>24.43</td>\n",
       "    </tr>\n",
       "    <tr>\n",
       "      <th>2</th>\n",
       "      <td>2018-09-05</td>\n",
       "      <td>65</td>\n",
       "      <td>23.41</td>\n",
       "    </tr>\n",
       "    <tr>\n",
       "      <th>3</th>\n",
       "      <td>2018-09-06</td>\n",
       "      <td>60</td>\n",
       "      <td>22.81</td>\n",
       "    </tr>\n",
       "    <tr>\n",
       "      <th>4</th>\n",
       "      <td>2018-09-07</td>\n",
       "      <td>70</td>\n",
       "      <td>23.21</td>\n",
       "    </tr>\n",
       "  </tbody>\n",
       "</table>\n",
       "</div>"
      ],
      "text/plain": [
       "         date  score  price\n",
       "0  2018-09-03     70  23.55\n",
       "1  2018-09-04     75  24.43\n",
       "2  2018-09-05     65  23.41\n",
       "3  2018-09-06     60  22.81\n",
       "4  2018-09-07     70  23.21"
      ]
     },
     "execution_count": 2,
     "metadata": {},
     "output_type": "execute_result"
    }
   ],
   "source": [
    "# csv 文件读取\n",
    "import pandas as pd\n",
    "data = pd.read_csv('datasets/data.csv', delimiter=',', encoding='utf-8')  # data为DataFrame结构\n",
    "data.head()  # 通过head()可以查看前5行数据，如果写成head(10)则可以查看前10行数据"
   ]
  },
  {
   "cell_type": "code",
   "execution_count": 5,
   "id": "ee1f7d58",
   "metadata": {
    "scrolled": true
   },
   "outputs": [
    {
     "data": {
      "text/html": [
       "<div>\n",
       "<style scoped>\n",
       "    .dataframe tbody tr th:only-of-type {\n",
       "        vertical-align: middle;\n",
       "    }\n",
       "\n",
       "    .dataframe tbody tr th {\n",
       "        vertical-align: top;\n",
       "    }\n",
       "\n",
       "    .dataframe thead th {\n",
       "        text-align: right;\n",
       "    }\n",
       "</style>\n",
       "<table border=\"1\" class=\"dataframe\">\n",
       "  <thead>\n",
       "    <tr style=\"text-align: right;\">\n",
       "      <th></th>\n",
       "      <th>date</th>\n",
       "      <th>score</th>\n",
       "      <th>price</th>\n",
       "    </tr>\n",
       "  </thead>\n",
       "  <tbody>\n",
       "    <tr>\n",
       "      <th>0</th>\n",
       "      <td>2018-09-03</td>\n",
       "      <td>70</td>\n",
       "      <td>23.55</td>\n",
       "    </tr>\n",
       "    <tr>\n",
       "      <th>1</th>\n",
       "      <td>2018-09-04</td>\n",
       "      <td>75</td>\n",
       "      <td>24.43</td>\n",
       "    </tr>\n",
       "    <tr>\n",
       "      <th>2</th>\n",
       "      <td>2018-09-05</td>\n",
       "      <td>65</td>\n",
       "      <td>23.41</td>\n",
       "    </tr>\n",
       "    <tr>\n",
       "      <th>3</th>\n",
       "      <td>2018-09-06</td>\n",
       "      <td>60</td>\n",
       "      <td>22.81</td>\n",
       "    </tr>\n",
       "    <tr>\n",
       "      <th>4</th>\n",
       "      <td>2018-09-07</td>\n",
       "      <td>70</td>\n",
       "      <td>23.21</td>\n",
       "    </tr>\n",
       "  </tbody>\n",
       "</table>\n",
       "</div>"
      ],
      "text/plain": [
       "         date  score  price\n",
       "0  2018-09-03     70  23.55\n",
       "1  2018-09-04     75  24.43\n",
       "2  2018-09-05     65  23.41\n",
       "3  2018-09-06     60  22.81\n",
       "4  2018-09-07     70  23.21"
      ]
     },
     "execution_count": 5,
     "metadata": {},
     "output_type": "execute_result"
    }
   ],
   "source": [
    "# xlsx 文件读取\n",
    "import pandas as pd\n",
    "data = pd.read_excel('datasets/data.xlsx', sheet_name=0)  # data为DataFrame结构\n",
    "data.head()  # 通过head()可以查看前5行数据，如果写成head(10)则可以查看前10行数据"
   ]
  },
  {
   "cell_type": "markdown",
   "id": "d3753e5d",
   "metadata": {},
   "source": [
    "### 文件写入\n",
    "\n",
    "常用参数有：sheet_name用于指定工作表名称；index用于指定是否写入行索引信息，默认为True，即将行索引信息写入输出文件的第1列，若设置为False，则忽略行索引信息；columns用于指定要写入的列；encoding用于指定编码方式。"
   ]
  },
  {
   "cell_type": "code",
   "execution_count": 7,
   "id": "71804216",
   "metadata": {},
   "outputs": [],
   "source": [
    "# 先创建一个DataFrame\n",
    "data = pd.DataFrame([[1,2], [3, 4], [5, 6]], columns=['A列','B列'])\n",
    "# 将DataFrame导入到Excel当中\n",
    "data.to_excel('datasets/data_yao.xlsx', index=False)"
   ]
  },
  {
   "cell_type": "code",
   "execution_count": 8,
   "id": "99f0a589",
   "metadata": {},
   "outputs": [],
   "source": [
    "# 先创建一个DataFrame\n",
    "data = pd.DataFrame([[1,2], [3, 4], [5, 6]], columns=['A列','B列'])\n",
    "# 将DataFrame导入到csv当中\n",
    "data.to_csv('datasets/data_yao.csv', index=False, encoding=\"utf_8_sig”\")"
   ]
  },
  {
   "cell_type": "markdown",
   "id": "995ae051",
   "metadata": {},
   "source": [
    "## （三）数据的选取与处理\n",
    "创建了DataFrame格式的表格之后，就可以对其中的数据进行进一步的选取和处理"
   ]
  },
  {
   "cell_type": "code",
   "execution_count": 53,
   "id": "4cd5c6cf",
   "metadata": {
    "scrolled": false
   },
   "outputs": [
    {
     "name": "stdout",
     "output_type": "stream",
     "text": [
      "    c1  c2  c3\n",
      "r1   1   2   3\n",
      "r2   4   5   6\n",
      "r3   7   8   9\n"
     ]
    }
   ],
   "source": [
    "# 创建一个3行3列的DataFrame，行索引设定为r1、r2、r3，列索引设定为c1、c2、c3\n",
    "import pandas as pd\n",
    "data = pd.DataFrame([[1, 2, 3], [4, 5, 6], [7, 8, 9]], index=['r1', 'r2', 'r3'], columns=['c1', 'c2', 'c3'])\n",
    "print(data)"
   ]
  },
  {
   "cell_type": "code",
   "execution_count": 54,
   "id": "54cdf1a0",
   "metadata": {},
   "outputs": [
    {
     "name": "stdout",
     "output_type": "stream",
     "text": [
      "    c1  c2  c3\n",
      "r1   1   2   3\n",
      "r2   4   5   6\n",
      "r3   7   8   9\n"
     ]
    }
   ],
   "source": [
    "# 也可通过下述方法，以数字1为起点，数字10为终点（终点取不到），生成1～9共9个数字，作为DataFrame中的数据\n",
    "data = pd.DataFrame(np.arange(1, 10).reshape(3,3), index=['r1', 'r2', 'r3'], columns=['c1', 'c2', 'c3'])\n",
    "print(data)"
   ]
  },
  {
   "cell_type": "markdown",
   "id": "e9446c29",
   "metadata": {},
   "source": [
    "### 按列选取数据"
   ]
  },
  {
   "cell_type": "code",
   "execution_count": 55,
   "id": "b48b6615",
   "metadata": {},
   "outputs": [
    {
     "name": "stdout",
     "output_type": "stream",
     "text": [
      "r1    1\n",
      "r2    4\n",
      "r3    7\n",
      "Name: c1, dtype: int64\n"
     ]
    }
   ],
   "source": [
    "# 选择单列数据\n",
    "a = data['c1']\n",
    "print(a)"
   ]
  },
  {
   "cell_type": "code",
   "execution_count": 15,
   "id": "ae7dae68",
   "metadata": {
    "scrolled": true
   },
   "outputs": [
    {
     "name": "stdout",
     "output_type": "stream",
     "text": [
      "    c1\n",
      "r1   1\n",
      "r2   4\n",
      "r3   7\n"
     ]
    }
   ],
   "source": [
    "# 因为通过data['c1']选取一列时返回的是一个一维的Series类型的数据，以下加索引按列选取数据，返回一个二维的表格数据\n",
    "b = data[['c1']]\n",
    "print(b)"
   ]
  },
  {
   "cell_type": "code",
   "execution_count": 32,
   "id": "5f1af1d9",
   "metadata": {
    "scrolled": false
   },
   "outputs": [
    {
     "name": "stdout",
     "output_type": "stream",
     "text": [
      "    c1  c3\n",
      "r1   1   3\n",
      "r2   4   6\n",
      "r3   7   9\n"
     ]
    }
   ],
   "source": [
    "# 选取多列，需要在中括号[]中指定列表，选取多列，需要在中括号[]中指定列表\n",
    "c = data[['c1', 'c3']]\n",
    "print(c)"
   ]
  },
  {
   "cell_type": "markdown",
   "id": "ce5a555d",
   "metadata": {},
   "source": [
    "### 按行选取数据"
   ]
  },
  {
   "cell_type": "code",
   "execution_count": 16,
   "id": "287db381",
   "metadata": {},
   "outputs": [
    {
     "name": "stdout",
     "output_type": "stream",
     "text": [
      "    c1  c2  c3\n",
      "r2   4   5   6\n",
      "r3   7   8   9\n"
     ]
    }
   ],
   "source": [
    "# 选取第2到3行的数据，序号从0开始，左闭右开\n",
    "a = data[1:3]\n",
    "print(a)"
   ]
  },
  {
   "cell_type": "code",
   "execution_count": 52,
   "id": "f0c8feb8",
   "metadata": {},
   "outputs": [
    {
     "name": "stdout",
     "output_type": "stream",
     "text": [
      "Empty DataFrame\n",
      "Columns: [c1, c2, c3, c4]\n",
      "Index: []\n"
     ]
    }
   ],
   "source": [
    "# pandas库推荐使用iloc方法来根据行序号选取数据，这样更直观\n",
    "b = data.iloc[1:3]\n",
    "print(b)"
   ]
  },
  {
   "cell_type": "code",
   "execution_count": 17,
   "id": "477b14e2",
   "metadata": {},
   "outputs": [
    {
     "name": "stdout",
     "output_type": "stream",
     "text": [
      "c1    7\n",
      "c2    8\n",
      "c3    9\n",
      "Name: r3, dtype: int64\n"
     ]
    }
   ],
   "source": [
    "# pandas库推荐使用iloc方法来根据行序号选取数据，这样更直观\n",
    "c= data.iloc[-1]\n",
    "print(c)"
   ]
  },
  {
   "cell_type": "code",
   "execution_count": 18,
   "id": "7796be63",
   "metadata": {},
   "outputs": [
    {
     "name": "stdout",
     "output_type": "stream",
     "text": [
      "    c1  c2  c3\n",
      "r2   4   5   6\n",
      "r3   7   8   9\n"
     ]
    }
   ],
   "source": [
    "# 还可以通过loc方法根据行的名称来选取数据\n",
    "d = data.loc[['r2', 'r3']]\n",
    "print(d)"
   ]
  },
  {
   "cell_type": "code",
   "execution_count": 19,
   "id": "4eb4b94f",
   "metadata": {
    "scrolled": false
   },
   "outputs": [
    {
     "name": "stdout",
     "output_type": "stream",
     "text": [
      "    c1  c2  c3\n",
      "r1   1   2   3\n",
      "r2   4   5   6\n",
      "r3   7   8   9\n"
     ]
    }
   ],
   "source": [
    "# 可以通过head()函数选取前5行数据\n",
    "e = data.head()\n",
    "print(e)"
   ]
  },
  {
   "cell_type": "markdown",
   "id": "71675f00",
   "metadata": {},
   "source": [
    "### 按区块选取数据"
   ]
  },
  {
   "cell_type": "code",
   "execution_count": 20,
   "id": "57531abd",
   "metadata": {},
   "outputs": [
    {
     "name": "stdout",
     "output_type": "stream",
     "text": [
      "    c1  c2\n",
      "r1   1   2\n",
      "r2   4   5\n"
     ]
    }
   ],
   "source": [
    "# 选取某几行的某几列数据，例如，选取c1和c3列的前两行数据，先通过iloc选取行，再选取列\n",
    "b = data.iloc[0:2][['c1', 'c2']]\n",
    "print(b)"
   ]
  },
  {
   "cell_type": "code",
   "execution_count": 21,
   "id": "015ab866",
   "metadata": {
    "scrolled": true
   },
   "outputs": [
    {
     "name": "stdout",
     "output_type": "stream",
     "text": [
      "3\n"
     ]
    }
   ],
   "source": [
    "# 选取单个值，选取c3列第1行的数据\n",
    "c = data.iloc[0]['c3']\n",
    "print(c)"
   ]
  },
  {
   "cell_type": "code",
   "execution_count": 56,
   "id": "cf8fe8b4",
   "metadata": {},
   "outputs": [
    {
     "name": "stdout",
     "output_type": "stream",
     "text": [
      "    c1  c3\n",
      "r1   1   3\n",
      "r2   4   6\n",
      "    c1  c3\n",
      "r1   1   3\n",
      "r2   4   6\n"
     ]
    }
   ],
   "source": [
    "# 通过iloc和loc方法来同时选择行和列，代码如下：\n",
    "d = data.loc[['r1', 'r2'], ['c1', 'c3']]  \n",
    "e = data.iloc[0:2, [0, 2]]  \n",
    "print(d)\n",
    "print(e)"
   ]
  },
  {
   "cell_type": "markdown",
   "id": "3730bf68",
   "metadata": {},
   "source": [
    "### 数据筛选"
   ]
  },
  {
   "cell_type": "code",
   "execution_count": 57,
   "id": "01541754",
   "metadata": {},
   "outputs": [
    {
     "name": "stdout",
     "output_type": "stream",
     "text": [
      "    c1  c2  c3\n",
      "r3   7   8   9\n"
     ]
    }
   ],
   "source": [
    "# 通过在中括号里设定筛选条件可以过滤行，筛选c1列中数字大于1的行\n",
    "a = data[data['c1'] > 4]\n",
    "print(a)"
   ]
  },
  {
   "cell_type": "code",
   "execution_count": 58,
   "id": "3fc49108",
   "metadata": {},
   "outputs": [
    {
     "data": {
      "text/html": [
       "<div>\n",
       "<style scoped>\n",
       "    .dataframe tbody tr th:only-of-type {\n",
       "        vertical-align: middle;\n",
       "    }\n",
       "\n",
       "    .dataframe tbody tr th {\n",
       "        vertical-align: top;\n",
       "    }\n",
       "\n",
       "    .dataframe thead th {\n",
       "        text-align: right;\n",
       "    }\n",
       "</style>\n",
       "<table border=\"1\" class=\"dataframe\">\n",
       "  <thead>\n",
       "    <tr style=\"text-align: right;\">\n",
       "      <th></th>\n",
       "      <th>c1</th>\n",
       "      <th>c2</th>\n",
       "      <th>c3</th>\n",
       "    </tr>\n",
       "  </thead>\n",
       "  <tbody>\n",
       "    <tr>\n",
       "      <th>r2</th>\n",
       "      <td>4</td>\n",
       "      <td>5</td>\n",
       "      <td>6</td>\n",
       "    </tr>\n",
       "  </tbody>\n",
       "</table>\n",
       "</div>"
      ],
      "text/plain": [
       "    c1  c2  c3\n",
       "r2   4   5   6"
      ]
     },
     "execution_count": 58,
     "metadata": {},
     "output_type": "execute_result"
    }
   ],
   "source": [
    "# 如果有多个筛选条件，则可以通过“&”符号（表示“且”）或“|”（表示“或”）连接，比如这边筛选，c1列数字大于1且c2列数字小于8的行，代码如下，注意要记得加判断条件两旁的小括号。\n",
    "b = data[(data['c1'] > 1) & (data['c2'] < 8)]\n",
    "b"
   ]
  },
  {
   "cell_type": "markdown",
   "id": "5738f1e2",
   "metadata": {},
   "source": [
    "### 数据整体情况查看"
   ]
  },
  {
   "cell_type": "code",
   "execution_count": 26,
   "id": "698041e0",
   "metadata": {},
   "outputs": [
    {
     "data": {
      "text/plain": [
       "(3, 3)"
      ]
     },
     "execution_count": 26,
     "metadata": {},
     "output_type": "execute_result"
    }
   ],
   "source": [
    "# 通过DataFrame的shape属性可以获取表格整体的行数和列数\n",
    "data.shape"
   ]
  },
  {
   "cell_type": "code",
   "execution_count": 27,
   "id": "068dc22e",
   "metadata": {
    "scrolled": false
   },
   "outputs": [
    {
     "data": {
      "text/html": [
       "<div>\n",
       "<style scoped>\n",
       "    .dataframe tbody tr th:only-of-type {\n",
       "        vertical-align: middle;\n",
       "    }\n",
       "\n",
       "    .dataframe tbody tr th {\n",
       "        vertical-align: top;\n",
       "    }\n",
       "\n",
       "    .dataframe thead th {\n",
       "        text-align: right;\n",
       "    }\n",
       "</style>\n",
       "<table border=\"1\" class=\"dataframe\">\n",
       "  <thead>\n",
       "    <tr style=\"text-align: right;\">\n",
       "      <th></th>\n",
       "      <th>c1</th>\n",
       "      <th>c2</th>\n",
       "      <th>c3</th>\n",
       "    </tr>\n",
       "  </thead>\n",
       "  <tbody>\n",
       "    <tr>\n",
       "      <th>count</th>\n",
       "      <td>3.0</td>\n",
       "      <td>3.0</td>\n",
       "      <td>3.0</td>\n",
       "    </tr>\n",
       "    <tr>\n",
       "      <th>mean</th>\n",
       "      <td>4.0</td>\n",
       "      <td>5.0</td>\n",
       "      <td>6.0</td>\n",
       "    </tr>\n",
       "    <tr>\n",
       "      <th>std</th>\n",
       "      <td>3.0</td>\n",
       "      <td>3.0</td>\n",
       "      <td>3.0</td>\n",
       "    </tr>\n",
       "    <tr>\n",
       "      <th>min</th>\n",
       "      <td>1.0</td>\n",
       "      <td>2.0</td>\n",
       "      <td>3.0</td>\n",
       "    </tr>\n",
       "    <tr>\n",
       "      <th>25%</th>\n",
       "      <td>2.5</td>\n",
       "      <td>3.5</td>\n",
       "      <td>4.5</td>\n",
       "    </tr>\n",
       "    <tr>\n",
       "      <th>50%</th>\n",
       "      <td>4.0</td>\n",
       "      <td>5.0</td>\n",
       "      <td>6.0</td>\n",
       "    </tr>\n",
       "    <tr>\n",
       "      <th>75%</th>\n",
       "      <td>5.5</td>\n",
       "      <td>6.5</td>\n",
       "      <td>7.5</td>\n",
       "    </tr>\n",
       "    <tr>\n",
       "      <th>max</th>\n",
       "      <td>7.0</td>\n",
       "      <td>8.0</td>\n",
       "      <td>9.0</td>\n",
       "    </tr>\n",
       "  </tbody>\n",
       "</table>\n",
       "</div>"
      ],
      "text/plain": [
       "        c1   c2   c3\n",
       "count  3.0  3.0  3.0\n",
       "mean   4.0  5.0  6.0\n",
       "std    3.0  3.0  3.0\n",
       "min    1.0  2.0  3.0\n",
       "25%    2.5  3.5  4.5\n",
       "50%    4.0  5.0  6.0\n",
       "75%    5.5  6.5  7.5\n",
       "max    7.0  8.0  9.0"
      ]
     },
     "execution_count": 27,
     "metadata": {},
     "output_type": "execute_result"
    }
   ],
   "source": [
    "# 通过describe()函数可以快速查看表格每一列的数据个数、平均值、标准差、最小值、25分位数、50分位数、75分位数、最大值等信息\n",
    "data.describe()"
   ]
  },
  {
   "cell_type": "code",
   "execution_count": 28,
   "id": "f3764213",
   "metadata": {
    "scrolled": true
   },
   "outputs": [
    {
     "data": {
      "text/plain": [
       "1    1\n",
       "4    1\n",
       "7    1\n",
       "Name: c1, dtype: int64"
      ]
     },
     "execution_count": 28,
     "metadata": {},
     "output_type": "execute_result"
    }
   ],
   "source": [
    "# 通过value_counts()函数可以快速查看某一列有几种数据，以及每种数据出现的频次\n",
    "data['c1'].value_counts()"
   ]
  },
  {
   "cell_type": "markdown",
   "id": "33d99c29",
   "metadata": {},
   "source": [
    "### 数据的运算、排序与删除"
   ]
  },
  {
   "cell_type": "code",
   "execution_count": 48,
   "id": "e5c0d7ca",
   "metadata": {
    "scrolled": true
   },
   "outputs": [
    {
     "data": {
      "text/html": [
       "<div>\n",
       "<style scoped>\n",
       "    .dataframe tbody tr th:only-of-type {\n",
       "        vertical-align: middle;\n",
       "    }\n",
       "\n",
       "    .dataframe tbody tr th {\n",
       "        vertical-align: top;\n",
       "    }\n",
       "\n",
       "    .dataframe thead th {\n",
       "        text-align: right;\n",
       "    }\n",
       "</style>\n",
       "<table border=\"1\" class=\"dataframe\">\n",
       "  <thead>\n",
       "    <tr style=\"text-align: right;\">\n",
       "      <th></th>\n",
       "      <th>c1</th>\n",
       "      <th>c2</th>\n",
       "      <th>c3</th>\n",
       "      <th>c4</th>\n",
       "    </tr>\n",
       "  </thead>\n",
       "  <tbody>\n",
       "    <tr>\n",
       "      <th>r2</th>\n",
       "      <td>4</td>\n",
       "      <td>5</td>\n",
       "      <td>6</td>\n",
       "      <td>2</td>\n",
       "    </tr>\n",
       "  </tbody>\n",
       "</table>\n",
       "</div>"
      ],
      "text/plain": [
       "    c1  c2  c3  c4\n",
       "r2   4   5   6   2"
      ]
     },
     "execution_count": 48,
     "metadata": {},
     "output_type": "execute_result"
    }
   ],
   "source": [
    "# 数据的运算\n",
    "data['c4'] = data['c3']-data['c1']\n",
    "data.head()"
   ]
  },
  {
   "cell_type": "code",
   "execution_count": 47,
   "id": "5c6a8f8a",
   "metadata": {},
   "outputs": [
    {
     "data": {
      "text/html": [
       "<div>\n",
       "<style scoped>\n",
       "    .dataframe tbody tr th:only-of-type {\n",
       "        vertical-align: middle;\n",
       "    }\n",
       "\n",
       "    .dataframe tbody tr th {\n",
       "        vertical-align: top;\n",
       "    }\n",
       "\n",
       "    .dataframe thead th {\n",
       "        text-align: right;\n",
       "    }\n",
       "</style>\n",
       "<table border=\"1\" class=\"dataframe\">\n",
       "  <thead>\n",
       "    <tr style=\"text-align: right;\">\n",
       "      <th></th>\n",
       "      <th>c1</th>\n",
       "      <th>c2</th>\n",
       "      <th>c3</th>\n",
       "      <th>c4</th>\n",
       "    </tr>\n",
       "  </thead>\n",
       "  <tbody>\n",
       "    <tr>\n",
       "      <th>r2</th>\n",
       "      <td>4</td>\n",
       "      <td>5</td>\n",
       "      <td>6</td>\n",
       "      <td>2</td>\n",
       "    </tr>\n",
       "  </tbody>\n",
       "</table>\n",
       "</div>"
      ],
      "text/plain": [
       "    c1  c2  c3  c4\n",
       "r2   4   5   6   2"
      ]
     },
     "execution_count": 47,
     "metadata": {},
     "output_type": "execute_result"
    }
   ],
   "source": [
    "# 数据排序\n",
    "a = data.sort_values(by='c2', ascending=False)\n",
    "a"
   ]
  },
  {
   "cell_type": "code",
   "execution_count": 46,
   "id": "034da2c1",
   "metadata": {
    "scrolled": true
   },
   "outputs": [
    {
     "data": {
      "text/html": [
       "<div>\n",
       "<style scoped>\n",
       "    .dataframe tbody tr th:only-of-type {\n",
       "        vertical-align: middle;\n",
       "    }\n",
       "\n",
       "    .dataframe tbody tr th {\n",
       "        vertical-align: top;\n",
       "    }\n",
       "\n",
       "    .dataframe thead th {\n",
       "        text-align: right;\n",
       "    }\n",
       "</style>\n",
       "<table border=\"1\" class=\"dataframe\">\n",
       "  <thead>\n",
       "    <tr style=\"text-align: right;\">\n",
       "      <th></th>\n",
       "      <th>c2</th>\n",
       "      <th>c4</th>\n",
       "    </tr>\n",
       "  </thead>\n",
       "  <tbody>\n",
       "    <tr>\n",
       "      <th>r2</th>\n",
       "      <td>5</td>\n",
       "      <td>2</td>\n",
       "    </tr>\n",
       "  </tbody>\n",
       "</table>\n",
       "</div>"
      ],
      "text/plain": [
       "    c2  c4\n",
       "r2   5   2"
      ]
     },
     "execution_count": 46,
     "metadata": {},
     "output_type": "execute_result"
    }
   ],
   "source": [
    "#使用sort_index()函数可以根据行索引进行排序, 以下按行索引进行升序排序\n",
    "a = a.sort_index()\n",
    "a"
   ]
  },
  {
   "cell_type": "markdown",
   "id": "ad00c3cf",
   "metadata": {},
   "source": [
    "##### 数据删除\n",
    "使用drop()函数可以删除表格中的指定数据, DataFrame.drop(index=None, columns=None, inplace=False)\n",
    "drop函数常用的几个参数解释如下：index用于指定要删除的行；columns用于指定要删除的列；inplace默认为False，表示该删除操作不改变原表格，而是返回一个执行删除操作后的新表格，如果设置inplace为True，则会直接在原表格中执行删除操作"
   ]
  },
  {
   "cell_type": "code",
   "execution_count": 44,
   "id": "61c506aa",
   "metadata": {},
   "outputs": [
    {
     "name": "stdout",
     "output_type": "stream",
     "text": [
      "    c2  c4\n",
      "r2   5   2\n"
     ]
    }
   ],
   "source": [
    "# 删除单列数据\n",
    "a = data.drop(columns='c1')\n",
    "# 删除多列数据\n",
    "a = data.drop(columns=['c1', 'c3'])\n",
    "print(a)"
   ]
  },
  {
   "cell_type": "code",
   "execution_count": 60,
   "id": "adfa1c38",
   "metadata": {
    "scrolled": true
   },
   "outputs": [
    {
     "name": "stdout",
     "output_type": "stream",
     "text": [
      "    c1  c2  c3\n",
      "r2   4   5   6\n"
     ]
    },
    {
     "data": {
      "text/html": [
       "<div>\n",
       "<style scoped>\n",
       "    .dataframe tbody tr th:only-of-type {\n",
       "        vertical-align: middle;\n",
       "    }\n",
       "\n",
       "    .dataframe tbody tr th {\n",
       "        vertical-align: top;\n",
       "    }\n",
       "\n",
       "    .dataframe thead th {\n",
       "        text-align: right;\n",
       "    }\n",
       "</style>\n",
       "<table border=\"1\" class=\"dataframe\">\n",
       "  <thead>\n",
       "    <tr style=\"text-align: right;\">\n",
       "      <th></th>\n",
       "      <th>c1</th>\n",
       "      <th>c2</th>\n",
       "      <th>c3</th>\n",
       "    </tr>\n",
       "  </thead>\n",
       "  <tbody>\n",
       "    <tr>\n",
       "      <th>r1</th>\n",
       "      <td>1</td>\n",
       "      <td>2</td>\n",
       "      <td>3</td>\n",
       "    </tr>\n",
       "    <tr>\n",
       "      <th>r2</th>\n",
       "      <td>4</td>\n",
       "      <td>5</td>\n",
       "      <td>6</td>\n",
       "    </tr>\n",
       "    <tr>\n",
       "      <th>r3</th>\n",
       "      <td>7</td>\n",
       "      <td>8</td>\n",
       "      <td>9</td>\n",
       "    </tr>\n",
       "  </tbody>\n",
       "</table>\n",
       "</div>"
      ],
      "text/plain": [
       "    c1  c2  c3\n",
       "r1   1   2   3\n",
       "r2   4   5   6\n",
       "r3   7   8   9"
      ]
     },
     "execution_count": 60,
     "metadata": {},
     "output_type": "execute_result"
    }
   ],
   "source": [
    "# 删除行数据，例如，删除第1行和第3行\n",
    "a = data.drop(index=['r1', 'r3'])\n",
    "print(a)\n",
    "data"
   ]
  },
  {
   "cell_type": "code",
   "execution_count": 62,
   "id": "56fbf22d",
   "metadata": {},
   "outputs": [
    {
     "data": {
      "text/html": [
       "<div>\n",
       "<style scoped>\n",
       "    .dataframe tbody tr th:only-of-type {\n",
       "        vertical-align: middle;\n",
       "    }\n",
       "\n",
       "    .dataframe tbody tr th {\n",
       "        vertical-align: top;\n",
       "    }\n",
       "\n",
       "    .dataframe thead th {\n",
       "        text-align: right;\n",
       "    }\n",
       "</style>\n",
       "<table border=\"1\" class=\"dataframe\">\n",
       "  <thead>\n",
       "    <tr style=\"text-align: right;\">\n",
       "      <th></th>\n",
       "      <th>c1</th>\n",
       "      <th>c2</th>\n",
       "      <th>c3</th>\n",
       "    </tr>\n",
       "  </thead>\n",
       "  <tbody>\n",
       "    <tr>\n",
       "      <th>r2</th>\n",
       "      <td>4</td>\n",
       "      <td>5</td>\n",
       "      <td>6</td>\n",
       "    </tr>\n",
       "  </tbody>\n",
       "</table>\n",
       "</div>"
      ],
      "text/plain": [
       "    c1  c2  c3\n",
       "r2   4   5   6"
      ]
     },
     "execution_count": 62,
     "metadata": {},
     "output_type": "execute_result"
    }
   ],
   "source": [
    "# 如果想改变原表格data的结构，可以设置inplace参数为True\n",
    "data.drop(index=['r1','r3'], inplace=True)\n",
    "data"
   ]
  },
  {
   "cell_type": "markdown",
   "id": "8b279082",
   "metadata": {},
   "source": [
    "## 数据表拼接\n",
    "pandas库还提供了一些高级功能，其中的数据合并与重塑为两个数据表的拼接提供了极大的便利，主要涉及merge()、concat()、append()等函数"
   ]
  },
  {
   "cell_type": "code",
   "execution_count": 64,
   "id": "ac04c437",
   "metadata": {},
   "outputs": [
    {
     "name": "stdout",
     "output_type": "stream",
     "text": [
      "   公司  分数\n",
      "0  万科  90\n",
      "1  阿里  95\n",
      "2  百度  85\n",
      "   公司   股价\n",
      "0  万科   20\n",
      "1  阿里  180\n",
      "2  京东   30\n"
     ]
    }
   ],
   "source": [
    "import pandas as pd\n",
    "df1 = pd.DataFrame({'公司': ['万科', '阿里', '百度'], '分数': [90, 95, 85]})\n",
    "df2 = pd.DataFrame({'公司': ['万科', '阿里', '京东'], '股价': [20, 180, 30]})\n",
    "print(df1)\n",
    "print(df2)"
   ]
  },
  {
   "cell_type": "code",
   "execution_count": 65,
   "id": "6264004c",
   "metadata": {
    "scrolled": true
   },
   "outputs": [
    {
     "name": "stdout",
     "output_type": "stream",
     "text": [
      "   公司    分数   股价\n",
      "0  万科  90.0   20\n",
      "1  阿里  95.0  180\n",
      "2  京东   NaN   30\n"
     ]
    }
   ],
   "source": [
    "df3 = pd.merge(df1, df2, how='right')\n",
    "print(df3)"
   ]
  },
  {
   "cell_type": "code",
   "execution_count": 64,
   "id": "86480c5e",
   "metadata": {},
   "outputs": [
    {
     "name": "stdout",
     "output_type": "stream",
     "text": [
      "  公司_x  分数 公司_y   股价\n",
      "0   万科  90   万科   20\n",
      "1   阿里  95   阿里  180\n",
      "2   百度  85   京东   30\n"
     ]
    }
   ],
   "source": [
    "df3 = pd.merge(df1, df2, left_index=True, right_index=True)\n",
    "print(df3)"
   ]
  },
  {
   "cell_type": "code",
   "execution_count": 65,
   "id": "51ee2355",
   "metadata": {},
   "outputs": [
    {
     "name": "stdout",
     "output_type": "stream",
     "text": [
      "  公司_1  分数 公司_2   股价\n",
      "0   万科  90   万科   20\n",
      "1   阿里  95   阿里  180\n",
      "2   百度  85   京东   30\n"
     ]
    }
   ],
   "source": [
    "# **补充知识点：根据行索引合并的join()函数**\n",
    "df3 = df1.join(df2, lsuffix='_1', rsuffix='_2')\n",
    "print(df3)"
   ]
  },
  {
   "cell_type": "code",
   "execution_count": 67,
   "id": "559e6cfc",
   "metadata": {},
   "outputs": [
    {
     "name": "stdout",
     "output_type": "stream",
     "text": [
      "   公司  分数  公司   股价\n",
      "0  万科  90  万科   20\n",
      "1  阿里  95  阿里  180\n",
      "2  百度  85  京东   30\n"
     ]
    }
   ],
   "source": [
    "# (2) concat()函数\n",
    "df3 = pd.concat([df1,df2], axis=1)\n",
    "print(df3)"
   ]
  }
 ],
 "metadata": {
  "kernelspec": {
   "display_name": "Python 3 (ipykernel)",
   "language": "python",
   "name": "python3"
  },
  "language_info": {
   "codemirror_mode": {
    "name": "ipython",
    "version": 3
   },
   "file_extension": ".py",
   "mimetype": "text/x-python",
   "name": "python",
   "nbconvert_exporter": "python",
   "pygments_lexer": "ipython3",
   "version": "3.9.7"
  }
 },
 "nbformat": 4,
 "nbformat_minor": 5
}
