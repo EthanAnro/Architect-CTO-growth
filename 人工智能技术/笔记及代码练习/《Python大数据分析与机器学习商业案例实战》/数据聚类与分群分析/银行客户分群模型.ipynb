{
 "cells": [
  {
   "cell_type": "markdown",
   "id": "5eb72bca",
   "metadata": {},
   "source": [
    "# 银行客户分群模型"
   ]
  },
  {
   "cell_type": "markdown",
   "id": "35045ed1",
   "metadata": {},
   "source": [
    "银行拥有海量的客户，对于不同的客户，银行需要采取不同的营销工作策略。例如，对于收入高且风险承受能力强的客户，可以重点挖掘业务机会，如向其推销一些收益率高但周期相对较长的理财产品；而对于收入低且风险承受能力较弱的客户，则需要采取其他策略。因此，银行通常需要将客户进行分群处理，以便有的放矢地开展营销工作。"
   ]
  },
  {
   "cell_type": "markdown",
   "id": "354a9928",
   "metadata": {},
   "source": [
    "## 1、读取银行客户数据"
   ]
  },
  {
   "cell_type": "code",
   "execution_count": 1,
   "id": "485c4134",
   "metadata": {
    "scrolled": true
   },
   "outputs": [
    {
     "data": {
      "text/html": [
       "<div>\n",
       "<style scoped>\n",
       "    .dataframe tbody tr th:only-of-type {\n",
       "        vertical-align: middle;\n",
       "    }\n",
       "\n",
       "    .dataframe tbody tr th {\n",
       "        vertical-align: top;\n",
       "    }\n",
       "\n",
       "    .dataframe thead th {\n",
       "        text-align: right;\n",
       "    }\n",
       "</style>\n",
       "<table border=\"1\" class=\"dataframe\">\n",
       "  <thead>\n",
       "    <tr style=\"text-align: right;\">\n",
       "      <th></th>\n",
       "      <th>年龄(岁)</th>\n",
       "      <th>收入(万元)</th>\n",
       "    </tr>\n",
       "  </thead>\n",
       "  <tbody>\n",
       "    <tr>\n",
       "      <th>0</th>\n",
       "      <td>50</td>\n",
       "      <td>66</td>\n",
       "    </tr>\n",
       "    <tr>\n",
       "      <th>1</th>\n",
       "      <td>44</td>\n",
       "      <td>51</td>\n",
       "    </tr>\n",
       "    <tr>\n",
       "      <th>2</th>\n",
       "      <td>30</td>\n",
       "      <td>56</td>\n",
       "    </tr>\n",
       "    <tr>\n",
       "      <th>3</th>\n",
       "      <td>46</td>\n",
       "      <td>50</td>\n",
       "    </tr>\n",
       "    <tr>\n",
       "      <th>4</th>\n",
       "      <td>32</td>\n",
       "      <td>50</td>\n",
       "    </tr>\n",
       "  </tbody>\n",
       "</table>\n",
       "</div>"
      ],
      "text/plain": [
       "   年龄(岁)  收入(万元)\n",
       "0     50      66\n",
       "1     44      51\n",
       "2     30      56\n",
       "3     46      50\n",
       "4     32      50"
      ]
     },
     "execution_count": 1,
     "metadata": {},
     "output_type": "execute_result"
    }
   ],
   "source": [
    "import pandas as pd\n",
    "data = pd.read_excel('datasets/客户信息.xlsx')\n",
    "data.head()"
   ]
  },
  {
   "cell_type": "markdown",
   "id": "c72d4911",
   "metadata": {},
   "source": [
    "### 用Matplotlib库的scatter()函数将数据以散点图的方式绘制出来"
   ]
  },
  {
   "cell_type": "code",
   "execution_count": 2,
   "id": "3fe610d2",
   "metadata": {
    "scrolled": true
   },
   "outputs": [
    {
     "data": {
      "image/png": "[encoded data removed]",
      "text/plain": [
       "<Figure size 432x288 with 1 Axes>"
      ]
     },
     "metadata": {
      "needs_background": "light"
     },
     "output_type": "display_data"
    }
   ],
   "source": [
    "import matplotlib.pyplot as plt\n",
    "plt.scatter(data.iloc[:, 0], data.iloc[:, 1], c = 'green', marker='*')  # 利用iloc[:,0]来选取第1列数，用iloc[:,1]来选取第2列数，以绿色星星样式绘制散点图\n",
    "plt.xlabel('age') # 添加 x 轴标签\n",
    "plt.xlabel('salary') # 添加 y 轴标签\n",
    "plt.show()"
   ]
  },
  {
   "cell_type": "markdown",
   "id": "70d865f2",
   "metadata": {},
   "source": [
    "## 2、模型的搭建与使用"
   ]
  },
  {
   "cell_type": "code",
   "execution_count": 5,
   "id": "9c9f1ea1",
   "metadata": {
    "scrolled": true
   },
   "outputs": [
    {
     "data": {
      "text/plain": [
       "array([1, 1, 2, 1, 2, 2, 1, 2, 2, 1, 1, 1, 1, 2, 1, 1, 1, 2, 1, 1, 1, 2,\n",
       "       2, 1, 1, 1, 1, 2, 2, 1, 2, 1, 2, 2, 2, 0, 2, 1, 2, 0, 1, 1, 2, 1,\n",
       "       2, 1, 2, 1, 1, 2, 2, 0, 1, 2, 1, 1, 1, 1, 2, 1, 2, 2, 2, 2, 0, 0,\n",
       "       0, 0, 0, 0, 0, 0, 0, 0, 0, 0, 0, 0, 0, 0, 0, 0, 0, 0, 0, 0, 0, 1,\n",
       "       1, 1, 1, 1, 1, 1, 1, 2, 2, 2, 2, 1, 1, 1, 2, 1, 2, 0, 0, 0, 0, 0,\n",
       "       0, 2], dtype=int32)"
      ]
     },
     "execution_count": 5,
     "metadata": {},
     "output_type": "execute_result"
    }
   ],
   "source": [
    "from sklearn.cluster import KMeans\n",
    "kms = KMeans(n_clusters=3, random_state=123) # 设置KMeans模型的n_clusters参数为3，即将样本分成3类，并设置random_state参数，使每次运行代码得到的聚类结果都是一致的\n",
    "kms.fit(data)\n",
    "label = kms.labels_ # 通过labels_属性获取聚类结果，并赋给变量label\n",
    "label"
   ]
  },
  {
   "cell_type": "markdown",
   "id": "b79ea050",
   "metadata": {},
   "source": [
    "### 使用散点图展示KMeans算法的聚类结果"
   ]
  },
  {
   "cell_type": "code",
   "execution_count": 12,
   "id": "a3c37e90",
   "metadata": {},
   "outputs": [
    {
     "data": {
      "image/png": "[encoded data removed]",
      "text/plain": [
       "<Figure size 432x288 with 1 Axes>"
      ]
     },
     "metadata": {
      "needs_background": "light"
     },
     "output_type": "display_data"
    }
   ],
   "source": [
    "plt.scatter(data[label == 0].iloc[:, 0], data[label == 0].iloc[:, 1], c = 'red', marker='o', label='class0') # 以红色圆圈样式绘制散点图\n",
    "plt.scatter(data[label == 1].iloc[:, 0], data[label == 1].iloc[:, 1], c = 'green', marker='*', label='class1') # 以绿色星星样式绘制散点图并加上标签\n",
    "plt.scatter(data[label == 2].iloc[:, 0], data[label == 2].iloc[:, 1], c = 'blue', marker='+', label='class2') # 以蓝色加号样式绘制散点图并加上标签\n",
    "plt.xlabel('age') # 添加x轴标签\n",
    "plt.ylabel('salary') # 添加y轴标签\n",
    "plt.legend(loc=4) # 将图例设置在散点图右下角\n",
    "plt.show()"
   ]
  },
  {
   "cell_type": "markdown",
   "id": "513b0c4a",
   "metadata": {},
   "source": [
    "### 计算聚类结果的均值"
   ]
  },
  {
   "cell_type": "code",
   "execution_count": 15,
   "id": "f32f9137",
   "metadata": {
    "scrolled": true
   },
   "outputs": [
    {
     "name": "stdout",
     "output_type": "stream",
     "text": [
      "21.125\n",
      "57.55555555555556\n",
      "46.285714285714285\n"
     ]
    }
   ],
   "source": [
    "print(data[label == 0].iloc[:, 1].mean()) # data[label==0]表示筛选分类为0的客户；iloc[:,1]表示选取data表格的第2列（:表示所有行，1表示第2列），即收入列（同理，如果想选取第1列，即年龄列，可以写成iloc[:,0]）；mean()函数用于求均值，即平均收入\n",
    "print(data[label == 1].iloc[:, 1].mean())\n",
    "print(data[label == 2].iloc[:, 1].mean())"
   ]
  },
  {
   "cell_type": "markdown",
   "id": "d317057e",
   "metadata": {},
   "source": [
    "可见在上图中，class1代表的这部分客户年龄为40～50岁，平均收入58万元，可以视为重点客户，是需要重点营销和推广的对象；class2代表的这部分客户年龄为25～42岁，平均收入46万元，可以视为优质客户，是需要精心维护和营销的对象；class0代表的这部分客户年龄为20～40岁，平均收入21万元，可以视为潜力客户，是需要耐心挖掘和等待的对象。"
   ]
  }
 ],
 "metadata": {
  "kernelspec": {
   "display_name": "Python 3 (ipykernel)",
   "language": "python",
   "name": "python3"
  },
  "language_info": {
   "codemirror_mode": {
    "name": "ipython",
    "version": 3
   },
   "file_extension": ".py",
   "mimetype": "text/x-python",
   "name": "python",
   "nbconvert_exporter": "python",
   "pygments_lexer": "ipython3",
   "version": "3.9.7"
  }
 },
 "nbformat": 4,
 "nbformat_minor": 5
}
