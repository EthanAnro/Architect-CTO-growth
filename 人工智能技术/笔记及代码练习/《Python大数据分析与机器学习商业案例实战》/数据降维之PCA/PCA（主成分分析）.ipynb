{
 "cells": [
  {
   "cell_type": "markdown",
   "id": "07634db5",
   "metadata": {},
   "source": [
    "# PCA（Principal Component Analysis 主成分分析）\n",
    "建立模型分析特征数据时，很可能会面临特征数据维度过大的问题。例如，根据已有的信用卡持有人信息及其违约数据来建立信用卡违约预测模型时，数据可能包含申请人的收入、年龄、性别、婚姻状况、工作单位等数百个维度的特征。如果将所有特征数据都用来拟合模型，会提高模型的复杂度，造成过拟合风险显著增大，且不同的特征数据间可能存在共线性。此时就需要对数据进行降维，以浓缩特征向量。\n",
    "\n",
    "## 数据降维\n",
    "如果特征变量的数量非常多（如成百上千个特征变量），我们往往需要进行数据降维。降维的方法主要有选择特征和抽取特征两种：选择特征是从原有的特征中挑选出最佳的特征；抽取特征则是将数据由高维向低维投影，进行坐标的线性转换。**PCA即为典型的抽取特征的方法，它不仅是对高维数据进行降维，更重要的是经过降维去除噪声，发现数据中的模式**。\n",
    "\n",
    "### 一、 PCA的基本原理\n",
    "#### 1、二维空间降维\n",
    "总结来说，二维到一维的数据降维的本质就是将原始数据做零均值化处理后，寻找如下所示的合适的线性组合系数α和β，将二维数据转换为一维数据。\n",
    "\n",
    "$X^`=αX + βY$\n",
    "\n",
    "#### 2、n维空间降维\n",
    "如果原特征变量有n个，那么就是n维空间降维。n维空间降维的思路和二维空间降维的思路是一致的，都是寻找合适的线性组合系数。例如，将n维数据（X1，X2，…，Xn）转换为一维数据，就是寻找如下所示的线性组合系数a1，a2，…，an。\n",
    "\n",
    "$F_1 = a_1X_1 + a_2X_2 + …… + a_nX_n$\n",
    "\n",
    "将n维数据（X1，X2，…，Xn）转换成k维数据（F1，F2，…，Fk），即将n个特征降维成k个新特征，其本质也是一样的，只是从构造1个线性组合变为构造k个线性组合，如下所示。\n",
    "\n",
    "$F_1 = a_11X_1 + a_12X_2 + …… + a_1nX_n$\n",
    "\n",
    "$F_1 = a_21X_1 + a_22X_2 + …… + a_2nX_n$\n",
    "\n",
    "……\n",
    "\n",
    "$F_1 = a_k1X_1 + a_k2X_2 + …… + a_knX_n$\n",
    "\n",
    "简单描述一下这些系数的线性代数推导过程：将原始n维特征数据按行做零均值化处理后求得n维协方差矩阵，计算协方差矩阵的特征值及其对应的单位特征向量。将特征向量按特征值从大到小排序，使用前k行组成的矩阵乘以原始n维数据矩阵，即可得到降维后的k维数据矩阵，再通过该矩阵就能获得线性组合系数，这些线性组合系数能最大化样本方差，使新的k个特征互不相关。\n",
    "\n",
    "实际应用中，我们只需要明白核心逻辑，不需要深究背后的数学原理，因为我们可以直接利用Python提供的相应计算库，快速计算出这些系数，无须手工计算。"
   ]
  },
  {
   "cell_type": "markdown",
   "id": "bc7e599c",
   "metadata": {},
   "source": [
    "### 三、PCA的代码实现\n",
    "\n",
    "#### 1、二维空间降维的代码实现"
   ]
  },
  {
   "cell_type": "code",
   "execution_count": 1,
   "id": "80ffa09e",
   "metadata": {},
   "outputs": [
    {
     "data": {
      "text/plain": [
       "array([[1, 1],\n",
       "       [2, 2],\n",
       "       [3, 3]])"
      ]
     },
     "execution_count": 1,
     "metadata": {},
     "output_type": "execute_result"
    }
   ],
   "source": [
    "# 构造例子数据\n",
    "import numpy as np  \n",
    "x = np.array([[1, 1], [2, 2], [3, 3]])\n",
    "x"
   ]
  },
  {
   "cell_type": "code",
   "execution_count": 3,
   "id": "6091e92c",
   "metadata": {},
   "outputs": [
    {
     "data": {
      "text/plain": [
       "array([[-1.41421356],\n",
       "       [ 0.        ],\n",
       "       [ 1.41421356]])"
      ]
     },
     "execution_count": 3,
     "metadata": {},
     "output_type": "execute_result"
    }
   ],
   "source": [
    "# 搭建PCA模型进行降维\n",
    "from sklearn.decomposition import PCA # 引入Scikit-Learn库中的PCA模型\n",
    "pca = PCA(n_components=1) # 设置PCA模型的参数n_components，即保留的成分个数，这里设置其值为1，也就是将二维数据降为一维数据\n",
    "pca.fit(x) # 用fit()函数进行模型训练\n",
    "x_transformed = pca.transform(x) # 用transform()函数对原始数据进行降维并将结果赋给变量X_transformed\n",
    "x_transformed"
   ]
  },
  {
   "cell_type": "markdown",
   "id": "ce353632",
   "metadata": {},
   "source": [
    "> n_components参数不仅可以设置成降维后成分的个数，还可以设置成降维后保留的信息的百分比，例如，将其设置成0.9就是在降维后保留原特征90%的信息。需要注意的是，如果将n_components参数设置成降维后成分的个数，其值不能大于min（n_samples,n_features），即样本数和特征变量数两者之中的最小数。\n",
    "\n",
    "虽然变量x_transformed的数据格式仍然是二维数组，但其只有一列，实质上是一个一维数组，与上一小节的降维结果$\\sqrt {2}$、0、$\\sqrt {2}$是一致的，这样PCA降维就完成了。"
   ]
  },
  {
   "cell_type": "code",
   "execution_count": 4,
   "id": "29f4cd79",
   "metadata": {
    "scrolled": true
   },
   "outputs": [
    {
     "data": {
      "text/plain": [
       "array([[0.70710678, 0.70710678]])"
      ]
     },
     "execution_count": 4,
     "metadata": {},
     "output_type": "execute_result"
    }
   ],
   "source": [
    "# 数据降维其实是通过线性组合完成的，通过如下代码可以获取线性组合系数\n",
    "pca.components_"
   ]
  },
  {
   "cell_type": "code",
   "execution_count": 5,
   "id": "d6bed1d0",
   "metadata": {},
   "outputs": [
    {
     "name": "stdout",
     "output_type": "stream",
     "text": [
      "0.7071067811865476 * X + 0.7071067811865475 * Y\n"
     ]
    }
   ],
   "source": [
    "# 将公式打印出来，需要注意的是，pca.components_是一个二维数组，所以要通过两层索引来获取其中的元素，且因为元素是数字，所以在进行字符串拼接时需要先用str()函数转换为字符串\n",
    "a = pca.components_[0][0]\n",
    "b = pca.components_[0][1]\n",
    "print(str(a) + ' * X + ' +  str(b) + ' * Y')"
   ]
  },
  {
   "cell_type": "markdown",
   "id": "f852d401",
   "metadata": {},
   "source": [
    "#### 3、三维空间降维的代码实现\n",
    "在根据已有的信用卡持有人信息及其违约数据建立信用卡违约预测模型时，数据可能包含申请人的收入、年龄、性别、婚姻状况、工作单位等数百个维度的特征。这里选择年龄（岁）、负债比率、月收入（元）3个维度的特征，使用PCA进行降维。"
   ]
  },
  {
   "cell_type": "code",
   "execution_count": 7,
   "id": "a560adf6",
   "metadata": {
    "scrolled": false
   },
   "outputs": [
    {
     "data": {
      "text/html": [
       "<div>\n",
       "<style scoped>\n",
       "    .dataframe tbody tr th:only-of-type {\n",
       "        vertical-align: middle;\n",
       "    }\n",
       "\n",
       "    .dataframe tbody tr th {\n",
       "        vertical-align: top;\n",
       "    }\n",
       "\n",
       "    .dataframe thead th {\n",
       "        text-align: right;\n",
       "    }\n",
       "</style>\n",
       "<table border=\"1\" class=\"dataframe\">\n",
       "  <thead>\n",
       "    <tr style=\"text-align: right;\">\n",
       "      <th></th>\n",
       "      <th>年龄(岁)</th>\n",
       "      <th>负债比率</th>\n",
       "      <th>月收入(元)</th>\n",
       "    </tr>\n",
       "  </thead>\n",
       "  <tbody>\n",
       "    <tr>\n",
       "      <th>0</th>\n",
       "      <td>45</td>\n",
       "      <td>0.80</td>\n",
       "      <td>9120</td>\n",
       "    </tr>\n",
       "    <tr>\n",
       "      <th>1</th>\n",
       "      <td>40</td>\n",
       "      <td>0.12</td>\n",
       "      <td>2600</td>\n",
       "    </tr>\n",
       "    <tr>\n",
       "      <th>2</th>\n",
       "      <td>38</td>\n",
       "      <td>0.09</td>\n",
       "      <td>3042</td>\n",
       "    </tr>\n",
       "    <tr>\n",
       "      <th>3</th>\n",
       "      <td>30</td>\n",
       "      <td>0.04</td>\n",
       "      <td>3300</td>\n",
       "    </tr>\n",
       "    <tr>\n",
       "      <th>4</th>\n",
       "      <td>39</td>\n",
       "      <td>0.21</td>\n",
       "      <td>3500</td>\n",
       "    </tr>\n",
       "  </tbody>\n",
       "</table>\n",
       "</div>"
      ],
      "text/plain": [
       "   年龄(岁)  负债比率  月收入(元)\n",
       "0     45  0.80    9120\n",
       "1     40  0.12    2600\n",
       "2     38  0.09    3042\n",
       "3     30  0.04    3300\n",
       "4     39  0.21    3500"
      ]
     },
     "execution_count": 7,
     "metadata": {},
     "output_type": "execute_result"
    }
   ],
   "source": [
    "# 使用pandas库构建待降维的三维数据\n",
    "import pandas as pd\n",
    "x = pd.DataFrame([[45, 0.8, 9120], [40, 0.12, 2600], [38, 0.09, 3042], [30, 0.04, 3300], [39, 0.21, 3500]], columns=['年龄(岁)', '负债比率', '月收入(元)'])\n",
    "x.head()"
   ]
  },
  {
   "cell_type": "markdown",
   "id": "aee3cd6d",
   "metadata": {},
   "source": [
    "可以看到，3个维度的特征数据的量级相差较大。如果数据中某一特征的数值很大，那么它在计算中所占的比重就会很大，PCA降维时会更看重这个特征，而忽略其他数值小的特征。因此，先利用数据标准化知识对3个维度的特征数据进行标准化，这也有利于PCA降维时梯度下降法的收敛，代码如下。"
   ]
  },
  {
   "cell_type": "code",
   "execution_count": 8,
   "id": "3cdc15f7",
   "metadata": {
    "scrolled": true
   },
   "outputs": [
    {
     "data": {
      "text/plain": [
       "array([[ 1.36321743,  1.96044639,  1.98450514],\n",
       "       [ 0.33047695, -0.47222431, -0.70685302],\n",
       "       [-0.08261924, -0.57954802, -0.52440206],\n",
       "       [-1.73500401, -0.75842087, -0.41790353],\n",
       "       [ 0.12392886, -0.15025319, -0.33534653]])"
      ]
     },
     "execution_count": 8,
     "metadata": {},
     "output_type": "execute_result"
    }
   ],
   "source": [
    "from sklearn.preprocessing import StandardScaler # 从Scikit-Learn库中引入StandardScaler()函数\n",
    "x_new = StandardScaler().fit_transform(x) # 用该函数对变量X进行标准化，并将结果赋给变量x_new\n",
    "x_new"
   ]
  },
  {
   "cell_type": "markdown",
   "id": "37be4744",
   "metadata": {},
   "source": [
    "第1列对应标准化后的特征维度X，第2列对应标准化后的特征维度Y，第3列对应标准化后的特征维度Z."
   ]
  },
  {
   "cell_type": "code",
   "execution_count": 10,
   "id": "7bf9fe0b",
   "metadata": {},
   "outputs": [
    {
     "data": {
      "text/plain": [
       "array([[ 3.08724247,  0.32991205],\n",
       "       [-0.52888635, -0.74272137],\n",
       "       [-0.70651782, -0.33057258],\n",
       "       [-1.62877292,  1.05218639],\n",
       "       [-0.22306538, -0.30880449]])"
      ]
     },
     "execution_count": 10,
     "metadata": {},
     "output_type": "execute_result"
    }
   ],
   "source": [
    "# 搭建PCA模型进行降维\n",
    "from sklearn.decomposition import PCA # 引入Scikit-Learn库中的PCA模型\n",
    "pca = PCA(n_components=2) # 设置PCA模型的参数n_components为2，即将三维数据降为二维数据\n",
    "pca.fit(x_new) # 用fit()函数对标准化后的数据进行模型训练\n",
    "x_transformed = pca.transform(x_new) # 用transform()函数对标准化后的数据进行降维，并将结果赋给变量x_transformed\n",
    "x_transformed"
   ]
  },
  {
   "cell_type": "code",
   "execution_count": 11,
   "id": "4533c807",
   "metadata": {},
   "outputs": [
    {
     "data": {
      "text/plain": [
       "array([[ 0.52952108,  0.61328179,  0.58608264],\n",
       "       [-0.82760701,  0.22182579,  0.51561609]])"
      ]
     },
     "execution_count": 11,
     "metadata": {},
     "output_type": "execute_result"
    }
   ],
   "source": [
    "# n维数据降维也是通过线性组合完成的，通过如下代码可以获取线性组合系数\n",
    "pca.components_"
   ]
  },
  {
   "cell_type": "markdown",
   "id": "d3ae8a1d",
   "metadata": {},
   "source": [
    "可以看到，pca.components_是一个二维数组，第1个元素中的3个数对应的是下述公式中的系数a11、a12、a13，第2个元素中的3个数对应的是下述公式中的系数a21、a22、a23。"
   ]
  },
  {
   "cell_type": "code",
   "execution_count": 13,
   "id": "3668a27e",
   "metadata": {},
   "outputs": [
    {
     "name": "stdout",
     "output_type": "stream",
     "text": [
      "0.5295210839165538 * 年龄(岁) + 0.6132817922410682 * 负债比率 + 0.5860826434841948 * 月收入(元)\n",
      "-0.8276070105929829 * 年龄(岁) + 0.22182579193360938 * 负债比率 + 0.5156160917294705 * 月收入(元)\n"
     ]
    }
   ],
   "source": [
    "# 通过如下代码打印降维过程中原始特征的线性组合公式\n",
    "dim = ['年龄(岁)', '负债比率', '月收入(元)'] # 变量dim存储特征变量名称\n",
    "for i in pca.components_: # 循环遍历系数的二维数组，其中的i代表系数列表[a11，a12，a13]和[a21，a22，a23]\n",
    "    formula = [] # 创建空列表formula，用于存储之后的线性组合公式\n",
    "    for j in range(len(i)): # 遍历系数列表中的每一个系数，如第1个系数列表中的a11、a12、a13\n",
    "        formula.append(str(i[j]) + ' * ' + dim[j]) # 通过字符串拼接的方法拼接系数、乘号和特征变量名称，并用append()函数添加到formula列表中\n",
    "    print(\" + \".join(formula)) # 打印线性组合公式，用join()函数将列表转换成字符串，并用“+”号连接"
   ]
  }
 ],
 "metadata": {
  "kernelspec": {
   "display_name": "Python 3 (ipykernel)",
   "language": "python",
   "name": "python3"
  },
  "language_info": {
   "codemirror_mode": {
    "name": "ipython",
    "version": 3
   },
   "file_extension": ".py",
   "mimetype": "text/x-python",
   "name": "python",
   "nbconvert_exporter": "python",
   "pygments_lexer": "ipython3",
   "version": "3.9.7"
  }
 },
 "nbformat": 4,
 "nbformat_minor": 5
}
