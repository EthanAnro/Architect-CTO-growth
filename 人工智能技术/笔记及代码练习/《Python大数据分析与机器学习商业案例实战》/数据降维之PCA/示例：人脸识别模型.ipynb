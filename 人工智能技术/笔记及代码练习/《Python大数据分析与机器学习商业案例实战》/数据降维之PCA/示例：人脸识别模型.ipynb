{
 "cells": [
  {
   "cell_type": "markdown",
   "id": "d3f6006c",
   "metadata": {},
   "source": [
    "人脸识别模型是一个比较复杂的n维数据降维到k维数据的案例。先对人脸数据进行读取和处理，再通过PCA进行数据降维，最后用的K近邻算法搭建模型进行人脸识别。\n",
    "\n",
    "## 背景\n",
    "人脸识别是基于人的脸部特征信息进行身份识别的一种生物识别技术。该技术蓬勃发展，应用广泛，如人脸识别门禁系统、刷脸支付软件等。\n",
    "\n",
    "人脸识别在本质上是根据每张人脸图像中不同像素点的颜色进行数据建模与判断。人脸图像的每个像素点的颜色都有不同的值，这些值可以组成人脸的特征向量，不过因为人脸图像的像素点很多，所以特征变量也很多，需要利用PCA进行数据降维。"
   ]
  }
 ],
 "metadata": {
  "kernelspec": {
   "display_name": "Python 3 (ipykernel)",
   "language": "python",
   "name": "python3"
  },
  "language_info": {
   "codemirror_mode": {
    "name": "ipython",
    "version": 3
   },
   "file_extension": ".py",
   "mimetype": "text/x-python",
   "name": "python",
   "nbconvert_exporter": "python",
   "pygments_lexer": "ipython3",
   "version": "3.9.7"
  }
 },
 "nbformat": 4,
 "nbformat_minor": 5
}
