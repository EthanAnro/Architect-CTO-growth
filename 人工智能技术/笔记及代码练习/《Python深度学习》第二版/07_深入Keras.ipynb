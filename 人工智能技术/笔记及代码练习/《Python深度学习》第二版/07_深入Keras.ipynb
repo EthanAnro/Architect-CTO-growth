{
 "cells": [
  {
   "cell_type": "markdown",
   "id": "7d52b2c0-5149-414d-8695-cd99b72ebc6d",
   "metadata": {},
   "source": [
    "## 构建Keras模型的不同方法\n",
    "### 序贯模型"
   ]
  },
  {
   "cell_type": "code",
   "execution_count": 1,
   "id": "a6b76e8f-bf63-472b-826b-7e7e79dec808",
   "metadata": {},
   "outputs": [],
   "source": [
    "from tensorflow import keras\n",
    "from tensorflow.keras import layers"
   ]
  },
  {
   "cell_type": "code",
   "execution_count": 3,
   "id": "61944dee-6191-4af9-97bc-4b6f69a64a20",
   "metadata": {},
   "outputs": [],
   "source": [
    "model = keras.Sequential([\n",
    "    layers.Dense(64, activation=\"relu\"),\n",
    "    layers.Dense(10, activation=\"softmax\")\n",
    "])"
   ]
  },
  {
   "cell_type": "code",
   "execution_count": 6,
   "id": "9bf0415f-950a-4525-9c24-1b48fa5c2d20",
   "metadata": {},
   "outputs": [],
   "source": [
    "#model = keras.Sequential()\n",
    "#model.add(layers.Dense(64, activation=\"relu\"))\n",
    "#model.add(layers.Dense(10, activation=\"softmax\"))"
   ]
  },
  {
   "cell_type": "code",
   "execution_count": 8,
   "id": "d53e58a3-255f-4c29-849e-7494605f1567",
   "metadata": {
    "scrolled": true,
    "tags": []
   },
   "outputs": [
    {
     "data": {
      "text/plain": [
       "[<tf.Variable 'dense_4/kernel:0' shape=(3, 64) dtype=float32, numpy=\n",
       " array([[ 0.29910564,  0.2867496 ,  0.03548622,  0.2795915 , -0.28532135,\n",
       "          0.11006054, -0.06519343,  0.14974883, -0.02434132, -0.21004677,\n",
       "         -0.10156849, -0.12746432, -0.15926552,  0.10038018, -0.21612257,\n",
       "         -0.06574936,  0.01054436, -0.08016996, -0.07881594,  0.09718946,\n",
       "         -0.20993838,  0.11131877, -0.20033695,  0.24661273,  0.29861802,\n",
       "          0.06673181, -0.12885652, -0.18528193, -0.02205962, -0.06542416,\n",
       "          0.05299622, -0.06303024,  0.19226998, -0.09436974,  0.05909202,\n",
       "          0.26270264, -0.20880717,  0.20961499,  0.11307439,  0.10741434,\n",
       "         -0.04546279, -0.17462298, -0.00269535, -0.03195173,  0.2211169 ,\n",
       "         -0.08883554, -0.11046544,  0.25703245,  0.2649244 ,  0.18590137,\n",
       "         -0.20181277,  0.16325083, -0.23223703,  0.1525842 , -0.05289406,\n",
       "          0.27148563,  0.21486795, -0.06591032, -0.1612753 ,  0.0161716 ,\n",
       "         -0.27273026,  0.23061532,  0.07999924,  0.23039055],\n",
       "        [ 0.26946896,  0.29055607,  0.10222545,  0.1986453 ,  0.05551279,\n",
       "         -0.14697784,  0.27608913, -0.24211286, -0.2320072 , -0.277172  ,\n",
       "          0.2125035 ,  0.05026248,  0.26227802,  0.03996447,  0.09151906,\n",
       "         -0.11517765,  0.14896545,  0.26693296,  0.24752015,  0.15880325,\n",
       "          0.00417745, -0.19223523,  0.09451914,  0.06396455,  0.24861383,\n",
       "         -0.27260283,  0.16489339, -0.20776984,  0.07113439,  0.04753217,\n",
       "          0.2919641 ,  0.19814265, -0.18757632,  0.12333274,  0.18928757,\n",
       "          0.13370657, -0.15994352, -0.00271806, -0.24748425, -0.0869056 ,\n",
       "          0.13345414,  0.21973097,  0.06209958, -0.03042868, -0.23435754,\n",
       "         -0.16636345,  0.06726328, -0.23233798,  0.1215325 , -0.135418  ,\n",
       "         -0.11226767,  0.10100606,  0.02829197, -0.03611591,  0.1969729 ,\n",
       "         -0.25377226, -0.2123881 , -0.24779712, -0.21220323, -0.2779649 ,\n",
       "         -0.19546506,  0.1432856 ,  0.2699259 , -0.2718173 ],\n",
       "        [-0.09404783,  0.07614377, -0.04030603,  0.13221893, -0.07006304,\n",
       "          0.03293326,  0.09739289,  0.25849396, -0.21252345, -0.08914718,\n",
       "         -0.2060025 , -0.1328178 ,  0.10925668,  0.22217083, -0.01795331,\n",
       "         -0.29240867, -0.16132945,  0.20757091,  0.05015033, -0.29769763,\n",
       "         -0.29505485, -0.01087692,  0.04383549, -0.0520533 ,  0.16515252,\n",
       "         -0.00848186, -0.10896429, -0.16044824,  0.13054067, -0.09544446,\n",
       "          0.02429122,  0.20712459, -0.07200247,  0.29340565,  0.09114856,\n",
       "          0.14292958,  0.1727466 , -0.22231781, -0.18048075,  0.14558351,\n",
       "          0.10512781,  0.09945005,  0.29923332, -0.19643304, -0.2962466 ,\n",
       "          0.2792412 , -0.06768139, -0.09494209,  0.05748478,  0.14177632,\n",
       "          0.2879495 ,  0.05156955,  0.10631707,  0.14130422, -0.0051012 ,\n",
       "          0.02358347, -0.20488028,  0.24466717,  0.22448969, -0.19130573,\n",
       "         -0.22589865,  0.23903733,  0.02903235,  0.25623274]],\n",
       "       dtype=float32)>,\n",
       " <tf.Variable 'dense_4/bias:0' shape=(64,) dtype=float32, numpy=\n",
       " array([0., 0., 0., 0., 0., 0., 0., 0., 0., 0., 0., 0., 0., 0., 0., 0., 0.,\n",
       "        0., 0., 0., 0., 0., 0., 0., 0., 0., 0., 0., 0., 0., 0., 0., 0., 0.,\n",
       "        0., 0., 0., 0., 0., 0., 0., 0., 0., 0., 0., 0., 0., 0., 0., 0., 0.,\n",
       "        0., 0., 0., 0., 0., 0., 0., 0., 0., 0., 0., 0., 0.], dtype=float32)>,\n",
       " <tf.Variable 'dense_5/kernel:0' shape=(64, 10) dtype=float32, numpy=\n",
       " array([[ 2.92825103e-02,  1.31121278e-01, -2.29933411e-01,\n",
       "         -2.58277059e-02, -2.33000174e-01,  2.39321738e-01,\n",
       "         -2.53960192e-02, -1.46809161e-01, -2.79077709e-01,\n",
       "          1.64101809e-01],\n",
       "        [ 4.91196513e-02,  1.34907931e-01,  6.57558441e-02,\n",
       "          1.01180702e-01,  3.48421633e-02, -2.18504906e-01,\n",
       "          3.35680246e-02,  2.44721383e-01,  1.38469994e-01,\n",
       "         -1.30751088e-01],\n",
       "        [-2.39718750e-01, -2.05785424e-01, -1.25050917e-01,\n",
       "         -2.52226293e-01,  1.99828416e-01, -1.59843326e-01,\n",
       "         -2.72684991e-01,  5.81782162e-02,  2.30786294e-01,\n",
       "          1.03000015e-01],\n",
       "        [-9.97168869e-02,  1.58130735e-01, -1.19839340e-01,\n",
       "          1.16496891e-01, -1.45260200e-01,  1.28980130e-01,\n",
       "          2.59474546e-01, -2.62782216e-01,  3.76901031e-03,\n",
       "          1.65124416e-01],\n",
       "        [-2.02978849e-02,  5.47834933e-02,  2.58094937e-01,\n",
       "          1.29565001e-02, -2.11954117e-04, -1.98698878e-01,\n",
       "          1.91319197e-01, -1.59837618e-01, -1.44417897e-01,\n",
       "          7.66882300e-02],\n",
       "        [ 8.30782950e-02, -1.04946718e-01,  2.51543224e-02,\n",
       "         -1.74621001e-01, -2.34706283e-01,  2.75550872e-01,\n",
       "          1.30228877e-01,  1.08079046e-01, -3.39193344e-02,\n",
       "          2.33437687e-01],\n",
       "        [-1.83497027e-01,  2.07677603e-01,  2.00564146e-01,\n",
       "         -1.41052574e-01, -1.53296307e-01, -2.67455876e-02,\n",
       "         -2.23309547e-01, -5.74484020e-02, -2.23012879e-01,\n",
       "          8.82734954e-02],\n",
       "        [-9.09638107e-02,  1.82664424e-01, -1.16990924e-01,\n",
       "          1.06557667e-01, -2.59566396e-01,  2.51559645e-01,\n",
       "         -5.82455695e-02, -2.99720764e-02,  1.15951598e-01,\n",
       "          1.03568852e-01],\n",
       "        [-1.12939581e-01, -6.58976138e-02, -1.10693946e-01,\n",
       "          8.13225508e-02, -1.12136245e-01, -1.49779573e-01,\n",
       "          2.48240322e-01,  3.77292037e-02,  1.90129876e-03,\n",
       "          2.81488895e-03],\n",
       "        [-2.05085874e-01, -3.47522050e-02, -3.44420373e-02,\n",
       "         -2.03590214e-01,  2.36629277e-01,  5.24132252e-02,\n",
       "          1.12949908e-01, -2.68557489e-01,  2.12379396e-02,\n",
       "          2.74679989e-01],\n",
       "        [ 2.43841261e-01,  3.00890207e-03, -1.02126539e-01,\n",
       "         -2.66839266e-02,  1.03886217e-01, -7.41064847e-02,\n",
       "          1.50092542e-01, -1.57948941e-01,  2.34961599e-01,\n",
       "         -1.31418839e-01],\n",
       "        [ 1.27395600e-01, -1.92568228e-01, -4.21803594e-02,\n",
       "         -1.39956161e-01,  1.50250256e-01, -1.26444414e-01,\n",
       "          7.99285769e-02,  8.24782848e-02, -1.42847568e-01,\n",
       "         -1.54545531e-01],\n",
       "        [ 9.42913294e-02,  2.48349160e-01,  1.28171980e-01,\n",
       "         -5.55974841e-02, -2.39085272e-01, -2.66123593e-01,\n",
       "         -1.77059174e-01, -1.12523437e-02,  1.24394715e-01,\n",
       "          4.01684046e-02],\n",
       "        [-9.71053988e-02,  2.27526575e-01, -2.50038981e-01,\n",
       "          2.15204000e-01,  6.58189952e-02, -1.89180285e-01,\n",
       "          8.34674239e-02,  1.47321850e-01, -1.82855666e-01,\n",
       "         -1.09986395e-01],\n",
       "        [-1.88721627e-01, -2.75406271e-01,  2.81254500e-01,\n",
       "         -7.84496814e-02, -1.98245719e-01,  1.72742307e-02,\n",
       "         -2.00129449e-01,  2.07665473e-01,  7.63912797e-02,\n",
       "         -6.78168982e-02],\n",
       "        [-7.77268410e-03, -1.26687720e-01,  5.72115183e-03,\n",
       "         -2.63455212e-01,  2.30515033e-01,  1.32058144e-01,\n",
       "          1.94213927e-01,  6.39103055e-02, -2.04942167e-01,\n",
       "          2.03908414e-01],\n",
       "        [-2.76456654e-01,  1.34265631e-01,  7.44931698e-02,\n",
       "          2.71868914e-01,  1.48102164e-01,  1.75666153e-01,\n",
       "          4.70116735e-03,  1.67118788e-01,  5.77799082e-02,\n",
       "         -3.59556079e-02],\n",
       "        [-1.90176696e-01,  2.52192914e-02, -3.00161242e-02,\n",
       "         -1.44516677e-01,  1.74274236e-01, -1.85461253e-01,\n",
       "          8.64925683e-02,  5.50810397e-02,  2.20735103e-01,\n",
       "          8.04246366e-02],\n",
       "        [ 2.79520363e-01, -2.50414133e-01, -2.30013400e-01,\n",
       "         -1.84937224e-01,  2.13775039e-03,  2.66941577e-01,\n",
       "          1.75760090e-02, -1.36270881e-01,  2.22085506e-01,\n",
       "          5.70767224e-02],\n",
       "        [-1.15038306e-01,  1.56667680e-01,  7.19108880e-02,\n",
       "         -4.35661823e-02,  2.71389186e-02,  1.08624697e-01,\n",
       "          2.18394607e-01, -1.11938894e-01, -8.46609324e-02,\n",
       "          1.66946828e-01],\n",
       "        [ 2.43989825e-02,  1.31860465e-01,  1.96939677e-01,\n",
       "         -3.17791998e-02, -1.83229208e-01,  2.52938658e-01,\n",
       "          9.61160660e-02,  1.68817848e-01,  1.71540141e-01,\n",
       "         -1.96549237e-01],\n",
       "        [-1.90650970e-01, -2.75425822e-01,  2.61515379e-04,\n",
       "         -1.09999165e-01,  5.03893793e-02, -1.75679862e-01,\n",
       "          7.95341432e-02,  2.35120356e-02,  2.22976118e-01,\n",
       "          1.29370779e-01],\n",
       "        [-1.50728196e-01, -2.65744627e-01,  5.19424677e-02,\n",
       "          8.20528865e-02, -6.93440735e-02,  3.35832238e-02,\n",
       "          5.73444366e-03, -9.78283584e-02, -1.11305416e-02,\n",
       "          9.05442536e-02],\n",
       "        [-9.07643586e-02, -1.79571405e-01,  1.75207019e-01,\n",
       "          9.29628015e-02,  4.12158072e-02,  5.05247414e-02,\n",
       "         -1.09077498e-01,  5.38543761e-02,  1.00233793e-01,\n",
       "         -2.53566682e-01],\n",
       "        [ 1.11179203e-01, -1.47652000e-01, -1.23357698e-01,\n",
       "          1.58637762e-02, -2.13076085e-01, -1.82562739e-01,\n",
       "          4.88463044e-03,  1.69173867e-01,  1.50454342e-02,\n",
       "          1.87928408e-01],\n",
       "        [ 1.50835782e-01,  1.00161225e-01, -8.14838558e-02,\n",
       "         -8.12041759e-03, -2.46608064e-01, -1.38429612e-01,\n",
       "         -5.42515516e-03,  2.27373213e-01, -1.03684664e-01,\n",
       "         -2.65330225e-01],\n",
       "        [-1.28215492e-01,  2.77402073e-01,  5.84057271e-02,\n",
       "         -8.54438245e-02,  1.20567173e-01,  3.06099653e-04,\n",
       "         -1.96006745e-01, -4.53712195e-02,  2.11133659e-02,\n",
       "         -2.21023932e-01],\n",
       "        [-1.03046447e-01,  9.23332572e-03, -1.18803427e-01,\n",
       "          5.90216815e-02, -1.47637725e-02, -2.51491666e-02,\n",
       "         -2.27131978e-01,  9.30443406e-02,  2.83119470e-01,\n",
       "          7.65934587e-02],\n",
       "        [-1.33657828e-01, -1.94596201e-01,  2.32241124e-01,\n",
       "          6.67672157e-02, -2.29548484e-01,  1.31686181e-01,\n",
       "          2.36441940e-01,  2.40843892e-02, -1.74226090e-01,\n",
       "         -1.73823178e-01],\n",
       "        [-2.71403193e-01, -4.83813435e-02, -1.11899510e-01,\n",
       "         -2.40148887e-01, -3.88356000e-02, -2.06337690e-01,\n",
       "          2.45607048e-01,  2.38756210e-01,  2.15980083e-01,\n",
       "         -2.78850466e-01],\n",
       "        [ 2.46666580e-01,  1.54679686e-01,  2.41500467e-01,\n",
       "          1.93558931e-01,  1.72810048e-01, -2.31884956e-01,\n",
       "          5.41449189e-02, -4.60375398e-02,  2.54644901e-01,\n",
       "          1.95133209e-01],\n",
       "        [-2.26913646e-01, -2.60883570e-02,  3.02745998e-02,\n",
       "         -1.02534279e-01,  7.06642866e-03, -4.47095037e-02,\n",
       "          2.40366668e-01,  1.49404496e-01,  7.32929111e-02,\n",
       "         -2.34720409e-01],\n",
       "        [-1.77643359e-01,  7.39862621e-02,  1.43451095e-02,\n",
       "         -2.83821940e-01, -7.98936188e-02,  1.63136542e-01,\n",
       "          1.44998163e-01,  2.78498560e-01,  5.67632914e-03,\n",
       "          2.71059275e-02],\n",
       "        [ 2.00694144e-01, -5.10185957e-03, -7.17106760e-02,\n",
       "         -8.07384253e-02,  2.08782524e-01, -2.18880877e-01,\n",
       "          2.68214434e-01, -2.33996034e-01, -1.18087053e-01,\n",
       "          2.31299996e-02],\n",
       "        [ 1.50239736e-01,  8.70392919e-02,  4.41770554e-02,\n",
       "         -2.77595967e-01,  1.48900747e-01,  1.08173788e-02,\n",
       "          1.49670750e-01,  2.56344885e-01, -1.74165666e-01,\n",
       "          1.98242188e-01],\n",
       "        [ 2.32760459e-01, -6.55697733e-02,  1.26205176e-01,\n",
       "         -2.40419030e-01, -7.48620182e-02, -1.54668137e-01,\n",
       "          6.24967217e-02,  1.58643723e-03, -8.16114843e-02,\n",
       "          7.28699565e-02],\n",
       "        [ 2.60452360e-01,  1.94399536e-01,  2.52383322e-01,\n",
       "         -2.63491988e-01, -2.78435826e-01, -1.45708323e-02,\n",
       "         -2.80212343e-01,  1.31535947e-01,  2.32836515e-01,\n",
       "         -2.21297055e-01],\n",
       "        [-1.24739110e-01,  1.83332473e-01, -4.62660640e-02,\n",
       "         -2.66496986e-01, -2.54811585e-01, -6.62528723e-02,\n",
       "          9.81205404e-02, -2.07789302e-01,  2.35463053e-01,\n",
       "         -1.62671372e-01],\n",
       "        [ 7.61620998e-02, -1.22500956e-02, -1.24931768e-01,\n",
       "         -2.29725271e-01,  2.22363174e-02, -2.66296089e-01,\n",
       "          1.63301110e-01, -3.81169319e-02, -1.98610276e-01,\n",
       "          1.80328429e-01],\n",
       "        [-2.26358443e-01, -2.75004089e-01,  1.47368580e-01,\n",
       "         -1.71937823e-01,  2.50475496e-01, -1.09238058e-01,\n",
       "         -2.02953488e-01,  2.53165990e-01,  1.73493922e-02,\n",
       "          2.22463161e-01],\n",
       "        [ 1.99110419e-01, -1.44571945e-01, -1.14638090e-01,\n",
       "         -2.00329840e-01,  1.68913156e-01, -4.37303334e-02,\n",
       "          1.64891750e-01, -1.62732810e-01,  2.23565906e-01,\n",
       "         -1.99069485e-01],\n",
       "        [ 2.31121093e-01,  4.80167866e-02, -1.59508631e-01,\n",
       "         -2.38726437e-02,  2.75921851e-01,  2.44957596e-01,\n",
       "          7.53567219e-02,  2.28375584e-01,  5.38029671e-02,\n",
       "          9.04351771e-02],\n",
       "        [ 2.29424685e-01, -2.09964663e-01,  2.07090974e-02,\n",
       "         -3.14747393e-02,  2.54025668e-01, -2.14490622e-01,\n",
       "         -2.08782643e-01,  2.40908951e-01,  3.04779708e-02,\n",
       "         -2.00067118e-01],\n",
       "        [-1.31644636e-01, -1.90438330e-02, -2.20113471e-01,\n",
       "          5.25578260e-02, -2.05149710e-01,  1.59930557e-01,\n",
       "          1.90819412e-01, -2.12970585e-01, -1.10066444e-01,\n",
       "         -1.64908454e-01],\n",
       "        [-2.81189680e-02, -2.62348741e-01, -3.21774483e-02,\n",
       "          9.11731720e-02,  2.59700984e-01, -2.05963850e-02,\n",
       "         -1.24517724e-01, -1.71701491e-01, -2.75081217e-01,\n",
       "         -2.34037921e-01],\n",
       "        [-2.36892313e-01,  2.51864105e-01, -2.72193760e-01,\n",
       "         -9.68572050e-02, -2.29483992e-01,  8.23655427e-02,\n",
       "         -4.74052429e-02, -6.80559427e-02,  1.70549154e-01,\n",
       "         -2.27658525e-01],\n",
       "        [-1.98189035e-01, -1.55968368e-02,  2.10282117e-01,\n",
       "          3.77850235e-02,  2.73886919e-02, -1.23317033e-01,\n",
       "         -7.24148899e-02, -2.45512471e-01,  2.09436148e-01,\n",
       "          3.71888876e-02],\n",
       "        [ 4.22098339e-02, -9.01815295e-02,  9.69589651e-02,\n",
       "          2.40507126e-02,  3.82893085e-02,  2.63744980e-01,\n",
       "         -1.99978530e-01,  2.80904770e-03,  1.38396412e-01,\n",
       "         -2.51870543e-01],\n",
       "        [ 1.35386020e-01,  5.02707064e-02,  1.71266496e-02,\n",
       "         -1.84146374e-01,  2.46573597e-01, -1.96322143e-01,\n",
       "          1.88456446e-01,  1.12958938e-01, -3.84840667e-02,\n",
       "          2.03238547e-01],\n",
       "        [ 1.95541024e-01, -2.52503067e-01, -2.18592003e-01,\n",
       "         -2.58372754e-01,  2.48951226e-01,  1.72320366e-01,\n",
       "         -1.72758535e-01,  9.68547463e-02, -2.04338625e-01,\n",
       "          8.88543129e-02],\n",
       "        [-1.74560457e-01,  2.37391919e-01, -1.81072637e-01,\n",
       "         -1.55618176e-01, -6.93974346e-02,  2.12638259e-01,\n",
       "          4.52927947e-02, -1.17035791e-01, -3.36139798e-02,\n",
       "         -7.30848908e-02],\n",
       "        [-2.62274206e-01, -1.30661339e-01, -2.69433111e-01,\n",
       "          2.13513076e-01, -1.27350390e-02, -2.07874700e-01,\n",
       "          1.70444250e-01, -1.84347332e-01,  1.08688980e-01,\n",
       "         -2.97021866e-03],\n",
       "        [-2.57208407e-01, -2.72722751e-01, -1.19134724e-01,\n",
       "          1.71475500e-01, -1.53072059e-01, -1.19338527e-01,\n",
       "          1.72885656e-02,  1.85298532e-01,  1.80634290e-01,\n",
       "          3.85174155e-02],\n",
       "        [-3.00770998e-02, -1.72141150e-01,  1.44196719e-01,\n",
       "         -2.53054202e-01, -1.85688078e-01, -7.96965361e-02,\n",
       "         -6.65570796e-02,  6.15116954e-03,  1.75894797e-01,\n",
       "         -1.15260363e-01],\n",
       "        [ 2.42562085e-01, -1.52499422e-01,  1.67473227e-01,\n",
       "         -1.96392626e-01,  9.23073292e-02, -3.99414450e-02,\n",
       "         -1.58931494e-01,  4.89715636e-02, -2.00858906e-01,\n",
       "          2.70063192e-01],\n",
       "        [ 2.24457413e-01, -1.18069887e-01,  1.51683062e-01,\n",
       "         -7.22994208e-02,  4.99899685e-02, -2.71766871e-01,\n",
       "         -2.24818647e-01, -1.24135494e-01, -1.71314463e-01,\n",
       "          1.39568448e-02],\n",
       "        [-2.68418998e-01, -4.75412607e-03, -7.18597621e-02,\n",
       "         -2.87601948e-02, -4.21949625e-02, -7.88834244e-02,\n",
       "          2.25384504e-01, -4.32487279e-02,  1.52042598e-01,\n",
       "          1.95836663e-01],\n",
       "        [ 2.44554013e-01,  7.40240812e-02,  9.99511182e-02,\n",
       "         -7.59419948e-02, -4.63657826e-02,  1.91222191e-01,\n",
       "         -1.28067225e-01,  1.73360437e-01,  3.20586562e-02,\n",
       "         -5.77536374e-02],\n",
       "        [-2.04057902e-01,  1.46470934e-01,  2.47009367e-01,\n",
       "          2.40206212e-01,  1.68674529e-01, -1.82821393e-01,\n",
       "         -4.80921417e-02, -1.28990173e-01,  1.52351081e-01,\n",
       "         -1.53596371e-01],\n",
       "        [ 8.19574594e-02, -2.15478346e-01, -2.37642825e-02,\n",
       "         -1.32307708e-02,  2.00554550e-01, -2.24290490e-02,\n",
       "         -9.90646183e-02,  1.32968277e-01,  2.38257647e-03,\n",
       "          3.61037552e-02],\n",
       "        [ 2.62234837e-01, -2.70917982e-01, -2.53959775e-01,\n",
       "          1.06016099e-01,  2.33935863e-01,  1.20691419e-01,\n",
       "         -2.08543137e-01, -5.52597940e-02, -1.45814717e-01,\n",
       "          2.16478109e-03],\n",
       "        [ 2.33939976e-01,  7.68545270e-03, -1.94579035e-01,\n",
       "         -2.79129297e-01, -1.29331931e-01, -9.21668112e-02,\n",
       "          2.43341058e-01, -2.14448735e-01,  2.29927897e-03,\n",
       "          1.53245509e-01],\n",
       "        [ 2.11566240e-01, -1.70611814e-01, -2.84292340e-01,\n",
       "          1.35704279e-01, -9.73412544e-02, -1.96207151e-01,\n",
       "         -2.31477618e-01, -1.63155973e-01, -2.24143907e-01,\n",
       "          2.26302892e-01],\n",
       "        [ 2.55885154e-01, -7.27877468e-02, -2.16487989e-01,\n",
       "          1.38680458e-01, -9.85052735e-02, -1.44813761e-01,\n",
       "          1.33925647e-01,  7.56017566e-02,  7.15201795e-02,\n",
       "          6.46871626e-02]], dtype=float32)>,\n",
       " <tf.Variable 'dense_5/bias:0' shape=(10,) dtype=float32, numpy=array([0., 0., 0., 0., 0., 0., 0., 0., 0., 0.], dtype=float32)>]"
      ]
     },
     "execution_count": 8,
     "metadata": {},
     "output_type": "execute_result"
    }
   ],
   "source": [
    "model.build(input_shape=(None, 3))\n",
    "model.weights"
   ]
  },
  {
   "cell_type": "code",
   "execution_count": 9,
   "id": "32352168-ae95-44d5-a4e1-a04fb2ec76a0",
   "metadata": {},
   "outputs": [
    {
     "name": "stdout",
     "output_type": "stream",
     "text": [
      "Model: \"sequential_3\"\n",
      "_________________________________________________________________\n",
      " Layer (type)                Output Shape              Param #   \n",
      "=================================================================\n",
      " dense_4 (Dense)             (None, 64)                256       \n",
      "                                                                 \n",
      " dense_5 (Dense)             (None, 10)                650       \n",
      "                                                                 \n",
      "=================================================================\n",
      "Total params: 906\n",
      "Trainable params: 906\n",
      "Non-trainable params: 0\n",
      "_________________________________________________________________\n"
     ]
    }
   ],
   "source": [
    "model.summary()"
   ]
  },
  {
   "cell_type": "code",
   "execution_count": 13,
   "id": "91990ae5-57b2-438f-b000-f1703f64fac3",
   "metadata": {},
   "outputs": [
    {
     "name": "stdout",
     "output_type": "stream",
     "text": [
      "Model: \"my_example_medel\"\n",
      "_________________________________________________________________\n",
      " Layer (type)                Output Shape              Param #   \n",
      "=================================================================\n",
      " my_first_layer (Dense)      (None, 64)                256       \n",
      "                                                                 \n",
      " my_second_layer (Dense)     (None, 10)                650       \n",
      "                                                                 \n",
      "=================================================================\n",
      "Total params: 906\n",
      "Trainable params: 906\n",
      "Non-trainable params: 0\n",
      "_________________________________________________________________\n"
     ]
    }
   ],
   "source": [
    "# 利用name参数命名模型和层\n",
    "model = keras.Sequential(name =\"my_example_medel\")\n",
    "model.add(layers.Dense(64, activation=\"relu\", name=\"my_first_layer\"))\n",
    "model.add(layers.Dense(10, activation=\"softmax\", name=\"my_second_layer\"))\n",
    "model.build((None, 3))\n",
    "model.summary()"
   ]
  },
  {
   "cell_type": "code",
   "execution_count": 15,
   "id": "707c1516-fa3f-4f8d-8a8c-ac423a089dba",
   "metadata": {},
   "outputs": [
    {
     "name": "stdout",
     "output_type": "stream",
     "text": [
      "Model: \"sequential_5\"\n",
      "_________________________________________________________________\n",
      " Layer (type)                Output Shape              Param #   \n",
      "=================================================================\n",
      " dense_8 (Dense)             (None, 64)                256       \n",
      "                                                                 \n",
      "=================================================================\n",
      "Total params: 256\n",
      "Trainable params: 256\n",
      "Non-trainable params: 0\n",
      "_________________________________________________________________\n"
     ]
    }
   ],
   "source": [
    "# 提前声明模型的输入形状\n",
    "model = keras.Sequential()\n",
    "model.add(keras.Input(shape=(3,)))\n",
    "model.add(layers.Dense(64, activation=\"relu\"))\n",
    "model.summary()"
   ]
  },
  {
   "cell_type": "markdown",
   "id": "a561e7ee-448c-4d8f-a01c-cb97fec10a01",
   "metadata": {},
   "source": [
    "### 函数式API"
   ]
  },
  {
   "cell_type": "code",
   "execution_count": 17,
   "id": "7a8340de-eea0-4407-ab43-8ea5a4bc5328",
   "metadata": {},
   "outputs": [
    {
     "data": {
      "text/plain": [
       "TensorShape([None, 3])"
      ]
     },
     "execution_count": 17,
     "metadata": {},
     "output_type": "execute_result"
    }
   ],
   "source": [
    "inputs = keras.Input(shape=(3, ), name=\"my_input\")\n",
    "inputs.shape"
   ]
  },
  {
   "cell_type": "code",
   "execution_count": 18,
   "id": "d10d9dd7-f381-4807-abbd-6a74e72847da",
   "metadata": {},
   "outputs": [
    {
     "data": {
      "text/plain": [
       "tf.float32"
      ]
     },
     "execution_count": 18,
     "metadata": {},
     "output_type": "execute_result"
    }
   ],
   "source": [
    "inputs.dtype"
   ]
  },
  {
   "cell_type": "code",
   "execution_count": 20,
   "id": "6e721443-3561-4d2c-afc6-82a925a9bd72",
   "metadata": {},
   "outputs": [
    {
     "data": {
      "text/plain": [
       "TensorShape([None, 64])"
      ]
     },
     "execution_count": 20,
     "metadata": {},
     "output_type": "execute_result"
    }
   ],
   "source": [
    "features = layers.Dense(64, activation=\"relu\")(inputs)\n",
    "features.shape"
   ]
  },
  {
   "cell_type": "code",
   "execution_count": 21,
   "id": "c63779f4-b6cd-4d60-86d9-54b9f8708838",
   "metadata": {},
   "outputs": [],
   "source": [
    "outputs = layers.Dense(10, activation=\"softmax\")(features)\n",
    "model = keras.Model(inputs=inputs, outputs=outputs)"
   ]
  },
  {
   "cell_type": "code",
   "execution_count": 22,
   "id": "70b4781f-c06a-4d4e-9ded-9cdb2e3dff51",
   "metadata": {},
   "outputs": [
    {
     "name": "stdout",
     "output_type": "stream",
     "text": [
      "Model: \"model\"\n",
      "_________________________________________________________________\n",
      " Layer (type)                Output Shape              Param #   \n",
      "=================================================================\n",
      " my_input (InputLayer)       [(None, 3)]               0         \n",
      "                                                                 \n",
      " dense_10 (Dense)            (None, 64)                256       \n",
      "                                                                 \n",
      " dense_11 (Dense)            (None, 10)                650       \n",
      "                                                                 \n",
      "=================================================================\n",
      "Total params: 906\n",
      "Trainable params: 906\n",
      "Non-trainable params: 0\n",
      "_________________________________________________________________\n"
     ]
    }
   ],
   "source": [
    "model.summary()"
   ]
  },
  {
   "cell_type": "markdown",
   "id": "40c30e26-708a-4f59-abb9-25c747abf2dd",
   "metadata": {},
   "source": [
    "#### 多输入、多输出的函数式模型"
   ]
  },
  {
   "cell_type": "code",
   "execution_count": 25,
   "id": "94dcf43b-f7a6-4272-b2f1-e3d384007ae0",
   "metadata": {},
   "outputs": [
    {
     "name": "stdout",
     "output_type": "stream",
     "text": [
      "Model: \"model_2\"\n",
      "__________________________________________________________________________________________________\n",
      " Layer (type)                   Output Shape         Param #     Connected to                     \n",
      "==================================================================================================\n",
      " title (InputLayer)             [(None, 10000)]      0           []                               \n",
      "                                                                                                  \n",
      " text_body (InputLayer)         [(None, 10000)]      0           []                               \n",
      "                                                                                                  \n",
      " tags (InputLayer)              [(None, 100)]        0           []                               \n",
      "                                                                                                  \n",
      " concatenate_2 (Concatenate)    (None, 20100)        0           ['title[0][0]',                  \n",
      "                                                                  'text_body[0][0]',              \n",
      "                                                                  'tags[0][0]']                   \n",
      "                                                                                                  \n",
      " dense_14 (Dense)               (None, 64)           1286464     ['concatenate_2[0][0]']          \n",
      "                                                                                                  \n",
      " priority (Dense)               (None, 1)            65          ['dense_14[0][0]']               \n",
      "                                                                                                  \n",
      " department (Dense)             (None, 4)            260         ['dense_14[0][0]']               \n",
      "                                                                                                  \n",
      "==================================================================================================\n",
      "Total params: 1,286,789\n",
      "Trainable params: 1,286,789\n",
      "Non-trainable params: 0\n",
      "__________________________________________________________________________________________________\n"
     ]
    }
   ],
   "source": [
    "vocabulary_size = 10000\n",
    "num_tags = 100\n",
    "num_departments = 4\n",
    "\n",
    "title = keras.Input(shape=(vocabulary_size, ), name =\"title\")\n",
    "text_body = keras.Input(shape=(vocabulary_size, ), name =\"text_body\")\n",
    "tags = keras.Input(shape=(num_tags,), name=\"tags\")\n",
    "\n",
    "features = layers.Concatenate()([title, text_body, tags])\n",
    "features = layers.Dense(64, activation=\"relu\")(features)\n",
    "\n",
    "priority = layers.Dense(1, activation=\"sigmoid\", name=\"priority\")(features)\n",
    "department = layers.Dense(num_departments, activation=\"softmax\", name=\"department\")(features)\n",
    "\n",
    "model = keras.Model(inputs=[title, text_body, tags],\n",
    "                    outputs=[priority, department])\n",
    "model.summary()"
   ]
  },
  {
   "cell_type": "markdown",
   "id": "f1da29bf-71c8-46d9-bc93-71c213608284",
   "metadata": {},
   "source": [
    "#### 训练一个多输入、多输出模型"
   ]
  },
  {
   "cell_type": "code",
   "execution_count": 26,
   "id": "a7508983-fa2f-4ee1-b5b2-430b912749fc",
   "metadata": {},
   "outputs": [],
   "source": [
    "import numpy as np"
   ]
  },
  {
   "cell_type": "code",
   "execution_count": 30,
   "id": "1cb798b6-c46c-41bc-a1ee-1ca090752838",
   "metadata": {},
   "outputs": [
    {
     "name": "stdout",
     "output_type": "stream",
     "text": [
      "40/40 [==============================] - 1s 8ms/step - loss: 33.9244 - priority_loss: 0.3411 - department_loss: 33.5833 - priority_mean_absolute_error: 0.5041 - department_accuracy: 0.2219\n"
     ]
    },
    {
     "data": {
      "text/plain": [
       "<keras.callbacks.History at 0x7fe3fed42f40>"
      ]
     },
     "execution_count": 30,
     "metadata": {},
     "output_type": "execute_result"
    }
   ],
   "source": [
    "num_samples = 1280\n",
    "\n",
    "title_data = np.random.randint(0, 2, size=(num_samples, vocabulary_size))\n",
    "text_body_data = np.random.randint(0, 2, size=(num_samples, vocabulary_size))\n",
    "tags_data = np.random.randint(0, 2, size=(num_samples, num_tags))\n",
    "\n",
    "priority_data = np.random.random(size=(num_samples, 1))\n",
    "department_data = np.random.randint(0, 2, size=[num_samples, num_departments])\n",
    "\n",
    "model.compile(optimizer=\"rmsprop\",\n",
    "              loss=[\"mean_squared_error\", \"categorical_crossentropy\"],\n",
    "              metrics=[[\"mean_absolute_error\"],[\"accuracy\"]])\n",
    "model.fit([title_data, text_body_data, tags_data], \n",
    "          [priority_data, department_data],\n",
    "         epochs=1)"
   ]
  },
  {
   "cell_type": "code",
   "execution_count": 31,
   "id": "e9a8ce92-1b67-4819-906b-6a1ad18d7c40",
   "metadata": {},
   "outputs": [
    {
     "name": "stdout",
     "output_type": "stream",
     "text": [
      "40/40 [==============================] - 0s 3ms/step - loss: 34.6915 - priority_loss: 0.3411 - department_loss: 34.3503 - priority_mean_absolute_error: 0.5041 - department_accuracy: 0.1117\n"
     ]
    },
    {
     "data": {
      "text/plain": [
       "[34.69147491455078,\n",
       " 0.34113359451293945,\n",
       " 34.350337982177734,\n",
       " 0.5041354894638062,\n",
       " 0.11171875149011612]"
      ]
     },
     "execution_count": 31,
     "metadata": {},
     "output_type": "execute_result"
    }
   ],
   "source": [
    "model.evaluate([title_data, text_body_data, tags_data], \n",
    "          [priority_data, department_data])"
   ]
  },
  {
   "cell_type": "code",
   "execution_count": 32,
   "id": "46ea8210-e8f4-4bb3-9222-14990bb5df45",
   "metadata": {},
   "outputs": [
    {
     "name": "stdout",
     "output_type": "stream",
     "text": [
      "40/40 [==============================] - 0s 3ms/step\n"
     ]
    }
   ],
   "source": [
    "priority_preds, department_preds = model.predict(\n",
    "    [title_data, text_body_data, tags_data])"
   ]
  },
  {
   "cell_type": "code",
   "execution_count": 33,
   "id": "bbce3b16-1cb6-4052-9b35-ce7a3a925bc5",
   "metadata": {},
   "outputs": [
    {
     "data": {
      "image/png": "[encoded data removed]",
      "text/plain": [
       "<IPython.core.display.Image object>"
      ]
     },
     "execution_count": 33,
     "metadata": {},
     "output_type": "execute_result"
    }
   ],
   "source": [
    "keras.utils.plot_model(model, \"ticket_classifier.png\")"
   ]
  },
  {
   "cell_type": "code",
   "execution_count": 34,
   "id": "ddeafb07-fc38-4975-b57a-c71b601d2aa7",
   "metadata": {},
   "outputs": [
    {
     "name": "stdout",
     "output_type": "stream",
     "text": [
      "40/40 [==============================] - 1s 7ms/step - loss: 44.4265 - priority_loss: 0.3411 - department_loss: 44.0854 - priority_mean_absolute_error: 0.5041 - department_accuracy: 0.2289\n",
      "40/40 [==============================] - 0s 5ms/step - loss: 48.2917 - priority_loss: 0.3411 - department_loss: 47.9506 - priority_mean_absolute_error: 0.5041 - department_accuracy: 0.1117\n",
      "40/40 [==============================] - 0s 2ms/step\n"
     ]
    }
   ],
   "source": [
    "model.compile(optimizer=\"rmsprop\",\n",
    "              loss={\"priority\": \"mean_squared_error\", \"department\":\n",
    "                    \"categorical_crossentropy\"},\n",
    "              metrics={\"priority\": [\"mean_absolute_error\"], \"department\":\n",
    "                       [\"accuracy\"]})\n",
    "model.fit({\"title\": title_data, \"text_body\": text_body_data,\n",
    "           \"tags\": tags_data},\n",
    "          {\"priority\": priority_data, \"department\": department_data},\n",
    "          epochs=1)\n",
    "model.evaluate({\"title\": title_data, \"text_body\": text_body_data,\n",
    "                \"tags\": tags_data},\n",
    "               {\"priority\": priority_data, \"department\": department_data})\n",
    "priority_preds, department_preds = model.predict(\n",
    "    {\"title\": title_data, \"text_body\": text_body_data, \"tags\": tags_data})"
   ]
  },
  {
   "cell_type": "code",
   "execution_count": 35,
   "id": "de87fcd2-af69-4845-a127-7a2c76e80663",
   "metadata": {},
   "outputs": [
    {
     "data": {
      "image/png": "[encoded data removed]",
      "text/plain": [
       "<IPython.core.display.Image object>"
      ]
     },
     "execution_count": 35,
     "metadata": {},
     "output_type": "execute_result"
    }
   ],
   "source": [
    "keras.utils.plot_model(model, \"ticket_classifier_1.png\")"
   ]
  },
  {
   "cell_type": "code",
   "execution_count": 36,
   "id": "199a2597-fc8d-4aae-9231-643b607d2dfe",
   "metadata": {},
   "outputs": [
    {
     "data": {
      "image/png": "[encoded data removed]",
      "text/plain": [
       "<IPython.core.display.Image object>"
      ]
     },
     "execution_count": 36,
     "metadata": {},
     "output_type": "execute_result"
    }
   ],
   "source": [
    "keras.utils.plot_model(model, \"ticket_classifier_with_shape_info.png\", show_shapes=True)"
   ]
  },
  {
   "cell_type": "code",
   "execution_count": 37,
   "id": "722a2de5-5ee0-4c7b-bb89-799cfb468271",
   "metadata": {},
   "outputs": [
    {
     "data": {
      "text/plain": [
       "[<keras.engine.input_layer.InputLayer at 0x7fe4020584f0>,\n",
       " <keras.engine.input_layer.InputLayer at 0x7fe402058ca0>,\n",
       " <keras.engine.input_layer.InputLayer at 0x7fe402058e50>,\n",
       " <keras.layers.merging.concatenate.Concatenate at 0x7fe40206c610>,\n",
       " <keras.layers.core.dense.Dense at 0x7fe40206c6d0>,\n",
       " <keras.layers.core.dense.Dense at 0x7fe402051760>,\n",
       " <keras.layers.core.dense.Dense at 0x7fe402051910>]"
      ]
     },
     "execution_count": 37,
     "metadata": {},
     "output_type": "execute_result"
    }
   ],
   "source": [
    "model.layers"
   ]
  },
  {
   "cell_type": "code",
   "execution_count": 38,
   "id": "f12afbf7-931c-4f1f-9f68-d931cbfb4f5d",
   "metadata": {},
   "outputs": [
    {
     "data": {
      "text/plain": [
       "[<KerasTensor: shape=(None, 10000) dtype=float32 (created by layer 'title')>,\n",
       " <KerasTensor: shape=(None, 10000) dtype=float32 (created by layer 'text_body')>,\n",
       " <KerasTensor: shape=(None, 100) dtype=float32 (created by layer 'tags')>]"
      ]
     },
     "execution_count": 38,
     "metadata": {},
     "output_type": "execute_result"
    }
   ],
   "source": [
    "model.layers[3].input"
   ]
  },
  {
   "cell_type": "code",
   "execution_count": 39,
   "id": "5f57df7c-c290-445f-8ab0-c301ddaa5123",
   "metadata": {},
   "outputs": [
    {
     "data": {
      "text/plain": [
       "<KerasTensor: shape=(None, 20100) dtype=float32 (created by layer 'concatenate_2')>"
      ]
     },
     "execution_count": 39,
     "metadata": {},
     "output_type": "execute_result"
    }
   ],
   "source": [
    "model.layers[3].output"
   ]
  },
  {
   "cell_type": "code",
   "execution_count": 40,
   "id": "bfb8d020-d858-4fd8-8436-fad4a9e902f4",
   "metadata": {},
   "outputs": [],
   "source": [
    "# 重复使用中间层的输出，创建一个新模型\n",
    "features = model.layers[4].output\n",
    "difficulty = layers.Dense(3, activation=\"softmax\", name=\"difficulty\")(features)\n",
    "new_model = keras.Model(inputs=[title, text_body, tags],\n",
    "                        outputs=[priority, department, difficulty])"
   ]
  },
  {
   "cell_type": "code",
   "execution_count": 41,
   "id": "95bc8028-feec-4c46-9f4d-002f0785a32d",
   "metadata": {},
   "outputs": [
    {
     "data": {
      "image/png": "[encoded data removed]",
      "text/plain": [
       "<IPython.core.display.Image object>"
      ]
     },
     "execution_count": 41,
     "metadata": {},
     "output_type": "execute_result"
    }
   ],
   "source": [
    "keras.utils.plot_model(new_model, \"update_ticket_classifier.png\", show_shapes=True)"
   ]
  },
  {
   "cell_type": "markdown",
   "id": "fa582041-94c5-44d2-9dd1-e768e792fe32",
   "metadata": {},
   "source": [
    "### 模型子类化"
   ]
  },
  {
   "cell_type": "code",
   "execution_count": 48,
   "id": "e9518c6c-e8ca-4712-87ee-526261d2cef8",
   "metadata": {},
   "outputs": [],
   "source": [
    "class CustomerTicketModel(keras.Model):\n",
    "\n",
    "    def __init__(self, num_departments):\n",
    "        super().__init__()  #不要忘记调用super()构造函数！\n",
    "        self.concat_layer = layers.Concatenate()  #(本行及以下3行)在构造函数中定义子层\n",
    "        self.mixing_layer = layers.Dense(64, activation=\"relu\")\n",
    "        self.priority_scorer = layers.Dense(1, activation=\"sigmoid\")\n",
    "        self.department_classifier = layers.Dense(\n",
    "            num_departments, activation=\"softmax\")\n",
    "\n",
    "    def call(self, inputs):  #在call()方法中定义前向传播\n",
    "        title = inputs[\"title\"]\n",
    "        text_body = inputs[\"text_body\"]\n",
    "        tags = inputs[\"tags\"]\n",
    "\n",
    "        features = self.concat_layer([title, text_body, tags])\n",
    "        features = self.mixing_layer(features)\n",
    "        priority = self.priority_scorer(features)\n",
    "        department = self.department_classifier(features)\n",
    "        return priority, department"
   ]
  },
  {
   "cell_type": "code",
   "execution_count": 49,
   "id": "c2f42029-276b-479c-b132-52f6274a5ef6",
   "metadata": {},
   "outputs": [],
   "source": [
    "# 将模型实例化\n",
    "model = CustomerTicketModel(num_departments=4)\n",
    "\n",
    "priority, department = model({\"title\":title_data, \"text_body\":text_body_data, \"tags\": tags_data})"
   ]
  },
  {
   "cell_type": "code",
   "execution_count": 58,
   "id": "69786381-4b53-4270-a2fc-afa10e119928",
   "metadata": {},
   "outputs": [
    {
     "name": "stdout",
     "output_type": "stream",
     "text": [
      "40/40 [==============================] - 1s 8ms/step - loss: 27.6376 - output_1_loss: 0.3329 - output_2_loss: 27.3047 - output_1_mean_absolute_error: 0.4959 - output_2_accuracy: 0.2648\n",
      "40/40 [==============================] - 0s 4ms/step - loss: 23.2834 - output_1_loss: 0.3329 - output_2_loss: 22.9506 - output_1_mean_absolute_error: 0.4959 - output_2_accuracy: 0.5836\n",
      "40/40 [==============================] - 0s 3ms/step\n"
     ]
    }
   ],
   "source": [
    "model.compile(optimizer=\"rmsprop\",\n",
    "              loss=[\"mean_squared_error\", \"categorical_crossentropy\"],  # (本行及以下1行)参数loss和metrics的结构必须与call()返回的内容完全匹配——这里是两个元素组成的列表\n",
    "              metrics=[[\"mean_absolute_error\"], [\"accuracy\"]])\n",
    "model.fit({\"title\": title_data,  #(本行及以下2行)输入数据的结构必须与call()方法的输入完全匹配——这里是一个字典，字典的键是title、text_body和tags\n",
    "           \"text_body\": text_body_data,\n",
    "           \"tags\": tags_data},\n",
    "          [priority_data, department_data], #目标数据的结构必须与call()方法返回的内容完全匹配——这里是两个元素组成的列表\n",
    "          epochs=1)\n",
    "model.evaluate({\"title\": title_data,\n",
    "                \"text_body\": text_body_data,\n",
    "                \"tags\": tags_data},\n",
    "               [priority_data, department_data])\n",
    "priority_preds, department_preds = model.predict({\"title\": title_data,\n",
    "                                                  \"text_body\": text_body_data,\n",
    "                                                  \"tags\": tags_data})"
   ]
  },
  {
   "cell_type": "code",
   "execution_count": 59,
   "id": "787e8f42-6035-40f7-b093-e2d39ec5f12b",
   "metadata": {},
   "outputs": [
    {
     "data": {
      "image/png": "[encoded data removed]",
      "text/plain": [
       "<IPython.core.display.Image object>"
      ]
     },
     "execution_count": 59,
     "metadata": {},
     "output_type": "execute_result"
    }
   ],
   "source": [
    "keras.utils.plot_model(model, \"CustomerTicketModel.png\", show_shapes=True)"
   ]
  },
  {
   "cell_type": "markdown",
   "id": "215518ff-ca5f-4d3d-84ed-46e0a5e3be19",
   "metadata": {},
   "source": [
    "## 使用内置的训练循环和评估循环\n",
    "#### 标准工作流程：compile()、fit()、evaluate()、predict() "
   ]
  },
  {
   "cell_type": "code",
   "execution_count": 61,
   "id": "d5a2a73b-e6ac-4463-afd4-93170ab96c40",
   "metadata": {},
   "outputs": [],
   "source": [
    "from tensorflow.keras.datasets import mnist"
   ]
  },
  {
   "cell_type": "code",
   "execution_count": 66,
   "id": "d5ee1d24-d68f-4c69-917f-63514ee267b5",
   "metadata": {},
   "outputs": [
    {
     "name": "stdout",
     "output_type": "stream",
     "text": [
      "Epoch 1/3\n",
      "1563/1563 [==============================] - 5s 3ms/step - loss: 0.2932 - accuracy: 0.9128 - val_loss: 0.1514 - val_accuracy: 0.9564\n",
      "Epoch 2/3\n",
      "1563/1563 [==============================] - 4s 2ms/step - loss: 0.1629 - accuracy: 0.9539 - val_loss: 0.1236 - val_accuracy: 0.9665\n",
      "Epoch 3/3\n",
      "1563/1563 [==============================] - 4s 2ms/step - loss: 0.1364 - accuracy: 0.9628 - val_loss: 0.1152 - val_accuracy: 0.9695\n"
     ]
    },
    {
     "data": {
      "text/plain": [
       "<keras.callbacks.History at 0x7fe4008f16d0>"
      ]
     },
     "execution_count": 66,
     "metadata": {},
     "output_type": "execute_result"
    }
   ],
   "source": [
    "def get_mnist_model():\n",
    "    inputs = keras.Input(shape=(28*28,))\n",
    "    features = layers.Dense(512, activation=\"relu\")(inputs)\n",
    "    features = layers.Dropout(0.5)(features)\n",
    "    outputs = layers.Dense(10, activation=\"softmax\")(features)\n",
    "    model = keras.Model(inputs, outputs)\n",
    "    return model\n",
    "\n",
    "(images, labels), (test_images, test_labels) = mnist.load_data()\n",
    "images = images.reshape((60000, 28*28)).astype(\"float32\")/255\n",
    "test_images = test_images.reshape((10000, 28*28)).astype(\"float32\")/255\n",
    "train_images, val_images = images[10000:], images[:10000]\n",
    "train_labels, val_labels = labels[10000:], labels[:10000]\n",
    "\n",
    "model = get_mnist_model()\n",
    "model.compile(optimizer=\"rmsprop\",\n",
    "              loss=\"sparse_categorical_crossentropy\",\n",
    "              metrics=[\"accuracy\"])\n",
    "model.fit(train_images, train_labels, epochs=3, validation_data=(val_images, val_labels))"
   ]
  },
  {
   "cell_type": "code",
   "execution_count": 67,
   "id": "6d6a333d-7600-46c8-a52a-f2d65c5c29dc",
   "metadata": {},
   "outputs": [
    {
     "data": {
      "image/png": "[encoded data removed]",
      "text/plain": [
       "<IPython.core.display.Image object>"
      ]
     },
     "execution_count": 67,
     "metadata": {},
     "output_type": "execute_result"
    }
   ],
   "source": [
    "keras.utils.plot_model(model, \"keras_mninst.png\", show_shapes=True)"
   ]
  },
  {
   "cell_type": "code",
   "execution_count": 68,
   "id": "1e53ae0c-7cd6-4c28-a0f2-0822d366c261",
   "metadata": {},
   "outputs": [
    {
     "name": "stdout",
     "output_type": "stream",
     "text": [
      "313/313 [==============================] - 1s 2ms/step - loss: 0.1077 - accuracy: 0.9722\n",
      "313/313 [==============================] - 0s 1ms/step\n"
     ]
    }
   ],
   "source": [
    "test_metrics = model.evaluate(test_images, test_labels)\n",
    "predictions = model.predict(test_images)"
   ]
  },
  {
   "cell_type": "code",
   "execution_count": 69,
   "id": "117c4b2e-4c87-471f-aa10-442cb6663ea8",
   "metadata": {
    "scrolled": true,
    "tags": []
   },
   "outputs": [
    {
     "name": "stdout",
     "output_type": "stream",
     "text": [
      "Epoch 1/10\n",
      "1563/1563 [==============================] - 4s 2ms/step - loss: 0.2961 - accuracy: 0.9114 - val_loss: 0.1516 - val_accuracy: 0.9580\n",
      "Epoch 2/10\n",
      "1563/1563 [==============================] - 4s 2ms/step - loss: 0.1663 - accuracy: 0.9536 - val_loss: 0.1194 - val_accuracy: 0.9671\n",
      "Epoch 3/10\n",
      "1563/1563 [==============================] - 4s 2ms/step - loss: 0.1372 - accuracy: 0.9625 - val_loss: 0.1285 - val_accuracy: 0.9670\n",
      "Epoch 4/10\n",
      "1563/1563 [==============================] - 4s 2ms/step - loss: 0.1280 - accuracy: 0.9668 - val_loss: 0.1077 - val_accuracy: 0.9731\n",
      "Epoch 5/10\n",
      "1563/1563 [==============================] - 4s 3ms/step - loss: 0.1173 - accuracy: 0.9699 - val_loss: 0.1112 - val_accuracy: 0.9735\n",
      "Epoch 6/10\n",
      "1563/1563 [==============================] - 4s 2ms/step - loss: 0.1128 - accuracy: 0.9726 - val_loss: 0.1166 - val_accuracy: 0.9746\n",
      "Epoch 7/10\n",
      "1563/1563 [==============================] - 4s 3ms/step - loss: 0.1072 - accuracy: 0.9745 - val_loss: 0.1254 - val_accuracy: 0.9732\n",
      "Epoch 8/10\n",
      "1563/1563 [==============================] - 4s 3ms/step - loss: 0.0999 - accuracy: 0.9762 - val_loss: 0.1106 - val_accuracy: 0.9774\n",
      "Epoch 9/10\n",
      "1563/1563 [==============================] - 4s 3ms/step - loss: 0.0987 - accuracy: 0.9777 - val_loss: 0.1159 - val_accuracy: 0.9775\n",
      "Epoch 10/10\n",
      "1563/1563 [==============================] - 4s 3ms/step - loss: 0.0942 - accuracy: 0.9796 - val_loss: 0.1213 - val_accuracy: 0.9756\n"
     ]
    },
    {
     "data": {
      "text/plain": [
       "<keras.callbacks.History at 0x7fe3fc6795b0>"
      ]
     },
     "execution_count": 69,
     "metadata": {},
     "output_type": "execute_result"
    }
   ],
   "source": [
    "callbacks_list = [  #通过fit()的callbacks参数将回调函数传入模型中，该参数接收一个回调函数列表，可以传入任意数量的回调函数\n",
    "    keras.callbacks.EarlyStopping(  #如果不再改善，则中断训练\n",
    "        monitor=\"val_accuracy\",  #监控模型的验证精度\n",
    "        patience=2,  #如果精度在两轮内都不再改善，则中断训练\n",
    "    ),\n",
    "    keras.callbacks.ModelCheckpoint(  #在每轮过后保存当前权重\n",
    "        filepath=\"checkpoint_path.keras\",  #模型文件的保存路径\n",
    "        monitor=\"val_loss\",  #(本行及以下1行)这两个参数的含义是，只有当val_loss改善时，才会覆盖模型文件，这样就可以一直保存训练过程中的最佳模型\n",
    "        save_best_only=True,\n",
    "    )\n",
    "]\n",
    "model = get_mnist_model()\n",
    "model.compile(optimizer=\"rmsprop\",\n",
    "              loss=\"sparse_categorical_crossentropy\",\n",
    "              metrics=[\"accuracy\"])  #监控精度，它应该是模型指标的一部分\n",
    "model.fit(train_images, train_labels,  # (本行及以下3行)因为回调函数要监控验证损失和验证指标，所以在调用fit()时需要传入validation_data（验证数据）\n",
    "          epochs=10,\n",
    "          callbacks=callbacks_list,\n",
    "          validation_data=(val_images, val_labels))"
   ]
  },
  {
   "cell_type": "markdown",
   "id": "740cfff3-ae11-4607-9657-43bacc6bcd16",
   "metadata": {
    "tags": []
   },
   "source": [
    "#### 编写自定义调函数"
   ]
  },
  {
   "cell_type": "code",
   "execution_count": 71,
   "id": "d0f0edd0-6b6e-4b28-bacd-e99e45357254",
   "metadata": {},
   "outputs": [],
   "source": [
    "import matplotlib.pyplot as plt"
   ]
  },
  {
   "cell_type": "code",
   "execution_count": 72,
   "id": "aa45435b-f484-4afc-b980-21248d226825",
   "metadata": {},
   "outputs": [],
   "source": [
    "class LossHistory(keras.callbacks.Callback):\n",
    "    def on_train_begin(self, logs):\n",
    "        self.per_batch_losses = []\n",
    "        \n",
    "    def on_batch_end(self, batch, logs):\n",
    "        self.per_batch_losses.append(logs.get(\"loss\"))\n",
    "        \n",
    "    def on_epoch_end(self, epoch, logs):\n",
    "        plt.clf()\n",
    "        plt.plot(range(len(self.per_batch_losses)), self.per_batch_losses,\n",
    "                 label=\"Training loss for each batch\")\n",
    "        plt.xlabel(f\"Batch (epoch {epoch})\")\n",
    "        plt.ylabel(\"Loss\")\n",
    "        plt.legend()\n",
    "        plt.savefig(f\"plot_at_epoch_{epoch}\")\n",
    "        self.per_batch_losses = []"
   ]
  },
  {
   "cell_type": "code",
   "execution_count": 73,
   "id": "6c2713e3-5c41-4bb3-824b-6477fd8c9885",
   "metadata": {
    "scrolled": true,
    "tags": []
   },
   "outputs": [
    {
     "name": "stdout",
     "output_type": "stream",
     "text": [
      "Epoch 1/10\n",
      "1563/1563 [==============================] - 5s 3ms/step - loss: 0.2934 - accuracy: 0.9126 - val_loss: 0.1638 - val_accuracy: 0.9549\n",
      "Epoch 2/10\n",
      "1563/1563 [==============================] - 4s 3ms/step - loss: 0.1669 - accuracy: 0.9533 - val_loss: 0.1220 - val_accuracy: 0.9663\n",
      "Epoch 3/10\n",
      "1563/1563 [==============================] - 4s 3ms/step - loss: 0.1430 - accuracy: 0.9619 - val_loss: 0.1075 - val_accuracy: 0.9723\n",
      "Epoch 4/10\n",
      "1563/1563 [==============================] - 4s 3ms/step - loss: 0.1264 - accuracy: 0.9668 - val_loss: 0.1096 - val_accuracy: 0.9739\n",
      "Epoch 5/10\n",
      "1563/1563 [==============================] - 5s 3ms/step - loss: 0.1189 - accuracy: 0.9708 - val_loss: 0.1128 - val_accuracy: 0.9735\n",
      "Epoch 6/10\n",
      "1563/1563 [==============================] - 5s 3ms/step - loss: 0.1126 - accuracy: 0.9731 - val_loss: 0.1128 - val_accuracy: 0.9767\n",
      "Epoch 7/10\n",
      "1563/1563 [==============================] - 5s 3ms/step - loss: 0.1053 - accuracy: 0.9750 - val_loss: 0.1188 - val_accuracy: 0.9761\n",
      "Epoch 8/10\n",
      "1563/1563 [==============================] - 4s 3ms/step - loss: 0.1001 - accuracy: 0.9765 - val_loss: 0.1139 - val_accuracy: 0.9771\n",
      "Epoch 9/10\n",
      "1563/1563 [==============================] - 5s 3ms/step - loss: 0.1021 - accuracy: 0.9764 - val_loss: 0.1178 - val_accuracy: 0.9772\n",
      "Epoch 10/10\n",
      "1563/1563 [==============================] - 4s 3ms/step - loss: 0.0965 - accuracy: 0.9790 - val_loss: 0.1159 - val_accuracy: 0.9783\n"
     ]
    },
    {
     "data": {
      "text/plain": [
       "<keras.callbacks.History at 0x7fe3b8629580>"
      ]
     },
     "execution_count": 73,
     "metadata": {},
     "output_type": "execute_result"
    },
    {
     "data": {
      "image/png": "[encoded data removed]",
      "text/plain": [
       "<Figure size 432x288 with 1 Axes>"
      ]
     },
     "metadata": {
      "needs_background": "light"
     },
     "output_type": "display_data"
    }
   ],
   "source": [
    "model = get_mnist_model()\n",
    "model.compile(optimizer=\"rmsprop\",\n",
    "              loss=\"sparse_categorical_crossentropy\",\n",
    "              metrics=[\"accuracy\"])\n",
    "model.fit(train_images, train_labels,\n",
    "          epochs=10,\n",
    "          callbacks=[LossHistory()],\n",
    "          validation_data=(val_images, val_labels))"
   ]
  },
  {
   "cell_type": "markdown",
   "id": "9c6fa21f-fa11-4ef3-8fb0-b36776fcdcba",
   "metadata": {},
   "source": [
    "### 　利用TensorBoard进行监控和可视化"
   ]
  },
  {
   "cell_type": "code",
   "execution_count": 75,
   "id": "65c38098-4e7c-4bc5-aac9-904272ae8d25",
   "metadata": {},
   "outputs": [
    {
     "name": "stdout",
     "output_type": "stream",
     "text": [
      "Name: tensorboard\n",
      "Version: 2.9.1\n",
      "Summary: TensorBoard lets you watch Tensors Flow\n",
      "Home-page: https://github.com/tensorflow/tensorboard\n",
      "Author: Google Inc.\n",
      "Author-email: packages@tensorflow.org\n",
      "License: Apache 2.0\n",
      "Location: /Users/dayao/opt/anaconda3/lib/python3.9/site-packages\n",
      "Requires: tensorboard-data-server, tensorboard-plugin-wit, werkzeug, protobuf, markdown, numpy, grpcio, google-auth-oauthlib, setuptools, absl-py, wheel, requests, google-auth\n",
      "Required-by: tensorflow\n"
     ]
    }
   ],
   "source": [
    "!pip show tensorboard"
   ]
  },
  {
   "cell_type": "code",
   "execution_count": 80,
   "id": "6e4e0834-3964-4a19-bc74-89daf09cff8d",
   "metadata": {
    "scrolled": true,
    "tags": []
   },
   "outputs": [
    {
     "name": "stdout",
     "output_type": "stream",
     "text": [
      "Epoch 1/10\n",
      "1563/1563 [==============================] - 4s 2ms/step - loss: 0.2960 - accuracy: 0.9119 - val_loss: 0.1507 - val_accuracy: 0.9565\n",
      "Epoch 2/10\n",
      "1563/1563 [==============================] - 4s 2ms/step - loss: 0.1668 - accuracy: 0.9533 - val_loss: 0.1235 - val_accuracy: 0.9671\n",
      "Epoch 3/10\n",
      "1563/1563 [==============================] - 4s 3ms/step - loss: 0.1390 - accuracy: 0.9616 - val_loss: 0.1188 - val_accuracy: 0.9708\n",
      "Epoch 4/10\n",
      "1563/1563 [==============================] - 4s 3ms/step - loss: 0.1256 - accuracy: 0.9673 - val_loss: 0.1145 - val_accuracy: 0.9715\n",
      "Epoch 5/10\n",
      "1563/1563 [==============================] - 4s 3ms/step - loss: 0.1173 - accuracy: 0.9716 - val_loss: 0.1113 - val_accuracy: 0.9732\n",
      "Epoch 6/10\n",
      "1563/1563 [==============================] - 4s 2ms/step - loss: 0.1089 - accuracy: 0.9732 - val_loss: 0.1176 - val_accuracy: 0.9741\n",
      "Epoch 7/10\n",
      "1563/1563 [==============================] - 4s 3ms/step - loss: 0.1031 - accuracy: 0.9753 - val_loss: 0.1111 - val_accuracy: 0.9776\n",
      "Epoch 8/10\n",
      "1563/1563 [==============================] - 4s 3ms/step - loss: 0.0986 - accuracy: 0.9770 - val_loss: 0.1109 - val_accuracy: 0.9766\n",
      "Epoch 9/10\n",
      "1563/1563 [==============================] - 4s 3ms/step - loss: 0.0976 - accuracy: 0.9774 - val_loss: 0.1196 - val_accuracy: 0.9766\n",
      "Epoch 10/10\n",
      "1563/1563 [==============================] - 4s 3ms/step - loss: 0.0917 - accuracy: 0.9796 - val_loss: 0.1142 - val_accuracy: 0.9799\n"
     ]
    },
    {
     "data": {
      "text/plain": [
       "<keras.callbacks.History at 0x7fe3b83b2c10>"
      ]
     },
     "execution_count": 80,
     "metadata": {},
     "output_type": "execute_result"
    }
   ],
   "source": [
    "model = get_mnist_model()\n",
    "model.compile(optimizer=\"rmsprop\",\n",
    "              loss=\"sparse_categorical_crossentropy\",\n",
    "              metrics=[\"accuracy\"])\n",
    "\n",
    "tensorboard = keras.callbacks.TensorBoard(\n",
    "    log_dir=\"full_path_to_your_log_dir\",\n",
    ")\n",
    "model.fit(train_images, train_labels,\n",
    "          epochs=10,\n",
    "          validation_data=(val_images, val_labels),\n",
    "          callbacks=[tensorboard])"
   ]
  },
  {
   "cell_type": "code",
   "execution_count": 83,
   "id": "0e7b68ad-5d09-481a-8f2b-ce964835318a",
   "metadata": {},
   "outputs": [
    {
     "name": "stdout",
     "output_type": "stream",
     "text": [
      "The tensorboard extension is already loaded. To reload it, use:\n",
      "  %reload_ext tensorboard\n"
     ]
    },
    {
     "data": {
      "text/plain": [
       "Reusing TensorBoard on port 6007 (pid 38951), started 1 day, 11:03:03 ago. (Use '!kill 38951' to kill it.)"
      ]
     },
     "metadata": {},
     "output_type": "display_data"
    },
    {
     "data": {
      "text/html": [
       "\n",
       "      <iframe id=\"tensorboard-frame-eca8ee780f13ed4b\" width=\"100%\" height=\"800\" frameborder=\"0\">\n",
       "      </iframe>\n",
       "      <script>\n",
       "        (function() {\n",
       "          const frame = document.getElementById(\"tensorboard-frame-eca8ee780f13ed4b\");\n",
       "          const url = new URL(\"/\", window.location);\n",
       "          const port = 6007;\n",
       "          if (port) {\n",
       "            url.port = port;\n",
       "          }\n",
       "          frame.src = url;\n",
       "        })();\n",
       "      </script>\n",
       "    "
      ],
      "text/plain": [
       "<IPython.core.display.HTML object>"
      ]
     },
     "metadata": {},
     "output_type": "display_data"
    }
   ],
   "source": [
    "%load_ext tensorboard\n",
    "%tensorboard --logdir full_path_to_your_log_dir"
   ]
  }
 ],
 "metadata": {
  "kernelspec": {
   "display_name": "Python 3 (ipykernel)",
   "language": "python",
   "name": "python3"
  },
  "language_info": {
   "codemirror_mode": {
    "name": "ipython",
    "version": 3
   },
   "file_extension": ".py",
   "mimetype": "text/x-python",
   "name": "python",
   "nbconvert_exporter": "python",
   "pygments_lexer": "ipython3",
   "version": "3.9.7"
  }
 },
 "nbformat": 4,
 "nbformat_minor": 5
}
