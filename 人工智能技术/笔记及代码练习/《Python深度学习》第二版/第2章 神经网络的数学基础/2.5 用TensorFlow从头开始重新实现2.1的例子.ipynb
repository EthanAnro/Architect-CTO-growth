{
 "cells": [
  {
   "cell_type": "markdown",
   "id": "4456bbf6",
   "metadata": {},
   "source": [
    "**神经网络的清晰图景**\n",
    "\n",
    "模型由许多层链接在一起组成，并将输入数据映射为预测值。随后，损失函数将这些预测值与目标值进行比较，得到一个损失值，用于衡量模型预测值与预期结果之间的匹配程度。优化器将利用这个损失值来更新模型权重。\n",
    "![神经网络、层、损失函数与优化器之间的关系](image/神经网络、层、损失函数与优化器之间的关系.png)"
   ]
  },
  {
   "cell_type": "markdown",
   "id": "1481b894",
   "metadata": {},
   "source": [
    "**1、输入数据部分**\n",
    "\n",
    "``\n",
    "(train_images, train_labels), (test_images, test_labels) = mnist.load_data()\n",
    "train_images = train_images.reshape((60000, 28 * 28))\n",
    "train_images = train_images.astype(\"float32\") / 255\n",
    "test_images = test_images.reshape((10000, 28 * 28))\n",
    "test_images = test_images.astype(\"float32\") / 255\n",
    "``\n",
    "\n",
    "输入图像保存在float32类型的NumPy张量中，其形状分别为(60000, 784)（训练数据）和(10000, 784)（测试数据）。"
   ]
  },
  {
   "cell_type": "markdown",
   "id": "2d239173",
   "metadata": {},
   "source": [
    "**2、模型部分**\n",
    "\n",
    "``\n",
    "model = keras.Sequential([\n",
    "    layers.Dense(512, activation=\"relu\"),\n",
    "    layers.Dense(10, activation=\"softmax\")\n",
    "])\n",
    "``\n",
    "\n",
    "这个模型包含两个链接在一起的Dense层，每层都对输入数据做一些简单的张量运算，这些运算都涉及权重张量。权重张量是该层的属性，里面保存了模型所学到的知识。"
   ]
  },
  {
   "cell_type": "markdown",
   "id": "10890afc",
   "metadata": {},
   "source": [
    "**3、模型编译部分**\n",
    "\n",
    "``\n",
    "model.compile(optimizer=\"rmsprop\",\n",
    "              loss=\"sparse_categorical_crossentropy\",\n",
    "              metrics=[\"accuracy\"])\n",
    "``\n",
    "\n",
    "sparse_categorical_crossentropy是损失函数，是用于学习权重张量的反馈信号，在训练过程中应使其最小化。降低损失值是通过小批量随机梯度下降来实现的。梯度下降的具体方法由第一个参数给定，即rmsprop优化器。"
   ]
  },
  {
   "cell_type": "markdown",
   "id": "a93d6e44",
   "metadata": {},
   "source": [
    "**4、训练循环部分**\n",
    "\n",
    "``\n",
    "model.fit(train_images, train_labels, epochs=5, batch_size=128)\n",
    "``\n",
    "\n",
    "在调用fit时发生了什么：模型开始在训练数据上进行迭代（每个小批量包含128个样本），共迭代5轮［在所有训练数据上迭代一次叫作一轮（epoch）］。对于每批数据，模型会计算损失相对于权重的梯度（利用反向传播算法，这一算法源自微积分的链式法则），并将权重沿着减小该批量对应损失值的方向移动。\n",
    "\n",
    "5轮之后，模型共执行2345次梯度更新（每轮469次），模型损失值将变得足够小，使得模型能够以很高的精度对手写数字进行分类。"
   ]
  },
  {
   "cell_type": "markdown",
   "id": "98ddc9fa",
   "metadata": {},
   "source": [
    "## 2.5.1 用TensorFlow从头(不使用Keras的功能)开始重新实现第一个例子\n",
    "\n",
    "### 简单的Dense类\n",
    "Dense层实现了下列输入变换，其中W和b是模型参数，activation是一个逐元素的函数（通常是relu，但最后一层是softmax）。\n",
    "\n",
    "``\n",
    "output = activation(dot(W, input) + b)\n",
    "``"
   ]
  },
  {
   "cell_type": "code",
   "execution_count": 16,
   "id": "b06864be",
   "metadata": {},
   "outputs": [],
   "source": [
    "# 一个简单的Python类NaiveDense，它创建了两个TensorFlow变量W和b，并定义了一个__call__()方法供外部调用，以实现上述变换\n",
    "import tensorflow as tf\n",
    "\n",
    "class NaiveDense:\n",
    "    def __init__(self, input_size, output_size, activation):\n",
    "        self.activation = activation\n",
    "        w_shape = (input_size, output_size)  # 创建一个形状为(input_size, output_size)的矩阵W，并将其随机初始化\n",
    "        w_initial_value = tf.random.uniform(w_shape, minval=0, maxval=1e-1)\n",
    "        self.W = tf.Variable(w_initial_value)\n",
    "\n",
    "        b_shape = (output_size,)  # 创建一个形状为(output_size,)的零向量b\n",
    "        b_initial_value = tf.zeros(b_shape)\n",
    "        self.b = tf.Variable(b_initial_value)\n",
    "\n",
    "    def __call__(self, inputs):  # 前向传播\n",
    "        return self.activation(tf.matmul(inputs, self.W) + self.b)\n",
    "\n",
    "    @property\n",
    "    def weights(self):  # 获取该层权重的便捷方法\n",
    "        return [self.W, self.b]"
   ]
  },
  {
   "cell_type": "markdown",
   "id": "2017ebc0",
   "metadata": {},
   "source": [
    "### 简单的Sequential类\n",
    "我们创建一个NaiveSequential类，将这些层链接起来。它封装了一个层列表，并定义了一个__call__()方法供外部调用。这个方法将按顺序调用输入的层。它还有一个weights属性，用于记录该层的参数。"
   ]
  },
  {
   "cell_type": "code",
   "execution_count": 17,
   "id": "6fbebe9f",
   "metadata": {},
   "outputs": [],
   "source": [
    "class NaiveSequential:\n",
    "    def __init__(self, layers):\n",
    "        self.layers = layers\n",
    "\n",
    "    def __call__(self, inputs):\n",
    "        x = inputs\n",
    "        for layer in self.layers:\n",
    "            x = layer(x)\n",
    "        return x\n",
    "\n",
    "    @property\n",
    "    def weights(self):\n",
    "       weights = []\n",
    "       for layer in self.layers:\n",
    "           weights += layer.weights\n",
    "       return weights"
   ]
  },
  {
   "cell_type": "code",
   "execution_count": 18,
   "id": "82676d9e",
   "metadata": {
    "scrolled": true
   },
   "outputs": [
    {
     "name": "stderr",
     "output_type": "stream",
     "text": [
      "2022-10-15 15:09:55.656884: I tensorflow/core/platform/cpu_feature_guard.cc:193] This TensorFlow binary is optimized with oneAPI Deep Neural Network Library (oneDNN) to use the following CPU instructions in performance-critical operations:  AVX2 FMA\n",
      "To enable them in other operations, rebuild TensorFlow with the appropriate compiler flags.\n"
     ]
    }
   ],
   "source": [
    "# 利用这个NaiveDense类和NaiveSequential类，我们可以创建一个与Keras类似的模型\n",
    "model = NaiveSequential([\n",
    "    NaiveDense(input_size=28 * 28, output_size=512, activation=tf.nn.relu),\n",
    "    NaiveDense(input_size=512, output_size=10, activation=tf.nn.softmax)\n",
    "])\n",
    "assert len(model.weights) == 4"
   ]
  },
  {
   "cell_type": "markdown",
   "id": "e8cff806",
   "metadata": {},
   "source": [
    "### 批量生成器\n",
    "接下来，需要对MNIST数据进行小批量迭代。"
   ]
  },
  {
   "cell_type": "code",
   "execution_count": 19,
   "id": "33fd03b4",
   "metadata": {},
   "outputs": [],
   "source": [
    "import math\n",
    "\n",
    "class BatchGenerator:\n",
    "    def __init__(self, images, labels, batch_size=128):\n",
    "        assert len(images) == len(labels)\n",
    "        self.index = 0\n",
    "        self.images = images\n",
    "        self.labels = labels\n",
    "        self.batch_size = batch_size\n",
    "        self.num_batches = math.ceil(len(images) / batch_size)\n",
    "\n",
    "    def next(self):\n",
    "        images = self.images[self.index : self.index + self.batch_size]\n",
    "        labels = self.labels[self.index : self.index + self.batch_size]\n",
    "        self.index += self.batch_size\n",
    "        return images, labels"
   ]
  },
  {
   "cell_type": "markdown",
   "id": "4161a841",
   "metadata": {},
   "source": [
    "## 2.5.2　完成一次训练步骤\n",
    "在一批数据上运行模型后更新模型权重。我们需要做到以下几点。\n",
    "1. 计算模型对图像批量的预测值。\n",
    "2. 根据实际标签，计算这些预测值的损失值。\n",
    "3. 计算损失相对于模型权重的梯度。\n",
    "4. 将权重沿着梯度的反方向移动一小步。"
   ]
  },
  {
   "cell_type": "code",
   "execution_count": 20,
   "id": "1da143ac",
   "metadata": {},
   "outputs": [],
   "source": [
    "# 要计算梯度，需要用到TensorFlow GradientTape对象\n",
    "def one_training_step(model, images_batch, labels_batch):\n",
    "    with tf.GradientTape() as tape:  # (本行及以下4行)运行前向传播，即在GradientTape作用域内计算模型预测值\n",
    "        predictions = model(images_batch)\n",
    "        per_sample_losses = tf.keras.losses.sparse_categorical_crossentropy(\n",
    "            labels_batch, predictions)\n",
    "        average_loss = tf.reduce_mean(per_sample_losses)\n",
    "    gradients = tape.gradient(average_loss, model.weights)  # 计算损失相对于权重的梯度。输出gradients是一个列表，每个元素对应model.weights列表中的权重\n",
    "    update_weights(gradients, model.weights)  # 利用梯度来更新权重（稍后给出这个函数的定义）\n",
    "    return average_loss"
   ]
  },
  {
   "cell_type": "markdown",
   "id": "4b52aa90",
   "metadata": {},
   "source": [
    "“更新权重”这一步（由update_weights函数实现）的目的，就是将权重沿着减小批量损失值的方向移动“一小步”。移动幅度由学习率决定，它通常是一个很小的数。要实现这个update_weights函数，最简单的方法就是从每个权重中减去gradient * learning_rate。"
   ]
  },
  {
   "cell_type": "code",
   "execution_count": 21,
   "id": "521e7abc",
   "metadata": {},
   "outputs": [],
   "source": [
    "learning_rate = 1e-3\n",
    "\n",
    "def update_weights(gradients, weights):\n",
    "    for g, w in zip(gradients, weights):\n",
    "        w.assign_sub(g * learning_rate)  # assign_sub相当于TensorFlow变量的-="
   ]
  },
  {
   "cell_type": "markdown",
   "id": "32b76bc0",
   "metadata": {},
   "source": [
    "在实践中，我们几乎不会像这样手动实现权重更新，而是会使用Keras的Optimizer实例，如下所示：\n",
    "\n",
    "``\n",
    "from tensorflow.keras import optimizers\n",
    "optimizer = optimizers.SGD(learning_rate=1e-3)\n",
    "def update_weights(gradients, weights):\n",
    "    optimizer.apply_gradients(zip(gradients, weights))\n",
    "``\n",
    "\n",
    "在我们实现了对每批数据的训练后，下面继续实现一轮完整的训练"
   ]
  },
  {
   "cell_type": "markdown",
   "id": "bdfa0e6d",
   "metadata": {},
   "source": [
    "## 2.5.3完整的训练循环\n",
    "一轮训练就是对训练数据的每个批量都重复上述训练步骤，而完整的训练循环就是重复多轮训练。"
   ]
  },
  {
   "cell_type": "code",
   "execution_count": 22,
   "id": "171e1bc7",
   "metadata": {},
   "outputs": [],
   "source": [
    "def fit(model, images, labels, epochs, batch_size=128):\n",
    "    for epoch_counter in range(epochs):\n",
    "        print(f\"Epoch {epoch_counter}\")\n",
    "        batch_generator = BatchGenerator(images, labels)\n",
    "        for batch_counter in range(batch_generator.num_batches):\n",
    "            images_batch, labels_batch = batch_generator.next()\n",
    "            loss = one_training_step(model, images_batch, labels_batch)\n",
    "            if batch_counter % 100 == 0:\n",
    "                print(f\"loss at batch {batch_counter}: {loss:.2f}\")"
   ]
  },
  {
   "cell_type": "markdown",
   "id": "46cb1a62",
   "metadata": {},
   "source": [
    "试运行"
   ]
  },
  {
   "cell_type": "code",
   "execution_count": 23,
   "id": "5cde5324",
   "metadata": {
    "scrolled": false
   },
   "outputs": [
    {
     "name": "stdout",
     "output_type": "stream",
     "text": [
      "Epoch 0\n",
      "loss at batch 0: 4.10\n",
      "loss at batch 100: 2.25\n",
      "loss at batch 200: 2.21\n",
      "loss at batch 300: 2.10\n",
      "loss at batch 400: 2.24\n",
      "Epoch 1\n",
      "loss at batch 0: 1.93\n",
      "loss at batch 100: 1.90\n",
      "loss at batch 200: 1.84\n",
      "loss at batch 300: 1.72\n",
      "loss at batch 400: 1.85\n",
      "Epoch 2\n",
      "loss at batch 0: 1.60\n",
      "loss at batch 100: 1.60\n",
      "loss at batch 200: 1.52\n",
      "loss at batch 300: 1.44\n",
      "loss at batch 400: 1.52\n",
      "Epoch 3\n",
      "loss at batch 0: 1.34\n",
      "loss at batch 100: 1.35\n",
      "loss at batch 200: 1.25\n",
      "loss at batch 300: 1.23\n",
      "loss at batch 400: 1.28\n",
      "Epoch 4\n",
      "loss at batch 0: 1.14\n",
      "loss at batch 100: 1.17\n",
      "loss at batch 200: 1.05\n",
      "loss at batch 300: 1.06\n",
      "loss at batch 400: 1.11\n",
      "Epoch 5\n",
      "loss at batch 0: 0.99\n",
      "loss at batch 100: 1.03\n",
      "loss at batch 200: 0.91\n",
      "loss at batch 300: 0.94\n",
      "loss at batch 400: 0.99\n",
      "Epoch 6\n",
      "loss at batch 0: 0.88\n",
      "loss at batch 100: 0.92\n",
      "loss at batch 200: 0.80\n",
      "loss at batch 300: 0.85\n",
      "loss at batch 400: 0.90\n",
      "Epoch 7\n",
      "loss at batch 0: 0.80\n",
      "loss at batch 100: 0.84\n",
      "loss at batch 200: 0.72\n",
      "loss at batch 300: 0.78\n",
      "loss at batch 400: 0.83\n",
      "Epoch 8\n",
      "loss at batch 0: 0.73\n",
      "loss at batch 100: 0.77\n",
      "loss at batch 200: 0.66\n",
      "loss at batch 300: 0.72\n",
      "loss at batch 400: 0.78\n",
      "Epoch 9\n",
      "loss at batch 0: 0.68\n",
      "loss at batch 100: 0.71\n",
      "loss at batch 200: 0.61\n",
      "loss at batch 300: 0.68\n",
      "loss at batch 400: 0.74\n"
     ]
    }
   ],
   "source": [
    "from tensorflow.keras.datasets import mnist\n",
    "(train_images, train_labels), (test_images, test_labels) = mnist.load_data()\n",
    "\n",
    "train_images = train_images.reshape((60000, 28 * 28))\n",
    "train_images = train_images.astype(\"float32\") / 255\n",
    "test_images = test_images.reshape((10000, 28 * 28))\n",
    "test_images = test_images.astype(\"float32\") / 255\n",
    "\n",
    "fit(model, train_images, train_labels, epochs=10, batch_size=128)"
   ]
  },
  {
   "cell_type": "markdown",
   "id": "392b248d",
   "metadata": {},
   "source": [
    "## 评估模型\n",
    "评估模型，方法是对模型在测试图像上的预测值取argmax，并将其与预期标签进行比较。"
   ]
  },
  {
   "cell_type": "code",
   "execution_count": 29,
   "id": "d6324c2a",
   "metadata": {},
   "outputs": [
    {
     "name": "stdout",
     "output_type": "stream",
     "text": [
      "accuracy: 0.81\n"
     ]
    }
   ],
   "source": [
    "import numpy as np\n",
    "predictions = model(test_images)\n",
    "predictions = predictions.numpy() # 对TensorFlow张量调用.numpy()，可以将其转换为Numpy张量\n",
    "predicted_labels = np.argmax(predictions, axis=1)\n",
    "matches = predicted_labels == test_labels\n",
    "print(f\"accuracy: {matches.mean():.2f}\")"
   ]
  },
  {
   "cell_type": "markdown",
   "id": "b7015f02",
   "metadata": {},
   "source": [
    "可以看到，用几行Keras代码就能完成的工作，手动实现起来还是挺费劲的。但手动实现一遍之后，应该能够清楚地了解在调用fit()时神经网络内部都发生了什么。拥有这种对代码底层原理的思维模型，可以让你更好地使用Keras API的高级功能。"
   ]
  }
 ],
 "metadata": {
  "kernelspec": {
   "display_name": "Python 3 (ipykernel)",
   "language": "python",
   "name": "python3"
  },
  "language_info": {
   "codemirror_mode": {
    "name": "ipython",
    "version": 3
   },
   "file_extension": ".py",
   "mimetype": "text/x-python",
   "name": "python",
   "nbconvert_exporter": "python",
   "pygments_lexer": "ipython3",
   "version": "3.9.7"
  }
 },
 "nbformat": 4,
 "nbformat_minor": 5
}
