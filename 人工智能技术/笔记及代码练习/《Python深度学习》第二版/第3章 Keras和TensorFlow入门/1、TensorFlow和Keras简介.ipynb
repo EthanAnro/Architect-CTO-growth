{
 "cells": [
  {
   "cell_type": "markdown",
   "id": "a67596eb",
   "metadata": {},
   "source": [
    "## 一、TensorFlow简介\n",
    "TensorFlow是一个基于Python的免费开源机器学习平台，主要由谷歌开发。与NumPy类似，TensorFlow的主要目的是让工程师和研究人员能够在数值张量上操作数学表达式。但TensorFlow的能力远远超过NumPy，主要表现在以下几方面。\n",
    "1. TensorFlow可以自动计算任意可微表达式的梯度，这使其非常适合做机器学习。\n",
    "2. TensorFlow不仅可以在CPU上运行，还可以在GPU、TPU等高度并行的硬件加速器上运行。\n",
    "3. TensorFlow定义的计算，很容易在多台机器上分布式进行。\n",
    "4. TensorFlow程序可以导出到其他运行时环境，比如C++、JavaScript（用于基于浏览器的应用程序）、TensorFlow Lite（用于移动设备或嵌入式设备上运行的应用程序）等。这使得TensorFlow应用程序很容易部署到实际环境中。\n",
    "\n",
    "**TensorFlow不仅仅是一个库。它其实是一个平台，拥有庞大的组件生态系统，其中一些由谷歌开发，另一些由第三方开发。**这些组件包括用于强化学习研究的TF- Agents，用于工业级机器学习工作流程管理的TFX，用于生产部署的TensorFlow Serving，以及包含许多预训练模型的TensorFlow Hub代码库。这些组件涵盖了非常广泛的使用案例，从前沿研究到大规模生产应用都有涉及。"
   ]
  },
  {
   "cell_type": "markdown",
   "id": "d6cfa501",
   "metadata": {},
   "source": [
    "## 二、Keras简介\n",
    "Keras是一个用Python编写的深度学习API，它构建于TensorFlow之上，可以方便地定义和训练任意类型的深度学习模型。Keras最初是为研究而开发的，其目的是快速进行深度学习实验。\n",
    "\n",
    "通过TensorFlow，Keras可以在不同类型的硬件上运行，包括GPU、TPU和普通CPU，还可以无缝扩展到上千台机器上。\n",
    "![Keras与TensorFlow](image/Keras与TensorFlow.png)\n",
    "\n",
    "**TensorFlow是一个底层的张量计算平台，Keras则是一个高阶深度学习API**\n",
    "\n",
    "Keras以重视开发者体验而闻名，它是为人类设计的API，而非为机器设计。它遵循减少认知负荷的最佳实践：提供一致且简单的工作流程，尽量减少常见用例所需要的操作，并在用户出错时提供清晰且可操作的反馈。因此，Keras既可以让初学者轻松上手学习，也可以让专家大大提高工作效率。\n",
    "\n",
    "Keras拥有庞大且多样化的用户群体，它不会强迫你采用唯一“正确”的方法来构建和训练模型。相反，它支持各种不同的工作流程，从顶层到底层都支持，对应于不同的用户配置文件。例如，构建模型和训练模型都有很多种方法，每种方法都代表可用性和灵活性之间的某种折中。\n",
    "\n",
    "我们可以将Keras看作深度学习领域的Python：它是一种对用户友好的深度学习语言，为不同的用户配置文件提供了多种工作流程。"
   ]
  },
  {
   "cell_type": "markdown",
   "id": "db685ca4",
   "metadata": {},
   "source": [
    "### Keras和TensorFlow简史\n",
    "Keras发布于2015年3月，而TensorFlow发布于2015年11月。之前keras是基于Theano构建的，之后Keras支持TensorFlow、CNTK（微软开发）和MXNet（亚马逊开发）。如今，Theano和CNTK都已停止开发，MXNet在亚马逊之外也没有得到广泛使用。Keras目前主流构建在TensorFlow之上。"
   ]
  }
 ],
 "metadata": {
  "kernelspec": {
   "display_name": "Python 3 (ipykernel)",
   "language": "python",
   "name": "python3"
  },
  "language_info": {
   "codemirror_mode": {
    "name": "ipython",
    "version": 3
   },
   "file_extension": ".py",
   "mimetype": "text/x-python",
   "name": "python",
   "nbconvert_exporter": "python",
   "pygments_lexer": "ipython3",
   "version": "3.9.7"
  }
 },
 "nbformat": 4,
 "nbformat_minor": 5
}
