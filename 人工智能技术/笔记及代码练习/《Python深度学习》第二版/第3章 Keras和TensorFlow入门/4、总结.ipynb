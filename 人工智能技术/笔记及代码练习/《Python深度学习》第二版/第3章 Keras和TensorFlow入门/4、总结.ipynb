{
 "cells": [
  {
   "cell_type": "markdown",
   "id": "890acc54",
   "metadata": {},
   "source": [
    "* TensorFlow是业界领先的数值计算框架，它可以在CPU、GPU或TPU上运行。它既可以自动计算任意可微表达式的梯度，也可以分布到许多设备上，还可以将程序导出到各种外部运行环境，甚至是JavaScript运行时。\n",
    "* Keras是用TensorFlow进行深度学习的标准API。\n",
    "* TensorFlow的关键对象包括张量、变量、张量运算和梯度带。\n",
    "* Keras的核心类是Layer。层封装了一些权重和一些计算，并构成了模型。\n",
    "* 在开始训练模型之前，需要选择优化器、损失函数和指标，你可以通过model.compile()方法指定这3个参数。\n",
    "* 要训练模型，可以通过使用fit()方法来运行小批量梯度下降。你也可以用它来监控模型在验证数据上的损失和指标。验证数据是模型在训练期间看不到的一组输入。\n",
    "* 训练好模型后，可以使用model.predict()方法对新的输入进行预测。"
   ]
  }
 ],
 "metadata": {
  "kernelspec": {
   "display_name": "Python 3 (ipykernel)",
   "language": "python",
   "name": "python3"
  },
  "language_info": {
   "codemirror_mode": {
    "name": "ipython",
    "version": 3
   },
   "file_extension": ".py",
   "mimetype": "text/x-python",
   "name": "python",
   "nbconvert_exporter": "python",
   "pygments_lexer": "ipython3",
   "version": "3.9.7"
  }
 },
 "nbformat": 4,
 "nbformat_minor": 5
}
