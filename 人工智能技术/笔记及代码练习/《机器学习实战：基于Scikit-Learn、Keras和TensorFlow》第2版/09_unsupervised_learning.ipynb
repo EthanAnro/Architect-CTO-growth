{
 "cells": [
  {
   "cell_type": "code",
   "execution_count": 6,
   "id": "a9ec4c30-ed6c-416e-8f1e-f20d3b8b1073",
   "metadata": {},
   "outputs": [],
   "source": [
    "from sklearn.datasets import load_iris\n",
    "data = load_iris()\n",
    "X = data.data\n",
    "y = data.target"
   ]
  },
  {
   "cell_type": "code",
   "execution_count": 8,
   "id": "e1aa7eb5-2c13-4d54-8328-9ba60015f52b",
   "metadata": {},
   "outputs": [],
   "source": [
    "from sklearn.cluster import KMeans\n",
    "k = 5\n",
    "kmeans = KMeans(n_clusters=k)\n",
    "y_pred = kmeans.fit_predict(X)"
   ]
  },
  {
   "cell_type": "code",
   "execution_count": 9,
   "id": "4f9fe45f-1fb4-4e5d-94a3-8e56f8a1ad44",
   "metadata": {},
   "outputs": [
    {
     "data": {
      "text/plain": [
       "array([0, 0, 0, 0, 0, 0, 0, 0, 0, 0, 0, 0, 0, 0, 0, 0, 0, 0, 0, 0, 0, 0,\n",
       "       0, 0, 0, 0, 0, 0, 0, 0, 0, 0, 0, 0, 0, 0, 0, 0, 0, 0, 0, 0, 0, 0,\n",
       "       0, 0, 0, 0, 0, 0, 1, 1, 1, 4, 1, 1, 1, 4, 1, 4, 4, 1, 4, 1, 4, 1,\n",
       "       1, 4, 1, 4, 1, 4, 1, 1, 1, 1, 1, 1, 1, 4, 4, 4, 4, 1, 4, 1, 1, 1,\n",
       "       4, 4, 4, 1, 4, 4, 4, 4, 4, 1, 4, 4, 3, 1, 2, 3, 3, 2, 4, 2, 3, 2,\n",
       "       3, 3, 3, 1, 3, 3, 3, 2, 2, 1, 3, 1, 2, 1, 3, 2, 1, 1, 3, 2, 2, 2,\n",
       "       3, 1, 1, 2, 3, 3, 1, 3, 3, 3, 1, 3, 3, 3, 1, 3, 3, 1], dtype=int32)"
      ]
     },
     "execution_count": 9,
     "metadata": {},
     "output_type": "execute_result"
    }
   ],
   "source": [
    "y_pred"
   ]
  },
  {
   "cell_type": "code",
   "execution_count": 10,
   "id": "a14100b7-af65-4eaf-9b46-07aa568e09c3",
   "metadata": {},
   "outputs": [
    {
     "data": {
      "text/plain": [
       "True"
      ]
     },
     "execution_count": 10,
     "metadata": {},
     "output_type": "execute_result"
    }
   ],
   "source": [
    "y_pred is kmeans.labels_"
   ]
  },
  {
   "cell_type": "code",
   "execution_count": 11,
   "id": "b03799c3-5739-4884-ad7c-c74af94dd8dd",
   "metadata": {},
   "outputs": [
    {
     "data": {
      "text/plain": [
       "array([[5.006     , 3.428     , 1.462     , 0.246     ],\n",
       "       [6.20769231, 2.85384615, 4.74615385, 1.56410256],\n",
       "       [7.475     , 3.125     , 6.3       , 2.05      ],\n",
       "       [6.52916667, 3.05833333, 5.50833333, 2.1625    ],\n",
       "       [5.508     , 2.6       , 3.908     , 1.204     ]])"
      ]
     },
     "execution_count": 11,
     "metadata": {},
     "output_type": "execute_result"
    }
   ],
   "source": [
    "# 算法发现的5个中心点\n",
    "kmeans.cluster_centers_"
   ]
  }
 ],
 "metadata": {
  "kernelspec": {
   "display_name": "Python 3 (ipykernel)",
   "language": "python",
   "name": "python3"
  },
  "language_info": {
   "codemirror_mode": {
    "name": "ipython",
    "version": 3
   },
   "file_extension": ".py",
   "mimetype": "text/x-python",
   "name": "python",
   "nbconvert_exporter": "python",
   "pygments_lexer": "ipython3",
   "version": "3.9.7"
  }
 },
 "nbformat": 4,
 "nbformat_minor": 5
}
